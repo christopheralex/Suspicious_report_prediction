{
 "cells": [
  {
   "cell_type": "markdown",
   "metadata": {},
   "source": [
    "# Buisness Objective:\n",
    "- An US Electrical company wants to analyse their sales and productivity by prediciting a particular report to be Suspicious\n",
    "- The reports collected by the firm where each SalesPerson reports at a certain periodicity on which product was sold,how much quantity and totalAmount . The past data also contains Suspicious column to determine the target .\n",
    "- For statergic planning they also want to segment salesPerson to 3 levels"
   ]
  },
  {
   "cell_type": "markdown",
   "metadata": {},
   "source": [
    "# Machine Learning Objective:\n",
    "- The business objective expects us to create a fraud detecting system for each of their report based on their past data.\n",
    "- It is a Supervised learning - classifcation problem with Suspicious Column as our dependent variable.\n",
    "- Segmentation of SalesPerson is Unsupervised Learning - clustering problem with respect to SalesPerson"
   ]
  },
  {
   "cell_type": "markdown",
   "metadata": {},
   "source": [
    "#### The ML model could help the company to understand the amount of fraud reports being given by the salesperson and also remove those reports and do a complete study on non supsicious reports for Sales and productivity analysis \n",
    "#### The segmentation of salespersons would make them know that a few of the salesperson are completely different from the rest and they could look into their sales more or even remove them from the job if they are high risk salesperson "
   ]
  },
  {
   "cell_type": "markdown",
   "metadata": {},
   "source": [
    "## Loading required libraries"
   ]
  },
  {
   "cell_type": "code",
   "execution_count": 1,
   "metadata": {},
   "outputs": [],
   "source": [
    "import os\n",
    "import numpy as np\n",
    "import os\n",
    "import pandas as pd\n",
    "import statistics\n",
    "from statistics import *\n",
    "from xgboost import XGBClassifier\n",
    "from sklearn.ensemble import GradientBoostingClassifier\n",
    "from sklearn.ensemble import AdaBoostClassifier,RandomForestClassifier\n",
    "from sklearn.tree import DecisionTreeClassifier, export_graphviz,DecisionTreeRegressor\n",
    "from sklearn.metrics import accuracy_score,classification_report, recall_score, precision_score,confusion_matrix,mean_absolute_error,mean_squared_error, f1_score\n",
    "\n",
    "from sklearn.preprocessing import StandardScaler\n",
    "from sklearn.model_selection import train_test_split\n",
    "from sklearn.metrics import confusion_matrix, roc_curve, auc\n",
    "\n",
    "from sklearn import tree\n",
    "from sklearn.model_selection import GridSearchCV\n",
    "import graphviz\n",
    "import matplotlib.pyplot as plt\n",
    "\n",
    "#from imblearn.over_sampling import SMOTE\n",
    "\n",
    "\n",
    "path = os.getcwd()\n"
   ]
  },
  {
   "cell_type": "code",
   "execution_count": 2,
   "metadata": {},
   "outputs": [
    {
     "data": {
      "text/html": [
       "        <script type=\"text/javascript\">\n",
       "        window.PlotlyConfig = {MathJaxConfig: 'local'};\n",
       "        if (window.MathJax) {MathJax.Hub.Config({SVG: {font: \"STIX-Web\"}});}\n",
       "        if (typeof require !== 'undefined') {\n",
       "        require.undef(\"plotly\");\n",
       "        requirejs.config({\n",
       "            paths: {\n",
       "                'plotly': ['https://cdn.plot.ly/plotly-latest.min']\n",
       "            }\n",
       "        });\n",
       "        require(['plotly'], function(Plotly) {\n",
       "            window._Plotly = Plotly;\n",
       "        });\n",
       "        }\n",
       "        </script>\n",
       "        "
      ]
     },
     "metadata": {},
     "output_type": "display_data"
    }
   ],
   "source": [
    "## visualizations\n",
    "import matplotlib.pyplot as plt\n",
    "import pandas as pd\n",
    "import numpy as np\n",
    "import seaborn as sns\n",
    "import plotly\n",
    "import plotly.offline as pyoff ## if not we have to login to their websit and do\n",
    "import plotly.figure_factory as ff\n",
    "from plotly.offline import init_notebook_mode, iplot, plot\n",
    "import plotly.graph_objs as go\n",
    "#import squarify # for tree maps\n",
    "%matplotlib inline\n",
    "from plotly.offline import plot\n",
    "init_notebook_mode(connected=True)"
   ]
  },
  {
   "cell_type": "code",
   "execution_count": 3,
   "metadata": {},
   "outputs": [],
   "source": [
    "import warnings\n",
    "warnings.filterwarnings('ignore')"
   ]
  },
  {
   "cell_type": "markdown",
   "metadata": {},
   "source": [
    "# Reading and Understanding the data"
   ]
  },
  {
   "cell_type": "code",
   "execution_count": 4,
   "metadata": {},
   "outputs": [],
   "source": [
    "data = pd.read_excel(\"../data/Train.xlsx\")"
   ]
  },
  {
   "cell_type": "markdown",
   "metadata": {},
   "source": [
    "- Understanding the Data"
   ]
  },
  {
   "cell_type": "code",
   "execution_count": 5,
   "metadata": {},
   "outputs": [
    {
     "data": {
      "text/plain": [
       "(42582, 6)"
      ]
     },
     "execution_count": 5,
     "metadata": {},
     "output_type": "execute_result"
    }
   ],
   "source": [
    "data.shape"
   ]
  },
  {
   "cell_type": "code",
   "execution_count": 6,
   "metadata": {},
   "outputs": [
    {
     "data": {
      "text/html": [
       "<div>\n",
       "<style scoped>\n",
       "    .dataframe tbody tr th:only-of-type {\n",
       "        vertical-align: middle;\n",
       "    }\n",
       "\n",
       "    .dataframe tbody tr th {\n",
       "        vertical-align: top;\n",
       "    }\n",
       "\n",
       "    .dataframe thead th {\n",
       "        text-align: right;\n",
       "    }\n",
       "</style>\n",
       "<table border=\"1\" class=\"dataframe\">\n",
       "  <thead>\n",
       "    <tr style=\"text-align: right;\">\n",
       "      <th></th>\n",
       "      <th>ReportID</th>\n",
       "      <th>SalesPersonID</th>\n",
       "      <th>ProductID</th>\n",
       "      <th>Quantity</th>\n",
       "      <th>TotalSalesValue</th>\n",
       "      <th>Suspicious</th>\n",
       "    </tr>\n",
       "  </thead>\n",
       "  <tbody>\n",
       "    <tr>\n",
       "      <th>0</th>\n",
       "      <td>Rep10101</td>\n",
       "      <td>C21116</td>\n",
       "      <td>PR6112</td>\n",
       "      <td>182</td>\n",
       "      <td>1665</td>\n",
       "      <td>indeterminate</td>\n",
       "    </tr>\n",
       "    <tr>\n",
       "      <th>1</th>\n",
       "      <td>Rep10102</td>\n",
       "      <td>C21116</td>\n",
       "      <td>PR6112</td>\n",
       "      <td>182</td>\n",
       "      <td>1740</td>\n",
       "      <td>indeterminate</td>\n",
       "    </tr>\n",
       "    <tr>\n",
       "      <th>2</th>\n",
       "      <td>Rep10103</td>\n",
       "      <td>C21116</td>\n",
       "      <td>PR6253</td>\n",
       "      <td>101</td>\n",
       "      <td>1040</td>\n",
       "      <td>indeterminate</td>\n",
       "    </tr>\n",
       "    <tr>\n",
       "      <th>3</th>\n",
       "      <td>Rep10104</td>\n",
       "      <td>C21116</td>\n",
       "      <td>PR6253</td>\n",
       "      <td>283</td>\n",
       "      <td>4495</td>\n",
       "      <td>No</td>\n",
       "    </tr>\n",
       "    <tr>\n",
       "      <th>4</th>\n",
       "      <td>Rep10105</td>\n",
       "      <td>C21116</td>\n",
       "      <td>PR6294</td>\n",
       "      <td>108</td>\n",
       "      <td>1465</td>\n",
       "      <td>indeterminate</td>\n",
       "    </tr>\n",
       "  </tbody>\n",
       "</table>\n",
       "</div>"
      ],
      "text/plain": [
       "   ReportID SalesPersonID ProductID  Quantity  TotalSalesValue     Suspicious\n",
       "0  Rep10101        C21116    PR6112       182             1665  indeterminate\n",
       "1  Rep10102        C21116    PR6112       182             1740  indeterminate\n",
       "2  Rep10103        C21116    PR6253       101             1040  indeterminate\n",
       "3  Rep10104        C21116    PR6253       283             4495             No\n",
       "4  Rep10105        C21116    PR6294       108             1465  indeterminate"
      ]
     },
     "execution_count": 6,
     "metadata": {},
     "output_type": "execute_result"
    }
   ],
   "source": [
    "data.head(5)"
   ]
  },
  {
   "cell_type": "code",
   "execution_count": 7,
   "metadata": {},
   "outputs": [
    {
     "data": {
      "text/plain": [
       "Index(['ReportID', 'SalesPersonID', 'ProductID', 'Quantity', 'TotalSalesValue',\n",
       "       'Suspicious'],\n",
       "      dtype='object')"
      ]
     },
     "execution_count": 7,
     "metadata": {},
     "output_type": "execute_result"
    }
   ],
   "source": [
    "data.columns"
   ]
  },
  {
   "cell_type": "code",
   "execution_count": 8,
   "metadata": {},
   "outputs": [
    {
     "data": {
      "text/plain": [
       "ReportID           object\n",
       "SalesPersonID      object\n",
       "ProductID          object\n",
       "Quantity            int64\n",
       "TotalSalesValue     int64\n",
       "Suspicious         object\n",
       "dtype: object"
      ]
     },
     "execution_count": 8,
     "metadata": {},
     "output_type": "execute_result"
    }
   ],
   "source": [
    "data.dtypes"
   ]
  },
  {
   "cell_type": "markdown",
   "metadata": {},
   "source": [
    "# Expoloratory Analysis"
   ]
  },
  {
   "cell_type": "code",
   "execution_count": 9,
   "metadata": {},
   "outputs": [
    {
     "data": {
      "text/html": [
       "<div>\n",
       "<style scoped>\n",
       "    .dataframe tbody tr th:only-of-type {\n",
       "        vertical-align: middle;\n",
       "    }\n",
       "\n",
       "    .dataframe tbody tr th {\n",
       "        vertical-align: top;\n",
       "    }\n",
       "\n",
       "    .dataframe thead th {\n",
       "        text-align: right;\n",
       "    }\n",
       "</style>\n",
       "<table border=\"1\" class=\"dataframe\">\n",
       "  <thead>\n",
       "    <tr style=\"text-align: right;\">\n",
       "      <th></th>\n",
       "      <th>ReportID</th>\n",
       "      <th>SalesPersonID</th>\n",
       "      <th>ProductID</th>\n",
       "      <th>Quantity</th>\n",
       "      <th>TotalSalesValue</th>\n",
       "      <th>Suspicious</th>\n",
       "    </tr>\n",
       "  </thead>\n",
       "  <tbody>\n",
       "    <tr>\n",
       "      <th>count</th>\n",
       "      <td>42582</td>\n",
       "      <td>42582</td>\n",
       "      <td>42582</td>\n",
       "      <td>4.258200e+04</td>\n",
       "      <td>4.258200e+04</td>\n",
       "      <td>42582</td>\n",
       "    </tr>\n",
       "    <tr>\n",
       "      <th>unique</th>\n",
       "      <td>42582</td>\n",
       "      <td>992</td>\n",
       "      <td>593</td>\n",
       "      <td>NaN</td>\n",
       "      <td>NaN</td>\n",
       "      <td>3</td>\n",
       "    </tr>\n",
       "    <tr>\n",
       "      <th>top</th>\n",
       "      <td>Rep18415</td>\n",
       "      <td>C21976</td>\n",
       "      <td>PR6253</td>\n",
       "      <td>NaN</td>\n",
       "      <td>NaN</td>\n",
       "      <td>indeterminate</td>\n",
       "    </tr>\n",
       "    <tr>\n",
       "      <th>freq</th>\n",
       "      <td>1</td>\n",
       "      <td>1359</td>\n",
       "      <td>2590</td>\n",
       "      <td>NaN</td>\n",
       "      <td>NaN</td>\n",
       "      <td>39846</td>\n",
       "    </tr>\n",
       "    <tr>\n",
       "      <th>mean</th>\n",
       "      <td>NaN</td>\n",
       "      <td>NaN</td>\n",
       "      <td>NaN</td>\n",
       "      <td>4.910048e+03</td>\n",
       "      <td>1.620923e+04</td>\n",
       "      <td>NaN</td>\n",
       "    </tr>\n",
       "    <tr>\n",
       "      <th>std</th>\n",
       "      <td>NaN</td>\n",
       "      <td>NaN</td>\n",
       "      <td>NaN</td>\n",
       "      <td>9.833621e+04</td>\n",
       "      <td>5.997195e+04</td>\n",
       "      <td>NaN</td>\n",
       "    </tr>\n",
       "    <tr>\n",
       "      <th>min</th>\n",
       "      <td>NaN</td>\n",
       "      <td>NaN</td>\n",
       "      <td>NaN</td>\n",
       "      <td>3.300000e+01</td>\n",
       "      <td>5.980000e+02</td>\n",
       "      <td>NaN</td>\n",
       "    </tr>\n",
       "    <tr>\n",
       "      <th>25%</th>\n",
       "      <td>NaN</td>\n",
       "      <td>NaN</td>\n",
       "      <td>NaN</td>\n",
       "      <td>1.110000e+02</td>\n",
       "      <td>1.345000e+03</td>\n",
       "      <td>NaN</td>\n",
       "    </tr>\n",
       "    <tr>\n",
       "      <th>50%</th>\n",
       "      <td>NaN</td>\n",
       "      <td>NaN</td>\n",
       "      <td>NaN</td>\n",
       "      <td>2.060000e+02</td>\n",
       "      <td>2.980000e+03</td>\n",
       "      <td>NaN</td>\n",
       "    </tr>\n",
       "    <tr>\n",
       "      <th>75%</th>\n",
       "      <td>NaN</td>\n",
       "      <td>NaN</td>\n",
       "      <td>NaN</td>\n",
       "      <td>1.136000e+03</td>\n",
       "      <td>1.076500e+04</td>\n",
       "      <td>NaN</td>\n",
       "    </tr>\n",
       "    <tr>\n",
       "      <th>max</th>\n",
       "      <td>NaN</td>\n",
       "      <td>NaN</td>\n",
       "      <td>NaN</td>\n",
       "      <td>1.970813e+07</td>\n",
       "      <td>3.953985e+06</td>\n",
       "      <td>NaN</td>\n",
       "    </tr>\n",
       "  </tbody>\n",
       "</table>\n",
       "</div>"
      ],
      "text/plain": [
       "        ReportID SalesPersonID ProductID      Quantity  TotalSalesValue  \\\n",
       "count      42582         42582     42582  4.258200e+04     4.258200e+04   \n",
       "unique     42582           992       593           NaN              NaN   \n",
       "top     Rep18415        C21976    PR6253           NaN              NaN   \n",
       "freq           1          1359      2590           NaN              NaN   \n",
       "mean         NaN           NaN       NaN  4.910048e+03     1.620923e+04   \n",
       "std          NaN           NaN       NaN  9.833621e+04     5.997195e+04   \n",
       "min          NaN           NaN       NaN  3.300000e+01     5.980000e+02   \n",
       "25%          NaN           NaN       NaN  1.110000e+02     1.345000e+03   \n",
       "50%          NaN           NaN       NaN  2.060000e+02     2.980000e+03   \n",
       "75%          NaN           NaN       NaN  1.136000e+03     1.076500e+04   \n",
       "max          NaN           NaN       NaN  1.970813e+07     3.953985e+06   \n",
       "\n",
       "           Suspicious  \n",
       "count           42582  \n",
       "unique              3  \n",
       "top     indeterminate  \n",
       "freq            39846  \n",
       "mean              NaN  \n",
       "std               NaN  \n",
       "min               NaN  \n",
       "25%               NaN  \n",
       "50%               NaN  \n",
       "75%               NaN  \n",
       "max               NaN  "
      ]
     },
     "execution_count": 9,
     "metadata": {},
     "output_type": "execute_result"
    }
   ],
   "source": [
    "data.describe(include=\"all\")"
   ]
  },
  {
   "cell_type": "markdown",
   "metadata": {},
   "source": [
    "* By observing the summary we can see that Quantity's mean is being driven by its huge outliers \n",
    "- there is a huge differnece between the 75% and the max \n",
    "\n",
    "* The totalSalesValue is slightly being influenced by some outliers as well but not as much as Quantity \n",
    "* The Suspicious column have 3 levels with the most being indeterminate\n",
    "\n",
    "#### Checking the median of Quantity and TotalSalesValue to see the difference it makes without outliers "
   ]
  },
  {
   "cell_type": "code",
   "execution_count": 10,
   "metadata": {},
   "outputs": [
    {
     "data": {
      "text/plain": [
       "206.0"
      ]
     },
     "execution_count": 10,
     "metadata": {},
     "output_type": "execute_result"
    }
   ],
   "source": [
    "median(data.Quantity)"
   ]
  },
  {
   "cell_type": "code",
   "execution_count": 11,
   "metadata": {},
   "outputs": [
    {
     "data": {
      "text/plain": [
       "2980.0"
      ]
     },
     "execution_count": 11,
     "metadata": {},
     "output_type": "execute_result"
    }
   ],
   "source": [
    "median(data.TotalSalesValue)"
   ]
  },
  {
   "cell_type": "markdown",
   "metadata": {},
   "source": [
    "#### Checking if there are any NA values in the dataset"
   ]
  },
  {
   "cell_type": "code",
   "execution_count": 12,
   "metadata": {},
   "outputs": [
    {
     "data": {
      "text/plain": [
       "ReportID           0\n",
       "SalesPersonID      0\n",
       "ProductID          0\n",
       "Quantity           0\n",
       "TotalSalesValue    0\n",
       "Suspicious         0\n",
       "dtype: int64"
      ]
     },
     "execution_count": 12,
     "metadata": {},
     "output_type": "execute_result"
    }
   ],
   "source": [
    "\n",
    "data.isnull().sum()"
   ]
  },
  {
   "cell_type": "code",
   "execution_count": null,
   "metadata": {},
   "outputs": [],
   "source": []
  },
  {
   "cell_type": "code",
   "execution_count": null,
   "metadata": {},
   "outputs": [],
   "source": []
  },
  {
   "cell_type": "markdown",
   "metadata": {},
   "source": [
    "## Correlation Plot between numerical attributes"
   ]
  },
  {
   "cell_type": "code",
   "execution_count": 13,
   "metadata": {},
   "outputs": [
    {
     "data": {
      "text/plain": [
       "<matplotlib.axes._subplots.AxesSubplot at 0x7fd18f19d8d0>"
      ]
     },
     "execution_count": 13,
     "metadata": {},
     "output_type": "execute_result"
    },
    {
     "data": {
      "image/png": "[encoded data removed]",
      "text/plain": [
       "<Figure size 576x360 with 2 Axes>"
      ]
     },
     "metadata": {
      "needs_background": "light"
     },
     "output_type": "display_data"
    }
   ],
   "source": [
    "import seaborn as sns\n",
    "from pandas import ExcelWriter\n",
    "from pandas import ExcelFile\n",
    "\n",
    "corr = data.corr() \n",
    "\n",
    "#writer=ExcelWriter('CorrelationMith.xlsx')\n",
    "#corr.to_excel(writer,'Sheet1',index=False)\n",
    "#writer.save()\n",
    "\n",
    "plt.figure(figsize=(8, 5))\n",
    "sns.heatmap(corr,cmap='rainbow', vmax=1.0, vmin=-1.0, linewidths=0.1,\n",
    "            annot=True, annot_kws={\"size\": 10}, square=True)"
   ]
  },
  {
   "cell_type": "markdown",
   "metadata": {},
   "source": [
    "\n",
    "- there is no correlation within attributes in the dataset"
   ]
  },
  {
   "cell_type": "code",
   "execution_count": null,
   "metadata": {},
   "outputs": [],
   "source": []
  },
  {
   "cell_type": "code",
   "execution_count": null,
   "metadata": {},
   "outputs": [],
   "source": []
  },
  {
   "cell_type": "markdown",
   "metadata": {},
   "source": [
    "### Distribution of Target Column"
   ]
  },
  {
   "cell_type": "code",
   "execution_count": 14,
   "metadata": {},
   "outputs": [
    {
     "data": {
      "application/vnd.plotly.v1+json": {
       "config": {
        "linkText": "Export to plot.ly",
        "plotlyServerURL": "https://plot.ly",
        "showLink": false
       },
       "data": [
        {
         "labels": [
          "indeterminate",
          "No",
          "Yes"
         ],
         "type": "pie",
         "values": [
          39846,
          2555,
          181
         ]
        }
       ],
       "layout": {
        "template": {
         "data": {
          "bar": [
           {
            "error_x": {
             "color": "#2a3f5f"
            },
            "error_y": {
             "color": "#2a3f5f"
            },
            "marker": {
             "line": {
              "color": "#E5ECF6",
              "width": 0.5
             }
            },
            "type": "bar"
           }
          ],
          "barpolar": [
           {
            "marker": {
             "line": {
              "color": "#E5ECF6",
              "width": 0.5
             }
            },
            "type": "barpolar"
           }
          ],
          "carpet": [
           {
            "aaxis": {
             "endlinecolor": "#2a3f5f",
             "gridcolor": "white",
             "linecolor": "white",
             "minorgridcolor": "white",
             "startlinecolor": "#2a3f5f"
            },
            "baxis": {
             "endlinecolor": "#2a3f5f",
             "gridcolor": "white",
             "linecolor": "white",
             "minorgridcolor": "white",
             "startlinecolor": "#2a3f5f"
            },
            "type": "carpet"
           }
          ],
          "choropleth": [
           {
            "colorbar": {
             "outlinewidth": 0,
             "ticks": ""
            },
            "type": "choropleth"
           }
          ],
          "contour": [
           {
            "colorbar": {
             "outlinewidth": 0,
             "ticks": ""
            },
            "colorscale": [
             [
              0,
              "#0d0887"
             ],
             [
              0.1111111111111111,
              "#46039f"
             ],
             [
              0.2222222222222222,
              "#7201a8"
             ],
             [
              0.3333333333333333,
              "#9c179e"
             ],
             [
              0.4444444444444444,
              "#bd3786"
             ],
             [
              0.5555555555555556,
              "#d8576b"
             ],
             [
              0.6666666666666666,
              "#ed7953"
             ],
             [
              0.7777777777777778,
              "#fb9f3a"
             ],
             [
              0.8888888888888888,
              "#fdca26"
             ],
             [
              1,
              "#f0f921"
             ]
            ],
            "type": "contour"
           }
          ],
          "contourcarpet": [
           {
            "colorbar": {
             "outlinewidth": 0,
             "ticks": ""
            },
            "type": "contourcarpet"
           }
          ],
          "heatmap": [
           {
            "colorbar": {
             "outlinewidth": 0,
             "ticks": ""
            },
            "colorscale": [
             [
              0,
              "#0d0887"
             ],
             [
              0.1111111111111111,
              "#46039f"
             ],
             [
              0.2222222222222222,
              "#7201a8"
             ],
             [
              0.3333333333333333,
              "#9c179e"
             ],
             [
              0.4444444444444444,
              "#bd3786"
             ],
             [
              0.5555555555555556,
              "#d8576b"
             ],
             [
              0.6666666666666666,
              "#ed7953"
             ],
             [
              0.7777777777777778,
              "#fb9f3a"
             ],
             [
              0.8888888888888888,
              "#fdca26"
             ],
             [
              1,
              "#f0f921"
             ]
            ],
            "type": "heatmap"
           }
          ],
          "heatmapgl": [
           {
            "colorbar": {
             "outlinewidth": 0,
             "ticks": ""
            },
            "colorscale": [
             [
              0,
              "#0d0887"
             ],
             [
              0.1111111111111111,
              "#46039f"
             ],
             [
              0.2222222222222222,
              "#7201a8"
             ],
             [
              0.3333333333333333,
              "#9c179e"
             ],
             [
              0.4444444444444444,
              "#bd3786"
             ],
             [
              0.5555555555555556,
              "#d8576b"
             ],
             [
              0.6666666666666666,
              "#ed7953"
             ],
             [
              0.7777777777777778,
              "#fb9f3a"
             ],
             [
              0.8888888888888888,
              "#fdca26"
             ],
             [
              1,
              "#f0f921"
             ]
            ],
            "type": "heatmapgl"
           }
          ],
          "histogram": [
           {
            "marker": {
             "colorbar": {
              "outlinewidth": 0,
              "ticks": ""
             }
            },
            "type": "histogram"
           }
          ],
          "histogram2d": [
           {
            "colorbar": {
             "outlinewidth": 0,
             "ticks": ""
            },
            "colorscale": [
             [
              0,
              "#0d0887"
             ],
             [
              0.1111111111111111,
              "#46039f"
             ],
             [
              0.2222222222222222,
              "#7201a8"
             ],
             [
              0.3333333333333333,
              "#9c179e"
             ],
             [
              0.4444444444444444,
              "#bd3786"
             ],
             [
              0.5555555555555556,
              "#d8576b"
             ],
             [
              0.6666666666666666,
              "#ed7953"
             ],
             [
              0.7777777777777778,
              "#fb9f3a"
             ],
             [
              0.8888888888888888,
              "#fdca26"
             ],
             [
              1,
              "#f0f921"
             ]
            ],
            "type": "histogram2d"
           }
          ],
          "histogram2dcontour": [
           {
            "colorbar": {
             "outlinewidth": 0,
             "ticks": ""
            },
            "colorscale": [
             [
              0,
              "#0d0887"
             ],
             [
              0.1111111111111111,
              "#46039f"
             ],
             [
              0.2222222222222222,
              "#7201a8"
             ],
             [
              0.3333333333333333,
              "#9c179e"
             ],
             [
              0.4444444444444444,
              "#bd3786"
             ],
             [
              0.5555555555555556,
              "#d8576b"
             ],
             [
              0.6666666666666666,
              "#ed7953"
             ],
             [
              0.7777777777777778,
              "#fb9f3a"
             ],
             [
              0.8888888888888888,
              "#fdca26"
             ],
             [
              1,
              "#f0f921"
             ]
            ],
            "type": "histogram2dcontour"
           }
          ],
          "mesh3d": [
           {
            "colorbar": {
             "outlinewidth": 0,
             "ticks": ""
            },
            "type": "mesh3d"
           }
          ],
          "parcoords": [
           {
            "line": {
             "colorbar": {
              "outlinewidth": 0,
              "ticks": ""
             }
            },
            "type": "parcoords"
           }
          ],
          "pie": [
           {
            "automargin": true,
            "type": "pie"
           }
          ],
          "scatter": [
           {
            "marker": {
             "colorbar": {
              "outlinewidth": 0,
              "ticks": ""
             }
            },
            "type": "scatter"
           }
          ],
          "scatter3d": [
           {
            "line": {
             "colorbar": {
              "outlinewidth": 0,
              "ticks": ""
             }
            },
            "marker": {
             "colorbar": {
              "outlinewidth": 0,
              "ticks": ""
             }
            },
            "type": "scatter3d"
           }
          ],
          "scattercarpet": [
           {
            "marker": {
             "colorbar": {
              "outlinewidth": 0,
              "ticks": ""
             }
            },
            "type": "scattercarpet"
           }
          ],
          "scattergeo": [
           {
            "marker": {
             "colorbar": {
              "outlinewidth": 0,
              "ticks": ""
             }
            },
            "type": "scattergeo"
           }
          ],
          "scattergl": [
           {
            "marker": {
             "colorbar": {
              "outlinewidth": 0,
              "ticks": ""
             }
            },
            "type": "scattergl"
           }
          ],
          "scattermapbox": [
           {
            "marker": {
             "colorbar": {
              "outlinewidth": 0,
              "ticks": ""
             }
            },
            "type": "scattermapbox"
           }
          ],
          "scatterpolar": [
           {
            "marker": {
             "colorbar": {
              "outlinewidth": 0,
              "ticks": ""
             }
            },
            "type": "scatterpolar"
           }
          ],
          "scatterpolargl": [
           {
            "marker": {
             "colorbar": {
              "outlinewidth": 0,
              "ticks": ""
             }
            },
            "type": "scatterpolargl"
           }
          ],
          "scatterternary": [
           {
            "marker": {
             "colorbar": {
              "outlinewidth": 0,
              "ticks": ""
             }
            },
            "type": "scatterternary"
           }
          ],
          "surface": [
           {
            "colorbar": {
             "outlinewidth": 0,
             "ticks": ""
            },
            "colorscale": [
             [
              0,
              "#0d0887"
             ],
             [
              0.1111111111111111,
              "#46039f"
             ],
             [
              0.2222222222222222,
              "#7201a8"
             ],
             [
              0.3333333333333333,
              "#9c179e"
             ],
             [
              0.4444444444444444,
              "#bd3786"
             ],
             [
              0.5555555555555556,
              "#d8576b"
             ],
             [
              0.6666666666666666,
              "#ed7953"
             ],
             [
              0.7777777777777778,
              "#fb9f3a"
             ],
             [
              0.8888888888888888,
              "#fdca26"
             ],
             [
              1,
              "#f0f921"
             ]
            ],
            "type": "surface"
           }
          ],
          "table": [
           {
            "cells": {
             "fill": {
              "color": "#EBF0F8"
             },
             "line": {
              "color": "white"
             }
            },
            "header": {
             "fill": {
              "color": "#C8D4E3"
             },
             "line": {
              "color": "white"
             }
            },
            "type": "table"
           }
          ]
         },
         "layout": {
          "annotationdefaults": {
           "arrowcolor": "#2a3f5f",
           "arrowhead": 0,
           "arrowwidth": 1
          },
          "coloraxis": {
           "colorbar": {
            "outlinewidth": 0,
            "ticks": ""
           }
          },
          "colorscale": {
           "diverging": [
            [
             0,
             "#8e0152"
            ],
            [
             0.1,
             "#c51b7d"
            ],
            [
             0.2,
             "#de77ae"
            ],
            [
             0.3,
             "#f1b6da"
            ],
            [
             0.4,
             "#fde0ef"
            ],
            [
             0.5,
             "#f7f7f7"
            ],
            [
             0.6,
             "#e6f5d0"
            ],
            [
             0.7,
             "#b8e186"
            ],
            [
             0.8,
             "#7fbc41"
            ],
            [
             0.9,
             "#4d9221"
            ],
            [
             1,
             "#276419"
            ]
           ],
           "sequential": [
            [
             0,
             "#0d0887"
            ],
            [
             0.1111111111111111,
             "#46039f"
            ],
            [
             0.2222222222222222,
             "#7201a8"
            ],
            [
             0.3333333333333333,
             "#9c179e"
            ],
            [
             0.4444444444444444,
             "#bd3786"
            ],
            [
             0.5555555555555556,
             "#d8576b"
            ],
            [
             0.6666666666666666,
             "#ed7953"
            ],
            [
             0.7777777777777778,
             "#fb9f3a"
            ],
            [
             0.8888888888888888,
             "#fdca26"
            ],
            [
             1,
             "#f0f921"
            ]
           ],
           "sequentialminus": [
            [
             0,
             "#0d0887"
            ],
            [
             0.1111111111111111,
             "#46039f"
            ],
            [
             0.2222222222222222,
             "#7201a8"
            ],
            [
             0.3333333333333333,
             "#9c179e"
            ],
            [
             0.4444444444444444,
             "#bd3786"
            ],
            [
             0.5555555555555556,
             "#d8576b"
            ],
            [
             0.6666666666666666,
             "#ed7953"
            ],
            [
             0.7777777777777778,
             "#fb9f3a"
            ],
            [
             0.8888888888888888,
             "#fdca26"
            ],
            [
             1,
             "#f0f921"
            ]
           ]
          },
          "colorway": [
           "#636efa",
           "#EF553B",
           "#00cc96",
           "#ab63fa",
           "#FFA15A",
           "#19d3f3",
           "#FF6692",
           "#B6E880",
           "#FF97FF",
           "#FECB52"
          ],
          "font": {
           "color": "#2a3f5f"
          },
          "geo": {
           "bgcolor": "white",
           "lakecolor": "white",
           "landcolor": "#E5ECF6",
           "showlakes": true,
           "showland": true,
           "subunitcolor": "white"
          },
          "hoverlabel": {
           "align": "left"
          },
          "hovermode": "closest",
          "mapbox": {
           "style": "light"
          },
          "paper_bgcolor": "white",
          "plot_bgcolor": "#E5ECF6",
          "polar": {
           "angularaxis": {
            "gridcolor": "white",
            "linecolor": "white",
            "ticks": ""
           },
           "bgcolor": "#E5ECF6",
           "radialaxis": {
            "gridcolor": "white",
            "linecolor": "white",
            "ticks": ""
           }
          },
          "scene": {
           "xaxis": {
            "backgroundcolor": "#E5ECF6",
            "gridcolor": "white",
            "gridwidth": 2,
            "linecolor": "white",
            "showbackground": true,
            "ticks": "",
            "zerolinecolor": "white"
           },
           "yaxis": {
            "backgroundcolor": "#E5ECF6",
            "gridcolor": "white",
            "gridwidth": 2,
            "linecolor": "white",
            "showbackground": true,
            "ticks": "",
            "zerolinecolor": "white"
           },
           "zaxis": {
            "backgroundcolor": "#E5ECF6",
            "gridcolor": "white",
            "gridwidth": 2,
            "linecolor": "white",
            "showbackground": true,
            "ticks": "",
            "zerolinecolor": "white"
           }
          },
          "shapedefaults": {
           "line": {
            "color": "#2a3f5f"
           }
          },
          "ternary": {
           "aaxis": {
            "gridcolor": "white",
            "linecolor": "white",
            "ticks": ""
           },
           "baxis": {
            "gridcolor": "white",
            "linecolor": "white",
            "ticks": ""
           },
           "bgcolor": "#E5ECF6",
           "caxis": {
            "gridcolor": "white",
            "linecolor": "white",
            "ticks": ""
           }
          },
          "title": {
           "x": 0.05
          },
          "xaxis": {
           "automargin": true,
           "gridcolor": "white",
           "linecolor": "white",
           "ticks": "",
           "title": {
            "standoff": 15
           },
           "zerolinecolor": "white",
           "zerolinewidth": 2
          },
          "yaxis": {
           "automargin": true,
           "gridcolor": "white",
           "linecolor": "white",
           "ticks": "",
           "title": {
            "standoff": 15
           },
           "zerolinecolor": "white",
           "zerolinewidth": 2
          }
         }
        },
        "title": {
         "text": "Percentage of Suspicicous levels"
        }
       }
      },
      "text/html": [
       "<div>\n",
       "        \n",
       "        \n",
       "            <div id=\"7e7af8e9-bd44-4b7d-a3af-88b73d786bc7\" class=\"plotly-graph-div\" style=\"height:525px; width:100%;\"></div>\n",
       "            <script type=\"text/javascript\">\n",
       "                require([\"plotly\"], function(Plotly) {\n",
       "                    window.PLOTLYENV=window.PLOTLYENV || {};\n",
       "                    \n",
       "                if (document.getElementById(\"7e7af8e9-bd44-4b7d-a3af-88b73d786bc7\")) {\n",
       "                    Plotly.newPlot(\n",
       "                        '7e7af8e9-bd44-4b7d-a3af-88b73d786bc7',\n",
       "                        [{\"labels\": [\"indeterminate\", \"No\", \"Yes\"], \"type\": \"pie\", \"values\": [39846, 2555, 181]}],\n",
       "                        {\"template\": {\"data\": {\"bar\": [{\"error_x\": {\"color\": \"#2a3f5f\"}, \"error_y\": {\"color\": \"#2a3f5f\"}, \"marker\": {\"line\": {\"color\": \"#E5ECF6\", \"width\": 0.5}}, \"type\": \"bar\"}], \"barpolar\": [{\"marker\": {\"line\": {\"color\": \"#E5ECF6\", \"width\": 0.5}}, \"type\": \"barpolar\"}], \"carpet\": [{\"aaxis\": {\"endlinecolor\": \"#2a3f5f\", \"gridcolor\": \"white\", \"linecolor\": \"white\", \"minorgridcolor\": \"white\", \"startlinecolor\": \"#2a3f5f\"}, \"baxis\": {\"endlinecolor\": \"#2a3f5f\", \"gridcolor\": \"white\", \"linecolor\": \"white\", \"minorgridcolor\": \"white\", \"startlinecolor\": \"#2a3f5f\"}, \"type\": \"carpet\"}], \"choropleth\": [{\"colorbar\": {\"outlinewidth\": 0, \"ticks\": \"\"}, \"type\": \"choropleth\"}], \"contour\": [{\"colorbar\": {\"outlinewidth\": 0, \"ticks\": \"\"}, \"colorscale\": [[0.0, \"#0d0887\"], [0.1111111111111111, \"#46039f\"], [0.2222222222222222, \"#7201a8\"], [0.3333333333333333, \"#9c179e\"], [0.4444444444444444, \"#bd3786\"], [0.5555555555555556, \"#d8576b\"], [0.6666666666666666, \"#ed7953\"], [0.7777777777777778, \"#fb9f3a\"], [0.8888888888888888, \"#fdca26\"], [1.0, \"#f0f921\"]], \"type\": \"contour\"}], \"contourcarpet\": [{\"colorbar\": {\"outlinewidth\": 0, \"ticks\": \"\"}, \"type\": \"contourcarpet\"}], \"heatmap\": [{\"colorbar\": {\"outlinewidth\": 0, \"ticks\": \"\"}, \"colorscale\": [[0.0, \"#0d0887\"], [0.1111111111111111, \"#46039f\"], [0.2222222222222222, \"#7201a8\"], [0.3333333333333333, \"#9c179e\"], [0.4444444444444444, \"#bd3786\"], [0.5555555555555556, \"#d8576b\"], [0.6666666666666666, \"#ed7953\"], [0.7777777777777778, \"#fb9f3a\"], [0.8888888888888888, \"#fdca26\"], [1.0, \"#f0f921\"]], \"type\": \"heatmap\"}], \"heatmapgl\": [{\"colorbar\": {\"outlinewidth\": 0, \"ticks\": \"\"}, \"colorscale\": [[0.0, \"#0d0887\"], [0.1111111111111111, \"#46039f\"], [0.2222222222222222, \"#7201a8\"], [0.3333333333333333, \"#9c179e\"], [0.4444444444444444, \"#bd3786\"], [0.5555555555555556, \"#d8576b\"], [0.6666666666666666, \"#ed7953\"], [0.7777777777777778, \"#fb9f3a\"], [0.8888888888888888, \"#fdca26\"], [1.0, \"#f0f921\"]], \"type\": \"heatmapgl\"}], \"histogram\": [{\"marker\": {\"colorbar\": {\"outlinewidth\": 0, \"ticks\": \"\"}}, \"type\": \"histogram\"}], \"histogram2d\": [{\"colorbar\": {\"outlinewidth\": 0, \"ticks\": \"\"}, \"colorscale\": [[0.0, \"#0d0887\"], [0.1111111111111111, \"#46039f\"], [0.2222222222222222, \"#7201a8\"], [0.3333333333333333, \"#9c179e\"], [0.4444444444444444, \"#bd3786\"], [0.5555555555555556, \"#d8576b\"], [0.6666666666666666, \"#ed7953\"], [0.7777777777777778, \"#fb9f3a\"], [0.8888888888888888, \"#fdca26\"], [1.0, \"#f0f921\"]], \"type\": \"histogram2d\"}], \"histogram2dcontour\": [{\"colorbar\": {\"outlinewidth\": 0, \"ticks\": \"\"}, \"colorscale\": [[0.0, \"#0d0887\"], [0.1111111111111111, \"#46039f\"], [0.2222222222222222, \"#7201a8\"], [0.3333333333333333, \"#9c179e\"], [0.4444444444444444, \"#bd3786\"], [0.5555555555555556, \"#d8576b\"], [0.6666666666666666, \"#ed7953\"], [0.7777777777777778, \"#fb9f3a\"], [0.8888888888888888, \"#fdca26\"], [1.0, \"#f0f921\"]], \"type\": \"histogram2dcontour\"}], \"mesh3d\": [{\"colorbar\": {\"outlinewidth\": 0, \"ticks\": \"\"}, \"type\": \"mesh3d\"}], \"parcoords\": [{\"line\": {\"colorbar\": {\"outlinewidth\": 0, \"ticks\": \"\"}}, \"type\": \"parcoords\"}], \"pie\": [{\"automargin\": true, \"type\": \"pie\"}], \"scatter\": [{\"marker\": {\"colorbar\": {\"outlinewidth\": 0, \"ticks\": \"\"}}, \"type\": \"scatter\"}], \"scatter3d\": [{\"line\": {\"colorbar\": {\"outlinewidth\": 0, \"ticks\": \"\"}}, \"marker\": {\"colorbar\": {\"outlinewidth\": 0, \"ticks\": \"\"}}, \"type\": \"scatter3d\"}], \"scattercarpet\": [{\"marker\": {\"colorbar\": {\"outlinewidth\": 0, \"ticks\": \"\"}}, \"type\": \"scattercarpet\"}], \"scattergeo\": [{\"marker\": {\"colorbar\": {\"outlinewidth\": 0, \"ticks\": \"\"}}, \"type\": \"scattergeo\"}], \"scattergl\": [{\"marker\": {\"colorbar\": {\"outlinewidth\": 0, \"ticks\": \"\"}}, \"type\": \"scattergl\"}], \"scattermapbox\": [{\"marker\": {\"colorbar\": {\"outlinewidth\": 0, \"ticks\": \"\"}}, \"type\": \"scattermapbox\"}], \"scatterpolar\": [{\"marker\": {\"colorbar\": {\"outlinewidth\": 0, \"ticks\": \"\"}}, \"type\": \"scatterpolar\"}], \"scatterpolargl\": [{\"marker\": {\"colorbar\": {\"outlinewidth\": 0, \"ticks\": \"\"}}, \"type\": \"scatterpolargl\"}], \"scatterternary\": [{\"marker\": {\"colorbar\": {\"outlinewidth\": 0, \"ticks\": \"\"}}, \"type\": \"scatterternary\"}], \"surface\": [{\"colorbar\": {\"outlinewidth\": 0, \"ticks\": \"\"}, \"colorscale\": [[0.0, \"#0d0887\"], [0.1111111111111111, \"#46039f\"], [0.2222222222222222, \"#7201a8\"], [0.3333333333333333, \"#9c179e\"], [0.4444444444444444, \"#bd3786\"], [0.5555555555555556, \"#d8576b\"], [0.6666666666666666, \"#ed7953\"], [0.7777777777777778, \"#fb9f3a\"], [0.8888888888888888, \"#fdca26\"], [1.0, \"#f0f921\"]], \"type\": \"surface\"}], \"table\": [{\"cells\": {\"fill\": {\"color\": \"#EBF0F8\"}, \"line\": {\"color\": \"white\"}}, \"header\": {\"fill\": {\"color\": \"#C8D4E3\"}, \"line\": {\"color\": \"white\"}}, \"type\": \"table\"}]}, \"layout\": {\"annotationdefaults\": {\"arrowcolor\": \"#2a3f5f\", \"arrowhead\": 0, \"arrowwidth\": 1}, \"coloraxis\": {\"colorbar\": {\"outlinewidth\": 0, \"ticks\": \"\"}}, \"colorscale\": {\"diverging\": [[0, \"#8e0152\"], [0.1, \"#c51b7d\"], [0.2, \"#de77ae\"], [0.3, \"#f1b6da\"], [0.4, \"#fde0ef\"], [0.5, \"#f7f7f7\"], [0.6, \"#e6f5d0\"], [0.7, \"#b8e186\"], [0.8, \"#7fbc41\"], [0.9, \"#4d9221\"], [1, \"#276419\"]], \"sequential\": [[0.0, \"#0d0887\"], [0.1111111111111111, \"#46039f\"], [0.2222222222222222, \"#7201a8\"], [0.3333333333333333, \"#9c179e\"], [0.4444444444444444, \"#bd3786\"], [0.5555555555555556, \"#d8576b\"], [0.6666666666666666, \"#ed7953\"], [0.7777777777777778, \"#fb9f3a\"], [0.8888888888888888, \"#fdca26\"], [1.0, \"#f0f921\"]], \"sequentialminus\": [[0.0, \"#0d0887\"], [0.1111111111111111, \"#46039f\"], [0.2222222222222222, \"#7201a8\"], [0.3333333333333333, \"#9c179e\"], [0.4444444444444444, \"#bd3786\"], [0.5555555555555556, \"#d8576b\"], [0.6666666666666666, \"#ed7953\"], [0.7777777777777778, \"#fb9f3a\"], [0.8888888888888888, \"#fdca26\"], [1.0, \"#f0f921\"]]}, \"colorway\": [\"#636efa\", \"#EF553B\", \"#00cc96\", \"#ab63fa\", \"#FFA15A\", \"#19d3f3\", \"#FF6692\", \"#B6E880\", \"#FF97FF\", \"#FECB52\"], \"font\": {\"color\": \"#2a3f5f\"}, \"geo\": {\"bgcolor\": \"white\", \"lakecolor\": \"white\", \"landcolor\": \"#E5ECF6\", \"showlakes\": true, \"showland\": true, \"subunitcolor\": \"white\"}, \"hoverlabel\": {\"align\": \"left\"}, \"hovermode\": \"closest\", \"mapbox\": {\"style\": \"light\"}, \"paper_bgcolor\": \"white\", \"plot_bgcolor\": \"#E5ECF6\", \"polar\": {\"angularaxis\": {\"gridcolor\": \"white\", \"linecolor\": \"white\", \"ticks\": \"\"}, \"bgcolor\": \"#E5ECF6\", \"radialaxis\": {\"gridcolor\": \"white\", \"linecolor\": \"white\", \"ticks\": \"\"}}, \"scene\": {\"xaxis\": {\"backgroundcolor\": \"#E5ECF6\", \"gridcolor\": \"white\", \"gridwidth\": 2, \"linecolor\": \"white\", \"showbackground\": true, \"ticks\": \"\", \"zerolinecolor\": \"white\"}, \"yaxis\": {\"backgroundcolor\": \"#E5ECF6\", \"gridcolor\": \"white\", \"gridwidth\": 2, \"linecolor\": \"white\", \"showbackground\": true, \"ticks\": \"\", \"zerolinecolor\": \"white\"}, \"zaxis\": {\"backgroundcolor\": \"#E5ECF6\", \"gridcolor\": \"white\", \"gridwidth\": 2, \"linecolor\": \"white\", \"showbackground\": true, \"ticks\": \"\", \"zerolinecolor\": \"white\"}}, \"shapedefaults\": {\"line\": {\"color\": \"#2a3f5f\"}}, \"ternary\": {\"aaxis\": {\"gridcolor\": \"white\", \"linecolor\": \"white\", \"ticks\": \"\"}, \"baxis\": {\"gridcolor\": \"white\", \"linecolor\": \"white\", \"ticks\": \"\"}, \"bgcolor\": \"#E5ECF6\", \"caxis\": {\"gridcolor\": \"white\", \"linecolor\": \"white\", \"ticks\": \"\"}}, \"title\": {\"x\": 0.05}, \"xaxis\": {\"automargin\": true, \"gridcolor\": \"white\", \"linecolor\": \"white\", \"ticks\": \"\", \"title\": {\"standoff\": 15}, \"zerolinecolor\": \"white\", \"zerolinewidth\": 2}, \"yaxis\": {\"automargin\": true, \"gridcolor\": \"white\", \"linecolor\": \"white\", \"ticks\": \"\", \"title\": {\"standoff\": 15}, \"zerolinecolor\": \"white\", \"zerolinewidth\": 2}}}, \"title\": {\"text\": \"Percentage of Suspicicous levels\"}},\n",
       "                        {\"responsive\": true}\n",
       "                    ).then(function(){\n",
       "                            \n",
       "var gd = document.getElementById('7e7af8e9-bd44-4b7d-a3af-88b73d786bc7');\n",
       "var x = new MutationObserver(function (mutations, observer) {{\n",
       "        var display = window.getComputedStyle(gd).display;\n",
       "        if (!display || display === 'none') {{\n",
       "            console.log([gd, 'removed!']);\n",
       "            Plotly.purge(gd);\n",
       "            observer.disconnect();\n",
       "        }}\n",
       "}});\n",
       "\n",
       "// Listen for the removal of the full notebook cells\n",
       "var notebookContainer = gd.closest('#notebook-container');\n",
       "if (notebookContainer) {{\n",
       "    x.observe(notebookContainer, {childList: true});\n",
       "}}\n",
       "\n",
       "// Listen for the clearing of the current output cell\n",
       "var outputEl = gd.closest('.output');\n",
       "if (outputEl) {{\n",
       "    x.observe(outputEl, {childList: true});\n",
       "}}\n",
       "\n",
       "                        })\n",
       "                };\n",
       "                });\n",
       "            </script>\n",
       "        </div>"
      ]
     },
     "metadata": {},
     "output_type": "display_data"
    }
   ],
   "source": [
    "d_temp=data.Suspicious.value_counts()\n",
    "trace = go.Pie(values=d_temp,labels=d_temp.index)\n",
    "\n",
    "layout = go.Layout(title = 'Percentage of Suspicicous levels')\n",
    "data1 = [trace]\n",
    "fig = go.Figure(data= data1,layout=layout)\n",
    "iplot(fig)"
   ]
  },
  {
   "cell_type": "code",
   "execution_count": null,
   "metadata": {},
   "outputs": [],
   "source": []
  },
  {
   "cell_type": "markdown",
   "metadata": {},
   "source": [
    "## The count of Suspicious reports with respect to a SalesPerson"
   ]
  },
  {
   "cell_type": "code",
   "execution_count": 15,
   "metadata": {},
   "outputs": [],
   "source": [
    "d_S=data[data.Suspicious==\"Yes\"].groupby(\"SalesPersonID\")[\"Suspicious\"].count()"
   ]
  },
  {
   "cell_type": "code",
   "execution_count": 16,
   "metadata": {},
   "outputs": [
    {
     "data": {
      "application/vnd.plotly.v1+json": {
       "config": {
        "linkText": "Export to plot.ly",
        "plotlyServerURL": "https://plot.ly",
        "showLink": false
       },
       "data": [
        {
         "marker": {
          "color": "#CC0E1D"
         },
         "type": "bar",
         "x": [
          "C21118",
          "C21128",
          "C21151",
          "C21163",
          "C21186",
          "C21191",
          "C21210",
          "C21213",
          "C21220",
          "C21246",
          "C21256",
          "C21272",
          "C21286",
          "C21299",
          "C21332",
          "C21345",
          "C21395",
          "C21399",
          "C21444",
          "C21445",
          "C21453",
          "C21456",
          "C21462",
          "C21468",
          "C21498",
          "C21536",
          "C21553",
          "C21558",
          "C21579",
          "C21636",
          "C21638",
          "C21652",
          "C21654",
          "C21656",
          "C21659",
          "C21676",
          "C21699",
          "C21708",
          "C21757",
          "C21766",
          "C21769",
          "C21779",
          "C21780",
          "C21798",
          "C21808",
          "C21814",
          "C21818",
          "C21827",
          "C21829",
          "C21841",
          "C21853",
          "C21862",
          "C21866",
          "C21870",
          "C21871",
          "C21872",
          "C21875",
          "C21876",
          "C21893",
          "C21896",
          "C21901",
          "C21923",
          "C21925",
          "C21935",
          "C21938",
          "C21948",
          "C21949",
          "C21953",
          "C21955",
          "C21958",
          "C21967",
          "C21976",
          "C21992",
          "C21993",
          "C21994",
          "C21996",
          "C22027",
          "C22029",
          "C22030",
          "C22031",
          "C22032",
          "C22037",
          "C22041",
          "C22052",
          "C22058",
          "C22069",
          "C22076",
          "C22096",
          "C22098",
          "C22102",
          "C22112",
          "C22113",
          "C22114",
          "C22118",
          "C22122",
          "C22126",
          "C22127",
          "C22128",
          "C22129",
          "C22138",
          "C22168",
          "C22176",
          "C22178",
          "C22185",
          "C22195",
          "C22200",
          "C22203",
          "C22215",
          "C22220",
          "C22226",
          "C22228",
          "C22230",
          "C22242",
          "C22245",
          "C22263",
          "C22271",
          "C22293",
          "C22304",
          "C22310",
          "C22317",
          "C22332",
          "C22344"
         ],
         "y": [
          1,
          3,
          1,
          1,
          1,
          1,
          2,
          1,
          4,
          1,
          1,
          1,
          1,
          1,
          1,
          1,
          1,
          1,
          1,
          2,
          1,
          1,
          1,
          1,
          1,
          1,
          1,
          1,
          2,
          2,
          2,
          1,
          3,
          1,
          1,
          4,
          1,
          1,
          1,
          1,
          1,
          1,
          1,
          1,
          1,
          1,
          1,
          1,
          3,
          1,
          1,
          1,
          1,
          1,
          1,
          2,
          2,
          2,
          1,
          1,
          1,
          1,
          1,
          3,
          3,
          1,
          1,
          1,
          1,
          1,
          2,
          1,
          4,
          1,
          2,
          1,
          1,
          2,
          9,
          2,
          1,
          1,
          2,
          1,
          1,
          1,
          1,
          2,
          1,
          1,
          1,
          1,
          1,
          1,
          3,
          1,
          2,
          1,
          1,
          1,
          4,
          1,
          4,
          4,
          3,
          1,
          1,
          1,
          3,
          1,
          1,
          1,
          2,
          1,
          2,
          1,
          1,
          1,
          1,
          1,
          1,
          1
         ]
        }
       ],
       "layout": {
        "template": {
         "data": {
          "bar": [
           {
            "error_x": {
             "color": "#2a3f5f"
            },
            "error_y": {
             "color": "#2a3f5f"
            },
            "marker": {
             "line": {
              "color": "#E5ECF6",
              "width": 0.5
             }
            },
            "type": "bar"
           }
          ],
          "barpolar": [
           {
            "marker": {
             "line": {
              "color": "#E5ECF6",
              "width": 0.5
             }
            },
            "type": "barpolar"
           }
          ],
          "carpet": [
           {
            "aaxis": {
             "endlinecolor": "#2a3f5f",
             "gridcolor": "white",
             "linecolor": "white",
             "minorgridcolor": "white",
             "startlinecolor": "#2a3f5f"
            },
            "baxis": {
             "endlinecolor": "#2a3f5f",
             "gridcolor": "white",
             "linecolor": "white",
             "minorgridcolor": "white",
             "startlinecolor": "#2a3f5f"
            },
            "type": "carpet"
           }
          ],
          "choropleth": [
           {
            "colorbar": {
             "outlinewidth": 0,
             "ticks": ""
            },
            "type": "choropleth"
           }
          ],
          "contour": [
           {
            "colorbar": {
             "outlinewidth": 0,
             "ticks": ""
            },
            "colorscale": [
             [
              0,
              "#0d0887"
             ],
             [
              0.1111111111111111,
              "#46039f"
             ],
             [
              0.2222222222222222,
              "#7201a8"
             ],
             [
              0.3333333333333333,
              "#9c179e"
             ],
             [
              0.4444444444444444,
              "#bd3786"
             ],
             [
              0.5555555555555556,
              "#d8576b"
             ],
             [
              0.6666666666666666,
              "#ed7953"
             ],
             [
              0.7777777777777778,
              "#fb9f3a"
             ],
             [
              0.8888888888888888,
              "#fdca26"
             ],
             [
              1,
              "#f0f921"
             ]
            ],
            "type": "contour"
           }
          ],
          "contourcarpet": [
           {
            "colorbar": {
             "outlinewidth": 0,
             "ticks": ""
            },
            "type": "contourcarpet"
           }
          ],
          "heatmap": [
           {
            "colorbar": {
             "outlinewidth": 0,
             "ticks": ""
            },
            "colorscale": [
             [
              0,
              "#0d0887"
             ],
             [
              0.1111111111111111,
              "#46039f"
             ],
             [
              0.2222222222222222,
              "#7201a8"
             ],
             [
              0.3333333333333333,
              "#9c179e"
             ],
             [
              0.4444444444444444,
              "#bd3786"
             ],
             [
              0.5555555555555556,
              "#d8576b"
             ],
             [
              0.6666666666666666,
              "#ed7953"
             ],
             [
              0.7777777777777778,
              "#fb9f3a"
             ],
             [
              0.8888888888888888,
              "#fdca26"
             ],
             [
              1,
              "#f0f921"
             ]
            ],
            "type": "heatmap"
           }
          ],
          "heatmapgl": [
           {
            "colorbar": {
             "outlinewidth": 0,
             "ticks": ""
            },
            "colorscale": [
             [
              0,
              "#0d0887"
             ],
             [
              0.1111111111111111,
              "#46039f"
             ],
             [
              0.2222222222222222,
              "#7201a8"
             ],
             [
              0.3333333333333333,
              "#9c179e"
             ],
             [
              0.4444444444444444,
              "#bd3786"
             ],
             [
              0.5555555555555556,
              "#d8576b"
             ],
             [
              0.6666666666666666,
              "#ed7953"
             ],
             [
              0.7777777777777778,
              "#fb9f3a"
             ],
             [
              0.8888888888888888,
              "#fdca26"
             ],
             [
              1,
              "#f0f921"
             ]
            ],
            "type": "heatmapgl"
           }
          ],
          "histogram": [
           {
            "marker": {
             "colorbar": {
              "outlinewidth": 0,
              "ticks": ""
             }
            },
            "type": "histogram"
           }
          ],
          "histogram2d": [
           {
            "colorbar": {
             "outlinewidth": 0,
             "ticks": ""
            },
            "colorscale": [
             [
              0,
              "#0d0887"
             ],
             [
              0.1111111111111111,
              "#46039f"
             ],
             [
              0.2222222222222222,
              "#7201a8"
             ],
             [
              0.3333333333333333,
              "#9c179e"
             ],
             [
              0.4444444444444444,
              "#bd3786"
             ],
             [
              0.5555555555555556,
              "#d8576b"
             ],
             [
              0.6666666666666666,
              "#ed7953"
             ],
             [
              0.7777777777777778,
              "#fb9f3a"
             ],
             [
              0.8888888888888888,
              "#fdca26"
             ],
             [
              1,
              "#f0f921"
             ]
            ],
            "type": "histogram2d"
           }
          ],
          "histogram2dcontour": [
           {
            "colorbar": {
             "outlinewidth": 0,
             "ticks": ""
            },
            "colorscale": [
             [
              0,
              "#0d0887"
             ],
             [
              0.1111111111111111,
              "#46039f"
             ],
             [
              0.2222222222222222,
              "#7201a8"
             ],
             [
              0.3333333333333333,
              "#9c179e"
             ],
             [
              0.4444444444444444,
              "#bd3786"
             ],
             [
              0.5555555555555556,
              "#d8576b"
             ],
             [
              0.6666666666666666,
              "#ed7953"
             ],
             [
              0.7777777777777778,
              "#fb9f3a"
             ],
             [
              0.8888888888888888,
              "#fdca26"
             ],
             [
              1,
              "#f0f921"
             ]
            ],
            "type": "histogram2dcontour"
           }
          ],
          "mesh3d": [
           {
            "colorbar": {
             "outlinewidth": 0,
             "ticks": ""
            },
            "type": "mesh3d"
           }
          ],
          "parcoords": [
           {
            "line": {
             "colorbar": {
              "outlinewidth": 0,
              "ticks": ""
             }
            },
            "type": "parcoords"
           }
          ],
          "pie": [
           {
            "automargin": true,
            "type": "pie"
           }
          ],
          "scatter": [
           {
            "marker": {
             "colorbar": {
              "outlinewidth": 0,
              "ticks": ""
             }
            },
            "type": "scatter"
           }
          ],
          "scatter3d": [
           {
            "line": {
             "colorbar": {
              "outlinewidth": 0,
              "ticks": ""
             }
            },
            "marker": {
             "colorbar": {
              "outlinewidth": 0,
              "ticks": ""
             }
            },
            "type": "scatter3d"
           }
          ],
          "scattercarpet": [
           {
            "marker": {
             "colorbar": {
              "outlinewidth": 0,
              "ticks": ""
             }
            },
            "type": "scattercarpet"
           }
          ],
          "scattergeo": [
           {
            "marker": {
             "colorbar": {
              "outlinewidth": 0,
              "ticks": ""
             }
            },
            "type": "scattergeo"
           }
          ],
          "scattergl": [
           {
            "marker": {
             "colorbar": {
              "outlinewidth": 0,
              "ticks": ""
             }
            },
            "type": "scattergl"
           }
          ],
          "scattermapbox": [
           {
            "marker": {
             "colorbar": {
              "outlinewidth": 0,
              "ticks": ""
             }
            },
            "type": "scattermapbox"
           }
          ],
          "scatterpolar": [
           {
            "marker": {
             "colorbar": {
              "outlinewidth": 0,
              "ticks": ""
             }
            },
            "type": "scatterpolar"
           }
          ],
          "scatterpolargl": [
           {
            "marker": {
             "colorbar": {
              "outlinewidth": 0,
              "ticks": ""
             }
            },
            "type": "scatterpolargl"
           }
          ],
          "scatterternary": [
           {
            "marker": {
             "colorbar": {
              "outlinewidth": 0,
              "ticks": ""
             }
            },
            "type": "scatterternary"
           }
          ],
          "surface": [
           {
            "colorbar": {
             "outlinewidth": 0,
             "ticks": ""
            },
            "colorscale": [
             [
              0,
              "#0d0887"
             ],
             [
              0.1111111111111111,
              "#46039f"
             ],
             [
              0.2222222222222222,
              "#7201a8"
             ],
             [
              0.3333333333333333,
              "#9c179e"
             ],
             [
              0.4444444444444444,
              "#bd3786"
             ],
             [
              0.5555555555555556,
              "#d8576b"
             ],
             [
              0.6666666666666666,
              "#ed7953"
             ],
             [
              0.7777777777777778,
              "#fb9f3a"
             ],
             [
              0.8888888888888888,
              "#fdca26"
             ],
             [
              1,
              "#f0f921"
             ]
            ],
            "type": "surface"
           }
          ],
          "table": [
           {
            "cells": {
             "fill": {
              "color": "#EBF0F8"
             },
             "line": {
              "color": "white"
             }
            },
            "header": {
             "fill": {
              "color": "#C8D4E3"
             },
             "line": {
              "color": "white"
             }
            },
            "type": "table"
           }
          ]
         },
         "layout": {
          "annotationdefaults": {
           "arrowcolor": "#2a3f5f",
           "arrowhead": 0,
           "arrowwidth": 1
          },
          "coloraxis": {
           "colorbar": {
            "outlinewidth": 0,
            "ticks": ""
           }
          },
          "colorscale": {
           "diverging": [
            [
             0,
             "#8e0152"
            ],
            [
             0.1,
             "#c51b7d"
            ],
            [
             0.2,
             "#de77ae"
            ],
            [
             0.3,
             "#f1b6da"
            ],
            [
             0.4,
             "#fde0ef"
            ],
            [
             0.5,
             "#f7f7f7"
            ],
            [
             0.6,
             "#e6f5d0"
            ],
            [
             0.7,
             "#b8e186"
            ],
            [
             0.8,
             "#7fbc41"
            ],
            [
             0.9,
             "#4d9221"
            ],
            [
             1,
             "#276419"
            ]
           ],
           "sequential": [
            [
             0,
             "#0d0887"
            ],
            [
             0.1111111111111111,
             "#46039f"
            ],
            [
             0.2222222222222222,
             "#7201a8"
            ],
            [
             0.3333333333333333,
             "#9c179e"
            ],
            [
             0.4444444444444444,
             "#bd3786"
            ],
            [
             0.5555555555555556,
             "#d8576b"
            ],
            [
             0.6666666666666666,
             "#ed7953"
            ],
            [
             0.7777777777777778,
             "#fb9f3a"
            ],
            [
             0.8888888888888888,
             "#fdca26"
            ],
            [
             1,
             "#f0f921"
            ]
           ],
           "sequentialminus": [
            [
             0,
             "#0d0887"
            ],
            [
             0.1111111111111111,
             "#46039f"
            ],
            [
             0.2222222222222222,
             "#7201a8"
            ],
            [
             0.3333333333333333,
             "#9c179e"
            ],
            [
             0.4444444444444444,
             "#bd3786"
            ],
            [
             0.5555555555555556,
             "#d8576b"
            ],
            [
             0.6666666666666666,
             "#ed7953"
            ],
            [
             0.7777777777777778,
             "#fb9f3a"
            ],
            [
             0.8888888888888888,
             "#fdca26"
            ],
            [
             1,
             "#f0f921"
            ]
           ]
          },
          "colorway": [
           "#636efa",
           "#EF553B",
           "#00cc96",
           "#ab63fa",
           "#FFA15A",
           "#19d3f3",
           "#FF6692",
           "#B6E880",
           "#FF97FF",
           "#FECB52"
          ],
          "font": {
           "color": "#2a3f5f"
          },
          "geo": {
           "bgcolor": "white",
           "lakecolor": "white",
           "landcolor": "#E5ECF6",
           "showlakes": true,
           "showland": true,
           "subunitcolor": "white"
          },
          "hoverlabel": {
           "align": "left"
          },
          "hovermode": "closest",
          "mapbox": {
           "style": "light"
          },
          "paper_bgcolor": "white",
          "plot_bgcolor": "#E5ECF6",
          "polar": {
           "angularaxis": {
            "gridcolor": "white",
            "linecolor": "white",
            "ticks": ""
           },
           "bgcolor": "#E5ECF6",
           "radialaxis": {
            "gridcolor": "white",
            "linecolor": "white",
            "ticks": ""
           }
          },
          "scene": {
           "xaxis": {
            "backgroundcolor": "#E5ECF6",
            "gridcolor": "white",
            "gridwidth": 2,
            "linecolor": "white",
            "showbackground": true,
            "ticks": "",
            "zerolinecolor": "white"
           },
           "yaxis": {
            "backgroundcolor": "#E5ECF6",
            "gridcolor": "white",
            "gridwidth": 2,
            "linecolor": "white",
            "showbackground": true,
            "ticks": "",
            "zerolinecolor": "white"
           },
           "zaxis": {
            "backgroundcolor": "#E5ECF6",
            "gridcolor": "white",
            "gridwidth": 2,
            "linecolor": "white",
            "showbackground": true,
            "ticks": "",
            "zerolinecolor": "white"
           }
          },
          "shapedefaults": {
           "line": {
            "color": "#2a3f5f"
           }
          },
          "ternary": {
           "aaxis": {
            "gridcolor": "white",
            "linecolor": "white",
            "ticks": ""
           },
           "baxis": {
            "gridcolor": "white",
            "linecolor": "white",
            "ticks": ""
           },
           "bgcolor": "#E5ECF6",
           "caxis": {
            "gridcolor": "white",
            "linecolor": "white",
            "ticks": ""
           }
          },
          "title": {
           "x": 0.05
          },
          "xaxis": {
           "automargin": true,
           "gridcolor": "white",
           "linecolor": "white",
           "ticks": "",
           "title": {
            "standoff": 15
           },
           "zerolinecolor": "white",
           "zerolinewidth": 2
          },
          "yaxis": {
           "automargin": true,
           "gridcolor": "white",
           "linecolor": "white",
           "ticks": "",
           "title": {
            "standoff": 15
           },
           "zerolinecolor": "white",
           "zerolinewidth": 2
          }
         }
        },
        "title": {
         "text": "Suspicious/YES vs SalesPerson"
        },
        "xaxis": {
         "title": {
          "text": "SalesPersonID"
         }
        },
        "yaxis": {
         "title": {
          "text": "Count of Suspicious YES"
         }
        }
       }
      },
      "text/html": [
       "<div>\n",
       "        \n",
       "        \n",
       "            <div id=\"21b14b85-4c27-4d67-a355-66583c5498e2\" class=\"plotly-graph-div\" style=\"height:525px; width:100%;\"></div>\n",
       "            <script type=\"text/javascript\">\n",
       "                require([\"plotly\"], function(Plotly) {\n",
       "                    window.PLOTLYENV=window.PLOTLYENV || {};\n",
       "                    \n",
       "                if (document.getElementById(\"21b14b85-4c27-4d67-a355-66583c5498e2\")) {\n",
       "                    Plotly.newPlot(\n",
       "                        '21b14b85-4c27-4d67-a355-66583c5498e2',\n",
       "                        [{\"marker\": {\"color\": \"#CC0E1D\"}, \"type\": \"bar\", \"x\": [\"C21118\", \"C21128\", \"C21151\", \"C21163\", \"C21186\", \"C21191\", \"C21210\", \"C21213\", \"C21220\", \"C21246\", \"C21256\", \"C21272\", \"C21286\", \"C21299\", \"C21332\", \"C21345\", \"C21395\", \"C21399\", \"C21444\", \"C21445\", \"C21453\", \"C21456\", \"C21462\", \"C21468\", \"C21498\", \"C21536\", \"C21553\", \"C21558\", \"C21579\", \"C21636\", \"C21638\", \"C21652\", \"C21654\", \"C21656\", \"C21659\", \"C21676\", \"C21699\", \"C21708\", \"C21757\", \"C21766\", \"C21769\", \"C21779\", \"C21780\", \"C21798\", \"C21808\", \"C21814\", \"C21818\", \"C21827\", \"C21829\", \"C21841\", \"C21853\", \"C21862\", \"C21866\", \"C21870\", \"C21871\", \"C21872\", \"C21875\", \"C21876\", \"C21893\", \"C21896\", \"C21901\", \"C21923\", \"C21925\", \"C21935\", \"C21938\", \"C21948\", \"C21949\", \"C21953\", \"C21955\", \"C21958\", \"C21967\", \"C21976\", \"C21992\", \"C21993\", \"C21994\", \"C21996\", \"C22027\", \"C22029\", \"C22030\", \"C22031\", \"C22032\", \"C22037\", \"C22041\", \"C22052\", \"C22058\", \"C22069\", \"C22076\", \"C22096\", \"C22098\", \"C22102\", \"C22112\", \"C22113\", \"C22114\", \"C22118\", \"C22122\", \"C22126\", \"C22127\", \"C22128\", \"C22129\", \"C22138\", \"C22168\", \"C22176\", \"C22178\", \"C22185\", \"C22195\", \"C22200\", \"C22203\", \"C22215\", \"C22220\", \"C22226\", \"C22228\", \"C22230\", \"C22242\", \"C22245\", \"C22263\", \"C22271\", \"C22293\", \"C22304\", \"C22310\", \"C22317\", \"C22332\", \"C22344\"], \"y\": [1.0, 3.0, 1.0, 1.0, 1.0, 1.0, 2.0, 1.0, 4.0, 1.0, 1.0, 1.0, 1.0, 1.0, 1.0, 1.0, 1.0, 1.0, 1.0, 2.0, 1.0, 1.0, 1.0, 1.0, 1.0, 1.0, 1.0, 1.0, 2.0, 2.0, 2.0, 1.0, 3.0, 1.0, 1.0, 4.0, 1.0, 1.0, 1.0, 1.0, 1.0, 1.0, 1.0, 1.0, 1.0, 1.0, 1.0, 1.0, 3.0, 1.0, 1.0, 1.0, 1.0, 1.0, 1.0, 2.0, 2.0, 2.0, 1.0, 1.0, 1.0, 1.0, 1.0, 3.0, 3.0, 1.0, 1.0, 1.0, 1.0, 1.0, 2.0, 1.0, 4.0, 1.0, 2.0, 1.0, 1.0, 2.0, 9.0, 2.0, 1.0, 1.0, 2.0, 1.0, 1.0, 1.0, 1.0, 2.0, 1.0, 1.0, 1.0, 1.0, 1.0, 1.0, 3.0, 1.0, 2.0, 1.0, 1.0, 1.0, 4.0, 1.0, 4.0, 4.0, 3.0, 1.0, 1.0, 1.0, 3.0, 1.0, 1.0, 1.0, 2.0, 1.0, 2.0, 1.0, 1.0, 1.0, 1.0, 1.0, 1.0, 1.0]}],\n",
       "                        {\"template\": {\"data\": {\"bar\": [{\"error_x\": {\"color\": \"#2a3f5f\"}, \"error_y\": {\"color\": \"#2a3f5f\"}, \"marker\": {\"line\": {\"color\": \"#E5ECF6\", \"width\": 0.5}}, \"type\": \"bar\"}], \"barpolar\": [{\"marker\": {\"line\": {\"color\": \"#E5ECF6\", \"width\": 0.5}}, \"type\": \"barpolar\"}], \"carpet\": [{\"aaxis\": {\"endlinecolor\": \"#2a3f5f\", \"gridcolor\": \"white\", \"linecolor\": \"white\", \"minorgridcolor\": \"white\", \"startlinecolor\": \"#2a3f5f\"}, \"baxis\": {\"endlinecolor\": \"#2a3f5f\", \"gridcolor\": \"white\", \"linecolor\": \"white\", \"minorgridcolor\": \"white\", \"startlinecolor\": \"#2a3f5f\"}, \"type\": \"carpet\"}], \"choropleth\": [{\"colorbar\": {\"outlinewidth\": 0, \"ticks\": \"\"}, \"type\": \"choropleth\"}], \"contour\": [{\"colorbar\": {\"outlinewidth\": 0, \"ticks\": \"\"}, \"colorscale\": [[0.0, \"#0d0887\"], [0.1111111111111111, \"#46039f\"], [0.2222222222222222, \"#7201a8\"], [0.3333333333333333, \"#9c179e\"], [0.4444444444444444, \"#bd3786\"], [0.5555555555555556, \"#d8576b\"], [0.6666666666666666, \"#ed7953\"], [0.7777777777777778, \"#fb9f3a\"], [0.8888888888888888, \"#fdca26\"], [1.0, \"#f0f921\"]], \"type\": \"contour\"}], \"contourcarpet\": [{\"colorbar\": {\"outlinewidth\": 0, \"ticks\": \"\"}, \"type\": \"contourcarpet\"}], \"heatmap\": [{\"colorbar\": {\"outlinewidth\": 0, \"ticks\": \"\"}, \"colorscale\": [[0.0, \"#0d0887\"], [0.1111111111111111, \"#46039f\"], [0.2222222222222222, \"#7201a8\"], [0.3333333333333333, \"#9c179e\"], [0.4444444444444444, \"#bd3786\"], [0.5555555555555556, \"#d8576b\"], [0.6666666666666666, \"#ed7953\"], [0.7777777777777778, \"#fb9f3a\"], [0.8888888888888888, \"#fdca26\"], [1.0, \"#f0f921\"]], \"type\": \"heatmap\"}], \"heatmapgl\": [{\"colorbar\": {\"outlinewidth\": 0, \"ticks\": \"\"}, \"colorscale\": [[0.0, \"#0d0887\"], [0.1111111111111111, \"#46039f\"], [0.2222222222222222, \"#7201a8\"], [0.3333333333333333, \"#9c179e\"], [0.4444444444444444, \"#bd3786\"], [0.5555555555555556, \"#d8576b\"], [0.6666666666666666, \"#ed7953\"], [0.7777777777777778, \"#fb9f3a\"], [0.8888888888888888, \"#fdca26\"], [1.0, \"#f0f921\"]], \"type\": \"heatmapgl\"}], \"histogram\": [{\"marker\": {\"colorbar\": {\"outlinewidth\": 0, \"ticks\": \"\"}}, \"type\": \"histogram\"}], \"histogram2d\": [{\"colorbar\": {\"outlinewidth\": 0, \"ticks\": \"\"}, \"colorscale\": [[0.0, \"#0d0887\"], [0.1111111111111111, \"#46039f\"], [0.2222222222222222, \"#7201a8\"], [0.3333333333333333, \"#9c179e\"], [0.4444444444444444, \"#bd3786\"], [0.5555555555555556, \"#d8576b\"], [0.6666666666666666, \"#ed7953\"], [0.7777777777777778, \"#fb9f3a\"], [0.8888888888888888, \"#fdca26\"], [1.0, \"#f0f921\"]], \"type\": \"histogram2d\"}], \"histogram2dcontour\": [{\"colorbar\": {\"outlinewidth\": 0, \"ticks\": \"\"}, \"colorscale\": [[0.0, \"#0d0887\"], [0.1111111111111111, \"#46039f\"], [0.2222222222222222, \"#7201a8\"], [0.3333333333333333, \"#9c179e\"], [0.4444444444444444, \"#bd3786\"], [0.5555555555555556, \"#d8576b\"], [0.6666666666666666, \"#ed7953\"], [0.7777777777777778, \"#fb9f3a\"], [0.8888888888888888, \"#fdca26\"], [1.0, \"#f0f921\"]], \"type\": \"histogram2dcontour\"}], \"mesh3d\": [{\"colorbar\": {\"outlinewidth\": 0, \"ticks\": \"\"}, \"type\": \"mesh3d\"}], \"parcoords\": [{\"line\": {\"colorbar\": {\"outlinewidth\": 0, \"ticks\": \"\"}}, \"type\": \"parcoords\"}], \"pie\": [{\"automargin\": true, \"type\": \"pie\"}], \"scatter\": [{\"marker\": {\"colorbar\": {\"outlinewidth\": 0, \"ticks\": \"\"}}, \"type\": \"scatter\"}], \"scatter3d\": [{\"line\": {\"colorbar\": {\"outlinewidth\": 0, \"ticks\": \"\"}}, \"marker\": {\"colorbar\": {\"outlinewidth\": 0, \"ticks\": \"\"}}, \"type\": \"scatter3d\"}], \"scattercarpet\": [{\"marker\": {\"colorbar\": {\"outlinewidth\": 0, \"ticks\": \"\"}}, \"type\": \"scattercarpet\"}], \"scattergeo\": [{\"marker\": {\"colorbar\": {\"outlinewidth\": 0, \"ticks\": \"\"}}, \"type\": \"scattergeo\"}], \"scattergl\": [{\"marker\": {\"colorbar\": {\"outlinewidth\": 0, \"ticks\": \"\"}}, \"type\": \"scattergl\"}], \"scattermapbox\": [{\"marker\": {\"colorbar\": {\"outlinewidth\": 0, \"ticks\": \"\"}}, \"type\": \"scattermapbox\"}], \"scatterpolar\": [{\"marker\": {\"colorbar\": {\"outlinewidth\": 0, \"ticks\": \"\"}}, \"type\": \"scatterpolar\"}], \"scatterpolargl\": [{\"marker\": {\"colorbar\": {\"outlinewidth\": 0, \"ticks\": \"\"}}, \"type\": \"scatterpolargl\"}], \"scatterternary\": [{\"marker\": {\"colorbar\": {\"outlinewidth\": 0, \"ticks\": \"\"}}, \"type\": \"scatterternary\"}], \"surface\": [{\"colorbar\": {\"outlinewidth\": 0, \"ticks\": \"\"}, \"colorscale\": [[0.0, \"#0d0887\"], [0.1111111111111111, \"#46039f\"], [0.2222222222222222, \"#7201a8\"], [0.3333333333333333, \"#9c179e\"], [0.4444444444444444, \"#bd3786\"], [0.5555555555555556, \"#d8576b\"], [0.6666666666666666, \"#ed7953\"], [0.7777777777777778, \"#fb9f3a\"], [0.8888888888888888, \"#fdca26\"], [1.0, \"#f0f921\"]], \"type\": \"surface\"}], \"table\": [{\"cells\": {\"fill\": {\"color\": \"#EBF0F8\"}, \"line\": {\"color\": \"white\"}}, \"header\": {\"fill\": {\"color\": \"#C8D4E3\"}, \"line\": {\"color\": \"white\"}}, \"type\": \"table\"}]}, \"layout\": {\"annotationdefaults\": {\"arrowcolor\": \"#2a3f5f\", \"arrowhead\": 0, \"arrowwidth\": 1}, \"coloraxis\": {\"colorbar\": {\"outlinewidth\": 0, \"ticks\": \"\"}}, \"colorscale\": {\"diverging\": [[0, \"#8e0152\"], [0.1, \"#c51b7d\"], [0.2, \"#de77ae\"], [0.3, \"#f1b6da\"], [0.4, \"#fde0ef\"], [0.5, \"#f7f7f7\"], [0.6, \"#e6f5d0\"], [0.7, \"#b8e186\"], [0.8, \"#7fbc41\"], [0.9, \"#4d9221\"], [1, \"#276419\"]], \"sequential\": [[0.0, \"#0d0887\"], [0.1111111111111111, \"#46039f\"], [0.2222222222222222, \"#7201a8\"], [0.3333333333333333, \"#9c179e\"], [0.4444444444444444, \"#bd3786\"], [0.5555555555555556, \"#d8576b\"], [0.6666666666666666, \"#ed7953\"], [0.7777777777777778, \"#fb9f3a\"], [0.8888888888888888, \"#fdca26\"], [1.0, \"#f0f921\"]], \"sequentialminus\": [[0.0, \"#0d0887\"], [0.1111111111111111, \"#46039f\"], [0.2222222222222222, \"#7201a8\"], [0.3333333333333333, \"#9c179e\"], [0.4444444444444444, \"#bd3786\"], [0.5555555555555556, \"#d8576b\"], [0.6666666666666666, \"#ed7953\"], [0.7777777777777778, \"#fb9f3a\"], [0.8888888888888888, \"#fdca26\"], [1.0, \"#f0f921\"]]}, \"colorway\": [\"#636efa\", \"#EF553B\", \"#00cc96\", \"#ab63fa\", \"#FFA15A\", \"#19d3f3\", \"#FF6692\", \"#B6E880\", \"#FF97FF\", \"#FECB52\"], \"font\": {\"color\": \"#2a3f5f\"}, \"geo\": {\"bgcolor\": \"white\", \"lakecolor\": \"white\", \"landcolor\": \"#E5ECF6\", \"showlakes\": true, \"showland\": true, \"subunitcolor\": \"white\"}, \"hoverlabel\": {\"align\": \"left\"}, \"hovermode\": \"closest\", \"mapbox\": {\"style\": \"light\"}, \"paper_bgcolor\": \"white\", \"plot_bgcolor\": \"#E5ECF6\", \"polar\": {\"angularaxis\": {\"gridcolor\": \"white\", \"linecolor\": \"white\", \"ticks\": \"\"}, \"bgcolor\": \"#E5ECF6\", \"radialaxis\": {\"gridcolor\": \"white\", \"linecolor\": \"white\", \"ticks\": \"\"}}, \"scene\": {\"xaxis\": {\"backgroundcolor\": \"#E5ECF6\", \"gridcolor\": \"white\", \"gridwidth\": 2, \"linecolor\": \"white\", \"showbackground\": true, \"ticks\": \"\", \"zerolinecolor\": \"white\"}, \"yaxis\": {\"backgroundcolor\": \"#E5ECF6\", \"gridcolor\": \"white\", \"gridwidth\": 2, \"linecolor\": \"white\", \"showbackground\": true, \"ticks\": \"\", \"zerolinecolor\": \"white\"}, \"zaxis\": {\"backgroundcolor\": \"#E5ECF6\", \"gridcolor\": \"white\", \"gridwidth\": 2, \"linecolor\": \"white\", \"showbackground\": true, \"ticks\": \"\", \"zerolinecolor\": \"white\"}}, \"shapedefaults\": {\"line\": {\"color\": \"#2a3f5f\"}}, \"ternary\": {\"aaxis\": {\"gridcolor\": \"white\", \"linecolor\": \"white\", \"ticks\": \"\"}, \"baxis\": {\"gridcolor\": \"white\", \"linecolor\": \"white\", \"ticks\": \"\"}, \"bgcolor\": \"#E5ECF6\", \"caxis\": {\"gridcolor\": \"white\", \"linecolor\": \"white\", \"ticks\": \"\"}}, \"title\": {\"x\": 0.05}, \"xaxis\": {\"automargin\": true, \"gridcolor\": \"white\", \"linecolor\": \"white\", \"ticks\": \"\", \"title\": {\"standoff\": 15}, \"zerolinecolor\": \"white\", \"zerolinewidth\": 2}, \"yaxis\": {\"automargin\": true, \"gridcolor\": \"white\", \"linecolor\": \"white\", \"ticks\": \"\", \"title\": {\"standoff\": 15}, \"zerolinecolor\": \"white\", \"zerolinewidth\": 2}}}, \"title\": {\"text\": \"Suspicious/YES vs SalesPerson\"}, \"xaxis\": {\"title\": {\"text\": \"SalesPersonID\"}}, \"yaxis\": {\"title\": {\"text\": \"Count of Suspicious YES\"}}},\n",
       "                        {\"responsive\": true}\n",
       "                    ).then(function(){\n",
       "                            \n",
       "var gd = document.getElementById('21b14b85-4c27-4d67-a355-66583c5498e2');\n",
       "var x = new MutationObserver(function (mutations, observer) {{\n",
       "        var display = window.getComputedStyle(gd).display;\n",
       "        if (!display || display === 'none') {{\n",
       "            console.log([gd, 'removed!']);\n",
       "            Plotly.purge(gd);\n",
       "            observer.disconnect();\n",
       "        }}\n",
       "}});\n",
       "\n",
       "// Listen for the removal of the full notebook cells\n",
       "var notebookContainer = gd.closest('#notebook-container');\n",
       "if (notebookContainer) {{\n",
       "    x.observe(notebookContainer, {childList: true});\n",
       "}}\n",
       "\n",
       "// Listen for the clearing of the current output cell\n",
       "var outputEl = gd.closest('.output');\n",
       "if (outputEl) {{\n",
       "    x.observe(outputEl, {childList: true});\n",
       "}}\n",
       "\n",
       "                        })\n",
       "                };\n",
       "                });\n",
       "            </script>\n",
       "        </div>"
      ]
     },
     "metadata": {},
     "output_type": "display_data"
    }
   ],
   "source": [
    "data_plot = [go.Bar(x=d_S.index,\n",
    "                          y=d_S.values.astype(float),\n",
    "       marker=dict(\n",
    "        color=\"#CC0E1D\",# Lava (#CC0E1D)\n",
    "#         color = 'rgb(200,0,0)'   `\n",
    "    ))]\n",
    "layout = go.Layout(title = \"Suspicious/YES vs SalesPerson\",xaxis=dict(title=\"SalesPersonID\"),yaxis=dict(title=\"Count of Suspicious YES\"))\n",
    "\n",
    "fig = go.Figure(data= data_plot, layout=layout)\n",
    "iplot(fig)"
   ]
  },
  {
   "cell_type": "markdown",
   "metadata": {},
   "source": [
    "#### C22030 is the salesperson giving most Suscipious Transcations with a count of 9 Suspicious records"
   ]
  },
  {
   "cell_type": "code",
   "execution_count": null,
   "metadata": {},
   "outputs": [],
   "source": []
  },
  {
   "cell_type": "markdown",
   "metadata": {},
   "source": [
    "## The count of Suspicious reports with respect to a ProductID"
   ]
  },
  {
   "cell_type": "code",
   "execution_count": 17,
   "metadata": {},
   "outputs": [
    {
     "name": "stdout",
     "output_type": "stream",
     "text": [
      "The number of products which have Suspicious reports is -  115\n"
     ]
    }
   ],
   "source": [
    "# grouping the records of suspicious reports with respect to productID and counting the nunber of records per Product\n",
    "d_8=data[data.Suspicious==\"Yes\"].groupby(\"ProductID\")[\"Suspicious\"].count()\n",
    "print(\"The number of products which have Suspicious reports is - \",d_8.shape[0])"
   ]
  },
  {
   "cell_type": "code",
   "execution_count": 18,
   "metadata": {},
   "outputs": [],
   "source": [
    "# sorting and selecting only top 15 products with highest Suspicious reports \n",
    "d_8.sort_values(ascending=False, axis =0, inplace = True)\n",
    "d_8f=d_8.head(15)"
   ]
  },
  {
   "cell_type": "code",
   "execution_count": 19,
   "metadata": {},
   "outputs": [
    {
     "data": {
      "application/vnd.plotly.v1+json": {
       "config": {
        "linkText": "Export to plot.ly",
        "plotlyServerURL": "https://plot.ly",
        "showLink": false
       },
       "data": [
        {
         "marker": {
          "color": "#CC0E1D"
         },
         "type": "bar",
         "x": [
          "PR6115",
          "PR6253",
          "PR6179",
          "PR6570",
          "PR6625",
          "PR6116",
          "PR6207",
          "PR6550",
          "PR6582",
          "PR6595",
          "PR6596",
          "PR6374",
          "PR6690",
          "PR6352",
          "PR6552"
         ],
         "y": [
          10,
          7,
          4,
          4,
          3,
          3,
          3,
          3,
          3,
          3,
          3,
          3,
          3,
          2,
          2
         ]
        }
       ],
       "layout": {
        "template": {
         "data": {
          "bar": [
           {
            "error_x": {
             "color": "#2a3f5f"
            },
            "error_y": {
             "color": "#2a3f5f"
            },
            "marker": {
             "line": {
              "color": "#E5ECF6",
              "width": 0.5
             }
            },
            "type": "bar"
           }
          ],
          "barpolar": [
           {
            "marker": {
             "line": {
              "color": "#E5ECF6",
              "width": 0.5
             }
            },
            "type": "barpolar"
           }
          ],
          "carpet": [
           {
            "aaxis": {
             "endlinecolor": "#2a3f5f",
             "gridcolor": "white",
             "linecolor": "white",
             "minorgridcolor": "white",
             "startlinecolor": "#2a3f5f"
            },
            "baxis": {
             "endlinecolor": "#2a3f5f",
             "gridcolor": "white",
             "linecolor": "white",
             "minorgridcolor": "white",
             "startlinecolor": "#2a3f5f"
            },
            "type": "carpet"
           }
          ],
          "choropleth": [
           {
            "colorbar": {
             "outlinewidth": 0,
             "ticks": ""
            },
            "type": "choropleth"
           }
          ],
          "contour": [
           {
            "colorbar": {
             "outlinewidth": 0,
             "ticks": ""
            },
            "colorscale": [
             [
              0,
              "#0d0887"
             ],
             [
              0.1111111111111111,
              "#46039f"
             ],
             [
              0.2222222222222222,
              "#7201a8"
             ],
             [
              0.3333333333333333,
              "#9c179e"
             ],
             [
              0.4444444444444444,
              "#bd3786"
             ],
             [
              0.5555555555555556,
              "#d8576b"
             ],
             [
              0.6666666666666666,
              "#ed7953"
             ],
             [
              0.7777777777777778,
              "#fb9f3a"
             ],
             [
              0.8888888888888888,
              "#fdca26"
             ],
             [
              1,
              "#f0f921"
             ]
            ],
            "type": "contour"
           }
          ],
          "contourcarpet": [
           {
            "colorbar": {
             "outlinewidth": 0,
             "ticks": ""
            },
            "type": "contourcarpet"
           }
          ],
          "heatmap": [
           {
            "colorbar": {
             "outlinewidth": 0,
             "ticks": ""
            },
            "colorscale": [
             [
              0,
              "#0d0887"
             ],
             [
              0.1111111111111111,
              "#46039f"
             ],
             [
              0.2222222222222222,
              "#7201a8"
             ],
             [
              0.3333333333333333,
              "#9c179e"
             ],
             [
              0.4444444444444444,
              "#bd3786"
             ],
             [
              0.5555555555555556,
              "#d8576b"
             ],
             [
              0.6666666666666666,
              "#ed7953"
             ],
             [
              0.7777777777777778,
              "#fb9f3a"
             ],
             [
              0.8888888888888888,
              "#fdca26"
             ],
             [
              1,
              "#f0f921"
             ]
            ],
            "type": "heatmap"
           }
          ],
          "heatmapgl": [
           {
            "colorbar": {
             "outlinewidth": 0,
             "ticks": ""
            },
            "colorscale": [
             [
              0,
              "#0d0887"
             ],
             [
              0.1111111111111111,
              "#46039f"
             ],
             [
              0.2222222222222222,
              "#7201a8"
             ],
             [
              0.3333333333333333,
              "#9c179e"
             ],
             [
              0.4444444444444444,
              "#bd3786"
             ],
             [
              0.5555555555555556,
              "#d8576b"
             ],
             [
              0.6666666666666666,
              "#ed7953"
             ],
             [
              0.7777777777777778,
              "#fb9f3a"
             ],
             [
              0.8888888888888888,
              "#fdca26"
             ],
             [
              1,
              "#f0f921"
             ]
            ],
            "type": "heatmapgl"
           }
          ],
          "histogram": [
           {
            "marker": {
             "colorbar": {
              "outlinewidth": 0,
              "ticks": ""
             }
            },
            "type": "histogram"
           }
          ],
          "histogram2d": [
           {
            "colorbar": {
             "outlinewidth": 0,
             "ticks": ""
            },
            "colorscale": [
             [
              0,
              "#0d0887"
             ],
             [
              0.1111111111111111,
              "#46039f"
             ],
             [
              0.2222222222222222,
              "#7201a8"
             ],
             [
              0.3333333333333333,
              "#9c179e"
             ],
             [
              0.4444444444444444,
              "#bd3786"
             ],
             [
              0.5555555555555556,
              "#d8576b"
             ],
             [
              0.6666666666666666,
              "#ed7953"
             ],
             [
              0.7777777777777778,
              "#fb9f3a"
             ],
             [
              0.8888888888888888,
              "#fdca26"
             ],
             [
              1,
              "#f0f921"
             ]
            ],
            "type": "histogram2d"
           }
          ],
          "histogram2dcontour": [
           {
            "colorbar": {
             "outlinewidth": 0,
             "ticks": ""
            },
            "colorscale": [
             [
              0,
              "#0d0887"
             ],
             [
              0.1111111111111111,
              "#46039f"
             ],
             [
              0.2222222222222222,
              "#7201a8"
             ],
             [
              0.3333333333333333,
              "#9c179e"
             ],
             [
              0.4444444444444444,
              "#bd3786"
             ],
             [
              0.5555555555555556,
              "#d8576b"
             ],
             [
              0.6666666666666666,
              "#ed7953"
             ],
             [
              0.7777777777777778,
              "#fb9f3a"
             ],
             [
              0.8888888888888888,
              "#fdca26"
             ],
             [
              1,
              "#f0f921"
             ]
            ],
            "type": "histogram2dcontour"
           }
          ],
          "mesh3d": [
           {
            "colorbar": {
             "outlinewidth": 0,
             "ticks": ""
            },
            "type": "mesh3d"
           }
          ],
          "parcoords": [
           {
            "line": {
             "colorbar": {
              "outlinewidth": 0,
              "ticks": ""
             }
            },
            "type": "parcoords"
           }
          ],
          "pie": [
           {
            "automargin": true,
            "type": "pie"
           }
          ],
          "scatter": [
           {
            "marker": {
             "colorbar": {
              "outlinewidth": 0,
              "ticks": ""
             }
            },
            "type": "scatter"
           }
          ],
          "scatter3d": [
           {
            "line": {
             "colorbar": {
              "outlinewidth": 0,
              "ticks": ""
             }
            },
            "marker": {
             "colorbar": {
              "outlinewidth": 0,
              "ticks": ""
             }
            },
            "type": "scatter3d"
           }
          ],
          "scattercarpet": [
           {
            "marker": {
             "colorbar": {
              "outlinewidth": 0,
              "ticks": ""
             }
            },
            "type": "scattercarpet"
           }
          ],
          "scattergeo": [
           {
            "marker": {
             "colorbar": {
              "outlinewidth": 0,
              "ticks": ""
             }
            },
            "type": "scattergeo"
           }
          ],
          "scattergl": [
           {
            "marker": {
             "colorbar": {
              "outlinewidth": 0,
              "ticks": ""
             }
            },
            "type": "scattergl"
           }
          ],
          "scattermapbox": [
           {
            "marker": {
             "colorbar": {
              "outlinewidth": 0,
              "ticks": ""
             }
            },
            "type": "scattermapbox"
           }
          ],
          "scatterpolar": [
           {
            "marker": {
             "colorbar": {
              "outlinewidth": 0,
              "ticks": ""
             }
            },
            "type": "scatterpolar"
           }
          ],
          "scatterpolargl": [
           {
            "marker": {
             "colorbar": {
              "outlinewidth": 0,
              "ticks": ""
             }
            },
            "type": "scatterpolargl"
           }
          ],
          "scatterternary": [
           {
            "marker": {
             "colorbar": {
              "outlinewidth": 0,
              "ticks": ""
             }
            },
            "type": "scatterternary"
           }
          ],
          "surface": [
           {
            "colorbar": {
             "outlinewidth": 0,
             "ticks": ""
            },
            "colorscale": [
             [
              0,
              "#0d0887"
             ],
             [
              0.1111111111111111,
              "#46039f"
             ],
             [
              0.2222222222222222,
              "#7201a8"
             ],
             [
              0.3333333333333333,
              "#9c179e"
             ],
             [
              0.4444444444444444,
              "#bd3786"
             ],
             [
              0.5555555555555556,
              "#d8576b"
             ],
             [
              0.6666666666666666,
              "#ed7953"
             ],
             [
              0.7777777777777778,
              "#fb9f3a"
             ],
             [
              0.8888888888888888,
              "#fdca26"
             ],
             [
              1,
              "#f0f921"
             ]
            ],
            "type": "surface"
           }
          ],
          "table": [
           {
            "cells": {
             "fill": {
              "color": "#EBF0F8"
             },
             "line": {
              "color": "white"
             }
            },
            "header": {
             "fill": {
              "color": "#C8D4E3"
             },
             "line": {
              "color": "white"
             }
            },
            "type": "table"
           }
          ]
         },
         "layout": {
          "annotationdefaults": {
           "arrowcolor": "#2a3f5f",
           "arrowhead": 0,
           "arrowwidth": 1
          },
          "coloraxis": {
           "colorbar": {
            "outlinewidth": 0,
            "ticks": ""
           }
          },
          "colorscale": {
           "diverging": [
            [
             0,
             "#8e0152"
            ],
            [
             0.1,
             "#c51b7d"
            ],
            [
             0.2,
             "#de77ae"
            ],
            [
             0.3,
             "#f1b6da"
            ],
            [
             0.4,
             "#fde0ef"
            ],
            [
             0.5,
             "#f7f7f7"
            ],
            [
             0.6,
             "#e6f5d0"
            ],
            [
             0.7,
             "#b8e186"
            ],
            [
             0.8,
             "#7fbc41"
            ],
            [
             0.9,
             "#4d9221"
            ],
            [
             1,
             "#276419"
            ]
           ],
           "sequential": [
            [
             0,
             "#0d0887"
            ],
            [
             0.1111111111111111,
             "#46039f"
            ],
            [
             0.2222222222222222,
             "#7201a8"
            ],
            [
             0.3333333333333333,
             "#9c179e"
            ],
            [
             0.4444444444444444,
             "#bd3786"
            ],
            [
             0.5555555555555556,
             "#d8576b"
            ],
            [
             0.6666666666666666,
             "#ed7953"
            ],
            [
             0.7777777777777778,
             "#fb9f3a"
            ],
            [
             0.8888888888888888,
             "#fdca26"
            ],
            [
             1,
             "#f0f921"
            ]
           ],
           "sequentialminus": [
            [
             0,
             "#0d0887"
            ],
            [
             0.1111111111111111,
             "#46039f"
            ],
            [
             0.2222222222222222,
             "#7201a8"
            ],
            [
             0.3333333333333333,
             "#9c179e"
            ],
            [
             0.4444444444444444,
             "#bd3786"
            ],
            [
             0.5555555555555556,
             "#d8576b"
            ],
            [
             0.6666666666666666,
             "#ed7953"
            ],
            [
             0.7777777777777778,
             "#fb9f3a"
            ],
            [
             0.8888888888888888,
             "#fdca26"
            ],
            [
             1,
             "#f0f921"
            ]
           ]
          },
          "colorway": [
           "#636efa",
           "#EF553B",
           "#00cc96",
           "#ab63fa",
           "#FFA15A",
           "#19d3f3",
           "#FF6692",
           "#B6E880",
           "#FF97FF",
           "#FECB52"
          ],
          "font": {
           "color": "#2a3f5f"
          },
          "geo": {
           "bgcolor": "white",
           "lakecolor": "white",
           "landcolor": "#E5ECF6",
           "showlakes": true,
           "showland": true,
           "subunitcolor": "white"
          },
          "hoverlabel": {
           "align": "left"
          },
          "hovermode": "closest",
          "mapbox": {
           "style": "light"
          },
          "paper_bgcolor": "white",
          "plot_bgcolor": "#E5ECF6",
          "polar": {
           "angularaxis": {
            "gridcolor": "white",
            "linecolor": "white",
            "ticks": ""
           },
           "bgcolor": "#E5ECF6",
           "radialaxis": {
            "gridcolor": "white",
            "linecolor": "white",
            "ticks": ""
           }
          },
          "scene": {
           "xaxis": {
            "backgroundcolor": "#E5ECF6",
            "gridcolor": "white",
            "gridwidth": 2,
            "linecolor": "white",
            "showbackground": true,
            "ticks": "",
            "zerolinecolor": "white"
           },
           "yaxis": {
            "backgroundcolor": "#E5ECF6",
            "gridcolor": "white",
            "gridwidth": 2,
            "linecolor": "white",
            "showbackground": true,
            "ticks": "",
            "zerolinecolor": "white"
           },
           "zaxis": {
            "backgroundcolor": "#E5ECF6",
            "gridcolor": "white",
            "gridwidth": 2,
            "linecolor": "white",
            "showbackground": true,
            "ticks": "",
            "zerolinecolor": "white"
           }
          },
          "shapedefaults": {
           "line": {
            "color": "#2a3f5f"
           }
          },
          "ternary": {
           "aaxis": {
            "gridcolor": "white",
            "linecolor": "white",
            "ticks": ""
           },
           "baxis": {
            "gridcolor": "white",
            "linecolor": "white",
            "ticks": ""
           },
           "bgcolor": "#E5ECF6",
           "caxis": {
            "gridcolor": "white",
            "linecolor": "white",
            "ticks": ""
           }
          },
          "title": {
           "x": 0.05
          },
          "xaxis": {
           "automargin": true,
           "gridcolor": "white",
           "linecolor": "white",
           "ticks": "",
           "title": {
            "standoff": 15
           },
           "zerolinecolor": "white",
           "zerolinewidth": 2
          },
          "yaxis": {
           "automargin": true,
           "gridcolor": "white",
           "linecolor": "white",
           "ticks": "",
           "title": {
            "standoff": 15
           },
           "zerolinecolor": "white",
           "zerolinewidth": 2
          }
         }
        },
        "title": {
         "text": "ProductID vs Suspicious YES "
        },
        "xaxis": {
         "title": {
          "text": "Product ID"
         }
        },
        "yaxis": {
         "title": {
          "text": "Count of Suspicious YES"
         }
        }
       }
      },
      "text/html": [
       "<div>\n",
       "        \n",
       "        \n",
       "            <div id=\"df38bd46-d9f4-4778-b235-80bcc7996950\" class=\"plotly-graph-div\" style=\"height:525px; width:100%;\"></div>\n",
       "            <script type=\"text/javascript\">\n",
       "                require([\"plotly\"], function(Plotly) {\n",
       "                    window.PLOTLYENV=window.PLOTLYENV || {};\n",
       "                    \n",
       "                if (document.getElementById(\"df38bd46-d9f4-4778-b235-80bcc7996950\")) {\n",
       "                    Plotly.newPlot(\n",
       "                        'df38bd46-d9f4-4778-b235-80bcc7996950',\n",
       "                        [{\"marker\": {\"color\": \"#CC0E1D\"}, \"type\": \"bar\", \"x\": [\"PR6115\", \"PR6253\", \"PR6179\", \"PR6570\", \"PR6625\", \"PR6116\", \"PR6207\", \"PR6550\", \"PR6582\", \"PR6595\", \"PR6596\", \"PR6374\", \"PR6690\", \"PR6352\", \"PR6552\"], \"y\": [10.0, 7.0, 4.0, 4.0, 3.0, 3.0, 3.0, 3.0, 3.0, 3.0, 3.0, 3.0, 3.0, 2.0, 2.0]}],\n",
       "                        {\"template\": {\"data\": {\"bar\": [{\"error_x\": {\"color\": \"#2a3f5f\"}, \"error_y\": {\"color\": \"#2a3f5f\"}, \"marker\": {\"line\": {\"color\": \"#E5ECF6\", \"width\": 0.5}}, \"type\": \"bar\"}], \"barpolar\": [{\"marker\": {\"line\": {\"color\": \"#E5ECF6\", \"width\": 0.5}}, \"type\": \"barpolar\"}], \"carpet\": [{\"aaxis\": {\"endlinecolor\": \"#2a3f5f\", \"gridcolor\": \"white\", \"linecolor\": \"white\", \"minorgridcolor\": \"white\", \"startlinecolor\": \"#2a3f5f\"}, \"baxis\": {\"endlinecolor\": \"#2a3f5f\", \"gridcolor\": \"white\", \"linecolor\": \"white\", \"minorgridcolor\": \"white\", \"startlinecolor\": \"#2a3f5f\"}, \"type\": \"carpet\"}], \"choropleth\": [{\"colorbar\": {\"outlinewidth\": 0, \"ticks\": \"\"}, \"type\": \"choropleth\"}], \"contour\": [{\"colorbar\": {\"outlinewidth\": 0, \"ticks\": \"\"}, \"colorscale\": [[0.0, \"#0d0887\"], [0.1111111111111111, \"#46039f\"], [0.2222222222222222, \"#7201a8\"], [0.3333333333333333, \"#9c179e\"], [0.4444444444444444, \"#bd3786\"], [0.5555555555555556, \"#d8576b\"], [0.6666666666666666, \"#ed7953\"], [0.7777777777777778, \"#fb9f3a\"], [0.8888888888888888, \"#fdca26\"], [1.0, \"#f0f921\"]], \"type\": \"contour\"}], \"contourcarpet\": [{\"colorbar\": {\"outlinewidth\": 0, \"ticks\": \"\"}, \"type\": \"contourcarpet\"}], \"heatmap\": [{\"colorbar\": {\"outlinewidth\": 0, \"ticks\": \"\"}, \"colorscale\": [[0.0, \"#0d0887\"], [0.1111111111111111, \"#46039f\"], [0.2222222222222222, \"#7201a8\"], [0.3333333333333333, \"#9c179e\"], [0.4444444444444444, \"#bd3786\"], [0.5555555555555556, \"#d8576b\"], [0.6666666666666666, \"#ed7953\"], [0.7777777777777778, \"#fb9f3a\"], [0.8888888888888888, \"#fdca26\"], [1.0, \"#f0f921\"]], \"type\": \"heatmap\"}], \"heatmapgl\": [{\"colorbar\": {\"outlinewidth\": 0, \"ticks\": \"\"}, \"colorscale\": [[0.0, \"#0d0887\"], [0.1111111111111111, \"#46039f\"], [0.2222222222222222, \"#7201a8\"], [0.3333333333333333, \"#9c179e\"], [0.4444444444444444, \"#bd3786\"], [0.5555555555555556, \"#d8576b\"], [0.6666666666666666, \"#ed7953\"], [0.7777777777777778, \"#fb9f3a\"], [0.8888888888888888, \"#fdca26\"], [1.0, \"#f0f921\"]], \"type\": \"heatmapgl\"}], \"histogram\": [{\"marker\": {\"colorbar\": {\"outlinewidth\": 0, \"ticks\": \"\"}}, \"type\": \"histogram\"}], \"histogram2d\": [{\"colorbar\": {\"outlinewidth\": 0, \"ticks\": \"\"}, \"colorscale\": [[0.0, \"#0d0887\"], [0.1111111111111111, \"#46039f\"], [0.2222222222222222, \"#7201a8\"], [0.3333333333333333, \"#9c179e\"], [0.4444444444444444, \"#bd3786\"], [0.5555555555555556, \"#d8576b\"], [0.6666666666666666, \"#ed7953\"], [0.7777777777777778, \"#fb9f3a\"], [0.8888888888888888, \"#fdca26\"], [1.0, \"#f0f921\"]], \"type\": \"histogram2d\"}], \"histogram2dcontour\": [{\"colorbar\": {\"outlinewidth\": 0, \"ticks\": \"\"}, \"colorscale\": [[0.0, \"#0d0887\"], [0.1111111111111111, \"#46039f\"], [0.2222222222222222, \"#7201a8\"], [0.3333333333333333, \"#9c179e\"], [0.4444444444444444, \"#bd3786\"], [0.5555555555555556, \"#d8576b\"], [0.6666666666666666, \"#ed7953\"], [0.7777777777777778, \"#fb9f3a\"], [0.8888888888888888, \"#fdca26\"], [1.0, \"#f0f921\"]], \"type\": \"histogram2dcontour\"}], \"mesh3d\": [{\"colorbar\": {\"outlinewidth\": 0, \"ticks\": \"\"}, \"type\": \"mesh3d\"}], \"parcoords\": [{\"line\": {\"colorbar\": {\"outlinewidth\": 0, \"ticks\": \"\"}}, \"type\": \"parcoords\"}], \"pie\": [{\"automargin\": true, \"type\": \"pie\"}], \"scatter\": [{\"marker\": {\"colorbar\": {\"outlinewidth\": 0, \"ticks\": \"\"}}, \"type\": \"scatter\"}], \"scatter3d\": [{\"line\": {\"colorbar\": {\"outlinewidth\": 0, \"ticks\": \"\"}}, \"marker\": {\"colorbar\": {\"outlinewidth\": 0, \"ticks\": \"\"}}, \"type\": \"scatter3d\"}], \"scattercarpet\": [{\"marker\": {\"colorbar\": {\"outlinewidth\": 0, \"ticks\": \"\"}}, \"type\": \"scattercarpet\"}], \"scattergeo\": [{\"marker\": {\"colorbar\": {\"outlinewidth\": 0, \"ticks\": \"\"}}, \"type\": \"scattergeo\"}], \"scattergl\": [{\"marker\": {\"colorbar\": {\"outlinewidth\": 0, \"ticks\": \"\"}}, \"type\": \"scattergl\"}], \"scattermapbox\": [{\"marker\": {\"colorbar\": {\"outlinewidth\": 0, \"ticks\": \"\"}}, \"type\": \"scattermapbox\"}], \"scatterpolar\": [{\"marker\": {\"colorbar\": {\"outlinewidth\": 0, \"ticks\": \"\"}}, \"type\": \"scatterpolar\"}], \"scatterpolargl\": [{\"marker\": {\"colorbar\": {\"outlinewidth\": 0, \"ticks\": \"\"}}, \"type\": \"scatterpolargl\"}], \"scatterternary\": [{\"marker\": {\"colorbar\": {\"outlinewidth\": 0, \"ticks\": \"\"}}, \"type\": \"scatterternary\"}], \"surface\": [{\"colorbar\": {\"outlinewidth\": 0, \"ticks\": \"\"}, \"colorscale\": [[0.0, \"#0d0887\"], [0.1111111111111111, \"#46039f\"], [0.2222222222222222, \"#7201a8\"], [0.3333333333333333, \"#9c179e\"], [0.4444444444444444, \"#bd3786\"], [0.5555555555555556, \"#d8576b\"], [0.6666666666666666, \"#ed7953\"], [0.7777777777777778, \"#fb9f3a\"], [0.8888888888888888, \"#fdca26\"], [1.0, \"#f0f921\"]], \"type\": \"surface\"}], \"table\": [{\"cells\": {\"fill\": {\"color\": \"#EBF0F8\"}, \"line\": {\"color\": \"white\"}}, \"header\": {\"fill\": {\"color\": \"#C8D4E3\"}, \"line\": {\"color\": \"white\"}}, \"type\": \"table\"}]}, \"layout\": {\"annotationdefaults\": {\"arrowcolor\": \"#2a3f5f\", \"arrowhead\": 0, \"arrowwidth\": 1}, \"coloraxis\": {\"colorbar\": {\"outlinewidth\": 0, \"ticks\": \"\"}}, \"colorscale\": {\"diverging\": [[0, \"#8e0152\"], [0.1, \"#c51b7d\"], [0.2, \"#de77ae\"], [0.3, \"#f1b6da\"], [0.4, \"#fde0ef\"], [0.5, \"#f7f7f7\"], [0.6, \"#e6f5d0\"], [0.7, \"#b8e186\"], [0.8, \"#7fbc41\"], [0.9, \"#4d9221\"], [1, \"#276419\"]], \"sequential\": [[0.0, \"#0d0887\"], [0.1111111111111111, \"#46039f\"], [0.2222222222222222, \"#7201a8\"], [0.3333333333333333, \"#9c179e\"], [0.4444444444444444, \"#bd3786\"], [0.5555555555555556, \"#d8576b\"], [0.6666666666666666, \"#ed7953\"], [0.7777777777777778, \"#fb9f3a\"], [0.8888888888888888, \"#fdca26\"], [1.0, \"#f0f921\"]], \"sequentialminus\": [[0.0, \"#0d0887\"], [0.1111111111111111, \"#46039f\"], [0.2222222222222222, \"#7201a8\"], [0.3333333333333333, \"#9c179e\"], [0.4444444444444444, \"#bd3786\"], [0.5555555555555556, \"#d8576b\"], [0.6666666666666666, \"#ed7953\"], [0.7777777777777778, \"#fb9f3a\"], [0.8888888888888888, \"#fdca26\"], [1.0, \"#f0f921\"]]}, \"colorway\": [\"#636efa\", \"#EF553B\", \"#00cc96\", \"#ab63fa\", \"#FFA15A\", \"#19d3f3\", \"#FF6692\", \"#B6E880\", \"#FF97FF\", \"#FECB52\"], \"font\": {\"color\": \"#2a3f5f\"}, \"geo\": {\"bgcolor\": \"white\", \"lakecolor\": \"white\", \"landcolor\": \"#E5ECF6\", \"showlakes\": true, \"showland\": true, \"subunitcolor\": \"white\"}, \"hoverlabel\": {\"align\": \"left\"}, \"hovermode\": \"closest\", \"mapbox\": {\"style\": \"light\"}, \"paper_bgcolor\": \"white\", \"plot_bgcolor\": \"#E5ECF6\", \"polar\": {\"angularaxis\": {\"gridcolor\": \"white\", \"linecolor\": \"white\", \"ticks\": \"\"}, \"bgcolor\": \"#E5ECF6\", \"radialaxis\": {\"gridcolor\": \"white\", \"linecolor\": \"white\", \"ticks\": \"\"}}, \"scene\": {\"xaxis\": {\"backgroundcolor\": \"#E5ECF6\", \"gridcolor\": \"white\", \"gridwidth\": 2, \"linecolor\": \"white\", \"showbackground\": true, \"ticks\": \"\", \"zerolinecolor\": \"white\"}, \"yaxis\": {\"backgroundcolor\": \"#E5ECF6\", \"gridcolor\": \"white\", \"gridwidth\": 2, \"linecolor\": \"white\", \"showbackground\": true, \"ticks\": \"\", \"zerolinecolor\": \"white\"}, \"zaxis\": {\"backgroundcolor\": \"#E5ECF6\", \"gridcolor\": \"white\", \"gridwidth\": 2, \"linecolor\": \"white\", \"showbackground\": true, \"ticks\": \"\", \"zerolinecolor\": \"white\"}}, \"shapedefaults\": {\"line\": {\"color\": \"#2a3f5f\"}}, \"ternary\": {\"aaxis\": {\"gridcolor\": \"white\", \"linecolor\": \"white\", \"ticks\": \"\"}, \"baxis\": {\"gridcolor\": \"white\", \"linecolor\": \"white\", \"ticks\": \"\"}, \"bgcolor\": \"#E5ECF6\", \"caxis\": {\"gridcolor\": \"white\", \"linecolor\": \"white\", \"ticks\": \"\"}}, \"title\": {\"x\": 0.05}, \"xaxis\": {\"automargin\": true, \"gridcolor\": \"white\", \"linecolor\": \"white\", \"ticks\": \"\", \"title\": {\"standoff\": 15}, \"zerolinecolor\": \"white\", \"zerolinewidth\": 2}, \"yaxis\": {\"automargin\": true, \"gridcolor\": \"white\", \"linecolor\": \"white\", \"ticks\": \"\", \"title\": {\"standoff\": 15}, \"zerolinecolor\": \"white\", \"zerolinewidth\": 2}}}, \"title\": {\"text\": \"ProductID vs Suspicious YES \"}, \"xaxis\": {\"title\": {\"text\": \"Product ID\"}}, \"yaxis\": {\"title\": {\"text\": \"Count of Suspicious YES\"}}},\n",
       "                        {\"responsive\": true}\n",
       "                    ).then(function(){\n",
       "                            \n",
       "var gd = document.getElementById('df38bd46-d9f4-4778-b235-80bcc7996950');\n",
       "var x = new MutationObserver(function (mutations, observer) {{\n",
       "        var display = window.getComputedStyle(gd).display;\n",
       "        if (!display || display === 'none') {{\n",
       "            console.log([gd, 'removed!']);\n",
       "            Plotly.purge(gd);\n",
       "            observer.disconnect();\n",
       "        }}\n",
       "}});\n",
       "\n",
       "// Listen for the removal of the full notebook cells\n",
       "var notebookContainer = gd.closest('#notebook-container');\n",
       "if (notebookContainer) {{\n",
       "    x.observe(notebookContainer, {childList: true});\n",
       "}}\n",
       "\n",
       "// Listen for the clearing of the current output cell\n",
       "var outputEl = gd.closest('.output');\n",
       "if (outputEl) {{\n",
       "    x.observe(outputEl, {childList: true});\n",
       "}}\n",
       "\n",
       "                        })\n",
       "                };\n",
       "                });\n",
       "            </script>\n",
       "        </div>"
      ]
     },
     "metadata": {},
     "output_type": "display_data"
    }
   ],
   "source": [
    "data_plot = [go.Bar(x=d_8f.index,\n",
    "                          y=d_8f.values.astype(float),\n",
    "       marker=dict(\n",
    "        color=\"#CC0E1D\",# Lava (#CC0E1D)\n",
    "#         color = 'rgb(200,0,0)'   `\n",
    "    ))]\n",
    "layout = go.Layout(title = \"ProductID vs Suspicious YES \",xaxis=dict(title=\"Product ID\"),yaxis=dict(title=\"Count of Suspicious YES\"))\n",
    "fig = go.Figure(data= data_plot, layout=layout)\n",
    "iplot(fig)"
   ]
  },
  {
   "cell_type": "markdown",
   "metadata": {},
   "source": [
    "- Showing only top 15 products arranged in descending order of their count of suspicious reports "
   ]
  },
  {
   "cell_type": "markdown",
   "metadata": {},
   "source": [
    "#### PR6115 product is the one with most Suspicous Transcations "
   ]
  },
  {
   "cell_type": "code",
   "execution_count": null,
   "metadata": {},
   "outputs": [],
   "source": []
  },
  {
   "cell_type": "code",
   "execution_count": null,
   "metadata": {},
   "outputs": [],
   "source": []
  },
  {
   "cell_type": "markdown",
   "metadata": {},
   "source": [
    "## SalesPerson with the maximum SalesValue also segregated with Suspicious column"
   ]
  },
  {
   "cell_type": "code",
   "execution_count": 20,
   "metadata": {},
   "outputs": [],
   "source": [
    "d_7=data.groupby([\"SalesPersonID\",\"Suspicious\"]).agg({\"TotalSalesValue\":np.sum},axis=0)"
   ]
  },
  {
   "cell_type": "code",
   "execution_count": 21,
   "metadata": {},
   "outputs": [
    {
     "data": {
      "text/html": [
       "<div>\n",
       "<style scoped>\n",
       "    .dataframe tbody tr th:only-of-type {\n",
       "        vertical-align: middle;\n",
       "    }\n",
       "\n",
       "    .dataframe tbody tr th {\n",
       "        vertical-align: top;\n",
       "    }\n",
       "\n",
       "    .dataframe thead th {\n",
       "        text-align: right;\n",
       "    }\n",
       "</style>\n",
       "<table border=\"1\" class=\"dataframe\">\n",
       "  <thead>\n",
       "    <tr style=\"text-align: right;\">\n",
       "      <th></th>\n",
       "      <th></th>\n",
       "      <th>TotalSalesValue</th>\n",
       "    </tr>\n",
       "    <tr>\n",
       "      <th>SalesPersonID</th>\n",
       "      <th>Suspicious</th>\n",
       "      <th></th>\n",
       "    </tr>\n",
       "  </thead>\n",
       "  <tbody>\n",
       "    <tr>\n",
       "      <th rowspan=\"2\" valign=\"top\">C21116</th>\n",
       "      <th>No</th>\n",
       "      <td>4495</td>\n",
       "    </tr>\n",
       "    <tr>\n",
       "      <th>indeterminate</th>\n",
       "      <td>19585</td>\n",
       "    </tr>\n",
       "    <tr>\n",
       "      <th rowspan=\"3\" valign=\"top\">C21118</th>\n",
       "      <th>No</th>\n",
       "      <td>1222090</td>\n",
       "    </tr>\n",
       "    <tr>\n",
       "      <th>Yes</th>\n",
       "      <td>23790</td>\n",
       "    </tr>\n",
       "    <tr>\n",
       "      <th>indeterminate</th>\n",
       "      <td>746080</td>\n",
       "    </tr>\n",
       "  </tbody>\n",
       "</table>\n",
       "</div>"
      ],
      "text/plain": [
       "                             TotalSalesValue\n",
       "SalesPersonID Suspicious                    \n",
       "C21116        No                        4495\n",
       "              indeterminate            19585\n",
       "C21118        No                     1222090\n",
       "              Yes                      23790\n",
       "              indeterminate           746080"
      ]
     },
     "execution_count": 21,
     "metadata": {},
     "output_type": "execute_result"
    }
   ],
   "source": [
    "d_7.head()"
   ]
  },
  {
   "cell_type": "code",
   "execution_count": 22,
   "metadata": {},
   "outputs": [
    {
     "name": "stdout",
     "output_type": "stream",
     "text": [
      "TotalSalesValue    26522900\n",
      "dtype: int64\n"
     ]
    }
   ],
   "source": [
    "## the maximum sales value \n",
    "print(d_7.max())"
   ]
  },
  {
   "cell_type": "code",
   "execution_count": 23,
   "metadata": {},
   "outputs": [
    {
     "data": {
      "image/png": "[encoded data removed]",
      "text/plain": [
       "<IPython.core.display.Image object>"
      ]
     },
     "execution_count": 23,
     "metadata": {},
     "output_type": "execute_result"
    }
   ],
   "source": [
    "from IPython.display import Image\n",
    "Image(\"TotalSalesValue VS CustomerID VS Suspicious1.png\") \n",
    "## table done on tableau Considering TotalSales > 2M "
   ]
  },
  {
   "cell_type": "code",
   "execution_count": 24,
   "metadata": {},
   "outputs": [
    {
     "data": {
      "text/plain": [
       "Suspicious\n",
       "indeterminate    26522900\n",
       "Name: TotalSalesValue, dtype: int64"
      ]
     },
     "execution_count": 24,
     "metadata": {},
     "output_type": "execute_result"
    }
   ],
   "source": [
    "d_7.loc[(\"C21178\",),\"TotalSalesValue\"] ## Sales Person C21178 is highest sales"
   ]
  },
  {
   "cell_type": "markdown",
   "metadata": {},
   "source": [
    "#### Sales Person C21178 has the highest TotalSalesValue across all SalesPersons\n",
    "- with all his sales reports being indeterminate on suspicious(target)"
   ]
  },
  {
   "cell_type": "code",
   "execution_count": null,
   "metadata": {},
   "outputs": [],
   "source": []
  },
  {
   "cell_type": "markdown",
   "metadata": {},
   "source": [
    "## Product which has sold the most Quantity "
   ]
  },
  {
   "cell_type": "code",
   "execution_count": 25,
   "metadata": {},
   "outputs": [],
   "source": [
    "## group by productID and sum the Quantity sold across reports based on that productID\n",
    "d_5=data.groupby(\"ProductID\").agg({'Quantity':np.sum},axis=0)"
   ]
  },
  {
   "cell_type": "code",
   "execution_count": 26,
   "metadata": {},
   "outputs": [
    {
     "data": {
      "application/vnd.plotly.v1+json": {
       "config": {
        "linkText": "Export to plot.ly",
        "plotlyServerURL": "https://plot.ly",
        "showLink": false
       },
       "data": [
        {
         "marker": {
          "color": "#CC0E1D"
         },
         "type": "bar",
         "x": [
          "PR6112",
          "PR6113",
          "PR6114",
          "PR6115",
          "PR6116",
          "PR6117",
          "PR6118",
          "PR6119",
          "PR6120",
          "PR6121",
          "PR6122",
          "PR6123",
          "PR6124",
          "PR6125",
          "PR6126",
          "PR6127",
          "PR6128",
          "PR6129",
          "PR6130",
          "PR6131",
          "PR6132",
          "PR6133",
          "PR6134",
          "PR6135",
          "PR6136",
          "PR6137",
          "PR6138",
          "PR6139",
          "PR6140",
          "PR6141",
          "PR6142",
          "PR6143",
          "PR6144",
          "PR6145",
          "PR6146",
          "PR6147",
          "PR6148",
          "PR6149",
          "PR6150",
          "PR6151",
          "PR6152",
          "PR6153",
          "PR6154",
          "PR6155",
          "PR6156",
          "PR6157",
          "PR6158",
          "PR6159",
          "PR6160",
          "PR6161",
          "PR6162",
          "PR6163",
          "PR6164",
          "PR6165",
          "PR6166",
          "PR6167",
          "PR6168",
          "PR6169",
          "PR6170",
          "PR6171",
          "PR6172",
          "PR6173",
          "PR6174",
          "PR6175",
          "PR6176",
          "PR6177",
          "PR6178",
          "PR6179",
          "PR6180",
          "PR6181",
          "PR6182",
          "PR6183",
          "PR6184",
          "PR6185",
          "PR6186",
          "PR6187",
          "PR6188",
          "PR6189",
          "PR6190",
          "PR6191",
          "PR6192",
          "PR6193",
          "PR6194",
          "PR6195",
          "PR6196",
          "PR6197",
          "PR6198",
          "PR6199",
          "PR6200",
          "PR6201",
          "PR6202",
          "PR6203",
          "PR6204",
          "PR6205",
          "PR6206",
          "PR6207",
          "PR6208",
          "PR6209",
          "PR6210",
          "PR6211",
          "PR6212",
          "PR6213",
          "PR6214",
          "PR6215",
          "PR6216",
          "PR6217",
          "PR6218",
          "PR6219",
          "PR6220",
          "PR6221",
          "PR6222",
          "PR6223",
          "PR6224",
          "PR6225",
          "PR6226",
          "PR6227",
          "PR6228",
          "PR6229",
          "PR6230",
          "PR6231",
          "PR6232",
          "PR6233",
          "PR6234",
          "PR6235",
          "PR6236",
          "PR6237",
          "PR6238",
          "PR6239",
          "PR6240",
          "PR6241",
          "PR6242",
          "PR6243",
          "PR6244",
          "PR6245",
          "PR6246",
          "PR6247",
          "PR6248",
          "PR6249",
          "PR6250",
          "PR6251",
          "PR6252",
          "PR6253",
          "PR6254",
          "PR6255",
          "PR6256",
          "PR6257",
          "PR6258",
          "PR6259",
          "PR6260",
          "PR6261",
          "PR6262",
          "PR6263",
          "PR6264",
          "PR6265",
          "PR6266",
          "PR6267",
          "PR6268",
          "PR6269",
          "PR6270",
          "PR6271",
          "PR6272",
          "PR6273",
          "PR6274",
          "PR6275",
          "PR6276",
          "PR6277",
          "PR6278",
          "PR6279",
          "PR6280",
          "PR6281",
          "PR6282",
          "PR6283",
          "PR6284",
          "PR6285",
          "PR6286",
          "PR6287",
          "PR6288",
          "PR6289",
          "PR6290",
          "PR6291",
          "PR6292",
          "PR6293",
          "PR6294",
          "PR6295",
          "PR6296",
          "PR6297",
          "PR6298",
          "PR6299",
          "PR6300",
          "PR6301",
          "PR6302",
          "PR6303",
          "PR6304",
          "PR6305",
          "PR6306",
          "PR6307",
          "PR6308",
          "PR6309",
          "PR6310",
          "PR6311",
          "PR6312",
          "PR6313",
          "PR6314",
          "PR6315",
          "PR6316",
          "PR6317",
          "PR6318",
          "PR6319",
          "PR6320",
          "PR6321",
          "PR6322",
          "PR6323",
          "PR6324",
          "PR6325",
          "PR6326",
          "PR6327",
          "PR6328",
          "PR6329",
          "PR6330",
          "PR6331",
          "PR6332",
          "PR6333",
          "PR6334",
          "PR6335",
          "PR6336",
          "PR6337",
          "PR6338",
          "PR6339",
          "PR6340",
          "PR6341",
          "PR6342",
          "PR6343",
          "PR6344",
          "PR6345",
          "PR6346",
          "PR6347",
          "PR6348",
          "PR6349",
          "PR6350",
          "PR6351",
          "PR6352",
          "PR6353",
          "PR6354",
          "PR6355",
          "PR6356",
          "PR6357",
          "PR6358",
          "PR6359",
          "PR6360",
          "PR6361",
          "PR6362",
          "PR6363",
          "PR6364",
          "PR6365",
          "PR6366",
          "PR6367",
          "PR6368",
          "PR6369",
          "PR6370",
          "PR6371",
          "PR6372",
          "PR6373",
          "PR6374",
          "PR6375",
          "PR6376",
          "PR6377",
          "PR6378",
          "PR6379",
          "PR6380",
          "PR6381",
          "PR6382",
          "PR6383",
          "PR6384",
          "PR6385",
          "PR6386",
          "PR6387",
          "PR6388",
          "PR6389",
          "PR6390",
          "PR6391",
          "PR6392",
          "PR6393",
          "PR6394",
          "PR6395",
          "PR6396",
          "PR6397",
          "PR6398",
          "PR6399",
          "PR6400",
          "PR6401",
          "PR6402",
          "PR6403",
          "PR6404",
          "PR6405",
          "PR6406",
          "PR6407",
          "PR6408",
          "PR6409",
          "PR6410",
          "PR6411",
          "PR6412",
          "PR6413",
          "PR6414",
          "PR6415",
          "PR6416",
          "PR6417",
          "PR6418",
          "PR6419",
          "PR6420",
          "PR6421",
          "PR6422",
          "PR6423",
          "PR6424",
          "PR6425",
          "PR6426",
          "PR6427",
          "PR6428",
          "PR6429",
          "PR6430",
          "PR6431",
          "PR6432",
          "PR6433",
          "PR6434",
          "PR6435",
          "PR6436",
          "PR6437",
          "PR6438",
          "PR6439",
          "PR6440",
          "PR6441",
          "PR6442",
          "PR6443",
          "PR6444",
          "PR6445",
          "PR6446",
          "PR6447",
          "PR6448",
          "PR6449",
          "PR6450",
          "PR6451",
          "PR6452",
          "PR6453",
          "PR6454",
          "PR6455",
          "PR6456",
          "PR6457",
          "PR6458",
          "PR6459",
          "PR6460",
          "PR6461",
          "PR6462",
          "PR6463",
          "PR6464",
          "PR6465",
          "PR6466",
          "PR6467",
          "PR6468",
          "PR6469",
          "PR6470",
          "PR6471",
          "PR6472",
          "PR6473",
          "PR6474",
          "PR6475",
          "PR6476",
          "PR6477",
          "PR6478",
          "PR6479",
          "PR6480",
          "PR6481",
          "PR6482",
          "PR6483",
          "PR6484",
          "PR6485",
          "PR6486",
          "PR6487",
          "PR6488",
          "PR6489",
          "PR6490",
          "PR6491",
          "PR6492",
          "PR6493",
          "PR6494",
          "PR6495",
          "PR6496",
          "PR6497",
          "PR6498",
          "PR6499",
          "PR6500",
          "PR6501",
          "PR6502",
          "PR6503",
          "PR6504",
          "PR6505",
          "PR6506",
          "PR6507",
          "PR6508",
          "PR6509",
          "PR6510",
          "PR6511",
          "PR6512",
          "PR6513",
          "PR6514",
          "PR6515",
          "PR6516",
          "PR6517",
          "PR6518",
          "PR6519",
          "PR6520",
          "PR6521",
          "PR6522",
          "PR6523",
          "PR6524",
          "PR6525",
          "PR6526",
          "PR6527",
          "PR6528",
          "PR6529",
          "PR6530",
          "PR6531",
          "PR6532",
          "PR6533",
          "PR6534",
          "PR6535",
          "PR6536",
          "PR6537",
          "PR6538",
          "PR6539",
          "PR6540",
          "PR6541",
          "PR6542",
          "PR6543",
          "PR6544",
          "PR6545",
          "PR6546",
          "PR6547",
          "PR6548",
          "PR6549",
          "PR6550",
          "PR6551",
          "PR6552",
          "PR6553",
          "PR6554",
          "PR6555",
          "PR6556",
          "PR6557",
          "PR6558",
          "PR6559",
          "PR6560",
          "PR6561",
          "PR6562",
          "PR6563",
          "PR6564",
          "PR6565",
          "PR6566",
          "PR6567",
          "PR6568",
          "PR6569",
          "PR6570",
          "PR6571",
          "PR6572",
          "PR6573",
          "PR6574",
          "PR6575",
          "PR6576",
          "PR6577",
          "PR6578",
          "PR6579",
          "PR6580",
          "PR6581",
          "PR6582",
          "PR6583",
          "PR6584",
          "PR6585",
          "PR6586",
          "PR6587",
          "PR6588",
          "PR6589",
          "PR6590",
          "PR6591",
          "PR6592",
          "PR6593",
          "PR6594",
          "PR6595",
          "PR6596",
          "PR6597",
          "PR6598",
          "PR6599",
          "PR6600",
          "PR6601",
          "PR6602",
          "PR6603",
          "PR6604",
          "PR6605",
          "PR6606",
          "PR6607",
          "PR6608",
          "PR6609",
          "PR6610",
          "PR6611",
          "PR6612",
          "PR6613",
          "PR6614",
          "PR6615",
          "PR6616",
          "PR6617",
          "PR6618",
          "PR6619",
          "PR6620",
          "PR6621",
          "PR6622",
          "PR6623",
          "PR6624",
          "PR6625",
          "PR6626",
          "PR6627",
          "PR6628",
          "PR6629",
          "PR6630",
          "PR6631",
          "PR6632",
          "PR6633",
          "PR6634",
          "PR6635",
          "PR6636",
          "PR6637",
          "PR6638",
          "PR6639",
          "PR6640",
          "PR6641",
          "PR6642",
          "PR6643",
          "PR6644",
          "PR6645",
          "PR6646",
          "PR6647",
          "PR6648",
          "PR6649",
          "PR6650",
          "PR6651",
          "PR6652",
          "PR6653",
          "PR6654",
          "PR6655",
          "PR6656",
          "PR6657",
          "PR6658",
          "PR6659",
          "PR6660",
          "PR6661",
          "PR6662",
          "PR6663",
          "PR6664",
          "PR6665",
          "PR6666",
          "PR6667",
          "PR6668",
          "PR6669",
          "PR6670",
          "PR6671",
          "PR6672",
          "PR6673",
          "PR6674",
          "PR6675",
          "PR6676",
          "PR6677",
          "PR6678",
          "PR6679",
          "PR6680",
          "PR6681",
          "PR6682",
          "PR6683",
          "PR6684",
          "PR6685",
          "PR6686",
          "PR6687",
          "PR6688",
          "PR6689",
          "PR6690",
          "PR6691",
          "PR6692",
          "PR6693",
          "PR6694",
          "PR6695",
          "PR6696",
          "PR6697",
          "PR6698",
          "PR6699",
          "PR6700",
          "PR6701",
          "PR6702",
          "PR6703",
          "PR6704"
         ],
         "y": [
          99989,
          3170,
          351985,
          2411744,
          524771,
          634119,
          9543,
          57706,
          33621,
          129333,
          2755,
          207536,
          75231,
          20579,
          20548,
          3439,
          1455,
          1687,
          195127,
          24218,
          27630,
          13301,
          5548,
          82105,
          39296,
          753,
          6389,
          3907,
          20721,
          23391,
          35033,
          27068,
          59864,
          5161,
          5534,
          19381,
          1341,
          1443,
          19648,
          4371,
          8495,
          16046,
          601114,
          11857,
          10865,
          4519,
          35897,
          10934,
          88754,
          575578,
          28773,
          60084,
          1195,
          127768,
          3144,
          179739,
          18285,
          514357,
          79985,
          75833,
          83178,
          34928,
          259438,
          370328,
          441915,
          168500,
          20221,
          1341009,
          286852,
          573766,
          241507,
          219745,
          134884,
          7556,
          6364,
          57051,
          1297,
          303264,
          256441,
          10151,
          676206,
          79173,
          36613,
          420,
          70057,
          4304,
          148119,
          190766,
          158765,
          2707,
          998831,
          46281,
          15345,
          6315,
          180105,
          659321,
          47078,
          241997,
          63612,
          243722,
          88638,
          273845,
          167507,
          3645,
          12419,
          123479,
          9899,
          145561,
          560258,
          40308,
          2781,
          29440,
          3062502,
          194280,
          164951,
          145987,
          9329,
          115413,
          158963,
          51282,
          853,
          211783,
          54383,
          203368,
          42738,
          6807,
          97181,
          141484,
          9216,
          333188,
          19123,
          10495,
          12916,
          15389,
          27805,
          679538,
          100576,
          157109,
          97331,
          79768,
          17551,
          1221349,
          6567,
          112074,
          11335,
          191169,
          2410263,
          2009592,
          4484172,
          139421,
          13612,
          265143,
          54658,
          81762,
          4453,
          41272,
          134595,
          1061235,
          815492,
          398217,
          1415669,
          105335,
          617348,
          1193848,
          243630,
          821,
          156307,
          43469,
          559445,
          7752,
          401005,
          20851,
          27878,
          10719,
          81436,
          6121,
          2854,
          28810,
          7249,
          1048392,
          125469,
          16587,
          31619,
          6530,
          3102,
          69119,
          1383564,
          531518,
          856125,
          3266,
          58034,
          209,
          35274,
          36996,
          47967,
          1040751,
          74649,
          3666,
          19237,
          30533,
          1048,
          311913,
          1644,
          16163,
          5935,
          1996,
          10732,
          11695,
          10773,
          5757,
          6901,
          19278,
          22263,
          12706,
          224604,
          1423,
          7802,
          113677,
          100,
          358704,
          1764,
          21212,
          35151,
          627155,
          41626,
          105,
          5723814,
          349664,
          6793,
          2261,
          16035,
          15634,
          14604,
          14053,
          372506,
          338552,
          31195,
          36909,
          609322,
          885567,
          764754,
          596470,
          39762,
          2889,
          3442,
          135116,
          942128,
          15228,
          262091,
          3577,
          12831,
          3944,
          475160,
          154942,
          161,
          622415,
          15752,
          38840,
          12676,
          5588,
          14704,
          4040,
          111357,
          4521,
          23664,
          8590,
          29796,
          35022,
          907,
          45050,
          6808,
          17212,
          8650,
          13658,
          4711,
          10751,
          13929,
          20131,
          4003,
          7115,
          62728,
          23907,
          26362,
          30774,
          1706,
          30097,
          3411,
          145265,
          8712,
          64826,
          1806,
          2051,
          55912,
          15495,
          18250,
          5060,
          16873,
          8644,
          7455,
          68700,
          233247,
          5952,
          1085744,
          2211257,
          351314,
          9419593,
          4509498,
          378218,
          227145,
          717970,
          747403,
          243722,
          64599,
          1080425,
          172470,
          2439790,
          198,
          29225,
          6211,
          362989,
          31215,
          5846,
          596613,
          75230,
          81620,
          58836,
          621194,
          253440,
          6956051,
          309842,
          3460111,
          385793,
          14216571,
          71573,
          756063,
          388901,
          4134452,
          1713247,
          831269,
          12868,
          6711,
          10490,
          35148,
          148493,
          66146,
          165320,
          68741,
          11042,
          942,
          59939,
          20049,
          4582,
          369517,
          320417,
          83364,
          144586,
          14166,
          12511,
          15525,
          21341,
          10828,
          7044,
          284043,
          2854327,
          6654,
          560,
          541491,
          125796,
          5469,
          1245,
          4706,
          11475,
          27051,
          20109,
          929378,
          735,
          17736,
          3988,
          788744,
          350043,
          56422,
          86237,
          16983,
          27288,
          141449,
          173078,
          121559,
          112260,
          363891,
          515372,
          348004,
          143583,
          206655,
          27628,
          20607,
          26847,
          6159,
          5278,
          176362,
          1842393,
          2453049,
          4276757,
          75477,
          21199,
          438400,
          2658823,
          6429050,
          214982,
          485626,
          17160,
          51385,
          2685,
          216564,
          2265121,
          374813,
          198549,
          32366,
          124630,
          365549,
          8807,
          8557,
          1302890,
          2002746,
          11346,
          12067,
          1078892,
          83857,
          110961,
          64840,
          104894,
          158814,
          20430,
          3188300,
          123446,
          2295,
          267965,
          64550,
          681306,
          20826472,
          367118,
          1104558,
          4650,
          75143,
          24982,
          9600,
          10239,
          1254,
          1526,
          449,
          24113,
          5299,
          5400,
          930576,
          37551,
          2273,
          11524,
          74284,
          61140,
          260144,
          5326,
          31145,
          40067,
          12373,
          4375,
          7212,
          6361,
          635251,
          914318,
          363554,
          7515,
          295024,
          33151,
          64492,
          741,
          23378,
          72277,
          144226,
          66772,
          37265,
          3408,
          1327,
          49926,
          56821,
          241924,
          558581,
          22920,
          321773,
          39510,
          131331,
          221102,
          54937,
          8674,
          34030,
          3326,
          3419,
          3056,
          102977,
          244550,
          16218,
          18796,
          4706,
          13591,
          1689,
          133880,
          858497,
          5674,
          67984,
          302,
          6099,
          130248,
          8356,
          14460,
          10383,
          40896,
          33873,
          2533,
          133143,
          47346,
          1759,
          28816,
          16992,
          93608,
          148,
          3636,
          1686,
          3727,
          1241,
          8781,
          2826,
          5982,
          115999,
          16491,
          8220,
          5288,
          3191,
          1600564,
          5762,
          7822,
          80687,
          38751,
          87528,
          3426,
          2654,
          92016,
          25774,
          12609,
          2054,
          7131,
          17626,
          30019,
          1906,
          11641,
          158185,
          59096,
          1492,
          25662,
          3300,
          3789,
          69212,
          68435,
          7623,
          3471,
          959,
          190761,
          300448,
          20387,
          315483,
          47701,
          7492,
          1429,
          14592,
          40890,
          67571,
          3160,
          7257,
          649686,
          12008,
          778,
          4387992,
          128422,
          6755,
          1972,
          33798,
          16085,
          987430,
          390866,
          1487446,
          15711,
          3325,
          976483,
          1144320,
          340891,
          20337
         ]
        }
       ],
       "layout": {
        "template": {
         "data": {
          "bar": [
           {
            "error_x": {
             "color": "#2a3f5f"
            },
            "error_y": {
             "color": "#2a3f5f"
            },
            "marker": {
             "line": {
              "color": "#E5ECF6",
              "width": 0.5
             }
            },
            "type": "bar"
           }
          ],
          "barpolar": [
           {
            "marker": {
             "line": {
              "color": "#E5ECF6",
              "width": 0.5
             }
            },
            "type": "barpolar"
           }
          ],
          "carpet": [
           {
            "aaxis": {
             "endlinecolor": "#2a3f5f",
             "gridcolor": "white",
             "linecolor": "white",
             "minorgridcolor": "white",
             "startlinecolor": "#2a3f5f"
            },
            "baxis": {
             "endlinecolor": "#2a3f5f",
             "gridcolor": "white",
             "linecolor": "white",
             "minorgridcolor": "white",
             "startlinecolor": "#2a3f5f"
            },
            "type": "carpet"
           }
          ],
          "choropleth": [
           {
            "colorbar": {
             "outlinewidth": 0,
             "ticks": ""
            },
            "type": "choropleth"
           }
          ],
          "contour": [
           {
            "colorbar": {
             "outlinewidth": 0,
             "ticks": ""
            },
            "colorscale": [
             [
              0,
              "#0d0887"
             ],
             [
              0.1111111111111111,
              "#46039f"
             ],
             [
              0.2222222222222222,
              "#7201a8"
             ],
             [
              0.3333333333333333,
              "#9c179e"
             ],
             [
              0.4444444444444444,
              "#bd3786"
             ],
             [
              0.5555555555555556,
              "#d8576b"
             ],
             [
              0.6666666666666666,
              "#ed7953"
             ],
             [
              0.7777777777777778,
              "#fb9f3a"
             ],
             [
              0.8888888888888888,
              "#fdca26"
             ],
             [
              1,
              "#f0f921"
             ]
            ],
            "type": "contour"
           }
          ],
          "contourcarpet": [
           {
            "colorbar": {
             "outlinewidth": 0,
             "ticks": ""
            },
            "type": "contourcarpet"
           }
          ],
          "heatmap": [
           {
            "colorbar": {
             "outlinewidth": 0,
             "ticks": ""
            },
            "colorscale": [
             [
              0,
              "#0d0887"
             ],
             [
              0.1111111111111111,
              "#46039f"
             ],
             [
              0.2222222222222222,
              "#7201a8"
             ],
             [
              0.3333333333333333,
              "#9c179e"
             ],
             [
              0.4444444444444444,
              "#bd3786"
             ],
             [
              0.5555555555555556,
              "#d8576b"
             ],
             [
              0.6666666666666666,
              "#ed7953"
             ],
             [
              0.7777777777777778,
              "#fb9f3a"
             ],
             [
              0.8888888888888888,
              "#fdca26"
             ],
             [
              1,
              "#f0f921"
             ]
            ],
            "type": "heatmap"
           }
          ],
          "heatmapgl": [
           {
            "colorbar": {
             "outlinewidth": 0,
             "ticks": ""
            },
            "colorscale": [
             [
              0,
              "#0d0887"
             ],
             [
              0.1111111111111111,
              "#46039f"
             ],
             [
              0.2222222222222222,
              "#7201a8"
             ],
             [
              0.3333333333333333,
              "#9c179e"
             ],
             [
              0.4444444444444444,
              "#bd3786"
             ],
             [
              0.5555555555555556,
              "#d8576b"
             ],
             [
              0.6666666666666666,
              "#ed7953"
             ],
             [
              0.7777777777777778,
              "#fb9f3a"
             ],
             [
              0.8888888888888888,
              "#fdca26"
             ],
             [
              1,
              "#f0f921"
             ]
            ],
            "type": "heatmapgl"
           }
          ],
          "histogram": [
           {
            "marker": {
             "colorbar": {
              "outlinewidth": 0,
              "ticks": ""
             }
            },
            "type": "histogram"
           }
          ],
          "histogram2d": [
           {
            "colorbar": {
             "outlinewidth": 0,
             "ticks": ""
            },
            "colorscale": [
             [
              0,
              "#0d0887"
             ],
             [
              0.1111111111111111,
              "#46039f"
             ],
             [
              0.2222222222222222,
              "#7201a8"
             ],
             [
              0.3333333333333333,
              "#9c179e"
             ],
             [
              0.4444444444444444,
              "#bd3786"
             ],
             [
              0.5555555555555556,
              "#d8576b"
             ],
             [
              0.6666666666666666,
              "#ed7953"
             ],
             [
              0.7777777777777778,
              "#fb9f3a"
             ],
             [
              0.8888888888888888,
              "#fdca26"
             ],
             [
              1,
              "#f0f921"
             ]
            ],
            "type": "histogram2d"
           }
          ],
          "histogram2dcontour": [
           {
            "colorbar": {
             "outlinewidth": 0,
             "ticks": ""
            },
            "colorscale": [
             [
              0,
              "#0d0887"
             ],
             [
              0.1111111111111111,
              "#46039f"
             ],
             [
              0.2222222222222222,
              "#7201a8"
             ],
             [
              0.3333333333333333,
              "#9c179e"
             ],
             [
              0.4444444444444444,
              "#bd3786"
             ],
             [
              0.5555555555555556,
              "#d8576b"
             ],
             [
              0.6666666666666666,
              "#ed7953"
             ],
             [
              0.7777777777777778,
              "#fb9f3a"
             ],
             [
              0.8888888888888888,
              "#fdca26"
             ],
             [
              1,
              "#f0f921"
             ]
            ],
            "type": "histogram2dcontour"
           }
          ],
          "mesh3d": [
           {
            "colorbar": {
             "outlinewidth": 0,
             "ticks": ""
            },
            "type": "mesh3d"
           }
          ],
          "parcoords": [
           {
            "line": {
             "colorbar": {
              "outlinewidth": 0,
              "ticks": ""
             }
            },
            "type": "parcoords"
           }
          ],
          "pie": [
           {
            "automargin": true,
            "type": "pie"
           }
          ],
          "scatter": [
           {
            "marker": {
             "colorbar": {
              "outlinewidth": 0,
              "ticks": ""
             }
            },
            "type": "scatter"
           }
          ],
          "scatter3d": [
           {
            "line": {
             "colorbar": {
              "outlinewidth": 0,
              "ticks": ""
             }
            },
            "marker": {
             "colorbar": {
              "outlinewidth": 0,
              "ticks": ""
             }
            },
            "type": "scatter3d"
           }
          ],
          "scattercarpet": [
           {
            "marker": {
             "colorbar": {
              "outlinewidth": 0,
              "ticks": ""
             }
            },
            "type": "scattercarpet"
           }
          ],
          "scattergeo": [
           {
            "marker": {
             "colorbar": {
              "outlinewidth": 0,
              "ticks": ""
             }
            },
            "type": "scattergeo"
           }
          ],
          "scattergl": [
           {
            "marker": {
             "colorbar": {
              "outlinewidth": 0,
              "ticks": ""
             }
            },
            "type": "scattergl"
           }
          ],
          "scattermapbox": [
           {
            "marker": {
             "colorbar": {
              "outlinewidth": 0,
              "ticks": ""
             }
            },
            "type": "scattermapbox"
           }
          ],
          "scatterpolar": [
           {
            "marker": {
             "colorbar": {
              "outlinewidth": 0,
              "ticks": ""
             }
            },
            "type": "scatterpolar"
           }
          ],
          "scatterpolargl": [
           {
            "marker": {
             "colorbar": {
              "outlinewidth": 0,
              "ticks": ""
             }
            },
            "type": "scatterpolargl"
           }
          ],
          "scatterternary": [
           {
            "marker": {
             "colorbar": {
              "outlinewidth": 0,
              "ticks": ""
             }
            },
            "type": "scatterternary"
           }
          ],
          "surface": [
           {
            "colorbar": {
             "outlinewidth": 0,
             "ticks": ""
            },
            "colorscale": [
             [
              0,
              "#0d0887"
             ],
             [
              0.1111111111111111,
              "#46039f"
             ],
             [
              0.2222222222222222,
              "#7201a8"
             ],
             [
              0.3333333333333333,
              "#9c179e"
             ],
             [
              0.4444444444444444,
              "#bd3786"
             ],
             [
              0.5555555555555556,
              "#d8576b"
             ],
             [
              0.6666666666666666,
              "#ed7953"
             ],
             [
              0.7777777777777778,
              "#fb9f3a"
             ],
             [
              0.8888888888888888,
              "#fdca26"
             ],
             [
              1,
              "#f0f921"
             ]
            ],
            "type": "surface"
           }
          ],
          "table": [
           {
            "cells": {
             "fill": {
              "color": "#EBF0F8"
             },
             "line": {
              "color": "white"
             }
            },
            "header": {
             "fill": {
              "color": "#C8D4E3"
             },
             "line": {
              "color": "white"
             }
            },
            "type": "table"
           }
          ]
         },
         "layout": {
          "annotationdefaults": {
           "arrowcolor": "#2a3f5f",
           "arrowhead": 0,
           "arrowwidth": 1
          },
          "coloraxis": {
           "colorbar": {
            "outlinewidth": 0,
            "ticks": ""
           }
          },
          "colorscale": {
           "diverging": [
            [
             0,
             "#8e0152"
            ],
            [
             0.1,
             "#c51b7d"
            ],
            [
             0.2,
             "#de77ae"
            ],
            [
             0.3,
             "#f1b6da"
            ],
            [
             0.4,
             "#fde0ef"
            ],
            [
             0.5,
             "#f7f7f7"
            ],
            [
             0.6,
             "#e6f5d0"
            ],
            [
             0.7,
             "#b8e186"
            ],
            [
             0.8,
             "#7fbc41"
            ],
            [
             0.9,
             "#4d9221"
            ],
            [
             1,
             "#276419"
            ]
           ],
           "sequential": [
            [
             0,
             "#0d0887"
            ],
            [
             0.1111111111111111,
             "#46039f"
            ],
            [
             0.2222222222222222,
             "#7201a8"
            ],
            [
             0.3333333333333333,
             "#9c179e"
            ],
            [
             0.4444444444444444,
             "#bd3786"
            ],
            [
             0.5555555555555556,
             "#d8576b"
            ],
            [
             0.6666666666666666,
             "#ed7953"
            ],
            [
             0.7777777777777778,
             "#fb9f3a"
            ],
            [
             0.8888888888888888,
             "#fdca26"
            ],
            [
             1,
             "#f0f921"
            ]
           ],
           "sequentialminus": [
            [
             0,
             "#0d0887"
            ],
            [
             0.1111111111111111,
             "#46039f"
            ],
            [
             0.2222222222222222,
             "#7201a8"
            ],
            [
             0.3333333333333333,
             "#9c179e"
            ],
            [
             0.4444444444444444,
             "#bd3786"
            ],
            [
             0.5555555555555556,
             "#d8576b"
            ],
            [
             0.6666666666666666,
             "#ed7953"
            ],
            [
             0.7777777777777778,
             "#fb9f3a"
            ],
            [
             0.8888888888888888,
             "#fdca26"
            ],
            [
             1,
             "#f0f921"
            ]
           ]
          },
          "colorway": [
           "#636efa",
           "#EF553B",
           "#00cc96",
           "#ab63fa",
           "#FFA15A",
           "#19d3f3",
           "#FF6692",
           "#B6E880",
           "#FF97FF",
           "#FECB52"
          ],
          "font": {
           "color": "#2a3f5f"
          },
          "geo": {
           "bgcolor": "white",
           "lakecolor": "white",
           "landcolor": "#E5ECF6",
           "showlakes": true,
           "showland": true,
           "subunitcolor": "white"
          },
          "hoverlabel": {
           "align": "left"
          },
          "hovermode": "closest",
          "mapbox": {
           "style": "light"
          },
          "paper_bgcolor": "white",
          "plot_bgcolor": "#E5ECF6",
          "polar": {
           "angularaxis": {
            "gridcolor": "white",
            "linecolor": "white",
            "ticks": ""
           },
           "bgcolor": "#E5ECF6",
           "radialaxis": {
            "gridcolor": "white",
            "linecolor": "white",
            "ticks": ""
           }
          },
          "scene": {
           "xaxis": {
            "backgroundcolor": "#E5ECF6",
            "gridcolor": "white",
            "gridwidth": 2,
            "linecolor": "white",
            "showbackground": true,
            "ticks": "",
            "zerolinecolor": "white"
           },
           "yaxis": {
            "backgroundcolor": "#E5ECF6",
            "gridcolor": "white",
            "gridwidth": 2,
            "linecolor": "white",
            "showbackground": true,
            "ticks": "",
            "zerolinecolor": "white"
           },
           "zaxis": {
            "backgroundcolor": "#E5ECF6",
            "gridcolor": "white",
            "gridwidth": 2,
            "linecolor": "white",
            "showbackground": true,
            "ticks": "",
            "zerolinecolor": "white"
           }
          },
          "shapedefaults": {
           "line": {
            "color": "#2a3f5f"
           }
          },
          "ternary": {
           "aaxis": {
            "gridcolor": "white",
            "linecolor": "white",
            "ticks": ""
           },
           "baxis": {
            "gridcolor": "white",
            "linecolor": "white",
            "ticks": ""
           },
           "bgcolor": "#E5ECF6",
           "caxis": {
            "gridcolor": "white",
            "linecolor": "white",
            "ticks": ""
           }
          },
          "title": {
           "x": 0.05
          },
          "xaxis": {
           "automargin": true,
           "gridcolor": "white",
           "linecolor": "white",
           "ticks": "",
           "title": {
            "standoff": 15
           },
           "zerolinecolor": "white",
           "zerolinewidth": 2
          },
          "yaxis": {
           "automargin": true,
           "gridcolor": "white",
           "linecolor": "white",
           "ticks": "",
           "title": {
            "standoff": 15
           },
           "zerolinecolor": "white",
           "zerolinewidth": 2
          }
         }
        },
        "title": {
         "text": "Product vs Quantity"
        },
        "xaxis": {
         "title": {
          "text": "ProductID"
         }
        },
        "yaxis": {
         "title": {
          "text": "Total Quantity Sold"
         }
        }
       }
      },
      "text/html": [
       "<div>\n",
       "        \n",
       "        \n",
       "            <div id=\"a6266f23-87c1-4c45-8149-e6992db20ad9\" class=\"plotly-graph-div\" style=\"height:525px; width:100%;\"></div>\n",
       "            <script type=\"text/javascript\">\n",
       "                require([\"plotly\"], function(Plotly) {\n",
       "                    window.PLOTLYENV=window.PLOTLYENV || {};\n",
       "                    \n",
       "                if (document.getElementById(\"a6266f23-87c1-4c45-8149-e6992db20ad9\")) {\n",
       "                    Plotly.newPlot(\n",
       "                        'a6266f23-87c1-4c45-8149-e6992db20ad9',\n",
       "                        [{\"marker\": {\"color\": \"#CC0E1D\"}, \"type\": \"bar\", \"x\": [\"PR6112\", \"PR6113\", \"PR6114\", \"PR6115\", \"PR6116\", \"PR6117\", \"PR6118\", \"PR6119\", \"PR6120\", \"PR6121\", \"PR6122\", \"PR6123\", \"PR6124\", \"PR6125\", \"PR6126\", \"PR6127\", \"PR6128\", \"PR6129\", \"PR6130\", \"PR6131\", \"PR6132\", \"PR6133\", \"PR6134\", \"PR6135\", \"PR6136\", \"PR6137\", \"PR6138\", \"PR6139\", \"PR6140\", \"PR6141\", \"PR6142\", \"PR6143\", \"PR6144\", \"PR6145\", \"PR6146\", \"PR6147\", \"PR6148\", \"PR6149\", \"PR6150\", \"PR6151\", \"PR6152\", \"PR6153\", \"PR6154\", \"PR6155\", \"PR6156\", \"PR6157\", \"PR6158\", \"PR6159\", \"PR6160\", \"PR6161\", \"PR6162\", \"PR6163\", \"PR6164\", \"PR6165\", \"PR6166\", \"PR6167\", \"PR6168\", \"PR6169\", \"PR6170\", \"PR6171\", \"PR6172\", \"PR6173\", \"PR6174\", \"PR6175\", \"PR6176\", \"PR6177\", \"PR6178\", \"PR6179\", \"PR6180\", \"PR6181\", \"PR6182\", \"PR6183\", \"PR6184\", \"PR6185\", \"PR6186\", \"PR6187\", \"PR6188\", \"PR6189\", \"PR6190\", \"PR6191\", \"PR6192\", \"PR6193\", \"PR6194\", \"PR6195\", \"PR6196\", \"PR6197\", \"PR6198\", \"PR6199\", \"PR6200\", \"PR6201\", \"PR6202\", \"PR6203\", \"PR6204\", \"PR6205\", \"PR6206\", \"PR6207\", \"PR6208\", \"PR6209\", \"PR6210\", \"PR6211\", \"PR6212\", \"PR6213\", \"PR6214\", \"PR6215\", \"PR6216\", \"PR6217\", \"PR6218\", \"PR6219\", \"PR6220\", \"PR6221\", \"PR6222\", \"PR6223\", \"PR6224\", \"PR6225\", \"PR6226\", \"PR6227\", \"PR6228\", \"PR6229\", \"PR6230\", \"PR6231\", \"PR6232\", \"PR6233\", \"PR6234\", \"PR6235\", \"PR6236\", \"PR6237\", \"PR6238\", \"PR6239\", \"PR6240\", \"PR6241\", \"PR6242\", \"PR6243\", \"PR6244\", \"PR6245\", \"PR6246\", \"PR6247\", \"PR6248\", \"PR6249\", \"PR6250\", \"PR6251\", \"PR6252\", \"PR6253\", \"PR6254\", \"PR6255\", \"PR6256\", \"PR6257\", \"PR6258\", \"PR6259\", \"PR6260\", \"PR6261\", \"PR6262\", \"PR6263\", \"PR6264\", \"PR6265\", \"PR6266\", \"PR6267\", \"PR6268\", \"PR6269\", \"PR6270\", \"PR6271\", \"PR6272\", \"PR6273\", \"PR6274\", \"PR6275\", \"PR6276\", \"PR6277\", \"PR6278\", \"PR6279\", \"PR6280\", \"PR6281\", \"PR6282\", \"PR6283\", \"PR6284\", \"PR6285\", \"PR6286\", \"PR6287\", \"PR6288\", \"PR6289\", \"PR6290\", \"PR6291\", \"PR6292\", \"PR6293\", \"PR6294\", \"PR6295\", \"PR6296\", \"PR6297\", \"PR6298\", \"PR6299\", \"PR6300\", \"PR6301\", \"PR6302\", \"PR6303\", \"PR6304\", \"PR6305\", \"PR6306\", \"PR6307\", \"PR6308\", \"PR6309\", \"PR6310\", \"PR6311\", \"PR6312\", \"PR6313\", \"PR6314\", \"PR6315\", \"PR6316\", \"PR6317\", \"PR6318\", \"PR6319\", \"PR6320\", \"PR6321\", \"PR6322\", \"PR6323\", \"PR6324\", \"PR6325\", \"PR6326\", \"PR6327\", \"PR6328\", \"PR6329\", \"PR6330\", \"PR6331\", \"PR6332\", \"PR6333\", \"PR6334\", \"PR6335\", \"PR6336\", \"PR6337\", \"PR6338\", \"PR6339\", \"PR6340\", \"PR6341\", \"PR6342\", \"PR6343\", \"PR6344\", \"PR6345\", \"PR6346\", \"PR6347\", \"PR6348\", \"PR6349\", \"PR6350\", \"PR6351\", \"PR6352\", \"PR6353\", \"PR6354\", \"PR6355\", \"PR6356\", \"PR6357\", \"PR6358\", \"PR6359\", \"PR6360\", \"PR6361\", \"PR6362\", \"PR6363\", \"PR6364\", \"PR6365\", \"PR6366\", \"PR6367\", \"PR6368\", \"PR6369\", \"PR6370\", \"PR6371\", \"PR6372\", \"PR6373\", \"PR6374\", \"PR6375\", \"PR6376\", \"PR6377\", \"PR6378\", \"PR6379\", \"PR6380\", \"PR6381\", \"PR6382\", \"PR6383\", \"PR6384\", \"PR6385\", \"PR6386\", \"PR6387\", \"PR6388\", \"PR6389\", \"PR6390\", \"PR6391\", \"PR6392\", \"PR6393\", \"PR6394\", \"PR6395\", \"PR6396\", \"PR6397\", \"PR6398\", \"PR6399\", \"PR6400\", \"PR6401\", \"PR6402\", \"PR6403\", \"PR6404\", \"PR6405\", \"PR6406\", \"PR6407\", \"PR6408\", \"PR6409\", \"PR6410\", \"PR6411\", \"PR6412\", \"PR6413\", \"PR6414\", \"PR6415\", \"PR6416\", \"PR6417\", \"PR6418\", \"PR6419\", \"PR6420\", \"PR6421\", \"PR6422\", \"PR6423\", \"PR6424\", \"PR6425\", \"PR6426\", \"PR6427\", \"PR6428\", \"PR6429\", \"PR6430\", \"PR6431\", \"PR6432\", \"PR6433\", \"PR6434\", \"PR6435\", \"PR6436\", \"PR6437\", \"PR6438\", \"PR6439\", \"PR6440\", \"PR6441\", \"PR6442\", \"PR6443\", \"PR6444\", \"PR6445\", \"PR6446\", \"PR6447\", \"PR6448\", \"PR6449\", \"PR6450\", \"PR6451\", \"PR6452\", \"PR6453\", \"PR6454\", \"PR6455\", \"PR6456\", \"PR6457\", \"PR6458\", \"PR6459\", \"PR6460\", \"PR6461\", \"PR6462\", \"PR6463\", \"PR6464\", \"PR6465\", \"PR6466\", \"PR6467\", \"PR6468\", \"PR6469\", \"PR6470\", \"PR6471\", \"PR6472\", \"PR6473\", \"PR6474\", \"PR6475\", \"PR6476\", \"PR6477\", \"PR6478\", \"PR6479\", \"PR6480\", \"PR6481\", \"PR6482\", \"PR6483\", \"PR6484\", \"PR6485\", \"PR6486\", \"PR6487\", \"PR6488\", \"PR6489\", \"PR6490\", \"PR6491\", \"PR6492\", \"PR6493\", \"PR6494\", \"PR6495\", \"PR6496\", \"PR6497\", \"PR6498\", \"PR6499\", \"PR6500\", \"PR6501\", \"PR6502\", \"PR6503\", \"PR6504\", \"PR6505\", \"PR6506\", \"PR6507\", \"PR6508\", \"PR6509\", \"PR6510\", \"PR6511\", \"PR6512\", \"PR6513\", \"PR6514\", \"PR6515\", \"PR6516\", \"PR6517\", \"PR6518\", \"PR6519\", \"PR6520\", \"PR6521\", \"PR6522\", \"PR6523\", \"PR6524\", \"PR6525\", \"PR6526\", \"PR6527\", \"PR6528\", \"PR6529\", \"PR6530\", \"PR6531\", \"PR6532\", \"PR6533\", \"PR6534\", \"PR6535\", \"PR6536\", \"PR6537\", \"PR6538\", \"PR6539\", \"PR6540\", \"PR6541\", \"PR6542\", \"PR6543\", \"PR6544\", \"PR6545\", \"PR6546\", \"PR6547\", \"PR6548\", \"PR6549\", \"PR6550\", \"PR6551\", \"PR6552\", \"PR6553\", \"PR6554\", \"PR6555\", \"PR6556\", \"PR6557\", \"PR6558\", \"PR6559\", \"PR6560\", \"PR6561\", \"PR6562\", \"PR6563\", \"PR6564\", \"PR6565\", \"PR6566\", \"PR6567\", \"PR6568\", \"PR6569\", \"PR6570\", \"PR6571\", \"PR6572\", \"PR6573\", \"PR6574\", \"PR6575\", \"PR6576\", \"PR6577\", \"PR6578\", \"PR6579\", \"PR6580\", \"PR6581\", \"PR6582\", \"PR6583\", \"PR6584\", \"PR6585\", \"PR6586\", \"PR6587\", \"PR6588\", \"PR6589\", \"PR6590\", \"PR6591\", \"PR6592\", \"PR6593\", \"PR6594\", \"PR6595\", \"PR6596\", \"PR6597\", \"PR6598\", \"PR6599\", \"PR6600\", \"PR6601\", \"PR6602\", \"PR6603\", \"PR6604\", \"PR6605\", \"PR6606\", \"PR6607\", \"PR6608\", \"PR6609\", \"PR6610\", \"PR6611\", \"PR6612\", \"PR6613\", \"PR6614\", \"PR6615\", \"PR6616\", \"PR6617\", \"PR6618\", \"PR6619\", \"PR6620\", \"PR6621\", \"PR6622\", \"PR6623\", \"PR6624\", \"PR6625\", \"PR6626\", \"PR6627\", \"PR6628\", \"PR6629\", \"PR6630\", \"PR6631\", \"PR6632\", \"PR6633\", \"PR6634\", \"PR6635\", \"PR6636\", \"PR6637\", \"PR6638\", \"PR6639\", \"PR6640\", \"PR6641\", \"PR6642\", \"PR6643\", \"PR6644\", \"PR6645\", \"PR6646\", \"PR6647\", \"PR6648\", \"PR6649\", \"PR6650\", \"PR6651\", \"PR6652\", \"PR6653\", \"PR6654\", \"PR6655\", \"PR6656\", \"PR6657\", \"PR6658\", \"PR6659\", \"PR6660\", \"PR6661\", \"PR6662\", \"PR6663\", \"PR6664\", \"PR6665\", \"PR6666\", \"PR6667\", \"PR6668\", \"PR6669\", \"PR6670\", \"PR6671\", \"PR6672\", \"PR6673\", \"PR6674\", \"PR6675\", \"PR6676\", \"PR6677\", \"PR6678\", \"PR6679\", \"PR6680\", \"PR6681\", \"PR6682\", \"PR6683\", \"PR6684\", \"PR6685\", \"PR6686\", \"PR6687\", \"PR6688\", \"PR6689\", \"PR6690\", \"PR6691\", \"PR6692\", \"PR6693\", \"PR6694\", \"PR6695\", \"PR6696\", \"PR6697\", \"PR6698\", \"PR6699\", \"PR6700\", \"PR6701\", \"PR6702\", \"PR6703\", \"PR6704\"], \"y\": [99989.0, 3170.0, 351985.0, 2411744.0, 524771.0, 634119.0, 9543.0, 57706.0, 33621.0, 129333.0, 2755.0, 207536.0, 75231.0, 20579.0, 20548.0, 3439.0, 1455.0, 1687.0, 195127.0, 24218.0, 27630.0, 13301.0, 5548.0, 82105.0, 39296.0, 753.0, 6389.0, 3907.0, 20721.0, 23391.0, 35033.0, 27068.0, 59864.0, 5161.0, 5534.0, 19381.0, 1341.0, 1443.0, 19648.0, 4371.0, 8495.0, 16046.0, 601114.0, 11857.0, 10865.0, 4519.0, 35897.0, 10934.0, 88754.0, 575578.0, 28773.0, 60084.0, 1195.0, 127768.0, 3144.0, 179739.0, 18285.0, 514357.0, 79985.0, 75833.0, 83178.0, 34928.0, 259438.0, 370328.0, 441915.0, 168500.0, 20221.0, 1341009.0, 286852.0, 573766.0, 241507.0, 219745.0, 134884.0, 7556.0, 6364.0, 57051.0, 1297.0, 303264.0, 256441.0, 10151.0, 676206.0, 79173.0, 36613.0, 420.0, 70057.0, 4304.0, 148119.0, 190766.0, 158765.0, 2707.0, 998831.0, 46281.0, 15345.0, 6315.0, 180105.0, 659321.0, 47078.0, 241997.0, 63612.0, 243722.0, 88638.0, 273845.0, 167507.0, 3645.0, 12419.0, 123479.0, 9899.0, 145561.0, 560258.0, 40308.0, 2781.0, 29440.0, 3062502.0, 194280.0, 164951.0, 145987.0, 9329.0, 115413.0, 158963.0, 51282.0, 853.0, 211783.0, 54383.0, 203368.0, 42738.0, 6807.0, 97181.0, 141484.0, 9216.0, 333188.0, 19123.0, 10495.0, 12916.0, 15389.0, 27805.0, 679538.0, 100576.0, 157109.0, 97331.0, 79768.0, 17551.0, 1221349.0, 6567.0, 112074.0, 11335.0, 191169.0, 2410263.0, 2009592.0, 4484172.0, 139421.0, 13612.0, 265143.0, 54658.0, 81762.0, 4453.0, 41272.0, 134595.0, 1061235.0, 815492.0, 398217.0, 1415669.0, 105335.0, 617348.0, 1193848.0, 243630.0, 821.0, 156307.0, 43469.0, 559445.0, 7752.0, 401005.0, 20851.0, 27878.0, 10719.0, 81436.0, 6121.0, 2854.0, 28810.0, 7249.0, 1048392.0, 125469.0, 16587.0, 31619.0, 6530.0, 3102.0, 69119.0, 1383564.0, 531518.0, 856125.0, 3266.0, 58034.0, 209.0, 35274.0, 36996.0, 47967.0, 1040751.0, 74649.0, 3666.0, 19237.0, 30533.0, 1048.0, 311913.0, 1644.0, 16163.0, 5935.0, 1996.0, 10732.0, 11695.0, 10773.0, 5757.0, 6901.0, 19278.0, 22263.0, 12706.0, 224604.0, 1423.0, 7802.0, 113677.0, 100.0, 358704.0, 1764.0, 21212.0, 35151.0, 627155.0, 41626.0, 105.0, 5723814.0, 349664.0, 6793.0, 2261.0, 16035.0, 15634.0, 14604.0, 14053.0, 372506.0, 338552.0, 31195.0, 36909.0, 609322.0, 885567.0, 764754.0, 596470.0, 39762.0, 2889.0, 3442.0, 135116.0, 942128.0, 15228.0, 262091.0, 3577.0, 12831.0, 3944.0, 475160.0, 154942.0, 161.0, 622415.0, 15752.0, 38840.0, 12676.0, 5588.0, 14704.0, 4040.0, 111357.0, 4521.0, 23664.0, 8590.0, 29796.0, 35022.0, 907.0, 45050.0, 6808.0, 17212.0, 8650.0, 13658.0, 4711.0, 10751.0, 13929.0, 20131.0, 4003.0, 7115.0, 62728.0, 23907.0, 26362.0, 30774.0, 1706.0, 30097.0, 3411.0, 145265.0, 8712.0, 64826.0, 1806.0, 2051.0, 55912.0, 15495.0, 18250.0, 5060.0, 16873.0, 8644.0, 7455.0, 68700.0, 233247.0, 5952.0, 1085744.0, 2211257.0, 351314.0, 9419593.0, 4509498.0, 378218.0, 227145.0, 717970.0, 747403.0, 243722.0, 64599.0, 1080425.0, 172470.0, 2439790.0, 198.0, 29225.0, 6211.0, 362989.0, 31215.0, 5846.0, 596613.0, 75230.0, 81620.0, 58836.0, 621194.0, 253440.0, 6956051.0, 309842.0, 3460111.0, 385793.0, 14216571.0, 71573.0, 756063.0, 388901.0, 4134452.0, 1713247.0, 831269.0, 12868.0, 6711.0, 10490.0, 35148.0, 148493.0, 66146.0, 165320.0, 68741.0, 11042.0, 942.0, 59939.0, 20049.0, 4582.0, 369517.0, 320417.0, 83364.0, 144586.0, 14166.0, 12511.0, 15525.0, 21341.0, 10828.0, 7044.0, 284043.0, 2854327.0, 6654.0, 560.0, 541491.0, 125796.0, 5469.0, 1245.0, 4706.0, 11475.0, 27051.0, 20109.0, 929378.0, 735.0, 17736.0, 3988.0, 788744.0, 350043.0, 56422.0, 86237.0, 16983.0, 27288.0, 141449.0, 173078.0, 121559.0, 112260.0, 363891.0, 515372.0, 348004.0, 143583.0, 206655.0, 27628.0, 20607.0, 26847.0, 6159.0, 5278.0, 176362.0, 1842393.0, 2453049.0, 4276757.0, 75477.0, 21199.0, 438400.0, 2658823.0, 6429050.0, 214982.0, 485626.0, 17160.0, 51385.0, 2685.0, 216564.0, 2265121.0, 374813.0, 198549.0, 32366.0, 124630.0, 365549.0, 8807.0, 8557.0, 1302890.0, 2002746.0, 11346.0, 12067.0, 1078892.0, 83857.0, 110961.0, 64840.0, 104894.0, 158814.0, 20430.0, 3188300.0, 123446.0, 2295.0, 267965.0, 64550.0, 681306.0, 20826472.0, 367118.0, 1104558.0, 4650.0, 75143.0, 24982.0, 9600.0, 10239.0, 1254.0, 1526.0, 449.0, 24113.0, 5299.0, 5400.0, 930576.0, 37551.0, 2273.0, 11524.0, 74284.0, 61140.0, 260144.0, 5326.0, 31145.0, 40067.0, 12373.0, 4375.0, 7212.0, 6361.0, 635251.0, 914318.0, 363554.0, 7515.0, 295024.0, 33151.0, 64492.0, 741.0, 23378.0, 72277.0, 144226.0, 66772.0, 37265.0, 3408.0, 1327.0, 49926.0, 56821.0, 241924.0, 558581.0, 22920.0, 321773.0, 39510.0, 131331.0, 221102.0, 54937.0, 8674.0, 34030.0, 3326.0, 3419.0, 3056.0, 102977.0, 244550.0, 16218.0, 18796.0, 4706.0, 13591.0, 1689.0, 133880.0, 858497.0, 5674.0, 67984.0, 302.0, 6099.0, 130248.0, 8356.0, 14460.0, 10383.0, 40896.0, 33873.0, 2533.0, 133143.0, 47346.0, 1759.0, 28816.0, 16992.0, 93608.0, 148.0, 3636.0, 1686.0, 3727.0, 1241.0, 8781.0, 2826.0, 5982.0, 115999.0, 16491.0, 8220.0, 5288.0, 3191.0, 1600564.0, 5762.0, 7822.0, 80687.0, 38751.0, 87528.0, 3426.0, 2654.0, 92016.0, 25774.0, 12609.0, 2054.0, 7131.0, 17626.0, 30019.0, 1906.0, 11641.0, 158185.0, 59096.0, 1492.0, 25662.0, 3300.0, 3789.0, 69212.0, 68435.0, 7623.0, 3471.0, 959.0, 190761.0, 300448.0, 20387.0, 315483.0, 47701.0, 7492.0, 1429.0, 14592.0, 40890.0, 67571.0, 3160.0, 7257.0, 649686.0, 12008.0, 778.0, 4387992.0, 128422.0, 6755.0, 1972.0, 33798.0, 16085.0, 987430.0, 390866.0, 1487446.0, 15711.0, 3325.0, 976483.0, 1144320.0, 340891.0, 20337.0]}],\n",
       "                        {\"template\": {\"data\": {\"bar\": [{\"error_x\": {\"color\": \"#2a3f5f\"}, \"error_y\": {\"color\": \"#2a3f5f\"}, \"marker\": {\"line\": {\"color\": \"#E5ECF6\", \"width\": 0.5}}, \"type\": \"bar\"}], \"barpolar\": [{\"marker\": {\"line\": {\"color\": \"#E5ECF6\", \"width\": 0.5}}, \"type\": \"barpolar\"}], \"carpet\": [{\"aaxis\": {\"endlinecolor\": \"#2a3f5f\", \"gridcolor\": \"white\", \"linecolor\": \"white\", \"minorgridcolor\": \"white\", \"startlinecolor\": \"#2a3f5f\"}, \"baxis\": {\"endlinecolor\": \"#2a3f5f\", \"gridcolor\": \"white\", \"linecolor\": \"white\", \"minorgridcolor\": \"white\", \"startlinecolor\": \"#2a3f5f\"}, \"type\": \"carpet\"}], \"choropleth\": [{\"colorbar\": {\"outlinewidth\": 0, \"ticks\": \"\"}, \"type\": \"choropleth\"}], \"contour\": [{\"colorbar\": {\"outlinewidth\": 0, \"ticks\": \"\"}, \"colorscale\": [[0.0, \"#0d0887\"], [0.1111111111111111, \"#46039f\"], [0.2222222222222222, \"#7201a8\"], [0.3333333333333333, \"#9c179e\"], [0.4444444444444444, \"#bd3786\"], [0.5555555555555556, \"#d8576b\"], [0.6666666666666666, \"#ed7953\"], [0.7777777777777778, \"#fb9f3a\"], [0.8888888888888888, \"#fdca26\"], [1.0, \"#f0f921\"]], \"type\": \"contour\"}], \"contourcarpet\": [{\"colorbar\": {\"outlinewidth\": 0, \"ticks\": \"\"}, \"type\": \"contourcarpet\"}], \"heatmap\": [{\"colorbar\": {\"outlinewidth\": 0, \"ticks\": \"\"}, \"colorscale\": [[0.0, \"#0d0887\"], [0.1111111111111111, \"#46039f\"], [0.2222222222222222, \"#7201a8\"], [0.3333333333333333, \"#9c179e\"], [0.4444444444444444, \"#bd3786\"], [0.5555555555555556, \"#d8576b\"], [0.6666666666666666, \"#ed7953\"], [0.7777777777777778, \"#fb9f3a\"], [0.8888888888888888, \"#fdca26\"], [1.0, \"#f0f921\"]], \"type\": \"heatmap\"}], \"heatmapgl\": [{\"colorbar\": {\"outlinewidth\": 0, \"ticks\": \"\"}, \"colorscale\": [[0.0, \"#0d0887\"], [0.1111111111111111, \"#46039f\"], [0.2222222222222222, \"#7201a8\"], [0.3333333333333333, \"#9c179e\"], [0.4444444444444444, \"#bd3786\"], [0.5555555555555556, \"#d8576b\"], [0.6666666666666666, \"#ed7953\"], [0.7777777777777778, \"#fb9f3a\"], [0.8888888888888888, \"#fdca26\"], [1.0, \"#f0f921\"]], \"type\": \"heatmapgl\"}], \"histogram\": [{\"marker\": {\"colorbar\": {\"outlinewidth\": 0, \"ticks\": \"\"}}, \"type\": \"histogram\"}], \"histogram2d\": [{\"colorbar\": {\"outlinewidth\": 0, \"ticks\": \"\"}, \"colorscale\": [[0.0, \"#0d0887\"], [0.1111111111111111, \"#46039f\"], [0.2222222222222222, \"#7201a8\"], [0.3333333333333333, \"#9c179e\"], [0.4444444444444444, \"#bd3786\"], [0.5555555555555556, \"#d8576b\"], [0.6666666666666666, \"#ed7953\"], [0.7777777777777778, \"#fb9f3a\"], [0.8888888888888888, \"#fdca26\"], [1.0, \"#f0f921\"]], \"type\": \"histogram2d\"}], \"histogram2dcontour\": [{\"colorbar\": {\"outlinewidth\": 0, \"ticks\": \"\"}, \"colorscale\": [[0.0, \"#0d0887\"], [0.1111111111111111, \"#46039f\"], [0.2222222222222222, \"#7201a8\"], [0.3333333333333333, \"#9c179e\"], [0.4444444444444444, \"#bd3786\"], [0.5555555555555556, \"#d8576b\"], [0.6666666666666666, \"#ed7953\"], [0.7777777777777778, \"#fb9f3a\"], [0.8888888888888888, \"#fdca26\"], [1.0, \"#f0f921\"]], \"type\": \"histogram2dcontour\"}], \"mesh3d\": [{\"colorbar\": {\"outlinewidth\": 0, \"ticks\": \"\"}, \"type\": \"mesh3d\"}], \"parcoords\": [{\"line\": {\"colorbar\": {\"outlinewidth\": 0, \"ticks\": \"\"}}, \"type\": \"parcoords\"}], \"pie\": [{\"automargin\": true, \"type\": \"pie\"}], \"scatter\": [{\"marker\": {\"colorbar\": {\"outlinewidth\": 0, \"ticks\": \"\"}}, \"type\": \"scatter\"}], \"scatter3d\": [{\"line\": {\"colorbar\": {\"outlinewidth\": 0, \"ticks\": \"\"}}, \"marker\": {\"colorbar\": {\"outlinewidth\": 0, \"ticks\": \"\"}}, \"type\": \"scatter3d\"}], \"scattercarpet\": [{\"marker\": {\"colorbar\": {\"outlinewidth\": 0, \"ticks\": \"\"}}, \"type\": \"scattercarpet\"}], \"scattergeo\": [{\"marker\": {\"colorbar\": {\"outlinewidth\": 0, \"ticks\": \"\"}}, \"type\": \"scattergeo\"}], \"scattergl\": [{\"marker\": {\"colorbar\": {\"outlinewidth\": 0, \"ticks\": \"\"}}, \"type\": \"scattergl\"}], \"scattermapbox\": [{\"marker\": {\"colorbar\": {\"outlinewidth\": 0, \"ticks\": \"\"}}, \"type\": \"scattermapbox\"}], \"scatterpolar\": [{\"marker\": {\"colorbar\": {\"outlinewidth\": 0, \"ticks\": \"\"}}, \"type\": \"scatterpolar\"}], \"scatterpolargl\": [{\"marker\": {\"colorbar\": {\"outlinewidth\": 0, \"ticks\": \"\"}}, \"type\": \"scatterpolargl\"}], \"scatterternary\": [{\"marker\": {\"colorbar\": {\"outlinewidth\": 0, \"ticks\": \"\"}}, \"type\": \"scatterternary\"}], \"surface\": [{\"colorbar\": {\"outlinewidth\": 0, \"ticks\": \"\"}, \"colorscale\": [[0.0, \"#0d0887\"], [0.1111111111111111, \"#46039f\"], [0.2222222222222222, \"#7201a8\"], [0.3333333333333333, \"#9c179e\"], [0.4444444444444444, \"#bd3786\"], [0.5555555555555556, \"#d8576b\"], [0.6666666666666666, \"#ed7953\"], [0.7777777777777778, \"#fb9f3a\"], [0.8888888888888888, \"#fdca26\"], [1.0, \"#f0f921\"]], \"type\": \"surface\"}], \"table\": [{\"cells\": {\"fill\": {\"color\": \"#EBF0F8\"}, \"line\": {\"color\": \"white\"}}, \"header\": {\"fill\": {\"color\": \"#C8D4E3\"}, \"line\": {\"color\": \"white\"}}, \"type\": \"table\"}]}, \"layout\": {\"annotationdefaults\": {\"arrowcolor\": \"#2a3f5f\", \"arrowhead\": 0, \"arrowwidth\": 1}, \"coloraxis\": {\"colorbar\": {\"outlinewidth\": 0, \"ticks\": \"\"}}, \"colorscale\": {\"diverging\": [[0, \"#8e0152\"], [0.1, \"#c51b7d\"], [0.2, \"#de77ae\"], [0.3, \"#f1b6da\"], [0.4, \"#fde0ef\"], [0.5, \"#f7f7f7\"], [0.6, \"#e6f5d0\"], [0.7, \"#b8e186\"], [0.8, \"#7fbc41\"], [0.9, \"#4d9221\"], [1, \"#276419\"]], \"sequential\": [[0.0, \"#0d0887\"], [0.1111111111111111, \"#46039f\"], [0.2222222222222222, \"#7201a8\"], [0.3333333333333333, \"#9c179e\"], [0.4444444444444444, \"#bd3786\"], [0.5555555555555556, \"#d8576b\"], [0.6666666666666666, \"#ed7953\"], [0.7777777777777778, \"#fb9f3a\"], [0.8888888888888888, \"#fdca26\"], [1.0, \"#f0f921\"]], \"sequentialminus\": [[0.0, \"#0d0887\"], [0.1111111111111111, \"#46039f\"], [0.2222222222222222, \"#7201a8\"], [0.3333333333333333, \"#9c179e\"], [0.4444444444444444, \"#bd3786\"], [0.5555555555555556, \"#d8576b\"], [0.6666666666666666, \"#ed7953\"], [0.7777777777777778, \"#fb9f3a\"], [0.8888888888888888, \"#fdca26\"], [1.0, \"#f0f921\"]]}, \"colorway\": [\"#636efa\", \"#EF553B\", \"#00cc96\", \"#ab63fa\", \"#FFA15A\", \"#19d3f3\", \"#FF6692\", \"#B6E880\", \"#FF97FF\", \"#FECB52\"], \"font\": {\"color\": \"#2a3f5f\"}, \"geo\": {\"bgcolor\": \"white\", \"lakecolor\": \"white\", \"landcolor\": \"#E5ECF6\", \"showlakes\": true, \"showland\": true, \"subunitcolor\": \"white\"}, \"hoverlabel\": {\"align\": \"left\"}, \"hovermode\": \"closest\", \"mapbox\": {\"style\": \"light\"}, \"paper_bgcolor\": \"white\", \"plot_bgcolor\": \"#E5ECF6\", \"polar\": {\"angularaxis\": {\"gridcolor\": \"white\", \"linecolor\": \"white\", \"ticks\": \"\"}, \"bgcolor\": \"#E5ECF6\", \"radialaxis\": {\"gridcolor\": \"white\", \"linecolor\": \"white\", \"ticks\": \"\"}}, \"scene\": {\"xaxis\": {\"backgroundcolor\": \"#E5ECF6\", \"gridcolor\": \"white\", \"gridwidth\": 2, \"linecolor\": \"white\", \"showbackground\": true, \"ticks\": \"\", \"zerolinecolor\": \"white\"}, \"yaxis\": {\"backgroundcolor\": \"#E5ECF6\", \"gridcolor\": \"white\", \"gridwidth\": 2, \"linecolor\": \"white\", \"showbackground\": true, \"ticks\": \"\", \"zerolinecolor\": \"white\"}, \"zaxis\": {\"backgroundcolor\": \"#E5ECF6\", \"gridcolor\": \"white\", \"gridwidth\": 2, \"linecolor\": \"white\", \"showbackground\": true, \"ticks\": \"\", \"zerolinecolor\": \"white\"}}, \"shapedefaults\": {\"line\": {\"color\": \"#2a3f5f\"}}, \"ternary\": {\"aaxis\": {\"gridcolor\": \"white\", \"linecolor\": \"white\", \"ticks\": \"\"}, \"baxis\": {\"gridcolor\": \"white\", \"linecolor\": \"white\", \"ticks\": \"\"}, \"bgcolor\": \"#E5ECF6\", \"caxis\": {\"gridcolor\": \"white\", \"linecolor\": \"white\", \"ticks\": \"\"}}, \"title\": {\"x\": 0.05}, \"xaxis\": {\"automargin\": true, \"gridcolor\": \"white\", \"linecolor\": \"white\", \"ticks\": \"\", \"title\": {\"standoff\": 15}, \"zerolinecolor\": \"white\", \"zerolinewidth\": 2}, \"yaxis\": {\"automargin\": true, \"gridcolor\": \"white\", \"linecolor\": \"white\", \"ticks\": \"\", \"title\": {\"standoff\": 15}, \"zerolinecolor\": \"white\", \"zerolinewidth\": 2}}}, \"title\": {\"text\": \"Product vs Quantity\"}, \"xaxis\": {\"title\": {\"text\": \"ProductID\"}}, \"yaxis\": {\"title\": {\"text\": \"Total Quantity Sold\"}}},\n",
       "                        {\"responsive\": true}\n",
       "                    ).then(function(){\n",
       "                            \n",
       "var gd = document.getElementById('a6266f23-87c1-4c45-8149-e6992db20ad9');\n",
       "var x = new MutationObserver(function (mutations, observer) {{\n",
       "        var display = window.getComputedStyle(gd).display;\n",
       "        if (!display || display === 'none') {{\n",
       "            console.log([gd, 'removed!']);\n",
       "            Plotly.purge(gd);\n",
       "            observer.disconnect();\n",
       "        }}\n",
       "}});\n",
       "\n",
       "// Listen for the removal of the full notebook cells\n",
       "var notebookContainer = gd.closest('#notebook-container');\n",
       "if (notebookContainer) {{\n",
       "    x.observe(notebookContainer, {childList: true});\n",
       "}}\n",
       "\n",
       "// Listen for the clearing of the current output cell\n",
       "var outputEl = gd.closest('.output');\n",
       "if (outputEl) {{\n",
       "    x.observe(outputEl, {childList: true});\n",
       "}}\n",
       "\n",
       "                        })\n",
       "                };\n",
       "                });\n",
       "            </script>\n",
       "        </div>"
      ]
     },
     "metadata": {},
     "output_type": "display_data"
    }
   ],
   "source": [
    "data_plot = [go.Bar(x=d_5.index,\n",
    "                          y=d_5.Quantity.astype(float),\n",
    "       marker=dict(\n",
    "        color=\"#CC0E1D\",# Lava (#CC0E1D)\n",
    "#         color = 'rgb(200,0,0)'   `\n",
    "    ))]\n",
    "layout = go.Layout(title = \"Product vs Quantity\",xaxis=dict(title=\"ProductID\"),yaxis=dict(title=\"Total Quantity Sold\"))\n",
    "fig = go.Figure(data= data_plot, layout=layout)\n",
    "iplot(fig)"
   ]
  },
  {
   "cell_type": "markdown",
   "metadata": {},
   "source": [
    "- ProductID PR6550 is shown as the highest Quantity Sold "
   ]
  },
  {
   "cell_type": "markdown",
   "metadata": {},
   "source": [
    "- Lets look at that particular productID in detail "
   ]
  },
  {
   "cell_type": "code",
   "execution_count": 27,
   "metadata": {},
   "outputs": [
    {
     "data": {
      "text/html": [
       "<div>\n",
       "<style scoped>\n",
       "    .dataframe tbody tr th:only-of-type {\n",
       "        vertical-align: middle;\n",
       "    }\n",
       "\n",
       "    .dataframe tbody tr th {\n",
       "        vertical-align: top;\n",
       "    }\n",
       "\n",
       "    .dataframe thead th {\n",
       "        text-align: right;\n",
       "    }\n",
       "</style>\n",
       "<table border=\"1\" class=\"dataframe\">\n",
       "  <thead>\n",
       "    <tr style=\"text-align: right;\">\n",
       "      <th></th>\n",
       "      <th>ReportID</th>\n",
       "      <th>SalesPersonID</th>\n",
       "      <th>ProductID</th>\n",
       "      <th>Quantity</th>\n",
       "      <th>TotalSalesValue</th>\n",
       "      <th>Suspicious</th>\n",
       "    </tr>\n",
       "  </thead>\n",
       "  <tbody>\n",
       "    <tr>\n",
       "      <th>24092</th>\n",
       "      <td>Rep34193</td>\n",
       "      <td>C21992</td>\n",
       "      <td>PR6550</td>\n",
       "      <td>19708130</td>\n",
       "      <td>136860</td>\n",
       "      <td>Yes</td>\n",
       "    </tr>\n",
       "  </tbody>\n",
       "</table>\n",
       "</div>"
      ],
      "text/plain": [
       "       ReportID SalesPersonID ProductID  Quantity  TotalSalesValue Suspicious\n",
       "24092  Rep34193        C21992    PR6550  19708130           136860        Yes"
      ]
     },
     "execution_count": 27,
     "metadata": {},
     "output_type": "execute_result"
    }
   ],
   "source": [
    "data[(data.ProductID==\"PR6550\")&(data.ReportID==\"Rep34193\")] \n",
    "## This Report ID was found on seeing all PR6550 records , this Record was found to be Errornous or Big Outlier\n",
    "## Therefore, why PR6550 was compartively very high on quantity "
   ]
  },
  {
   "cell_type": "markdown",
   "metadata": {},
   "source": [
    "#### REMOVING THAT ONE TUPLE AND PLOTTING AGAIN "
   ]
  },
  {
   "cell_type": "code",
   "execution_count": 28,
   "metadata": {},
   "outputs": [],
   "source": [
    "d_Rem=data[~((data.ProductID==\"PR6550\")&(data.ReportID==\"Rep34193\"))]\n",
    "d_5Rem=d_Rem.groupby(\"ProductID\").agg({'Quantity':np.sum},axis=0)"
   ]
  },
  {
   "cell_type": "code",
   "execution_count": 29,
   "metadata": {},
   "outputs": [],
   "source": [
    "d_51=d_5Rem.sort_values(ascending=False,by=\"Quantity\", axis =0)"
   ]
  },
  {
   "cell_type": "code",
   "execution_count": 30,
   "metadata": {},
   "outputs": [],
   "source": [
    "d_51=d_51.head(20) ## showing only top 20 ProductID s with most Quantity Sold "
   ]
  },
  {
   "cell_type": "code",
   "execution_count": 31,
   "metadata": {},
   "outputs": [
    {
     "data": {
      "application/vnd.plotly.v1+json": {
       "config": {
        "linkText": "Export to plot.ly",
        "plotlyServerURL": "https://plot.ly",
        "showLink": false
       },
       "data": [
        {
         "marker": {
          "color": "rgb(300,150,20)"
         },
         "type": "bar",
         "x": [
          "PR6444",
          "PR6417",
          "PR6440",
          "PR6518",
          "PR6338",
          "PR6418",
          "PR6260",
          "PR6690",
          "PR6513",
          "PR6448",
          "PR6442",
          "PR6544",
          "PR6224",
          "PR6475",
          "PR6517",
          "PR6512",
          "PR6427",
          "PR6115",
          "PR6258",
          "PR6525"
         ],
         "y": [
          14216571,
          9419593,
          6956051,
          6429050,
          5723814,
          4509498,
          4484172,
          4387992,
          4276757,
          4134452,
          3460111,
          3188300,
          3062502,
          2854327,
          2658823,
          2453049,
          2439790,
          2411744,
          2410263,
          2265121
         ]
        }
       ],
       "layout": {
        "template": {
         "data": {
          "bar": [
           {
            "error_x": {
             "color": "#2a3f5f"
            },
            "error_y": {
             "color": "#2a3f5f"
            },
            "marker": {
             "line": {
              "color": "#E5ECF6",
              "width": 0.5
             }
            },
            "type": "bar"
           }
          ],
          "barpolar": [
           {
            "marker": {
             "line": {
              "color": "#E5ECF6",
              "width": 0.5
             }
            },
            "type": "barpolar"
           }
          ],
          "carpet": [
           {
            "aaxis": {
             "endlinecolor": "#2a3f5f",
             "gridcolor": "white",
             "linecolor": "white",
             "minorgridcolor": "white",
             "startlinecolor": "#2a3f5f"
            },
            "baxis": {
             "endlinecolor": "#2a3f5f",
             "gridcolor": "white",
             "linecolor": "white",
             "minorgridcolor": "white",
             "startlinecolor": "#2a3f5f"
            },
            "type": "carpet"
           }
          ],
          "choropleth": [
           {
            "colorbar": {
             "outlinewidth": 0,
             "ticks": ""
            },
            "type": "choropleth"
           }
          ],
          "contour": [
           {
            "colorbar": {
             "outlinewidth": 0,
             "ticks": ""
            },
            "colorscale": [
             [
              0,
              "#0d0887"
             ],
             [
              0.1111111111111111,
              "#46039f"
             ],
             [
              0.2222222222222222,
              "#7201a8"
             ],
             [
              0.3333333333333333,
              "#9c179e"
             ],
             [
              0.4444444444444444,
              "#bd3786"
             ],
             [
              0.5555555555555556,
              "#d8576b"
             ],
             [
              0.6666666666666666,
              "#ed7953"
             ],
             [
              0.7777777777777778,
              "#fb9f3a"
             ],
             [
              0.8888888888888888,
              "#fdca26"
             ],
             [
              1,
              "#f0f921"
             ]
            ],
            "type": "contour"
           }
          ],
          "contourcarpet": [
           {
            "colorbar": {
             "outlinewidth": 0,
             "ticks": ""
            },
            "type": "contourcarpet"
           }
          ],
          "heatmap": [
           {
            "colorbar": {
             "outlinewidth": 0,
             "ticks": ""
            },
            "colorscale": [
             [
              0,
              "#0d0887"
             ],
             [
              0.1111111111111111,
              "#46039f"
             ],
             [
              0.2222222222222222,
              "#7201a8"
             ],
             [
              0.3333333333333333,
              "#9c179e"
             ],
             [
              0.4444444444444444,
              "#bd3786"
             ],
             [
              0.5555555555555556,
              "#d8576b"
             ],
             [
              0.6666666666666666,
              "#ed7953"
             ],
             [
              0.7777777777777778,
              "#fb9f3a"
             ],
             [
              0.8888888888888888,
              "#fdca26"
             ],
             [
              1,
              "#f0f921"
             ]
            ],
            "type": "heatmap"
           }
          ],
          "heatmapgl": [
           {
            "colorbar": {
             "outlinewidth": 0,
             "ticks": ""
            },
            "colorscale": [
             [
              0,
              "#0d0887"
             ],
             [
              0.1111111111111111,
              "#46039f"
             ],
             [
              0.2222222222222222,
              "#7201a8"
             ],
             [
              0.3333333333333333,
              "#9c179e"
             ],
             [
              0.4444444444444444,
              "#bd3786"
             ],
             [
              0.5555555555555556,
              "#d8576b"
             ],
             [
              0.6666666666666666,
              "#ed7953"
             ],
             [
              0.7777777777777778,
              "#fb9f3a"
             ],
             [
              0.8888888888888888,
              "#fdca26"
             ],
             [
              1,
              "#f0f921"
             ]
            ],
            "type": "heatmapgl"
           }
          ],
          "histogram": [
           {
            "marker": {
             "colorbar": {
              "outlinewidth": 0,
              "ticks": ""
             }
            },
            "type": "histogram"
           }
          ],
          "histogram2d": [
           {
            "colorbar": {
             "outlinewidth": 0,
             "ticks": ""
            },
            "colorscale": [
             [
              0,
              "#0d0887"
             ],
             [
              0.1111111111111111,
              "#46039f"
             ],
             [
              0.2222222222222222,
              "#7201a8"
             ],
             [
              0.3333333333333333,
              "#9c179e"
             ],
             [
              0.4444444444444444,
              "#bd3786"
             ],
             [
              0.5555555555555556,
              "#d8576b"
             ],
             [
              0.6666666666666666,
              "#ed7953"
             ],
             [
              0.7777777777777778,
              "#fb9f3a"
             ],
             [
              0.8888888888888888,
              "#fdca26"
             ],
             [
              1,
              "#f0f921"
             ]
            ],
            "type": "histogram2d"
           }
          ],
          "histogram2dcontour": [
           {
            "colorbar": {
             "outlinewidth": 0,
             "ticks": ""
            },
            "colorscale": [
             [
              0,
              "#0d0887"
             ],
             [
              0.1111111111111111,
              "#46039f"
             ],
             [
              0.2222222222222222,
              "#7201a8"
             ],
             [
              0.3333333333333333,
              "#9c179e"
             ],
             [
              0.4444444444444444,
              "#bd3786"
             ],
             [
              0.5555555555555556,
              "#d8576b"
             ],
             [
              0.6666666666666666,
              "#ed7953"
             ],
             [
              0.7777777777777778,
              "#fb9f3a"
             ],
             [
              0.8888888888888888,
              "#fdca26"
             ],
             [
              1,
              "#f0f921"
             ]
            ],
            "type": "histogram2dcontour"
           }
          ],
          "mesh3d": [
           {
            "colorbar": {
             "outlinewidth": 0,
             "ticks": ""
            },
            "type": "mesh3d"
           }
          ],
          "parcoords": [
           {
            "line": {
             "colorbar": {
              "outlinewidth": 0,
              "ticks": ""
             }
            },
            "type": "parcoords"
           }
          ],
          "pie": [
           {
            "automargin": true,
            "type": "pie"
           }
          ],
          "scatter": [
           {
            "marker": {
             "colorbar": {
              "outlinewidth": 0,
              "ticks": ""
             }
            },
            "type": "scatter"
           }
          ],
          "scatter3d": [
           {
            "line": {
             "colorbar": {
              "outlinewidth": 0,
              "ticks": ""
             }
            },
            "marker": {
             "colorbar": {
              "outlinewidth": 0,
              "ticks": ""
             }
            },
            "type": "scatter3d"
           }
          ],
          "scattercarpet": [
           {
            "marker": {
             "colorbar": {
              "outlinewidth": 0,
              "ticks": ""
             }
            },
            "type": "scattercarpet"
           }
          ],
          "scattergeo": [
           {
            "marker": {
             "colorbar": {
              "outlinewidth": 0,
              "ticks": ""
             }
            },
            "type": "scattergeo"
           }
          ],
          "scattergl": [
           {
            "marker": {
             "colorbar": {
              "outlinewidth": 0,
              "ticks": ""
             }
            },
            "type": "scattergl"
           }
          ],
          "scattermapbox": [
           {
            "marker": {
             "colorbar": {
              "outlinewidth": 0,
              "ticks": ""
             }
            },
            "type": "scattermapbox"
           }
          ],
          "scatterpolar": [
           {
            "marker": {
             "colorbar": {
              "outlinewidth": 0,
              "ticks": ""
             }
            },
            "type": "scatterpolar"
           }
          ],
          "scatterpolargl": [
           {
            "marker": {
             "colorbar": {
              "outlinewidth": 0,
              "ticks": ""
             }
            },
            "type": "scatterpolargl"
           }
          ],
          "scatterternary": [
           {
            "marker": {
             "colorbar": {
              "outlinewidth": 0,
              "ticks": ""
             }
            },
            "type": "scatterternary"
           }
          ],
          "surface": [
           {
            "colorbar": {
             "outlinewidth": 0,
             "ticks": ""
            },
            "colorscale": [
             [
              0,
              "#0d0887"
             ],
             [
              0.1111111111111111,
              "#46039f"
             ],
             [
              0.2222222222222222,
              "#7201a8"
             ],
             [
              0.3333333333333333,
              "#9c179e"
             ],
             [
              0.4444444444444444,
              "#bd3786"
             ],
             [
              0.5555555555555556,
              "#d8576b"
             ],
             [
              0.6666666666666666,
              "#ed7953"
             ],
             [
              0.7777777777777778,
              "#fb9f3a"
             ],
             [
              0.8888888888888888,
              "#fdca26"
             ],
             [
              1,
              "#f0f921"
             ]
            ],
            "type": "surface"
           }
          ],
          "table": [
           {
            "cells": {
             "fill": {
              "color": "#EBF0F8"
             },
             "line": {
              "color": "white"
             }
            },
            "header": {
             "fill": {
              "color": "#C8D4E3"
             },
             "line": {
              "color": "white"
             }
            },
            "type": "table"
           }
          ]
         },
         "layout": {
          "annotationdefaults": {
           "arrowcolor": "#2a3f5f",
           "arrowhead": 0,
           "arrowwidth": 1
          },
          "coloraxis": {
           "colorbar": {
            "outlinewidth": 0,
            "ticks": ""
           }
          },
          "colorscale": {
           "diverging": [
            [
             0,
             "#8e0152"
            ],
            [
             0.1,
             "#c51b7d"
            ],
            [
             0.2,
             "#de77ae"
            ],
            [
             0.3,
             "#f1b6da"
            ],
            [
             0.4,
             "#fde0ef"
            ],
            [
             0.5,
             "#f7f7f7"
            ],
            [
             0.6,
             "#e6f5d0"
            ],
            [
             0.7,
             "#b8e186"
            ],
            [
             0.8,
             "#7fbc41"
            ],
            [
             0.9,
             "#4d9221"
            ],
            [
             1,
             "#276419"
            ]
           ],
           "sequential": [
            [
             0,
             "#0d0887"
            ],
            [
             0.1111111111111111,
             "#46039f"
            ],
            [
             0.2222222222222222,
             "#7201a8"
            ],
            [
             0.3333333333333333,
             "#9c179e"
            ],
            [
             0.4444444444444444,
             "#bd3786"
            ],
            [
             0.5555555555555556,
             "#d8576b"
            ],
            [
             0.6666666666666666,
             "#ed7953"
            ],
            [
             0.7777777777777778,
             "#fb9f3a"
            ],
            [
             0.8888888888888888,
             "#fdca26"
            ],
            [
             1,
             "#f0f921"
            ]
           ],
           "sequentialminus": [
            [
             0,
             "#0d0887"
            ],
            [
             0.1111111111111111,
             "#46039f"
            ],
            [
             0.2222222222222222,
             "#7201a8"
            ],
            [
             0.3333333333333333,
             "#9c179e"
            ],
            [
             0.4444444444444444,
             "#bd3786"
            ],
            [
             0.5555555555555556,
             "#d8576b"
            ],
            [
             0.6666666666666666,
             "#ed7953"
            ],
            [
             0.7777777777777778,
             "#fb9f3a"
            ],
            [
             0.8888888888888888,
             "#fdca26"
            ],
            [
             1,
             "#f0f921"
            ]
           ]
          },
          "colorway": [
           "#636efa",
           "#EF553B",
           "#00cc96",
           "#ab63fa",
           "#FFA15A",
           "#19d3f3",
           "#FF6692",
           "#B6E880",
           "#FF97FF",
           "#FECB52"
          ],
          "font": {
           "color": "#2a3f5f"
          },
          "geo": {
           "bgcolor": "white",
           "lakecolor": "white",
           "landcolor": "#E5ECF6",
           "showlakes": true,
           "showland": true,
           "subunitcolor": "white"
          },
          "hoverlabel": {
           "align": "left"
          },
          "hovermode": "closest",
          "mapbox": {
           "style": "light"
          },
          "paper_bgcolor": "white",
          "plot_bgcolor": "#E5ECF6",
          "polar": {
           "angularaxis": {
            "gridcolor": "white",
            "linecolor": "white",
            "ticks": ""
           },
           "bgcolor": "#E5ECF6",
           "radialaxis": {
            "gridcolor": "white",
            "linecolor": "white",
            "ticks": ""
           }
          },
          "scene": {
           "xaxis": {
            "backgroundcolor": "#E5ECF6",
            "gridcolor": "white",
            "gridwidth": 2,
            "linecolor": "white",
            "showbackground": true,
            "ticks": "",
            "zerolinecolor": "white"
           },
           "yaxis": {
            "backgroundcolor": "#E5ECF6",
            "gridcolor": "white",
            "gridwidth": 2,
            "linecolor": "white",
            "showbackground": true,
            "ticks": "",
            "zerolinecolor": "white"
           },
           "zaxis": {
            "backgroundcolor": "#E5ECF6",
            "gridcolor": "white",
            "gridwidth": 2,
            "linecolor": "white",
            "showbackground": true,
            "ticks": "",
            "zerolinecolor": "white"
           }
          },
          "shapedefaults": {
           "line": {
            "color": "#2a3f5f"
           }
          },
          "ternary": {
           "aaxis": {
            "gridcolor": "white",
            "linecolor": "white",
            "ticks": ""
           },
           "baxis": {
            "gridcolor": "white",
            "linecolor": "white",
            "ticks": ""
           },
           "bgcolor": "#E5ECF6",
           "caxis": {
            "gridcolor": "white",
            "linecolor": "white",
            "ticks": ""
           }
          },
          "title": {
           "x": 0.05
          },
          "xaxis": {
           "automargin": true,
           "gridcolor": "white",
           "linecolor": "white",
           "ticks": "",
           "title": {
            "standoff": 15
           },
           "zerolinecolor": "white",
           "zerolinewidth": 2
          },
          "yaxis": {
           "automargin": true,
           "gridcolor": "white",
           "linecolor": "white",
           "ticks": "",
           "title": {
            "standoff": 15
           },
           "zerolinecolor": "white",
           "zerolinewidth": 2
          }
         }
        },
        "title": {
         "text": "Product vs Quantity"
        },
        "xaxis": {
         "title": {
          "text": "ProductID"
         }
        },
        "yaxis": {
         "title": {
          "text": "Total Quantity Sold"
         }
        }
       }
      },
      "text/html": [
       "<div>\n",
       "        \n",
       "        \n",
       "            <div id=\"d06128dc-29f3-4ca6-ae0b-d8cfb39bd6c2\" class=\"plotly-graph-div\" style=\"height:525px; width:100%;\"></div>\n",
       "            <script type=\"text/javascript\">\n",
       "                require([\"plotly\"], function(Plotly) {\n",
       "                    window.PLOTLYENV=window.PLOTLYENV || {};\n",
       "                    \n",
       "                if (document.getElementById(\"d06128dc-29f3-4ca6-ae0b-d8cfb39bd6c2\")) {\n",
       "                    Plotly.newPlot(\n",
       "                        'd06128dc-29f3-4ca6-ae0b-d8cfb39bd6c2',\n",
       "                        [{\"marker\": {\"color\": \"rgb(300,150,20)\"}, \"type\": \"bar\", \"x\": [\"PR6444\", \"PR6417\", \"PR6440\", \"PR6518\", \"PR6338\", \"PR6418\", \"PR6260\", \"PR6690\", \"PR6513\", \"PR6448\", \"PR6442\", \"PR6544\", \"PR6224\", \"PR6475\", \"PR6517\", \"PR6512\", \"PR6427\", \"PR6115\", \"PR6258\", \"PR6525\"], \"y\": [14216571.0, 9419593.0, 6956051.0, 6429050.0, 5723814.0, 4509498.0, 4484172.0, 4387992.0, 4276757.0, 4134452.0, 3460111.0, 3188300.0, 3062502.0, 2854327.0, 2658823.0, 2453049.0, 2439790.0, 2411744.0, 2410263.0, 2265121.0]}],\n",
       "                        {\"template\": {\"data\": {\"bar\": [{\"error_x\": {\"color\": \"#2a3f5f\"}, \"error_y\": {\"color\": \"#2a3f5f\"}, \"marker\": {\"line\": {\"color\": \"#E5ECF6\", \"width\": 0.5}}, \"type\": \"bar\"}], \"barpolar\": [{\"marker\": {\"line\": {\"color\": \"#E5ECF6\", \"width\": 0.5}}, \"type\": \"barpolar\"}], \"carpet\": [{\"aaxis\": {\"endlinecolor\": \"#2a3f5f\", \"gridcolor\": \"white\", \"linecolor\": \"white\", \"minorgridcolor\": \"white\", \"startlinecolor\": \"#2a3f5f\"}, \"baxis\": {\"endlinecolor\": \"#2a3f5f\", \"gridcolor\": \"white\", \"linecolor\": \"white\", \"minorgridcolor\": \"white\", \"startlinecolor\": \"#2a3f5f\"}, \"type\": \"carpet\"}], \"choropleth\": [{\"colorbar\": {\"outlinewidth\": 0, \"ticks\": \"\"}, \"type\": \"choropleth\"}], \"contour\": [{\"colorbar\": {\"outlinewidth\": 0, \"ticks\": \"\"}, \"colorscale\": [[0.0, \"#0d0887\"], [0.1111111111111111, \"#46039f\"], [0.2222222222222222, \"#7201a8\"], [0.3333333333333333, \"#9c179e\"], [0.4444444444444444, \"#bd3786\"], [0.5555555555555556, \"#d8576b\"], [0.6666666666666666, \"#ed7953\"], [0.7777777777777778, \"#fb9f3a\"], [0.8888888888888888, \"#fdca26\"], [1.0, \"#f0f921\"]], \"type\": \"contour\"}], \"contourcarpet\": [{\"colorbar\": {\"outlinewidth\": 0, \"ticks\": \"\"}, \"type\": \"contourcarpet\"}], \"heatmap\": [{\"colorbar\": {\"outlinewidth\": 0, \"ticks\": \"\"}, \"colorscale\": [[0.0, \"#0d0887\"], [0.1111111111111111, \"#46039f\"], [0.2222222222222222, \"#7201a8\"], [0.3333333333333333, \"#9c179e\"], [0.4444444444444444, \"#bd3786\"], [0.5555555555555556, \"#d8576b\"], [0.6666666666666666, \"#ed7953\"], [0.7777777777777778, \"#fb9f3a\"], [0.8888888888888888, \"#fdca26\"], [1.0, \"#f0f921\"]], \"type\": \"heatmap\"}], \"heatmapgl\": [{\"colorbar\": {\"outlinewidth\": 0, \"ticks\": \"\"}, \"colorscale\": [[0.0, \"#0d0887\"], [0.1111111111111111, \"#46039f\"], [0.2222222222222222, \"#7201a8\"], [0.3333333333333333, \"#9c179e\"], [0.4444444444444444, \"#bd3786\"], [0.5555555555555556, \"#d8576b\"], [0.6666666666666666, \"#ed7953\"], [0.7777777777777778, \"#fb9f3a\"], [0.8888888888888888, \"#fdca26\"], [1.0, \"#f0f921\"]], \"type\": \"heatmapgl\"}], \"histogram\": [{\"marker\": {\"colorbar\": {\"outlinewidth\": 0, \"ticks\": \"\"}}, \"type\": \"histogram\"}], \"histogram2d\": [{\"colorbar\": {\"outlinewidth\": 0, \"ticks\": \"\"}, \"colorscale\": [[0.0, \"#0d0887\"], [0.1111111111111111, \"#46039f\"], [0.2222222222222222, \"#7201a8\"], [0.3333333333333333, \"#9c179e\"], [0.4444444444444444, \"#bd3786\"], [0.5555555555555556, \"#d8576b\"], [0.6666666666666666, \"#ed7953\"], [0.7777777777777778, \"#fb9f3a\"], [0.8888888888888888, \"#fdca26\"], [1.0, \"#f0f921\"]], \"type\": \"histogram2d\"}], \"histogram2dcontour\": [{\"colorbar\": {\"outlinewidth\": 0, \"ticks\": \"\"}, \"colorscale\": [[0.0, \"#0d0887\"], [0.1111111111111111, \"#46039f\"], [0.2222222222222222, \"#7201a8\"], [0.3333333333333333, \"#9c179e\"], [0.4444444444444444, \"#bd3786\"], [0.5555555555555556, \"#d8576b\"], [0.6666666666666666, \"#ed7953\"], [0.7777777777777778, \"#fb9f3a\"], [0.8888888888888888, \"#fdca26\"], [1.0, \"#f0f921\"]], \"type\": \"histogram2dcontour\"}], \"mesh3d\": [{\"colorbar\": {\"outlinewidth\": 0, \"ticks\": \"\"}, \"type\": \"mesh3d\"}], \"parcoords\": [{\"line\": {\"colorbar\": {\"outlinewidth\": 0, \"ticks\": \"\"}}, \"type\": \"parcoords\"}], \"pie\": [{\"automargin\": true, \"type\": \"pie\"}], \"scatter\": [{\"marker\": {\"colorbar\": {\"outlinewidth\": 0, \"ticks\": \"\"}}, \"type\": \"scatter\"}], \"scatter3d\": [{\"line\": {\"colorbar\": {\"outlinewidth\": 0, \"ticks\": \"\"}}, \"marker\": {\"colorbar\": {\"outlinewidth\": 0, \"ticks\": \"\"}}, \"type\": \"scatter3d\"}], \"scattercarpet\": [{\"marker\": {\"colorbar\": {\"outlinewidth\": 0, \"ticks\": \"\"}}, \"type\": \"scattercarpet\"}], \"scattergeo\": [{\"marker\": {\"colorbar\": {\"outlinewidth\": 0, \"ticks\": \"\"}}, \"type\": \"scattergeo\"}], \"scattergl\": [{\"marker\": {\"colorbar\": {\"outlinewidth\": 0, \"ticks\": \"\"}}, \"type\": \"scattergl\"}], \"scattermapbox\": [{\"marker\": {\"colorbar\": {\"outlinewidth\": 0, \"ticks\": \"\"}}, \"type\": \"scattermapbox\"}], \"scatterpolar\": [{\"marker\": {\"colorbar\": {\"outlinewidth\": 0, \"ticks\": \"\"}}, \"type\": \"scatterpolar\"}], \"scatterpolargl\": [{\"marker\": {\"colorbar\": {\"outlinewidth\": 0, \"ticks\": \"\"}}, \"type\": \"scatterpolargl\"}], \"scatterternary\": [{\"marker\": {\"colorbar\": {\"outlinewidth\": 0, \"ticks\": \"\"}}, \"type\": \"scatterternary\"}], \"surface\": [{\"colorbar\": {\"outlinewidth\": 0, \"ticks\": \"\"}, \"colorscale\": [[0.0, \"#0d0887\"], [0.1111111111111111, \"#46039f\"], [0.2222222222222222, \"#7201a8\"], [0.3333333333333333, \"#9c179e\"], [0.4444444444444444, \"#bd3786\"], [0.5555555555555556, \"#d8576b\"], [0.6666666666666666, \"#ed7953\"], [0.7777777777777778, \"#fb9f3a\"], [0.8888888888888888, \"#fdca26\"], [1.0, \"#f0f921\"]], \"type\": \"surface\"}], \"table\": [{\"cells\": {\"fill\": {\"color\": \"#EBF0F8\"}, \"line\": {\"color\": \"white\"}}, \"header\": {\"fill\": {\"color\": \"#C8D4E3\"}, \"line\": {\"color\": \"white\"}}, \"type\": \"table\"}]}, \"layout\": {\"annotationdefaults\": {\"arrowcolor\": \"#2a3f5f\", \"arrowhead\": 0, \"arrowwidth\": 1}, \"coloraxis\": {\"colorbar\": {\"outlinewidth\": 0, \"ticks\": \"\"}}, \"colorscale\": {\"diverging\": [[0, \"#8e0152\"], [0.1, \"#c51b7d\"], [0.2, \"#de77ae\"], [0.3, \"#f1b6da\"], [0.4, \"#fde0ef\"], [0.5, \"#f7f7f7\"], [0.6, \"#e6f5d0\"], [0.7, \"#b8e186\"], [0.8, \"#7fbc41\"], [0.9, \"#4d9221\"], [1, \"#276419\"]], \"sequential\": [[0.0, \"#0d0887\"], [0.1111111111111111, \"#46039f\"], [0.2222222222222222, \"#7201a8\"], [0.3333333333333333, \"#9c179e\"], [0.4444444444444444, \"#bd3786\"], [0.5555555555555556, \"#d8576b\"], [0.6666666666666666, \"#ed7953\"], [0.7777777777777778, \"#fb9f3a\"], [0.8888888888888888, \"#fdca26\"], [1.0, \"#f0f921\"]], \"sequentialminus\": [[0.0, \"#0d0887\"], [0.1111111111111111, \"#46039f\"], [0.2222222222222222, \"#7201a8\"], [0.3333333333333333, \"#9c179e\"], [0.4444444444444444, \"#bd3786\"], [0.5555555555555556, \"#d8576b\"], [0.6666666666666666, \"#ed7953\"], [0.7777777777777778, \"#fb9f3a\"], [0.8888888888888888, \"#fdca26\"], [1.0, \"#f0f921\"]]}, \"colorway\": [\"#636efa\", \"#EF553B\", \"#00cc96\", \"#ab63fa\", \"#FFA15A\", \"#19d3f3\", \"#FF6692\", \"#B6E880\", \"#FF97FF\", \"#FECB52\"], \"font\": {\"color\": \"#2a3f5f\"}, \"geo\": {\"bgcolor\": \"white\", \"lakecolor\": \"white\", \"landcolor\": \"#E5ECF6\", \"showlakes\": true, \"showland\": true, \"subunitcolor\": \"white\"}, \"hoverlabel\": {\"align\": \"left\"}, \"hovermode\": \"closest\", \"mapbox\": {\"style\": \"light\"}, \"paper_bgcolor\": \"white\", \"plot_bgcolor\": \"#E5ECF6\", \"polar\": {\"angularaxis\": {\"gridcolor\": \"white\", \"linecolor\": \"white\", \"ticks\": \"\"}, \"bgcolor\": \"#E5ECF6\", \"radialaxis\": {\"gridcolor\": \"white\", \"linecolor\": \"white\", \"ticks\": \"\"}}, \"scene\": {\"xaxis\": {\"backgroundcolor\": \"#E5ECF6\", \"gridcolor\": \"white\", \"gridwidth\": 2, \"linecolor\": \"white\", \"showbackground\": true, \"ticks\": \"\", \"zerolinecolor\": \"white\"}, \"yaxis\": {\"backgroundcolor\": \"#E5ECF6\", \"gridcolor\": \"white\", \"gridwidth\": 2, \"linecolor\": \"white\", \"showbackground\": true, \"ticks\": \"\", \"zerolinecolor\": \"white\"}, \"zaxis\": {\"backgroundcolor\": \"#E5ECF6\", \"gridcolor\": \"white\", \"gridwidth\": 2, \"linecolor\": \"white\", \"showbackground\": true, \"ticks\": \"\", \"zerolinecolor\": \"white\"}}, \"shapedefaults\": {\"line\": {\"color\": \"#2a3f5f\"}}, \"ternary\": {\"aaxis\": {\"gridcolor\": \"white\", \"linecolor\": \"white\", \"ticks\": \"\"}, \"baxis\": {\"gridcolor\": \"white\", \"linecolor\": \"white\", \"ticks\": \"\"}, \"bgcolor\": \"#E5ECF6\", \"caxis\": {\"gridcolor\": \"white\", \"linecolor\": \"white\", \"ticks\": \"\"}}, \"title\": {\"x\": 0.05}, \"xaxis\": {\"automargin\": true, \"gridcolor\": \"white\", \"linecolor\": \"white\", \"ticks\": \"\", \"title\": {\"standoff\": 15}, \"zerolinecolor\": \"white\", \"zerolinewidth\": 2}, \"yaxis\": {\"automargin\": true, \"gridcolor\": \"white\", \"linecolor\": \"white\", \"ticks\": \"\", \"title\": {\"standoff\": 15}, \"zerolinecolor\": \"white\", \"zerolinewidth\": 2}}}, \"title\": {\"text\": \"Product vs Quantity\"}, \"xaxis\": {\"title\": {\"text\": \"ProductID\"}}, \"yaxis\": {\"title\": {\"text\": \"Total Quantity Sold\"}}},\n",
       "                        {\"responsive\": true}\n",
       "                    ).then(function(){\n",
       "                            \n",
       "var gd = document.getElementById('d06128dc-29f3-4ca6-ae0b-d8cfb39bd6c2');\n",
       "var x = new MutationObserver(function (mutations, observer) {{\n",
       "        var display = window.getComputedStyle(gd).display;\n",
       "        if (!display || display === 'none') {{\n",
       "            console.log([gd, 'removed!']);\n",
       "            Plotly.purge(gd);\n",
       "            observer.disconnect();\n",
       "        }}\n",
       "}});\n",
       "\n",
       "// Listen for the removal of the full notebook cells\n",
       "var notebookContainer = gd.closest('#notebook-container');\n",
       "if (notebookContainer) {{\n",
       "    x.observe(notebookContainer, {childList: true});\n",
       "}}\n",
       "\n",
       "// Listen for the clearing of the current output cell\n",
       "var outputEl = gd.closest('.output');\n",
       "if (outputEl) {{\n",
       "    x.observe(outputEl, {childList: true});\n",
       "}}\n",
       "\n",
       "                        })\n",
       "                };\n",
       "                });\n",
       "            </script>\n",
       "        </div>"
      ]
     },
     "metadata": {},
     "output_type": "display_data"
    }
   ],
   "source": [
    "data_plot = [go.Bar(x=d_51.index,\n",
    "                          y=d_51.Quantity.astype(float),\n",
    "       marker=dict(\n",
    "        color=\"rgb(300,150,20)\",# Lava (#CC0E1D)\n",
    "#         color = 'rgb(200,0,0)'   `\n",
    "    ))]\n",
    "layout = go.Layout(title = \"Product vs Quantity\",xaxis=dict(title=\"ProductID\"),yaxis=dict(title=\"Total Quantity Sold\"))\n",
    "fig = go.Figure(data= data_plot, layout=layout)\n",
    "iplot(fig)"
   ]
  },
  {
   "cell_type": "code",
   "execution_count": 32,
   "metadata": {},
   "outputs": [
    {
     "data": {
      "text/html": [
       "<div>\n",
       "<style scoped>\n",
       "    .dataframe tbody tr th:only-of-type {\n",
       "        vertical-align: middle;\n",
       "    }\n",
       "\n",
       "    .dataframe tbody tr th {\n",
       "        vertical-align: top;\n",
       "    }\n",
       "\n",
       "    .dataframe thead th {\n",
       "        text-align: right;\n",
       "    }\n",
       "</style>\n",
       "<table border=\"1\" class=\"dataframe\">\n",
       "  <thead>\n",
       "    <tr style=\"text-align: right;\">\n",
       "      <th></th>\n",
       "      <th>ReportID</th>\n",
       "      <th>SalesPersonID</th>\n",
       "      <th>ProductID</th>\n",
       "      <th>Quantity</th>\n",
       "      <th>TotalSalesValue</th>\n",
       "      <th>Suspicious</th>\n",
       "    </tr>\n",
       "  </thead>\n",
       "  <tbody>\n",
       "    <tr>\n",
       "      <th>39296</th>\n",
       "      <td>Rep49397</td>\n",
       "      <td>C21636</td>\n",
       "      <td>PR6444</td>\n",
       "      <td>662</td>\n",
       "      <td>382890</td>\n",
       "      <td>Yes</td>\n",
       "    </tr>\n",
       "    <tr>\n",
       "      <th>39521</th>\n",
       "      <td>Rep49622</td>\n",
       "      <td>C21636</td>\n",
       "      <td>PR6444</td>\n",
       "      <td>470</td>\n",
       "      <td>270320</td>\n",
       "      <td>Yes</td>\n",
       "    </tr>\n",
       "  </tbody>\n",
       "</table>\n",
       "</div>"
      ],
      "text/plain": [
       "       ReportID SalesPersonID ProductID  Quantity  TotalSalesValue Suspicious\n",
       "39296  Rep49397        C21636    PR6444       662           382890        Yes\n",
       "39521  Rep49622        C21636    PR6444       470           270320        Yes"
      ]
     },
     "execution_count": 32,
     "metadata": {},
     "output_type": "execute_result"
    }
   ],
   "source": [
    "## therefore the second highest is checked for Suspicious Transcations which are of high quantity \n",
    "data[(data.ProductID==\"PR6444\")&(data.Suspicious==\"Yes\")]\n",
    "## we find that the quantity is less compared to TOTAL quantity "
   ]
  },
  {
   "cell_type": "markdown",
   "metadata": {},
   "source": [
    "#### Therefore, product PR6444 genineuly sold most quantity "
   ]
  },
  {
   "cell_type": "code",
   "execution_count": null,
   "metadata": {},
   "outputs": [],
   "source": []
  },
  {
   "cell_type": "code",
   "execution_count": null,
   "metadata": {},
   "outputs": [],
   "source": []
  },
  {
   "cell_type": "markdown",
   "metadata": {},
   "source": [
    "## Average Selling Price of a Product across all Reports "
   ]
  },
  {
   "cell_type": "code",
   "execution_count": 33,
   "metadata": {},
   "outputs": [],
   "source": [
    "d1=data.groupby(\"ProductID\")"
   ]
  },
  {
   "cell_type": "code",
   "execution_count": 34,
   "metadata": {},
   "outputs": [],
   "source": [
    "d1=d1.agg({'Quantity': np.sum,'TotalSalesValue':np.sum},axis=0)\n",
    "d1['ASP']=d1.TotalSalesValue/d1.Quantity ## selling price is Sales/Quantity "
   ]
  },
  {
   "cell_type": "code",
   "execution_count": 35,
   "metadata": {
    "scrolled": false
   },
   "outputs": [
    {
     "data": {
      "application/vnd.plotly.v1+json": {
       "config": {
        "linkText": "Export to plot.ly",
        "plotlyServerURL": "https://plot.ly",
        "showLink": false
       },
       "data": [
        {
         "marker": {
          "color": "#CC0E1D"
         },
         "type": "bar",
         "x": [
          "PR6112",
          "PR6113",
          "PR6114",
          "PR6115",
          "PR6116",
          "PR6117",
          "PR6118",
          "PR6119",
          "PR6120",
          "PR6121",
          "PR6122",
          "PR6123",
          "PR6124",
          "PR6125",
          "PR6126",
          "PR6127",
          "PR6128",
          "PR6129",
          "PR6130",
          "PR6131",
          "PR6132",
          "PR6133",
          "PR6134",
          "PR6135",
          "PR6136",
          "PR6137",
          "PR6138",
          "PR6139",
          "PR6140",
          "PR6141",
          "PR6142",
          "PR6143",
          "PR6144",
          "PR6145",
          "PR6146",
          "PR6147",
          "PR6148",
          "PR6149",
          "PR6150",
          "PR6151",
          "PR6152",
          "PR6153",
          "PR6154",
          "PR6155",
          "PR6156",
          "PR6157",
          "PR6158",
          "PR6159",
          "PR6160",
          "PR6161",
          "PR6162",
          "PR6163",
          "PR6164",
          "PR6165",
          "PR6166",
          "PR6167",
          "PR6168",
          "PR6169",
          "PR6170",
          "PR6171",
          "PR6172",
          "PR6173",
          "PR6174",
          "PR6175",
          "PR6176",
          "PR6177",
          "PR6178",
          "PR6179",
          "PR6180",
          "PR6181",
          "PR6182",
          "PR6183",
          "PR6184",
          "PR6185",
          "PR6186",
          "PR6187",
          "PR6188",
          "PR6189",
          "PR6190",
          "PR6191",
          "PR6192",
          "PR6193",
          "PR6194",
          "PR6195",
          "PR6196",
          "PR6197",
          "PR6198",
          "PR6199",
          "PR6200",
          "PR6201",
          "PR6202",
          "PR6203",
          "PR6204",
          "PR6205",
          "PR6206",
          "PR6207",
          "PR6208",
          "PR6209",
          "PR6210",
          "PR6211",
          "PR6212",
          "PR6213",
          "PR6214",
          "PR6215",
          "PR6216",
          "PR6217",
          "PR6218",
          "PR6219",
          "PR6220",
          "PR6221",
          "PR6222",
          "PR6223",
          "PR6224",
          "PR6225",
          "PR6226",
          "PR6227",
          "PR6228",
          "PR6229",
          "PR6230",
          "PR6231",
          "PR6232",
          "PR6233",
          "PR6234",
          "PR6235",
          "PR6236",
          "PR6237",
          "PR6238",
          "PR6239",
          "PR6240",
          "PR6241",
          "PR6242",
          "PR6243",
          "PR6244",
          "PR6245",
          "PR6246",
          "PR6247",
          "PR6248",
          "PR6249",
          "PR6250",
          "PR6251",
          "PR6252",
          "PR6253",
          "PR6254",
          "PR6255",
          "PR6256",
          "PR6257",
          "PR6258",
          "PR6259",
          "PR6260",
          "PR6261",
          "PR6262",
          "PR6263",
          "PR6264",
          "PR6265",
          "PR6266",
          "PR6267",
          "PR6268",
          "PR6269",
          "PR6270",
          "PR6271",
          "PR6272",
          "PR6273",
          "PR6274",
          "PR6275",
          "PR6276",
          "PR6277",
          "PR6278",
          "PR6279",
          "PR6280",
          "PR6281",
          "PR6282",
          "PR6283",
          "PR6284",
          "PR6285",
          "PR6286",
          "PR6287",
          "PR6288",
          "PR6289",
          "PR6290",
          "PR6291",
          "PR6292",
          "PR6293",
          "PR6294",
          "PR6295",
          "PR6296",
          "PR6297",
          "PR6298",
          "PR6299",
          "PR6300",
          "PR6301",
          "PR6302",
          "PR6303",
          "PR6304",
          "PR6305",
          "PR6306",
          "PR6307",
          "PR6308",
          "PR6309",
          "PR6310",
          "PR6311",
          "PR6312",
          "PR6313",
          "PR6314",
          "PR6315",
          "PR6316",
          "PR6317",
          "PR6318",
          "PR6319",
          "PR6320",
          "PR6321",
          "PR6322",
          "PR6323",
          "PR6324",
          "PR6325",
          "PR6326",
          "PR6327",
          "PR6328",
          "PR6329",
          "PR6330",
          "PR6331",
          "PR6332",
          "PR6333",
          "PR6334",
          "PR6335",
          "PR6336",
          "PR6337",
          "PR6338",
          "PR6339",
          "PR6340",
          "PR6341",
          "PR6342",
          "PR6343",
          "PR6344",
          "PR6345",
          "PR6346",
          "PR6347",
          "PR6348",
          "PR6349",
          "PR6350",
          "PR6351",
          "PR6352",
          "PR6353",
          "PR6354",
          "PR6355",
          "PR6356",
          "PR6357",
          "PR6358",
          "PR6359",
          "PR6360",
          "PR6361",
          "PR6362",
          "PR6363",
          "PR6364",
          "PR6365",
          "PR6366",
          "PR6367",
          "PR6368",
          "PR6369",
          "PR6370",
          "PR6371",
          "PR6372",
          "PR6373",
          "PR6374",
          "PR6375",
          "PR6376",
          "PR6377",
          "PR6378",
          "PR6379",
          "PR6380",
          "PR6381",
          "PR6382",
          "PR6383",
          "PR6384",
          "PR6385",
          "PR6386",
          "PR6387",
          "PR6388",
          "PR6389",
          "PR6390",
          "PR6391",
          "PR6392",
          "PR6393",
          "PR6394",
          "PR6395",
          "PR6396",
          "PR6397",
          "PR6398",
          "PR6399",
          "PR6400",
          "PR6401",
          "PR6402",
          "PR6403",
          "PR6404",
          "PR6405",
          "PR6406",
          "PR6407",
          "PR6408",
          "PR6409",
          "PR6410",
          "PR6411",
          "PR6412",
          "PR6413",
          "PR6414",
          "PR6415",
          "PR6416",
          "PR6417",
          "PR6418",
          "PR6419",
          "PR6420",
          "PR6421",
          "PR6422",
          "PR6423",
          "PR6424",
          "PR6425",
          "PR6426",
          "PR6427",
          "PR6428",
          "PR6429",
          "PR6430",
          "PR6431",
          "PR6432",
          "PR6433",
          "PR6434",
          "PR6435",
          "PR6436",
          "PR6437",
          "PR6438",
          "PR6439",
          "PR6440",
          "PR6441",
          "PR6442",
          "PR6443",
          "PR6444",
          "PR6445",
          "PR6446",
          "PR6447",
          "PR6448",
          "PR6449",
          "PR6450",
          "PR6451",
          "PR6452",
          "PR6453",
          "PR6454",
          "PR6455",
          "PR6456",
          "PR6457",
          "PR6458",
          "PR6459",
          "PR6460",
          "PR6461",
          "PR6462",
          "PR6463",
          "PR6464",
          "PR6465",
          "PR6466",
          "PR6467",
          "PR6468",
          "PR6469",
          "PR6470",
          "PR6471",
          "PR6472",
          "PR6473",
          "PR6474",
          "PR6475",
          "PR6476",
          "PR6477",
          "PR6478",
          "PR6479",
          "PR6480",
          "PR6481",
          "PR6482",
          "PR6483",
          "PR6484",
          "PR6485",
          "PR6486",
          "PR6487",
          "PR6488",
          "PR6489",
          "PR6490",
          "PR6491",
          "PR6492",
          "PR6493",
          "PR6494",
          "PR6495",
          "PR6496",
          "PR6497",
          "PR6498",
          "PR6499",
          "PR6500",
          "PR6501",
          "PR6502",
          "PR6503",
          "PR6504",
          "PR6505",
          "PR6506",
          "PR6507",
          "PR6508",
          "PR6509",
          "PR6510",
          "PR6511",
          "PR6512",
          "PR6513",
          "PR6514",
          "PR6515",
          "PR6516",
          "PR6517",
          "PR6518",
          "PR6519",
          "PR6520",
          "PR6521",
          "PR6522",
          "PR6523",
          "PR6524",
          "PR6525",
          "PR6526",
          "PR6527",
          "PR6528",
          "PR6529",
          "PR6530",
          "PR6531",
          "PR6532",
          "PR6533",
          "PR6534",
          "PR6535",
          "PR6536",
          "PR6537",
          "PR6538",
          "PR6539",
          "PR6540",
          "PR6541",
          "PR6542",
          "PR6543",
          "PR6544",
          "PR6545",
          "PR6546",
          "PR6547",
          "PR6548",
          "PR6549",
          "PR6550",
          "PR6551",
          "PR6552",
          "PR6553",
          "PR6554",
          "PR6555",
          "PR6556",
          "PR6557",
          "PR6558",
          "PR6559",
          "PR6560",
          "PR6561",
          "PR6562",
          "PR6563",
          "PR6564",
          "PR6565",
          "PR6566",
          "PR6567",
          "PR6568",
          "PR6569",
          "PR6570",
          "PR6571",
          "PR6572",
          "PR6573",
          "PR6574",
          "PR6575",
          "PR6576",
          "PR6577",
          "PR6578",
          "PR6579",
          "PR6580",
          "PR6581",
          "PR6582",
          "PR6583",
          "PR6584",
          "PR6585",
          "PR6586",
          "PR6587",
          "PR6588",
          "PR6589",
          "PR6590",
          "PR6591",
          "PR6592",
          "PR6593",
          "PR6594",
          "PR6595",
          "PR6596",
          "PR6597",
          "PR6598",
          "PR6599",
          "PR6600",
          "PR6601",
          "PR6602",
          "PR6603",
          "PR6604",
          "PR6605",
          "PR6606",
          "PR6607",
          "PR6608",
          "PR6609",
          "PR6610",
          "PR6611",
          "PR6612",
          "PR6613",
          "PR6614",
          "PR6615",
          "PR6616",
          "PR6617",
          "PR6618",
          "PR6619",
          "PR6620",
          "PR6621",
          "PR6622",
          "PR6623",
          "PR6624",
          "PR6625",
          "PR6626",
          "PR6627",
          "PR6628",
          "PR6629",
          "PR6630",
          "PR6631",
          "PR6632",
          "PR6633",
          "PR6634",
          "PR6635",
          "PR6636",
          "PR6637",
          "PR6638",
          "PR6639",
          "PR6640",
          "PR6641",
          "PR6642",
          "PR6643",
          "PR6644",
          "PR6645",
          "PR6646",
          "PR6647",
          "PR6648",
          "PR6649",
          "PR6650",
          "PR6651",
          "PR6652",
          "PR6653",
          "PR6654",
          "PR6655",
          "PR6656",
          "PR6657",
          "PR6658",
          "PR6659",
          "PR6660",
          "PR6661",
          "PR6662",
          "PR6663",
          "PR6664",
          "PR6665",
          "PR6666",
          "PR6667",
          "PR6668",
          "PR6669",
          "PR6670",
          "PR6671",
          "PR6672",
          "PR6673",
          "PR6674",
          "PR6675",
          "PR6676",
          "PR6677",
          "PR6678",
          "PR6679",
          "PR6680",
          "PR6681",
          "PR6682",
          "PR6683",
          "PR6684",
          "PR6685",
          "PR6686",
          "PR6687",
          "PR6688",
          "PR6689",
          "PR6690",
          "PR6691",
          "PR6692",
          "PR6693",
          "PR6694",
          "PR6695",
          "PR6696",
          "PR6697",
          "PR6698",
          "PR6699",
          "PR6700",
          "PR6701",
          "PR6702",
          "PR6703",
          "PR6704"
         ],
         "y": [
          11.621778395623519,
          38.43059936908517,
          3.2840461951503617,
          5.02466265076227,
          9.726737948552797,
          2.6208566530887736,
          8.726291522581997,
          9.088136415624025,
          3.094643228934297,
          3.347289554869987,
          1.809437386569873,
          4.115671497956981,
          8.847283699538753,
          7.137130084066281,
          10.357455713451431,
          10.654259959290492,
          12.43298969072165,
          12.249555423829282,
          4.060663055343443,
          7.989099017259889,
          6.6064060803474485,
          7.429140666115329,
          19.29253785147801,
          10.998477559222946,
          5.757456229641694,
          12.084993359893758,
          8.810455470339646,
          5.649091374456105,
          4.40519279957531,
          22.80663503056731,
          4.076299489053178,
          7.522905275602187,
          5.4969096619003075,
          27.100368145708195,
          13.964582580412,
          7.147464011144936,
          20.678598061148396,
          11.822591822591823,
          3.0603623778501627,
          5.8053077099062,
          20.26074161271336,
          7.870497320204413,
          1.176174569216488,
          7.080627477439487,
          18.612057063966866,
          7.611197167514937,
          4.338106248433017,
          18.435156392902872,
          3.5221511143159745,
          5.159100938534829,
          6.592117610259618,
          5.1429665135477,
          10.05857740585774,
          8.105668085905704,
          9.842557251908397,
          4.64876849209131,
          7.656822532130161,
          4.133733962986797,
          6.7188222791773455,
          8.935687629396174,
          2.9645459135829184,
          8.344880897847,
          2.4171671073628382,
          3.0261686936985592,
          1.662978174535827,
          4.002314540059348,
          4.5267296375055635,
          3.5441745730267282,
          2.802525344079874,
          7.326706357644057,
          5.540481228287379,
          11.771143825798084,
          4.915482933483586,
          4.374669137109581,
          10.047925832809554,
          5.344428669085555,
          14.225134926754048,
          5.085371161760051,
          1.0649428133566785,
          4.4256723475519655,
          2.7850093018991253,
          5.152198350447754,
          10.20102149509737,
          26.11904761904762,
          14.927202135404029,
          5.371747211895911,
          8.683389706924837,
          18.89309415723976,
          6.417850281863131,
          27.203546361285557,
          2.0653143524780466,
          8.858494846697349,
          41.656565656565654,
          42.097387173396676,
          6.01574081785625,
          4.7196433907004325,
          13.358575130634266,
          9.810224920143638,
          11.006178079607622,
          6.617724292431541,
          2.395981407522733,
          3.5851485329292117,
          28.247088181389433,
          14.197530864197532,
          7.563410902649166,
          6.227739129730561,
          15.394989392867966,
          9.638055523114021,
          3.6516158626918314,
          12.196710330455494,
          12.094570298453794,
          12.397078804347826,
          5.39964055533678,
          2.5454756022235947,
          18.652357366733153,
          9.09165199641064,
          6.723121449244292,
          10.297392841361026,
          5.01519221454049,
          4.534632034632034,
          12.526377491207503,
          5.002833088585958,
          6.211775738741887,
          6.275751347311278,
          7.068299873648743,
          5.485529601880417,
          9.21208878278676,
          6.736203386955416,
          43.44672309027778,
          2.030895470425105,
          2.7689170109292474,
          10.84945212005717,
          13.019510684422421,
          18.65943206186237,
          6.610861355871246,
          3.5688364741927603,
          8.55636533566656,
          13.633426474613167,
          13.418242903083293,
          6.695354026677364,
          19.01686513588969,
          11.901526918186367,
          5.42713567839196,
          1.582793511429948,
          5.202029113365682,
          2.805841951362407,
          2.4073327267605236,
          1.423318763211637,
          1.4502287155800446,
          2.9533212356818557,
          5.140317367029092,
          4.393930822235548,
          4.03655457572542,
          4.999021550353465,
          4.937121041994161,
          8.145110486528397,
          3.599130725509863,
          6.999915193147606,
          0.9682253167413046,
          0.8953912063020916,
          2.5502077109832877,
          4.325675226657806,
          3.836895883683109,
          3.65728300420154,
          6.528301112342486,
          13.032886723507918,
          10.97446051680347,
          2.6101359589592583,
          3.6622366809963447,
          8.871904024767803,
          6.0332763930624305,
          8.036065416526785,
          9.99659229499964,
          7.849146375594739,
          20.43709170391473,
          10.946740728639112,
          10.283812193412754,
          4.782020131898646,
          561.4664091598842,
          2.8547861868461415,
          10.073643688879324,
          13.191053234460723,
          23.20313735412252,
          15.219754977029096,
          19.929078014184398,
          22.570422025781625,
          7.801858099806008,
          6.119698674362863,
          5.355298583734852,
          12.630128597672995,
          2.968259985525726,
          9.976076555023923,
          8.771758235527583,
          7.345658990161098,
          1.9560322721871286,
          0.9468739400682776,
          6.388565151576042,
          6.680305510092744,
          5.964287570827052,
          5.821406347230865,
          12.032442748091603,
          3.4040742130017025,
          11.344282238442823,
          5.7891480541978595,
          13.595619208087616,
          11.926352705410821,
          8.344670145359672,
          7.466866182129115,
          66.05031096259167,
          16.37397950321348,
          18.561078104622517,
          6.660182591555141,
          10.02807348515474,
          12.851408783252007,
          12.723330840056278,
          16.40548137737175,
          24.482824916688028,
          15.882544402121802,
          10.9,
          8.461321869842545,
          5.643424036281179,
          2.5693003960022627,
          18.185826861255727,
          5.4362956525898705,
          6.520323836063999,
          20.80952380952381,
          3.4724590980769117,
          3.7909679006131602,
          31.3926100397468,
          42.13401149933658,
          19.920486435921422,
          31.030446462837407,
          41.923103259380994,
          25.848929054294455,
          8.614156550498516,
          4.859859046763865,
          18.753165571405674,
          8.725649570565444,
          16.54223054476943,
          26.23070868720266,
          43.63310947049639,
          27.863555585360537,
          74.2784568180675,
          21.20976116303219,
          27.578442765833817,
          49.0029308150034,
          3.419832549292665,
          11.544194904123982,
          28.80829559198904,
          27.655856863293263,
          12.629958693788481,
          23.06795131845842,
          5.273834076942504,
          40.152379600108425,
          78.85093167701864,
          3.6672477366387377,
          22.14639410868461,
          8.347708547888775,
          18.99061218049858,
          19.839835361488905,
          16.79713003264418,
          17.611386138613863,
          13.663757105525471,
          11.176730811767309,
          15.236223799864774,
          12.057043073341095,
          67.78779030742382,
          25.222859916623836,
          8.042998897464168,
          27.597114317425085,
          19.053907168037604,
          23.32936323495236,
          39.3635838150289,
          9.793527602870112,
          8.037571640840586,
          18.487582550460424,
          16.02519922463924,
          14.04227311112215,
          5.203597302023482,
          13.089248067463107,
          17.057773243208775,
          13.86560421633831,
          18.427281693346483,
          43.5339897315916,
          13.593200468933176,
          9.479017842309865,
          12.53444737613603,
          7.320793033421678,
          25.719123048668504,
          3.976953691420109,
          27.336655592469548,
          24.46855192588981,
          28.15227500357705,
          40.93707647628267,
          15.412328767123288,
          69.74505928853755,
          28.576423872458957,
          14.463789912077742,
          2.7424547283702214,
          1.2328238719068414,
          3.514536092639991,
          1.8405577956989247,
          0.3971838665468103,
          0.3042409814870004,
          0.21862208736344124,
          0.29194414238492045,
          0.3413450898525734,
          1.4776927592023648,
          1.8648660547227542,
          0.9141816510439155,
          1.8061741791242476,
          3.818387342956319,
          4.373287512190591,
          0.5970567137931833,
          0.4045921029744303,
          0.4110271785686473,
          16.994949494949495,
          18.460735671514115,
          2.8562228304620834,
          6.1271966919107745,
          5.462117571680282,
          27.352890865549092,
          4.057387284554644,
          1.7918383623554432,
          10.26188434207302,
          15.366697260180842,
          2.5272217696886963,
          2.967763573232323,
          0.35684902252729317,
          1.618615294246745,
          0.6150944290515535,
          0.43728113262811924,
          0.6618674081112809,
          4.472356894359605,
          9.023573432372698,
          1.255448044618039,
          0.6357529365439483,
          1.1555718469082392,
          0.7592006919541087,
          2.5194280385452283,
          3.5516316495306213,
          2.9008579599618685,
          5.8515420507568,
          4.217067471193928,
          7.059988510265171,
          4.150556496491652,
          5.6505578912148495,
          5.213729396848397,
          4.3949044585987265,
          2.047414871786316,
          2.8235822235522967,
          9.574421649934527,
          5.534007907619947,
          7.803877447201615,
          2.0007437263087184,
          3.5986540882243094,
          18.819003247211633,
          7.379506034689474,
          12.482769726247987,
          8.61393561688768,
          11.602789065386036,
          9.879329926178308,
          6.97613389522009,
          4.216422995683396,
          0.8400961827472198,
          11.080357142857142,
          5.1821636924713435,
          24.510278546217688,
          7.562625708539038,
          10.27710843373494,
          12.308754781130471,
          10.447058823529412,
          4.089312779564526,
          7.012283057337511,
          0.5525200725646615,
          15.197278911564625,
          9.613216057735679,
          11.776579739217652,
          1.8511646364346352,
          2.0804158346260317,
          3.6439686647052567,
          4.5717035611164585,
          1.8391921333097803,
          3.5273746701846966,
          1.927761949536582,
          0.9154543038398872,
          1.0598145756381674,
          8.2632282202031,
          2.6803355949996015,
          1.123518545827092,
          1.389524258341858,
          1.1161140246408001,
          6.287000072584743,
          3.057224554799479,
          4.415975154073858,
          2.9314262301188214,
          7.373761974346484,
          5.300303145130731,
          10.255780723738674,
          0.46402694756221935,
          0.5484256531361583,
          0.4539385800970221,
          4.4034606568888535,
          4.054672390207085,
          0.6230611313868614,
          0.3887584844873089,
          0.5996438042945692,
          2.1218055465108705,
          0.913068904877416,
          6.081293706293707,
          5.645129901722292,
          4.774674115456238,
          3.0405099647217453,
          0.8029063348050722,
          1.538527212236502,
          2.338415202292633,
          5.415405054687017,
          5.009147075343015,
          3.6412081554046107,
          3.652776200749404,
          15.573214911768144,
          1.5824896959835442,
          1.866372470597869,
          1.9570773841001234,
          3.5779398359161347,
          1.7176464372708298,
          3.02419595263365,
          4.190030731518281,
          1.9625231338679827,
          0.9766526207409385,
          1.2747616708854383,
          11.886930983847284,
          1.1327729511024685,
          1.537392868136675,
          10.664488017429194,
          5.500158602802605,
          15.166537567776917,
          6.747467364150617,
          0.1216528656413818,
          0.4642376565572922,
          5.109971590446134,
          10.894623655913978,
          10.470170208801884,
          2.302457769594108,
          12.520833333333334,
          15.173356773122375,
          16.64274322169059,
          19.53473132372215,
          10.133630289532293,
          7.702691494214739,
          6.92677863747877,
          8.941666666666666,
          1.6739471037293032,
          3.0246864264600144,
          7.850857897052354,
          4.554842068726137,
          2.5609821765117657,
          2.368089630356559,
          3.1403953195153456,
          7.9149455501314305,
          4.685503291057954,
          4.45204282826266,
          3.036450335407743,
          7.482285714285714,
          8.58014420410427,
          3.803647225279044,
          2.003341986081092,
          4.790291780321508,
          2.5105211330366326,
          6.642714570858283,
          5.201322604262704,
          5.468311664806492,
          6.672067853377163,
          9.257759784075574,
          7.4623577722645225,
          7.840461004192205,
          3.669345333019012,
          3.5953693164799616,
          5.385884878572387,
          8.877640845070422,
          9.755086661642803,
          5.527781116051757,
          4.893437285510639,
          12.65946330252476,
          9.219072972406867,
          19.958769633507853,
          1.3628551805154565,
          5.350544166033916,
          2.608904219110492,
          2.6221381986594423,
          7.7121065948268015,
          20.869840903850587,
          9.29018513076697,
          12.369212266987372,
          16.6598420590816,
          15.36976439790576,
          1.1072860930110606,
          3.91044776119403,
          4.794055987174744,
          12.111087465418175,
          8.845303867403315,
          20.593039511441393,
          16.95677915926584,
          3.796982372273678,
          2.0176599335815966,
          17.271765949947127,
          21.47828900917863,
          10.364238410596027,
          17.255287752090506,
          3.3839367974940116,
          6.71673049305888,
          12.149031811894883,
          37.60233073292883,
          17.52909820031299,
          4.992471880258613,
          15.611922621397552,
          8.631343743193408,
          9.074473028344528,
          22.754405912450256,
          2.2626318711826765,
          16.815560263653484,
          7.1280018801811815,
          14.324324324324325,
          39.80885588558856,
          50.720640569395016,
          28.430372954118592,
          18.291700241740532,
          41.85229472725202,
          84.3683651804671,
          49.317953861584755,
          2.336442555539272,
          35.63216299799891,
          32.7779805352798,
          20.25245839636914,
          28.660294578502036,
          12.398310845426987,
          18.599444637278722,
          23.36358987471235,
          14.517828150755388,
          17.041624732264975,
          24.826569783383604,
          7.284004670169294,
          12.914468726450641,
          15.050534689619196,
          18.608093427485063,
          23.697755571417243,
          13.10856864654333,
          49.866778852895806,
          58.0957108816521,
          40.17971951097638,
          33.28961175236097,
          34.06794948887553,
          6.943958023832854,
          3.0664511980506295,
          32.339142091152816,
          43.93071467539553,
          31.662121212121214,
          29.642385853787278,
          25.714615962549846,
          24.27880470519471,
          21.550570641479734,
          40.682800345721695,
          16.59541188738269,
          38.108995025188584,
          3.6880758067951858,
          47.24530337960465,
          36.481046522316575,
          49.3277918701914,
          40.717431927389214,
          34.26871938418474,
          47.14158442982456,
          44.47640009782343,
          30.757647511506416,
          36.90981012658228,
          28.371916770015158,
          2.1322992953519084,
          20.20236508994004,
          10.244215938303341,
          2.6022871053547956,
          10.648837426609148,
          16.389341228719466,
          13.496450304259636,
          21.935321616663707,
          7.405657444824371,
          5.671475446360755,
          7.170948611544621,
          2.7044242278375146,
          6.621475399401693,
          6.586466165413534,
          6.472217130252139,
          7.116020868288591,
          8.022740406757585,
          9.592122731966366
         ]
        }
       ],
       "layout": {
        "template": {
         "data": {
          "bar": [
           {
            "error_x": {
             "color": "#2a3f5f"
            },
            "error_y": {
             "color": "#2a3f5f"
            },
            "marker": {
             "line": {
              "color": "#E5ECF6",
              "width": 0.5
             }
            },
            "type": "bar"
           }
          ],
          "barpolar": [
           {
            "marker": {
             "line": {
              "color": "#E5ECF6",
              "width": 0.5
             }
            },
            "type": "barpolar"
           }
          ],
          "carpet": [
           {
            "aaxis": {
             "endlinecolor": "#2a3f5f",
             "gridcolor": "white",
             "linecolor": "white",
             "minorgridcolor": "white",
             "startlinecolor": "#2a3f5f"
            },
            "baxis": {
             "endlinecolor": "#2a3f5f",
             "gridcolor": "white",
             "linecolor": "white",
             "minorgridcolor": "white",
             "startlinecolor": "#2a3f5f"
            },
            "type": "carpet"
           }
          ],
          "choropleth": [
           {
            "colorbar": {
             "outlinewidth": 0,
             "ticks": ""
            },
            "type": "choropleth"
           }
          ],
          "contour": [
           {
            "colorbar": {
             "outlinewidth": 0,
             "ticks": ""
            },
            "colorscale": [
             [
              0,
              "#0d0887"
             ],
             [
              0.1111111111111111,
              "#46039f"
             ],
             [
              0.2222222222222222,
              "#7201a8"
             ],
             [
              0.3333333333333333,
              "#9c179e"
             ],
             [
              0.4444444444444444,
              "#bd3786"
             ],
             [
              0.5555555555555556,
              "#d8576b"
             ],
             [
              0.6666666666666666,
              "#ed7953"
             ],
             [
              0.7777777777777778,
              "#fb9f3a"
             ],
             [
              0.8888888888888888,
              "#fdca26"
             ],
             [
              1,
              "#f0f921"
             ]
            ],
            "type": "contour"
           }
          ],
          "contourcarpet": [
           {
            "colorbar": {
             "outlinewidth": 0,
             "ticks": ""
            },
            "type": "contourcarpet"
           }
          ],
          "heatmap": [
           {
            "colorbar": {
             "outlinewidth": 0,
             "ticks": ""
            },
            "colorscale": [
             [
              0,
              "#0d0887"
             ],
             [
              0.1111111111111111,
              "#46039f"
             ],
             [
              0.2222222222222222,
              "#7201a8"
             ],
             [
              0.3333333333333333,
              "#9c179e"
             ],
             [
              0.4444444444444444,
              "#bd3786"
             ],
             [
              0.5555555555555556,
              "#d8576b"
             ],
             [
              0.6666666666666666,
              "#ed7953"
             ],
             [
              0.7777777777777778,
              "#fb9f3a"
             ],
             [
              0.8888888888888888,
              "#fdca26"
             ],
             [
              1,
              "#f0f921"
             ]
            ],
            "type": "heatmap"
           }
          ],
          "heatmapgl": [
           {
            "colorbar": {
             "outlinewidth": 0,
             "ticks": ""
            },
            "colorscale": [
             [
              0,
              "#0d0887"
             ],
             [
              0.1111111111111111,
              "#46039f"
             ],
             [
              0.2222222222222222,
              "#7201a8"
             ],
             [
              0.3333333333333333,
              "#9c179e"
             ],
             [
              0.4444444444444444,
              "#bd3786"
             ],
             [
              0.5555555555555556,
              "#d8576b"
             ],
             [
              0.6666666666666666,
              "#ed7953"
             ],
             [
              0.7777777777777778,
              "#fb9f3a"
             ],
             [
              0.8888888888888888,
              "#fdca26"
             ],
             [
              1,
              "#f0f921"
             ]
            ],
            "type": "heatmapgl"
           }
          ],
          "histogram": [
           {
            "marker": {
             "colorbar": {
              "outlinewidth": 0,
              "ticks": ""
             }
            },
            "type": "histogram"
           }
          ],
          "histogram2d": [
           {
            "colorbar": {
             "outlinewidth": 0,
             "ticks": ""
            },
            "colorscale": [
             [
              0,
              "#0d0887"
             ],
             [
              0.1111111111111111,
              "#46039f"
             ],
             [
              0.2222222222222222,
              "#7201a8"
             ],
             [
              0.3333333333333333,
              "#9c179e"
             ],
             [
              0.4444444444444444,
              "#bd3786"
             ],
             [
              0.5555555555555556,
              "#d8576b"
             ],
             [
              0.6666666666666666,
              "#ed7953"
             ],
             [
              0.7777777777777778,
              "#fb9f3a"
             ],
             [
              0.8888888888888888,
              "#fdca26"
             ],
             [
              1,
              "#f0f921"
             ]
            ],
            "type": "histogram2d"
           }
          ],
          "histogram2dcontour": [
           {
            "colorbar": {
             "outlinewidth": 0,
             "ticks": ""
            },
            "colorscale": [
             [
              0,
              "#0d0887"
             ],
             [
              0.1111111111111111,
              "#46039f"
             ],
             [
              0.2222222222222222,
              "#7201a8"
             ],
             [
              0.3333333333333333,
              "#9c179e"
             ],
             [
              0.4444444444444444,
              "#bd3786"
             ],
             [
              0.5555555555555556,
              "#d8576b"
             ],
             [
              0.6666666666666666,
              "#ed7953"
             ],
             [
              0.7777777777777778,
              "#fb9f3a"
             ],
             [
              0.8888888888888888,
              "#fdca26"
             ],
             [
              1,
              "#f0f921"
             ]
            ],
            "type": "histogram2dcontour"
           }
          ],
          "mesh3d": [
           {
            "colorbar": {
             "outlinewidth": 0,
             "ticks": ""
            },
            "type": "mesh3d"
           }
          ],
          "parcoords": [
           {
            "line": {
             "colorbar": {
              "outlinewidth": 0,
              "ticks": ""
             }
            },
            "type": "parcoords"
           }
          ],
          "pie": [
           {
            "automargin": true,
            "type": "pie"
           }
          ],
          "scatter": [
           {
            "marker": {
             "colorbar": {
              "outlinewidth": 0,
              "ticks": ""
             }
            },
            "type": "scatter"
           }
          ],
          "scatter3d": [
           {
            "line": {
             "colorbar": {
              "outlinewidth": 0,
              "ticks": ""
             }
            },
            "marker": {
             "colorbar": {
              "outlinewidth": 0,
              "ticks": ""
             }
            },
            "type": "scatter3d"
           }
          ],
          "scattercarpet": [
           {
            "marker": {
             "colorbar": {
              "outlinewidth": 0,
              "ticks": ""
             }
            },
            "type": "scattercarpet"
           }
          ],
          "scattergeo": [
           {
            "marker": {
             "colorbar": {
              "outlinewidth": 0,
              "ticks": ""
             }
            },
            "type": "scattergeo"
           }
          ],
          "scattergl": [
           {
            "marker": {
             "colorbar": {
              "outlinewidth": 0,
              "ticks": ""
             }
            },
            "type": "scattergl"
           }
          ],
          "scattermapbox": [
           {
            "marker": {
             "colorbar": {
              "outlinewidth": 0,
              "ticks": ""
             }
            },
            "type": "scattermapbox"
           }
          ],
          "scatterpolar": [
           {
            "marker": {
             "colorbar": {
              "outlinewidth": 0,
              "ticks": ""
             }
            },
            "type": "scatterpolar"
           }
          ],
          "scatterpolargl": [
           {
            "marker": {
             "colorbar": {
              "outlinewidth": 0,
              "ticks": ""
             }
            },
            "type": "scatterpolargl"
           }
          ],
          "scatterternary": [
           {
            "marker": {
             "colorbar": {
              "outlinewidth": 0,
              "ticks": ""
             }
            },
            "type": "scatterternary"
           }
          ],
          "surface": [
           {
            "colorbar": {
             "outlinewidth": 0,
             "ticks": ""
            },
            "colorscale": [
             [
              0,
              "#0d0887"
             ],
             [
              0.1111111111111111,
              "#46039f"
             ],
             [
              0.2222222222222222,
              "#7201a8"
             ],
             [
              0.3333333333333333,
              "#9c179e"
             ],
             [
              0.4444444444444444,
              "#bd3786"
             ],
             [
              0.5555555555555556,
              "#d8576b"
             ],
             [
              0.6666666666666666,
              "#ed7953"
             ],
             [
              0.7777777777777778,
              "#fb9f3a"
             ],
             [
              0.8888888888888888,
              "#fdca26"
             ],
             [
              1,
              "#f0f921"
             ]
            ],
            "type": "surface"
           }
          ],
          "table": [
           {
            "cells": {
             "fill": {
              "color": "#EBF0F8"
             },
             "line": {
              "color": "white"
             }
            },
            "header": {
             "fill": {
              "color": "#C8D4E3"
             },
             "line": {
              "color": "white"
             }
            },
            "type": "table"
           }
          ]
         },
         "layout": {
          "annotationdefaults": {
           "arrowcolor": "#2a3f5f",
           "arrowhead": 0,
           "arrowwidth": 1
          },
          "coloraxis": {
           "colorbar": {
            "outlinewidth": 0,
            "ticks": ""
           }
          },
          "colorscale": {
           "diverging": [
            [
             0,
             "#8e0152"
            ],
            [
             0.1,
             "#c51b7d"
            ],
            [
             0.2,
             "#de77ae"
            ],
            [
             0.3,
             "#f1b6da"
            ],
            [
             0.4,
             "#fde0ef"
            ],
            [
             0.5,
             "#f7f7f7"
            ],
            [
             0.6,
             "#e6f5d0"
            ],
            [
             0.7,
             "#b8e186"
            ],
            [
             0.8,
             "#7fbc41"
            ],
            [
             0.9,
             "#4d9221"
            ],
            [
             1,
             "#276419"
            ]
           ],
           "sequential": [
            [
             0,
             "#0d0887"
            ],
            [
             0.1111111111111111,
             "#46039f"
            ],
            [
             0.2222222222222222,
             "#7201a8"
            ],
            [
             0.3333333333333333,
             "#9c179e"
            ],
            [
             0.4444444444444444,
             "#bd3786"
            ],
            [
             0.5555555555555556,
             "#d8576b"
            ],
            [
             0.6666666666666666,
             "#ed7953"
            ],
            [
             0.7777777777777778,
             "#fb9f3a"
            ],
            [
             0.8888888888888888,
             "#fdca26"
            ],
            [
             1,
             "#f0f921"
            ]
           ],
           "sequentialminus": [
            [
             0,
             "#0d0887"
            ],
            [
             0.1111111111111111,
             "#46039f"
            ],
            [
             0.2222222222222222,
             "#7201a8"
            ],
            [
             0.3333333333333333,
             "#9c179e"
            ],
            [
             0.4444444444444444,
             "#bd3786"
            ],
            [
             0.5555555555555556,
             "#d8576b"
            ],
            [
             0.6666666666666666,
             "#ed7953"
            ],
            [
             0.7777777777777778,
             "#fb9f3a"
            ],
            [
             0.8888888888888888,
             "#fdca26"
            ],
            [
             1,
             "#f0f921"
            ]
           ]
          },
          "colorway": [
           "#636efa",
           "#EF553B",
           "#00cc96",
           "#ab63fa",
           "#FFA15A",
           "#19d3f3",
           "#FF6692",
           "#B6E880",
           "#FF97FF",
           "#FECB52"
          ],
          "font": {
           "color": "#2a3f5f"
          },
          "geo": {
           "bgcolor": "white",
           "lakecolor": "white",
           "landcolor": "#E5ECF6",
           "showlakes": true,
           "showland": true,
           "subunitcolor": "white"
          },
          "hoverlabel": {
           "align": "left"
          },
          "hovermode": "closest",
          "mapbox": {
           "style": "light"
          },
          "paper_bgcolor": "white",
          "plot_bgcolor": "#E5ECF6",
          "polar": {
           "angularaxis": {
            "gridcolor": "white",
            "linecolor": "white",
            "ticks": ""
           },
           "bgcolor": "#E5ECF6",
           "radialaxis": {
            "gridcolor": "white",
            "linecolor": "white",
            "ticks": ""
           }
          },
          "scene": {
           "xaxis": {
            "backgroundcolor": "#E5ECF6",
            "gridcolor": "white",
            "gridwidth": 2,
            "linecolor": "white",
            "showbackground": true,
            "ticks": "",
            "zerolinecolor": "white"
           },
           "yaxis": {
            "backgroundcolor": "#E5ECF6",
            "gridcolor": "white",
            "gridwidth": 2,
            "linecolor": "white",
            "showbackground": true,
            "ticks": "",
            "zerolinecolor": "white"
           },
           "zaxis": {
            "backgroundcolor": "#E5ECF6",
            "gridcolor": "white",
            "gridwidth": 2,
            "linecolor": "white",
            "showbackground": true,
            "ticks": "",
            "zerolinecolor": "white"
           }
          },
          "shapedefaults": {
           "line": {
            "color": "#2a3f5f"
           }
          },
          "ternary": {
           "aaxis": {
            "gridcolor": "white",
            "linecolor": "white",
            "ticks": ""
           },
           "baxis": {
            "gridcolor": "white",
            "linecolor": "white",
            "ticks": ""
           },
           "bgcolor": "#E5ECF6",
           "caxis": {
            "gridcolor": "white",
            "linecolor": "white",
            "ticks": ""
           }
          },
          "title": {
           "x": 0.05
          },
          "xaxis": {
           "automargin": true,
           "gridcolor": "white",
           "linecolor": "white",
           "ticks": "",
           "title": {
            "standoff": 15
           },
           "zerolinecolor": "white",
           "zerolinewidth": 2
          },
          "yaxis": {
           "automargin": true,
           "gridcolor": "white",
           "linecolor": "white",
           "ticks": "",
           "title": {
            "standoff": 15
           },
           "zerolinecolor": "white",
           "zerolinewidth": 2
          }
         }
        },
        "title": {
         "text": "Product vs ASP"
        }
       }
      },
      "text/html": [
       "<div>\n",
       "        \n",
       "        \n",
       "            <div id=\"6b39dd96-8cd9-4321-aa77-b5301554633b\" class=\"plotly-graph-div\" style=\"height:525px; width:100%;\"></div>\n",
       "            <script type=\"text/javascript\">\n",
       "                require([\"plotly\"], function(Plotly) {\n",
       "                    window.PLOTLYENV=window.PLOTLYENV || {};\n",
       "                    \n",
       "                if (document.getElementById(\"6b39dd96-8cd9-4321-aa77-b5301554633b\")) {\n",
       "                    Plotly.newPlot(\n",
       "                        '6b39dd96-8cd9-4321-aa77-b5301554633b',\n",
       "                        [{\"marker\": {\"color\": \"#CC0E1D\"}, \"type\": \"bar\", \"x\": [\"PR6112\", \"PR6113\", \"PR6114\", \"PR6115\", \"PR6116\", \"PR6117\", \"PR6118\", \"PR6119\", \"PR6120\", \"PR6121\", \"PR6122\", \"PR6123\", \"PR6124\", \"PR6125\", \"PR6126\", \"PR6127\", \"PR6128\", \"PR6129\", \"PR6130\", \"PR6131\", \"PR6132\", \"PR6133\", \"PR6134\", \"PR6135\", \"PR6136\", \"PR6137\", \"PR6138\", \"PR6139\", \"PR6140\", \"PR6141\", \"PR6142\", \"PR6143\", \"PR6144\", \"PR6145\", \"PR6146\", \"PR6147\", \"PR6148\", \"PR6149\", \"PR6150\", \"PR6151\", \"PR6152\", \"PR6153\", \"PR6154\", \"PR6155\", \"PR6156\", \"PR6157\", \"PR6158\", \"PR6159\", \"PR6160\", \"PR6161\", \"PR6162\", \"PR6163\", \"PR6164\", \"PR6165\", \"PR6166\", \"PR6167\", \"PR6168\", \"PR6169\", \"PR6170\", \"PR6171\", \"PR6172\", \"PR6173\", \"PR6174\", \"PR6175\", \"PR6176\", \"PR6177\", \"PR6178\", \"PR6179\", \"PR6180\", \"PR6181\", \"PR6182\", \"PR6183\", \"PR6184\", \"PR6185\", \"PR6186\", \"PR6187\", \"PR6188\", \"PR6189\", \"PR6190\", \"PR6191\", \"PR6192\", \"PR6193\", \"PR6194\", \"PR6195\", \"PR6196\", \"PR6197\", \"PR6198\", \"PR6199\", \"PR6200\", \"PR6201\", \"PR6202\", \"PR6203\", \"PR6204\", \"PR6205\", \"PR6206\", \"PR6207\", \"PR6208\", \"PR6209\", \"PR6210\", \"PR6211\", \"PR6212\", \"PR6213\", \"PR6214\", \"PR6215\", \"PR6216\", \"PR6217\", \"PR6218\", \"PR6219\", \"PR6220\", \"PR6221\", \"PR6222\", \"PR6223\", \"PR6224\", \"PR6225\", \"PR6226\", \"PR6227\", \"PR6228\", \"PR6229\", \"PR6230\", \"PR6231\", \"PR6232\", \"PR6233\", \"PR6234\", \"PR6235\", \"PR6236\", \"PR6237\", \"PR6238\", \"PR6239\", \"PR6240\", \"PR6241\", \"PR6242\", \"PR6243\", \"PR6244\", \"PR6245\", \"PR6246\", \"PR6247\", \"PR6248\", \"PR6249\", \"PR6250\", \"PR6251\", \"PR6252\", \"PR6253\", \"PR6254\", \"PR6255\", \"PR6256\", \"PR6257\", \"PR6258\", \"PR6259\", \"PR6260\", \"PR6261\", \"PR6262\", \"PR6263\", \"PR6264\", \"PR6265\", \"PR6266\", \"PR6267\", \"PR6268\", \"PR6269\", \"PR6270\", \"PR6271\", \"PR6272\", \"PR6273\", \"PR6274\", \"PR6275\", \"PR6276\", \"PR6277\", \"PR6278\", \"PR6279\", \"PR6280\", \"PR6281\", \"PR6282\", \"PR6283\", \"PR6284\", \"PR6285\", \"PR6286\", \"PR6287\", \"PR6288\", \"PR6289\", \"PR6290\", \"PR6291\", \"PR6292\", \"PR6293\", \"PR6294\", \"PR6295\", \"PR6296\", \"PR6297\", \"PR6298\", \"PR6299\", \"PR6300\", \"PR6301\", \"PR6302\", \"PR6303\", \"PR6304\", \"PR6305\", \"PR6306\", \"PR6307\", \"PR6308\", \"PR6309\", \"PR6310\", \"PR6311\", \"PR6312\", \"PR6313\", \"PR6314\", \"PR6315\", \"PR6316\", \"PR6317\", \"PR6318\", \"PR6319\", \"PR6320\", \"PR6321\", \"PR6322\", \"PR6323\", \"PR6324\", \"PR6325\", \"PR6326\", \"PR6327\", \"PR6328\", \"PR6329\", \"PR6330\", \"PR6331\", \"PR6332\", \"PR6333\", \"PR6334\", \"PR6335\", \"PR6336\", \"PR6337\", \"PR6338\", \"PR6339\", \"PR6340\", \"PR6341\", \"PR6342\", \"PR6343\", \"PR6344\", \"PR6345\", \"PR6346\", \"PR6347\", \"PR6348\", \"PR6349\", \"PR6350\", \"PR6351\", \"PR6352\", \"PR6353\", \"PR6354\", \"PR6355\", \"PR6356\", \"PR6357\", \"PR6358\", \"PR6359\", \"PR6360\", \"PR6361\", \"PR6362\", \"PR6363\", \"PR6364\", \"PR6365\", \"PR6366\", \"PR6367\", \"PR6368\", \"PR6369\", \"PR6370\", \"PR6371\", \"PR6372\", \"PR6373\", \"PR6374\", \"PR6375\", \"PR6376\", \"PR6377\", \"PR6378\", \"PR6379\", \"PR6380\", \"PR6381\", \"PR6382\", \"PR6383\", \"PR6384\", \"PR6385\", \"PR6386\", \"PR6387\", \"PR6388\", \"PR6389\", \"PR6390\", \"PR6391\", \"PR6392\", \"PR6393\", \"PR6394\", \"PR6395\", \"PR6396\", \"PR6397\", \"PR6398\", \"PR6399\", \"PR6400\", \"PR6401\", \"PR6402\", \"PR6403\", \"PR6404\", \"PR6405\", \"PR6406\", \"PR6407\", \"PR6408\", \"PR6409\", \"PR6410\", \"PR6411\", \"PR6412\", \"PR6413\", \"PR6414\", \"PR6415\", \"PR6416\", \"PR6417\", \"PR6418\", \"PR6419\", \"PR6420\", \"PR6421\", \"PR6422\", \"PR6423\", \"PR6424\", \"PR6425\", \"PR6426\", \"PR6427\", \"PR6428\", \"PR6429\", \"PR6430\", \"PR6431\", \"PR6432\", \"PR6433\", \"PR6434\", \"PR6435\", \"PR6436\", \"PR6437\", \"PR6438\", \"PR6439\", \"PR6440\", \"PR6441\", \"PR6442\", \"PR6443\", \"PR6444\", \"PR6445\", \"PR6446\", \"PR6447\", \"PR6448\", \"PR6449\", \"PR6450\", \"PR6451\", \"PR6452\", \"PR6453\", \"PR6454\", \"PR6455\", \"PR6456\", \"PR6457\", \"PR6458\", \"PR6459\", \"PR6460\", \"PR6461\", \"PR6462\", \"PR6463\", \"PR6464\", \"PR6465\", \"PR6466\", \"PR6467\", \"PR6468\", \"PR6469\", \"PR6470\", \"PR6471\", \"PR6472\", \"PR6473\", \"PR6474\", \"PR6475\", \"PR6476\", \"PR6477\", \"PR6478\", \"PR6479\", \"PR6480\", \"PR6481\", \"PR6482\", \"PR6483\", \"PR6484\", \"PR6485\", \"PR6486\", \"PR6487\", \"PR6488\", \"PR6489\", \"PR6490\", \"PR6491\", \"PR6492\", \"PR6493\", \"PR6494\", \"PR6495\", \"PR6496\", \"PR6497\", \"PR6498\", \"PR6499\", \"PR6500\", \"PR6501\", \"PR6502\", \"PR6503\", \"PR6504\", \"PR6505\", \"PR6506\", \"PR6507\", \"PR6508\", \"PR6509\", \"PR6510\", \"PR6511\", \"PR6512\", \"PR6513\", \"PR6514\", \"PR6515\", \"PR6516\", \"PR6517\", \"PR6518\", \"PR6519\", \"PR6520\", \"PR6521\", \"PR6522\", \"PR6523\", \"PR6524\", \"PR6525\", \"PR6526\", \"PR6527\", \"PR6528\", \"PR6529\", \"PR6530\", \"PR6531\", \"PR6532\", \"PR6533\", \"PR6534\", \"PR6535\", \"PR6536\", \"PR6537\", \"PR6538\", \"PR6539\", \"PR6540\", \"PR6541\", \"PR6542\", \"PR6543\", \"PR6544\", \"PR6545\", \"PR6546\", \"PR6547\", \"PR6548\", \"PR6549\", \"PR6550\", \"PR6551\", \"PR6552\", \"PR6553\", \"PR6554\", \"PR6555\", \"PR6556\", \"PR6557\", \"PR6558\", \"PR6559\", \"PR6560\", \"PR6561\", \"PR6562\", \"PR6563\", \"PR6564\", \"PR6565\", \"PR6566\", \"PR6567\", \"PR6568\", \"PR6569\", \"PR6570\", \"PR6571\", \"PR6572\", \"PR6573\", \"PR6574\", \"PR6575\", \"PR6576\", \"PR6577\", \"PR6578\", \"PR6579\", \"PR6580\", \"PR6581\", \"PR6582\", \"PR6583\", \"PR6584\", \"PR6585\", \"PR6586\", \"PR6587\", \"PR6588\", \"PR6589\", \"PR6590\", \"PR6591\", \"PR6592\", \"PR6593\", \"PR6594\", \"PR6595\", \"PR6596\", \"PR6597\", \"PR6598\", \"PR6599\", \"PR6600\", \"PR6601\", \"PR6602\", \"PR6603\", \"PR6604\", \"PR6605\", \"PR6606\", \"PR6607\", \"PR6608\", \"PR6609\", \"PR6610\", \"PR6611\", \"PR6612\", \"PR6613\", \"PR6614\", \"PR6615\", \"PR6616\", \"PR6617\", \"PR6618\", \"PR6619\", \"PR6620\", \"PR6621\", \"PR6622\", \"PR6623\", \"PR6624\", \"PR6625\", \"PR6626\", \"PR6627\", \"PR6628\", \"PR6629\", \"PR6630\", \"PR6631\", \"PR6632\", \"PR6633\", \"PR6634\", \"PR6635\", \"PR6636\", \"PR6637\", \"PR6638\", \"PR6639\", \"PR6640\", \"PR6641\", \"PR6642\", \"PR6643\", \"PR6644\", \"PR6645\", \"PR6646\", \"PR6647\", \"PR6648\", \"PR6649\", \"PR6650\", \"PR6651\", \"PR6652\", \"PR6653\", \"PR6654\", \"PR6655\", \"PR6656\", \"PR6657\", \"PR6658\", \"PR6659\", \"PR6660\", \"PR6661\", \"PR6662\", \"PR6663\", \"PR6664\", \"PR6665\", \"PR6666\", \"PR6667\", \"PR6668\", \"PR6669\", \"PR6670\", \"PR6671\", \"PR6672\", \"PR6673\", \"PR6674\", \"PR6675\", \"PR6676\", \"PR6677\", \"PR6678\", \"PR6679\", \"PR6680\", \"PR6681\", \"PR6682\", \"PR6683\", \"PR6684\", \"PR6685\", \"PR6686\", \"PR6687\", \"PR6688\", \"PR6689\", \"PR6690\", \"PR6691\", \"PR6692\", \"PR6693\", \"PR6694\", \"PR6695\", \"PR6696\", \"PR6697\", \"PR6698\", \"PR6699\", \"PR6700\", \"PR6701\", \"PR6702\", \"PR6703\", \"PR6704\"], \"y\": [11.621778395623519, 38.43059936908517, 3.2840461951503617, 5.02466265076227, 9.726737948552797, 2.6208566530887736, 8.726291522581997, 9.088136415624025, 3.094643228934297, 3.347289554869987, 1.809437386569873, 4.115671497956981, 8.847283699538753, 7.137130084066281, 10.357455713451431, 10.654259959290492, 12.43298969072165, 12.249555423829282, 4.060663055343443, 7.989099017259889, 6.6064060803474485, 7.429140666115329, 19.29253785147801, 10.998477559222946, 5.757456229641694, 12.084993359893758, 8.810455470339646, 5.649091374456105, 4.40519279957531, 22.80663503056731, 4.076299489053178, 7.522905275602187, 5.4969096619003075, 27.100368145708195, 13.964582580412, 7.147464011144936, 20.678598061148396, 11.822591822591823, 3.0603623778501627, 5.8053077099062, 20.26074161271336, 7.870497320204413, 1.176174569216488, 7.080627477439487, 18.612057063966866, 7.611197167514937, 4.338106248433017, 18.435156392902872, 3.5221511143159745, 5.159100938534829, 6.592117610259618, 5.1429665135477, 10.05857740585774, 8.105668085905704, 9.842557251908397, 4.64876849209131, 7.656822532130161, 4.133733962986797, 6.7188222791773455, 8.935687629396174, 2.9645459135829184, 8.344880897847, 2.4171671073628382, 3.0261686936985592, 1.662978174535827, 4.002314540059348, 4.5267296375055635, 3.5441745730267282, 2.802525344079874, 7.326706357644057, 5.540481228287379, 11.771143825798084, 4.915482933483586, 4.374669137109581, 10.047925832809554, 5.344428669085555, 14.225134926754048, 5.085371161760051, 1.0649428133566785, 4.4256723475519655, 2.7850093018991253, 5.152198350447754, 10.20102149509737, 26.11904761904762, 14.927202135404029, 5.371747211895911, 8.683389706924837, 18.89309415723976, 6.417850281863131, 27.203546361285557, 2.0653143524780466, 8.858494846697349, 41.656565656565654, 42.097387173396676, 6.01574081785625, 4.7196433907004325, 13.358575130634266, 9.810224920143638, 11.006178079607622, 6.617724292431541, 2.395981407522733, 3.5851485329292117, 28.247088181389433, 14.197530864197532, 7.563410902649166, 6.227739129730561, 15.394989392867966, 9.638055523114021, 3.6516158626918314, 12.196710330455494, 12.094570298453794, 12.397078804347826, 5.39964055533678, 2.5454756022235947, 18.652357366733153, 9.09165199641064, 6.723121449244292, 10.297392841361026, 5.01519221454049, 4.534632034632034, 12.526377491207503, 5.002833088585958, 6.211775738741887, 6.275751347311278, 7.068299873648743, 5.485529601880417, 9.21208878278676, 6.736203386955416, 43.44672309027778, 2.030895470425105, 2.7689170109292474, 10.84945212005717, 13.019510684422421, 18.65943206186237, 6.610861355871246, 3.5688364741927603, 8.55636533566656, 13.633426474613167, 13.418242903083293, 6.695354026677364, 19.01686513588969, 11.901526918186367, 5.42713567839196, 1.582793511429948, 5.202029113365682, 2.805841951362407, 2.4073327267605236, 1.423318763211637, 1.4502287155800446, 2.9533212356818557, 5.140317367029092, 4.393930822235548, 4.03655457572542, 4.999021550353465, 4.937121041994161, 8.145110486528397, 3.599130725509863, 6.999915193147606, 0.9682253167413046, 0.8953912063020916, 2.5502077109832877, 4.325675226657806, 3.836895883683109, 3.65728300420154, 6.528301112342486, 13.032886723507918, 10.97446051680347, 2.6101359589592583, 3.6622366809963447, 8.871904024767803, 6.0332763930624305, 8.036065416526785, 9.99659229499964, 7.849146375594739, 20.43709170391473, 10.946740728639112, 10.283812193412754, 4.782020131898646, 561.4664091598842, 2.8547861868461415, 10.073643688879324, 13.191053234460723, 23.20313735412252, 15.219754977029096, 19.929078014184398, 22.570422025781625, 7.801858099806008, 6.119698674362863, 5.355298583734852, 12.630128597672995, 2.968259985525726, 9.976076555023923, 8.771758235527583, 7.345658990161098, 1.9560322721871286, 0.9468739400682776, 6.388565151576042, 6.680305510092744, 5.964287570827052, 5.821406347230865, 12.032442748091603, 3.4040742130017025, 11.344282238442823, 5.7891480541978595, 13.595619208087616, 11.926352705410821, 8.344670145359672, 7.466866182129115, 66.05031096259167, 16.37397950321348, 18.561078104622517, 6.660182591555141, 10.02807348515474, 12.851408783252007, 12.723330840056278, 16.40548137737175, 24.482824916688028, 15.882544402121802, 10.9, 8.461321869842545, 5.643424036281179, 2.5693003960022627, 18.185826861255727, 5.4362956525898705, 6.520323836063999, 20.80952380952381, 3.4724590980769117, 3.7909679006131602, 31.3926100397468, 42.13401149933658, 19.920486435921422, 31.030446462837407, 41.923103259380994, 25.848929054294455, 8.614156550498516, 4.859859046763865, 18.753165571405674, 8.725649570565444, 16.54223054476943, 26.23070868720266, 43.63310947049639, 27.863555585360537, 74.2784568180675, 21.20976116303219, 27.578442765833817, 49.0029308150034, 3.419832549292665, 11.544194904123982, 28.80829559198904, 27.655856863293263, 12.629958693788481, 23.06795131845842, 5.273834076942504, 40.152379600108425, 78.85093167701864, 3.6672477366387377, 22.14639410868461, 8.347708547888775, 18.99061218049858, 19.839835361488905, 16.79713003264418, 17.611386138613863, 13.663757105525471, 11.176730811767309, 15.236223799864774, 12.057043073341095, 67.78779030742382, 25.222859916623836, 8.042998897464168, 27.597114317425085, 19.053907168037604, 23.32936323495236, 39.3635838150289, 9.793527602870112, 8.037571640840586, 18.487582550460424, 16.02519922463924, 14.04227311112215, 5.203597302023482, 13.089248067463107, 17.057773243208775, 13.86560421633831, 18.427281693346483, 43.5339897315916, 13.593200468933176, 9.479017842309865, 12.53444737613603, 7.320793033421678, 25.719123048668504, 3.976953691420109, 27.336655592469548, 24.46855192588981, 28.15227500357705, 40.93707647628267, 15.412328767123288, 69.74505928853755, 28.576423872458957, 14.463789912077742, 2.7424547283702214, 1.2328238719068414, 3.514536092639991, 1.8405577956989247, 0.3971838665468103, 0.3042409814870004, 0.21862208736344124, 0.29194414238492045, 0.3413450898525734, 1.4776927592023648, 1.8648660547227542, 0.9141816510439155, 1.8061741791242476, 3.818387342956319, 4.373287512190591, 0.5970567137931833, 0.4045921029744303, 0.4110271785686473, 16.994949494949495, 18.460735671514115, 2.8562228304620834, 6.1271966919107745, 5.462117571680282, 27.352890865549092, 4.057387284554644, 1.7918383623554432, 10.26188434207302, 15.366697260180842, 2.5272217696886963, 2.967763573232323, 0.35684902252729317, 1.618615294246745, 0.6150944290515535, 0.43728113262811924, 0.6618674081112809, 4.472356894359605, 9.023573432372698, 1.255448044618039, 0.6357529365439483, 1.1555718469082392, 0.7592006919541087, 2.5194280385452283, 3.5516316495306213, 2.9008579599618685, 5.8515420507568, 4.217067471193928, 7.059988510265171, 4.150556496491652, 5.6505578912148495, 5.213729396848397, 4.3949044585987265, 2.047414871786316, 2.8235822235522967, 9.574421649934527, 5.534007907619947, 7.803877447201615, 2.0007437263087184, 3.5986540882243094, 18.819003247211633, 7.379506034689474, 12.482769726247987, 8.61393561688768, 11.602789065386036, 9.879329926178308, 6.97613389522009, 4.216422995683396, 0.8400961827472198, 11.080357142857142, 5.1821636924713435, 24.510278546217688, 7.562625708539038, 10.27710843373494, 12.308754781130471, 10.447058823529412, 4.089312779564526, 7.012283057337511, 0.5525200725646615, 15.197278911564625, 9.613216057735679, 11.776579739217652, 1.8511646364346352, 2.0804158346260317, 3.6439686647052567, 4.5717035611164585, 1.8391921333097803, 3.5273746701846966, 1.927761949536582, 0.9154543038398872, 1.0598145756381674, 8.2632282202031, 2.6803355949996015, 1.123518545827092, 1.389524258341858, 1.1161140246408001, 6.287000072584743, 3.057224554799479, 4.415975154073858, 2.9314262301188214, 7.373761974346484, 5.300303145130731, 10.255780723738674, 0.46402694756221935, 0.5484256531361583, 0.4539385800970221, 4.4034606568888535, 4.054672390207085, 0.6230611313868614, 0.3887584844873089, 0.5996438042945692, 2.1218055465108705, 0.913068904877416, 6.081293706293707, 5.645129901722292, 4.774674115456238, 3.0405099647217453, 0.8029063348050722, 1.538527212236502, 2.338415202292633, 5.415405054687017, 5.009147075343015, 3.6412081554046107, 3.652776200749404, 15.573214911768144, 1.5824896959835442, 1.866372470597869, 1.9570773841001234, 3.5779398359161347, 1.7176464372708298, 3.02419595263365, 4.190030731518281, 1.9625231338679827, 0.9766526207409385, 1.2747616708854383, 11.886930983847284, 1.1327729511024685, 1.537392868136675, 10.664488017429194, 5.500158602802605, 15.166537567776917, 6.747467364150617, 0.1216528656413818, 0.4642376565572922, 5.109971590446134, 10.894623655913978, 10.470170208801884, 2.302457769594108, 12.520833333333334, 15.173356773122375, 16.64274322169059, 19.53473132372215, 10.133630289532293, 7.702691494214739, 6.92677863747877, 8.941666666666666, 1.6739471037293032, 3.0246864264600144, 7.850857897052354, 4.554842068726137, 2.5609821765117657, 2.368089630356559, 3.1403953195153456, 7.9149455501314305, 4.685503291057954, 4.45204282826266, 3.036450335407743, 7.482285714285714, 8.58014420410427, 3.803647225279044, 2.003341986081092, 4.790291780321508, 2.5105211330366326, 6.642714570858283, 5.201322604262704, 5.468311664806492, 6.672067853377163, 9.257759784075574, 7.4623577722645225, 7.840461004192205, 3.669345333019012, 3.5953693164799616, 5.385884878572387, 8.877640845070422, 9.755086661642803, 5.527781116051757, 4.893437285510639, 12.65946330252476, 9.219072972406867, 19.958769633507853, 1.3628551805154565, 5.350544166033916, 2.608904219110492, 2.6221381986594423, 7.7121065948268015, 20.869840903850587, 9.29018513076697, 12.369212266987372, 16.6598420590816, 15.36976439790576, 1.1072860930110606, 3.91044776119403, 4.794055987174744, 12.111087465418175, 8.845303867403315, 20.593039511441393, 16.95677915926584, 3.796982372273678, 2.0176599335815966, 17.271765949947127, 21.47828900917863, 10.364238410596027, 17.255287752090506, 3.3839367974940116, 6.71673049305888, 12.149031811894883, 37.60233073292883, 17.52909820031299, 4.992471880258613, 15.611922621397552, 8.631343743193408, 9.074473028344528, 22.754405912450256, 2.2626318711826765, 16.815560263653484, 7.1280018801811815, 14.324324324324325, 39.80885588558856, 50.720640569395016, 28.430372954118592, 18.291700241740532, 41.85229472725202, 84.3683651804671, 49.317953861584755, 2.336442555539272, 35.63216299799891, 32.7779805352798, 20.25245839636914, 28.660294578502036, 12.398310845426987, 18.599444637278722, 23.36358987471235, 14.517828150755388, 17.041624732264975, 24.826569783383604, 7.284004670169294, 12.914468726450641, 15.050534689619196, 18.608093427485063, 23.697755571417243, 13.10856864654333, 49.866778852895806, 58.0957108816521, 40.17971951097638, 33.28961175236097, 34.06794948887553, 6.943958023832854, 3.0664511980506295, 32.339142091152816, 43.93071467539553, 31.662121212121214, 29.642385853787278, 25.714615962549846, 24.27880470519471, 21.550570641479734, 40.682800345721695, 16.59541188738269, 38.108995025188584, 3.6880758067951858, 47.24530337960465, 36.481046522316575, 49.3277918701914, 40.717431927389214, 34.26871938418474, 47.14158442982456, 44.47640009782343, 30.757647511506416, 36.90981012658228, 28.371916770015158, 2.1322992953519084, 20.20236508994004, 10.244215938303341, 2.6022871053547956, 10.648837426609148, 16.389341228719466, 13.496450304259636, 21.935321616663707, 7.405657444824371, 5.671475446360755, 7.170948611544621, 2.7044242278375146, 6.621475399401693, 6.586466165413534, 6.472217130252139, 7.116020868288591, 8.022740406757585, 9.592122731966366]}],\n",
       "                        {\"template\": {\"data\": {\"bar\": [{\"error_x\": {\"color\": \"#2a3f5f\"}, \"error_y\": {\"color\": \"#2a3f5f\"}, \"marker\": {\"line\": {\"color\": \"#E5ECF6\", \"width\": 0.5}}, \"type\": \"bar\"}], \"barpolar\": [{\"marker\": {\"line\": {\"color\": \"#E5ECF6\", \"width\": 0.5}}, \"type\": \"barpolar\"}], \"carpet\": [{\"aaxis\": {\"endlinecolor\": \"#2a3f5f\", \"gridcolor\": \"white\", \"linecolor\": \"white\", \"minorgridcolor\": \"white\", \"startlinecolor\": \"#2a3f5f\"}, \"baxis\": {\"endlinecolor\": \"#2a3f5f\", \"gridcolor\": \"white\", \"linecolor\": \"white\", \"minorgridcolor\": \"white\", \"startlinecolor\": \"#2a3f5f\"}, \"type\": \"carpet\"}], \"choropleth\": [{\"colorbar\": {\"outlinewidth\": 0, \"ticks\": \"\"}, \"type\": \"choropleth\"}], \"contour\": [{\"colorbar\": {\"outlinewidth\": 0, \"ticks\": \"\"}, \"colorscale\": [[0.0, \"#0d0887\"], [0.1111111111111111, \"#46039f\"], [0.2222222222222222, \"#7201a8\"], [0.3333333333333333, \"#9c179e\"], [0.4444444444444444, \"#bd3786\"], [0.5555555555555556, \"#d8576b\"], [0.6666666666666666, \"#ed7953\"], [0.7777777777777778, \"#fb9f3a\"], [0.8888888888888888, \"#fdca26\"], [1.0, \"#f0f921\"]], \"type\": \"contour\"}], \"contourcarpet\": [{\"colorbar\": {\"outlinewidth\": 0, \"ticks\": \"\"}, \"type\": \"contourcarpet\"}], \"heatmap\": [{\"colorbar\": {\"outlinewidth\": 0, \"ticks\": \"\"}, \"colorscale\": [[0.0, \"#0d0887\"], [0.1111111111111111, \"#46039f\"], [0.2222222222222222, \"#7201a8\"], [0.3333333333333333, \"#9c179e\"], [0.4444444444444444, \"#bd3786\"], [0.5555555555555556, \"#d8576b\"], [0.6666666666666666, \"#ed7953\"], [0.7777777777777778, \"#fb9f3a\"], [0.8888888888888888, \"#fdca26\"], [1.0, \"#f0f921\"]], \"type\": \"heatmap\"}], \"heatmapgl\": [{\"colorbar\": {\"outlinewidth\": 0, \"ticks\": \"\"}, \"colorscale\": [[0.0, \"#0d0887\"], [0.1111111111111111, \"#46039f\"], [0.2222222222222222, \"#7201a8\"], [0.3333333333333333, \"#9c179e\"], [0.4444444444444444, \"#bd3786\"], [0.5555555555555556, \"#d8576b\"], [0.6666666666666666, \"#ed7953\"], [0.7777777777777778, \"#fb9f3a\"], [0.8888888888888888, \"#fdca26\"], [1.0, \"#f0f921\"]], \"type\": \"heatmapgl\"}], \"histogram\": [{\"marker\": {\"colorbar\": {\"outlinewidth\": 0, \"ticks\": \"\"}}, \"type\": \"histogram\"}], \"histogram2d\": [{\"colorbar\": {\"outlinewidth\": 0, \"ticks\": \"\"}, \"colorscale\": [[0.0, \"#0d0887\"], [0.1111111111111111, \"#46039f\"], [0.2222222222222222, \"#7201a8\"], [0.3333333333333333, \"#9c179e\"], [0.4444444444444444, \"#bd3786\"], [0.5555555555555556, \"#d8576b\"], [0.6666666666666666, \"#ed7953\"], [0.7777777777777778, \"#fb9f3a\"], [0.8888888888888888, \"#fdca26\"], [1.0, \"#f0f921\"]], \"type\": \"histogram2d\"}], \"histogram2dcontour\": [{\"colorbar\": {\"outlinewidth\": 0, \"ticks\": \"\"}, \"colorscale\": [[0.0, \"#0d0887\"], [0.1111111111111111, \"#46039f\"], [0.2222222222222222, \"#7201a8\"], [0.3333333333333333, \"#9c179e\"], [0.4444444444444444, \"#bd3786\"], [0.5555555555555556, \"#d8576b\"], [0.6666666666666666, \"#ed7953\"], [0.7777777777777778, \"#fb9f3a\"], [0.8888888888888888, \"#fdca26\"], [1.0, \"#f0f921\"]], \"type\": \"histogram2dcontour\"}], \"mesh3d\": [{\"colorbar\": {\"outlinewidth\": 0, \"ticks\": \"\"}, \"type\": \"mesh3d\"}], \"parcoords\": [{\"line\": {\"colorbar\": {\"outlinewidth\": 0, \"ticks\": \"\"}}, \"type\": \"parcoords\"}], \"pie\": [{\"automargin\": true, \"type\": \"pie\"}], \"scatter\": [{\"marker\": {\"colorbar\": {\"outlinewidth\": 0, \"ticks\": \"\"}}, \"type\": \"scatter\"}], \"scatter3d\": [{\"line\": {\"colorbar\": {\"outlinewidth\": 0, \"ticks\": \"\"}}, \"marker\": {\"colorbar\": {\"outlinewidth\": 0, \"ticks\": \"\"}}, \"type\": \"scatter3d\"}], \"scattercarpet\": [{\"marker\": {\"colorbar\": {\"outlinewidth\": 0, \"ticks\": \"\"}}, \"type\": \"scattercarpet\"}], \"scattergeo\": [{\"marker\": {\"colorbar\": {\"outlinewidth\": 0, \"ticks\": \"\"}}, \"type\": \"scattergeo\"}], \"scattergl\": [{\"marker\": {\"colorbar\": {\"outlinewidth\": 0, \"ticks\": \"\"}}, \"type\": \"scattergl\"}], \"scattermapbox\": [{\"marker\": {\"colorbar\": {\"outlinewidth\": 0, \"ticks\": \"\"}}, \"type\": \"scattermapbox\"}], \"scatterpolar\": [{\"marker\": {\"colorbar\": {\"outlinewidth\": 0, \"ticks\": \"\"}}, \"type\": \"scatterpolar\"}], \"scatterpolargl\": [{\"marker\": {\"colorbar\": {\"outlinewidth\": 0, \"ticks\": \"\"}}, \"type\": \"scatterpolargl\"}], \"scatterternary\": [{\"marker\": {\"colorbar\": {\"outlinewidth\": 0, \"ticks\": \"\"}}, \"type\": \"scatterternary\"}], \"surface\": [{\"colorbar\": {\"outlinewidth\": 0, \"ticks\": \"\"}, \"colorscale\": [[0.0, \"#0d0887\"], [0.1111111111111111, \"#46039f\"], [0.2222222222222222, \"#7201a8\"], [0.3333333333333333, \"#9c179e\"], [0.4444444444444444, \"#bd3786\"], [0.5555555555555556, \"#d8576b\"], [0.6666666666666666, \"#ed7953\"], [0.7777777777777778, \"#fb9f3a\"], [0.8888888888888888, \"#fdca26\"], [1.0, \"#f0f921\"]], \"type\": \"surface\"}], \"table\": [{\"cells\": {\"fill\": {\"color\": \"#EBF0F8\"}, \"line\": {\"color\": \"white\"}}, \"header\": {\"fill\": {\"color\": \"#C8D4E3\"}, \"line\": {\"color\": \"white\"}}, \"type\": \"table\"}]}, \"layout\": {\"annotationdefaults\": {\"arrowcolor\": \"#2a3f5f\", \"arrowhead\": 0, \"arrowwidth\": 1}, \"coloraxis\": {\"colorbar\": {\"outlinewidth\": 0, \"ticks\": \"\"}}, \"colorscale\": {\"diverging\": [[0, \"#8e0152\"], [0.1, \"#c51b7d\"], [0.2, \"#de77ae\"], [0.3, \"#f1b6da\"], [0.4, \"#fde0ef\"], [0.5, \"#f7f7f7\"], [0.6, \"#e6f5d0\"], [0.7, \"#b8e186\"], [0.8, \"#7fbc41\"], [0.9, \"#4d9221\"], [1, \"#276419\"]], \"sequential\": [[0.0, \"#0d0887\"], [0.1111111111111111, \"#46039f\"], [0.2222222222222222, \"#7201a8\"], [0.3333333333333333, \"#9c179e\"], [0.4444444444444444, \"#bd3786\"], [0.5555555555555556, \"#d8576b\"], [0.6666666666666666, \"#ed7953\"], [0.7777777777777778, \"#fb9f3a\"], [0.8888888888888888, \"#fdca26\"], [1.0, \"#f0f921\"]], \"sequentialminus\": [[0.0, \"#0d0887\"], [0.1111111111111111, \"#46039f\"], [0.2222222222222222, \"#7201a8\"], [0.3333333333333333, \"#9c179e\"], [0.4444444444444444, \"#bd3786\"], [0.5555555555555556, \"#d8576b\"], [0.6666666666666666, \"#ed7953\"], [0.7777777777777778, \"#fb9f3a\"], [0.8888888888888888, \"#fdca26\"], [1.0, \"#f0f921\"]]}, \"colorway\": [\"#636efa\", \"#EF553B\", \"#00cc96\", \"#ab63fa\", \"#FFA15A\", \"#19d3f3\", \"#FF6692\", \"#B6E880\", \"#FF97FF\", \"#FECB52\"], \"font\": {\"color\": \"#2a3f5f\"}, \"geo\": {\"bgcolor\": \"white\", \"lakecolor\": \"white\", \"landcolor\": \"#E5ECF6\", \"showlakes\": true, \"showland\": true, \"subunitcolor\": \"white\"}, \"hoverlabel\": {\"align\": \"left\"}, \"hovermode\": \"closest\", \"mapbox\": {\"style\": \"light\"}, \"paper_bgcolor\": \"white\", \"plot_bgcolor\": \"#E5ECF6\", \"polar\": {\"angularaxis\": {\"gridcolor\": \"white\", \"linecolor\": \"white\", \"ticks\": \"\"}, \"bgcolor\": \"#E5ECF6\", \"radialaxis\": {\"gridcolor\": \"white\", \"linecolor\": \"white\", \"ticks\": \"\"}}, \"scene\": {\"xaxis\": {\"backgroundcolor\": \"#E5ECF6\", \"gridcolor\": \"white\", \"gridwidth\": 2, \"linecolor\": \"white\", \"showbackground\": true, \"ticks\": \"\", \"zerolinecolor\": \"white\"}, \"yaxis\": {\"backgroundcolor\": \"#E5ECF6\", \"gridcolor\": \"white\", \"gridwidth\": 2, \"linecolor\": \"white\", \"showbackground\": true, \"ticks\": \"\", \"zerolinecolor\": \"white\"}, \"zaxis\": {\"backgroundcolor\": \"#E5ECF6\", \"gridcolor\": \"white\", \"gridwidth\": 2, \"linecolor\": \"white\", \"showbackground\": true, \"ticks\": \"\", \"zerolinecolor\": \"white\"}}, \"shapedefaults\": {\"line\": {\"color\": \"#2a3f5f\"}}, \"ternary\": {\"aaxis\": {\"gridcolor\": \"white\", \"linecolor\": \"white\", \"ticks\": \"\"}, \"baxis\": {\"gridcolor\": \"white\", \"linecolor\": \"white\", \"ticks\": \"\"}, \"bgcolor\": \"#E5ECF6\", \"caxis\": {\"gridcolor\": \"white\", \"linecolor\": \"white\", \"ticks\": \"\"}}, \"title\": {\"x\": 0.05}, \"xaxis\": {\"automargin\": true, \"gridcolor\": \"white\", \"linecolor\": \"white\", \"ticks\": \"\", \"title\": {\"standoff\": 15}, \"zerolinecolor\": \"white\", \"zerolinewidth\": 2}, \"yaxis\": {\"automargin\": true, \"gridcolor\": \"white\", \"linecolor\": \"white\", \"ticks\": \"\", \"title\": {\"standoff\": 15}, \"zerolinecolor\": \"white\", \"zerolinewidth\": 2}}}, \"title\": {\"text\": \"Product vs ASP\"}},\n",
       "                        {\"responsive\": true}\n",
       "                    ).then(function(){\n",
       "                            \n",
       "var gd = document.getElementById('6b39dd96-8cd9-4321-aa77-b5301554633b');\n",
       "var x = new MutationObserver(function (mutations, observer) {{\n",
       "        var display = window.getComputedStyle(gd).display;\n",
       "        if (!display || display === 'none') {{\n",
       "            console.log([gd, 'removed!']);\n",
       "            Plotly.purge(gd);\n",
       "            observer.disconnect();\n",
       "        }}\n",
       "}});\n",
       "\n",
       "// Listen for the removal of the full notebook cells\n",
       "var notebookContainer = gd.closest('#notebook-container');\n",
       "if (notebookContainer) {{\n",
       "    x.observe(notebookContainer, {childList: true});\n",
       "}}\n",
       "\n",
       "// Listen for the clearing of the current output cell\n",
       "var outputEl = gd.closest('.output');\n",
       "if (outputEl) {{\n",
       "    x.observe(outputEl, {childList: true});\n",
       "}}\n",
       "\n",
       "                        })\n",
       "                };\n",
       "                });\n",
       "            </script>\n",
       "        </div>"
      ]
     },
     "metadata": {},
     "output_type": "display_data"
    }
   ],
   "source": [
    "data_plot = [go.Bar(x=d1.index,\n",
    "                          y=d1.ASP.astype(float),\n",
    "       marker=dict(\n",
    "        color=\"#CC0E1D\",# Lava (#CC0E1D)\n",
    "#         color = 'rgb(200,0,0)'   `\n",
    "    ))]\n",
    "layout = go.Layout(title = \"Product vs ASP\")\n",
    "fig = go.Figure(data= data_plot, layout=layout)\n",
    "iplot(fig)"
   ]
  },
  {
   "cell_type": "markdown",
   "metadata": {},
   "source": [
    "- Product PR6290 is found to have compartively very high Average Selling Price Across Products\n",
    "- On Observing the records which have PR6290 as product in the records \n",
    "- This record was found which was outlier and also Suspicious"
   ]
  },
  {
   "cell_type": "code",
   "execution_count": 36,
   "metadata": {},
   "outputs": [
    {
     "data": {
      "text/html": [
       "<div>\n",
       "<style scoped>\n",
       "    .dataframe tbody tr th:only-of-type {\n",
       "        vertical-align: middle;\n",
       "    }\n",
       "\n",
       "    .dataframe tbody tr th {\n",
       "        vertical-align: top;\n",
       "    }\n",
       "\n",
       "    .dataframe thead th {\n",
       "        text-align: right;\n",
       "    }\n",
       "</style>\n",
       "<table border=\"1\" class=\"dataframe\">\n",
       "  <thead>\n",
       "    <tr style=\"text-align: right;\">\n",
       "      <th></th>\n",
       "      <th>ReportID</th>\n",
       "      <th>SalesPersonID</th>\n",
       "      <th>ProductID</th>\n",
       "      <th>Quantity</th>\n",
       "      <th>TotalSalesValue</th>\n",
       "      <th>Suspicious</th>\n",
       "    </tr>\n",
       "  </thead>\n",
       "  <tbody>\n",
       "    <tr>\n",
       "      <th>28728</th>\n",
       "      <td>Rep38829</td>\n",
       "      <td>C22304</td>\n",
       "      <td>PR6290</td>\n",
       "      <td>350</td>\n",
       "      <td>3953985</td>\n",
       "      <td>Yes</td>\n",
       "    </tr>\n",
       "  </tbody>\n",
       "</table>\n",
       "</div>"
      ],
      "text/plain": [
       "       ReportID SalesPersonID ProductID  Quantity  TotalSalesValue Suspicious\n",
       "28728  Rep38829        C22304    PR6290       350          3953985        Yes"
      ]
     },
     "execution_count": 36,
     "metadata": {},
     "output_type": "execute_result"
    }
   ],
   "source": [
    "data[(data.ProductID=='PR6290')&(data.ReportID==\"Rep38829\")] \n",
    "## this was after going through the full productID PR6290 which was HIHGEST \n",
    "## that one fraudlent row was causing PR 6290 to be highest ASP ( Average Selling Price)"
   ]
  },
  {
   "cell_type": "markdown",
   "metadata": {},
   "source": [
    "### REMOVING THAT ONE TUPLE AND PLOTTING AGAIN"
   ]
  },
  {
   "cell_type": "code",
   "execution_count": 37,
   "metadata": {},
   "outputs": [],
   "source": [
    "d_rev_ASP=data[~((data.ProductID=='PR6290')&(data.ReportID==\"Rep38829\"))]"
   ]
  },
  {
   "cell_type": "code",
   "execution_count": 38,
   "metadata": {},
   "outputs": [],
   "source": [
    "d_rev1=d_rev_ASP.groupby(\"ProductID\").agg({'Quantity': np.sum,'TotalSalesValue':np.sum},axis=0)\n",
    "d_rev1['ASP']=d_rev1.TotalSalesValue/d_rev1.Quantity"
   ]
  },
  {
   "cell_type": "code",
   "execution_count": 39,
   "metadata": {},
   "outputs": [],
   "source": [
    "d_rev1.sort_values(ascending=False,by=\"ASP\", axis =0, inplace = True)\n",
    "d_rev1=d_rev1.head(20) ## taking onlu top 20 products with high Average Selling Price"
   ]
  },
  {
   "cell_type": "code",
   "execution_count": 40,
   "metadata": {},
   "outputs": [
    {
     "data": {
      "application/vnd.plotly.v1+json": {
       "config": {
        "linkText": "Export to plot.ly",
        "plotlyServerURL": "https://plot.ly",
        "showLink": false
       },
       "data": [
        {
         "marker": {
          "color": "rgb(100,400,20)"
         },
         "type": "bar",
         "x": [
          "PR6640",
          "PR6366",
          "PR6354",
          "PR6407",
          "PR6378",
          "PR6320",
          "PR6660",
          "PR6636",
          "PR6659",
          "PR6679",
          "PR6641",
          "PR6357",
          "PR6677",
          "PR6682",
          "PR6683",
          "PR6667",
          "PR6352",
          "PR6395",
          "PR6240",
          "PR6341"
         ],
         "y": [
          84.3683651804671,
          78.85093167701864,
          74.2784568180675,
          69.74505928853755,
          67.78779030742382,
          66.05031096259167,
          58.0957108816521,
          50.720640569395016,
          49.866778852895806,
          49.3277918701914,
          49.317953861584755,
          49.0029308150034,
          47.24530337960465,
          47.14158442982456,
          44.47640009782343,
          43.93071467539553,
          43.63310947049639,
          43.5339897315916,
          43.44672309027778,
          42.13401149933658
         ]
        }
       ],
       "layout": {
        "template": {
         "data": {
          "bar": [
           {
            "error_x": {
             "color": "#2a3f5f"
            },
            "error_y": {
             "color": "#2a3f5f"
            },
            "marker": {
             "line": {
              "color": "#E5ECF6",
              "width": 0.5
             }
            },
            "type": "bar"
           }
          ],
          "barpolar": [
           {
            "marker": {
             "line": {
              "color": "#E5ECF6",
              "width": 0.5
             }
            },
            "type": "barpolar"
           }
          ],
          "carpet": [
           {
            "aaxis": {
             "endlinecolor": "#2a3f5f",
             "gridcolor": "white",
             "linecolor": "white",
             "minorgridcolor": "white",
             "startlinecolor": "#2a3f5f"
            },
            "baxis": {
             "endlinecolor": "#2a3f5f",
             "gridcolor": "white",
             "linecolor": "white",
             "minorgridcolor": "white",
             "startlinecolor": "#2a3f5f"
            },
            "type": "carpet"
           }
          ],
          "choropleth": [
           {
            "colorbar": {
             "outlinewidth": 0,
             "ticks": ""
            },
            "type": "choropleth"
           }
          ],
          "contour": [
           {
            "colorbar": {
             "outlinewidth": 0,
             "ticks": ""
            },
            "colorscale": [
             [
              0,
              "#0d0887"
             ],
             [
              0.1111111111111111,
              "#46039f"
             ],
             [
              0.2222222222222222,
              "#7201a8"
             ],
             [
              0.3333333333333333,
              "#9c179e"
             ],
             [
              0.4444444444444444,
              "#bd3786"
             ],
             [
              0.5555555555555556,
              "#d8576b"
             ],
             [
              0.6666666666666666,
              "#ed7953"
             ],
             [
              0.7777777777777778,
              "#fb9f3a"
             ],
             [
              0.8888888888888888,
              "#fdca26"
             ],
             [
              1,
              "#f0f921"
             ]
            ],
            "type": "contour"
           }
          ],
          "contourcarpet": [
           {
            "colorbar": {
             "outlinewidth": 0,
             "ticks": ""
            },
            "type": "contourcarpet"
           }
          ],
          "heatmap": [
           {
            "colorbar": {
             "outlinewidth": 0,
             "ticks": ""
            },
            "colorscale": [
             [
              0,
              "#0d0887"
             ],
             [
              0.1111111111111111,
              "#46039f"
             ],
             [
              0.2222222222222222,
              "#7201a8"
             ],
             [
              0.3333333333333333,
              "#9c179e"
             ],
             [
              0.4444444444444444,
              "#bd3786"
             ],
             [
              0.5555555555555556,
              "#d8576b"
             ],
             [
              0.6666666666666666,
              "#ed7953"
             ],
             [
              0.7777777777777778,
              "#fb9f3a"
             ],
             [
              0.8888888888888888,
              "#fdca26"
             ],
             [
              1,
              "#f0f921"
             ]
            ],
            "type": "heatmap"
           }
          ],
          "heatmapgl": [
           {
            "colorbar": {
             "outlinewidth": 0,
             "ticks": ""
            },
            "colorscale": [
             [
              0,
              "#0d0887"
             ],
             [
              0.1111111111111111,
              "#46039f"
             ],
             [
              0.2222222222222222,
              "#7201a8"
             ],
             [
              0.3333333333333333,
              "#9c179e"
             ],
             [
              0.4444444444444444,
              "#bd3786"
             ],
             [
              0.5555555555555556,
              "#d8576b"
             ],
             [
              0.6666666666666666,
              "#ed7953"
             ],
             [
              0.7777777777777778,
              "#fb9f3a"
             ],
             [
              0.8888888888888888,
              "#fdca26"
             ],
             [
              1,
              "#f0f921"
             ]
            ],
            "type": "heatmapgl"
           }
          ],
          "histogram": [
           {
            "marker": {
             "colorbar": {
              "outlinewidth": 0,
              "ticks": ""
             }
            },
            "type": "histogram"
           }
          ],
          "histogram2d": [
           {
            "colorbar": {
             "outlinewidth": 0,
             "ticks": ""
            },
            "colorscale": [
             [
              0,
              "#0d0887"
             ],
             [
              0.1111111111111111,
              "#46039f"
             ],
             [
              0.2222222222222222,
              "#7201a8"
             ],
             [
              0.3333333333333333,
              "#9c179e"
             ],
             [
              0.4444444444444444,
              "#bd3786"
             ],
             [
              0.5555555555555556,
              "#d8576b"
             ],
             [
              0.6666666666666666,
              "#ed7953"
             ],
             [
              0.7777777777777778,
              "#fb9f3a"
             ],
             [
              0.8888888888888888,
              "#fdca26"
             ],
             [
              1,
              "#f0f921"
             ]
            ],
            "type": "histogram2d"
           }
          ],
          "histogram2dcontour": [
           {
            "colorbar": {
             "outlinewidth": 0,
             "ticks": ""
            },
            "colorscale": [
             [
              0,
              "#0d0887"
             ],
             [
              0.1111111111111111,
              "#46039f"
             ],
             [
              0.2222222222222222,
              "#7201a8"
             ],
             [
              0.3333333333333333,
              "#9c179e"
             ],
             [
              0.4444444444444444,
              "#bd3786"
             ],
             [
              0.5555555555555556,
              "#d8576b"
             ],
             [
              0.6666666666666666,
              "#ed7953"
             ],
             [
              0.7777777777777778,
              "#fb9f3a"
             ],
             [
              0.8888888888888888,
              "#fdca26"
             ],
             [
              1,
              "#f0f921"
             ]
            ],
            "type": "histogram2dcontour"
           }
          ],
          "mesh3d": [
           {
            "colorbar": {
             "outlinewidth": 0,
             "ticks": ""
            },
            "type": "mesh3d"
           }
          ],
          "parcoords": [
           {
            "line": {
             "colorbar": {
              "outlinewidth": 0,
              "ticks": ""
             }
            },
            "type": "parcoords"
           }
          ],
          "pie": [
           {
            "automargin": true,
            "type": "pie"
           }
          ],
          "scatter": [
           {
            "marker": {
             "colorbar": {
              "outlinewidth": 0,
              "ticks": ""
             }
            },
            "type": "scatter"
           }
          ],
          "scatter3d": [
           {
            "line": {
             "colorbar": {
              "outlinewidth": 0,
              "ticks": ""
             }
            },
            "marker": {
             "colorbar": {
              "outlinewidth": 0,
              "ticks": ""
             }
            },
            "type": "scatter3d"
           }
          ],
          "scattercarpet": [
           {
            "marker": {
             "colorbar": {
              "outlinewidth": 0,
              "ticks": ""
             }
            },
            "type": "scattercarpet"
           }
          ],
          "scattergeo": [
           {
            "marker": {
             "colorbar": {
              "outlinewidth": 0,
              "ticks": ""
             }
            },
            "type": "scattergeo"
           }
          ],
          "scattergl": [
           {
            "marker": {
             "colorbar": {
              "outlinewidth": 0,
              "ticks": ""
             }
            },
            "type": "scattergl"
           }
          ],
          "scattermapbox": [
           {
            "marker": {
             "colorbar": {
              "outlinewidth": 0,
              "ticks": ""
             }
            },
            "type": "scattermapbox"
           }
          ],
          "scatterpolar": [
           {
            "marker": {
             "colorbar": {
              "outlinewidth": 0,
              "ticks": ""
             }
            },
            "type": "scatterpolar"
           }
          ],
          "scatterpolargl": [
           {
            "marker": {
             "colorbar": {
              "outlinewidth": 0,
              "ticks": ""
             }
            },
            "type": "scatterpolargl"
           }
          ],
          "scatterternary": [
           {
            "marker": {
             "colorbar": {
              "outlinewidth": 0,
              "ticks": ""
             }
            },
            "type": "scatterternary"
           }
          ],
          "surface": [
           {
            "colorbar": {
             "outlinewidth": 0,
             "ticks": ""
            },
            "colorscale": [
             [
              0,
              "#0d0887"
             ],
             [
              0.1111111111111111,
              "#46039f"
             ],
             [
              0.2222222222222222,
              "#7201a8"
             ],
             [
              0.3333333333333333,
              "#9c179e"
             ],
             [
              0.4444444444444444,
              "#bd3786"
             ],
             [
              0.5555555555555556,
              "#d8576b"
             ],
             [
              0.6666666666666666,
              "#ed7953"
             ],
             [
              0.7777777777777778,
              "#fb9f3a"
             ],
             [
              0.8888888888888888,
              "#fdca26"
             ],
             [
              1,
              "#f0f921"
             ]
            ],
            "type": "surface"
           }
          ],
          "table": [
           {
            "cells": {
             "fill": {
              "color": "#EBF0F8"
             },
             "line": {
              "color": "white"
             }
            },
            "header": {
             "fill": {
              "color": "#C8D4E3"
             },
             "line": {
              "color": "white"
             }
            },
            "type": "table"
           }
          ]
         },
         "layout": {
          "annotationdefaults": {
           "arrowcolor": "#2a3f5f",
           "arrowhead": 0,
           "arrowwidth": 1
          },
          "coloraxis": {
           "colorbar": {
            "outlinewidth": 0,
            "ticks": ""
           }
          },
          "colorscale": {
           "diverging": [
            [
             0,
             "#8e0152"
            ],
            [
             0.1,
             "#c51b7d"
            ],
            [
             0.2,
             "#de77ae"
            ],
            [
             0.3,
             "#f1b6da"
            ],
            [
             0.4,
             "#fde0ef"
            ],
            [
             0.5,
             "#f7f7f7"
            ],
            [
             0.6,
             "#e6f5d0"
            ],
            [
             0.7,
             "#b8e186"
            ],
            [
             0.8,
             "#7fbc41"
            ],
            [
             0.9,
             "#4d9221"
            ],
            [
             1,
             "#276419"
            ]
           ],
           "sequential": [
            [
             0,
             "#0d0887"
            ],
            [
             0.1111111111111111,
             "#46039f"
            ],
            [
             0.2222222222222222,
             "#7201a8"
            ],
            [
             0.3333333333333333,
             "#9c179e"
            ],
            [
             0.4444444444444444,
             "#bd3786"
            ],
            [
             0.5555555555555556,
             "#d8576b"
            ],
            [
             0.6666666666666666,
             "#ed7953"
            ],
            [
             0.7777777777777778,
             "#fb9f3a"
            ],
            [
             0.8888888888888888,
             "#fdca26"
            ],
            [
             1,
             "#f0f921"
            ]
           ],
           "sequentialminus": [
            [
             0,
             "#0d0887"
            ],
            [
             0.1111111111111111,
             "#46039f"
            ],
            [
             0.2222222222222222,
             "#7201a8"
            ],
            [
             0.3333333333333333,
             "#9c179e"
            ],
            [
             0.4444444444444444,
             "#bd3786"
            ],
            [
             0.5555555555555556,
             "#d8576b"
            ],
            [
             0.6666666666666666,
             "#ed7953"
            ],
            [
             0.7777777777777778,
             "#fb9f3a"
            ],
            [
             0.8888888888888888,
             "#fdca26"
            ],
            [
             1,
             "#f0f921"
            ]
           ]
          },
          "colorway": [
           "#636efa",
           "#EF553B",
           "#00cc96",
           "#ab63fa",
           "#FFA15A",
           "#19d3f3",
           "#FF6692",
           "#B6E880",
           "#FF97FF",
           "#FECB52"
          ],
          "font": {
           "color": "#2a3f5f"
          },
          "geo": {
           "bgcolor": "white",
           "lakecolor": "white",
           "landcolor": "#E5ECF6",
           "showlakes": true,
           "showland": true,
           "subunitcolor": "white"
          },
          "hoverlabel": {
           "align": "left"
          },
          "hovermode": "closest",
          "mapbox": {
           "style": "light"
          },
          "paper_bgcolor": "white",
          "plot_bgcolor": "#E5ECF6",
          "polar": {
           "angularaxis": {
            "gridcolor": "white",
            "linecolor": "white",
            "ticks": ""
           },
           "bgcolor": "#E5ECF6",
           "radialaxis": {
            "gridcolor": "white",
            "linecolor": "white",
            "ticks": ""
           }
          },
          "scene": {
           "xaxis": {
            "backgroundcolor": "#E5ECF6",
            "gridcolor": "white",
            "gridwidth": 2,
            "linecolor": "white",
            "showbackground": true,
            "ticks": "",
            "zerolinecolor": "white"
           },
           "yaxis": {
            "backgroundcolor": "#E5ECF6",
            "gridcolor": "white",
            "gridwidth": 2,
            "linecolor": "white",
            "showbackground": true,
            "ticks": "",
            "zerolinecolor": "white"
           },
           "zaxis": {
            "backgroundcolor": "#E5ECF6",
            "gridcolor": "white",
            "gridwidth": 2,
            "linecolor": "white",
            "showbackground": true,
            "ticks": "",
            "zerolinecolor": "white"
           }
          },
          "shapedefaults": {
           "line": {
            "color": "#2a3f5f"
           }
          },
          "ternary": {
           "aaxis": {
            "gridcolor": "white",
            "linecolor": "white",
            "ticks": ""
           },
           "baxis": {
            "gridcolor": "white",
            "linecolor": "white",
            "ticks": ""
           },
           "bgcolor": "#E5ECF6",
           "caxis": {
            "gridcolor": "white",
            "linecolor": "white",
            "ticks": ""
           }
          },
          "title": {
           "x": 0.05
          },
          "xaxis": {
           "automargin": true,
           "gridcolor": "white",
           "linecolor": "white",
           "ticks": "",
           "title": {
            "standoff": 15
           },
           "zerolinecolor": "white",
           "zerolinewidth": 2
          },
          "yaxis": {
           "automargin": true,
           "gridcolor": "white",
           "linecolor": "white",
           "ticks": "",
           "title": {
            "standoff": 15
           },
           "zerolinecolor": "white",
           "zerolinewidth": 2
          }
         }
        },
        "title": {
         "text": "Product vs ASP"
        }
       }
      },
      "text/html": [
       "<div>\n",
       "        \n",
       "        \n",
       "            <div id=\"b4619587-2396-42c9-b45d-791c579d265a\" class=\"plotly-graph-div\" style=\"height:525px; width:100%;\"></div>\n",
       "            <script type=\"text/javascript\">\n",
       "                require([\"plotly\"], function(Plotly) {\n",
       "                    window.PLOTLYENV=window.PLOTLYENV || {};\n",
       "                    \n",
       "                if (document.getElementById(\"b4619587-2396-42c9-b45d-791c579d265a\")) {\n",
       "                    Plotly.newPlot(\n",
       "                        'b4619587-2396-42c9-b45d-791c579d265a',\n",
       "                        [{\"marker\": {\"color\": \"rgb(100,400,20)\"}, \"type\": \"bar\", \"x\": [\"PR6640\", \"PR6366\", \"PR6354\", \"PR6407\", \"PR6378\", \"PR6320\", \"PR6660\", \"PR6636\", \"PR6659\", \"PR6679\", \"PR6641\", \"PR6357\", \"PR6677\", \"PR6682\", \"PR6683\", \"PR6667\", \"PR6352\", \"PR6395\", \"PR6240\", \"PR6341\"], \"y\": [84.3683651804671, 78.85093167701864, 74.2784568180675, 69.74505928853755, 67.78779030742382, 66.05031096259167, 58.0957108816521, 50.720640569395016, 49.866778852895806, 49.3277918701914, 49.317953861584755, 49.0029308150034, 47.24530337960465, 47.14158442982456, 44.47640009782343, 43.93071467539553, 43.63310947049639, 43.5339897315916, 43.44672309027778, 42.13401149933658]}],\n",
       "                        {\"template\": {\"data\": {\"bar\": [{\"error_x\": {\"color\": \"#2a3f5f\"}, \"error_y\": {\"color\": \"#2a3f5f\"}, \"marker\": {\"line\": {\"color\": \"#E5ECF6\", \"width\": 0.5}}, \"type\": \"bar\"}], \"barpolar\": [{\"marker\": {\"line\": {\"color\": \"#E5ECF6\", \"width\": 0.5}}, \"type\": \"barpolar\"}], \"carpet\": [{\"aaxis\": {\"endlinecolor\": \"#2a3f5f\", \"gridcolor\": \"white\", \"linecolor\": \"white\", \"minorgridcolor\": \"white\", \"startlinecolor\": \"#2a3f5f\"}, \"baxis\": {\"endlinecolor\": \"#2a3f5f\", \"gridcolor\": \"white\", \"linecolor\": \"white\", \"minorgridcolor\": \"white\", \"startlinecolor\": \"#2a3f5f\"}, \"type\": \"carpet\"}], \"choropleth\": [{\"colorbar\": {\"outlinewidth\": 0, \"ticks\": \"\"}, \"type\": \"choropleth\"}], \"contour\": [{\"colorbar\": {\"outlinewidth\": 0, \"ticks\": \"\"}, \"colorscale\": [[0.0, \"#0d0887\"], [0.1111111111111111, \"#46039f\"], [0.2222222222222222, \"#7201a8\"], [0.3333333333333333, \"#9c179e\"], [0.4444444444444444, \"#bd3786\"], [0.5555555555555556, \"#d8576b\"], [0.6666666666666666, \"#ed7953\"], [0.7777777777777778, \"#fb9f3a\"], [0.8888888888888888, \"#fdca26\"], [1.0, \"#f0f921\"]], \"type\": \"contour\"}], \"contourcarpet\": [{\"colorbar\": {\"outlinewidth\": 0, \"ticks\": \"\"}, \"type\": \"contourcarpet\"}], \"heatmap\": [{\"colorbar\": {\"outlinewidth\": 0, \"ticks\": \"\"}, \"colorscale\": [[0.0, \"#0d0887\"], [0.1111111111111111, \"#46039f\"], [0.2222222222222222, \"#7201a8\"], [0.3333333333333333, \"#9c179e\"], [0.4444444444444444, \"#bd3786\"], [0.5555555555555556, \"#d8576b\"], [0.6666666666666666, \"#ed7953\"], [0.7777777777777778, \"#fb9f3a\"], [0.8888888888888888, \"#fdca26\"], [1.0, \"#f0f921\"]], \"type\": \"heatmap\"}], \"heatmapgl\": [{\"colorbar\": {\"outlinewidth\": 0, \"ticks\": \"\"}, \"colorscale\": [[0.0, \"#0d0887\"], [0.1111111111111111, \"#46039f\"], [0.2222222222222222, \"#7201a8\"], [0.3333333333333333, \"#9c179e\"], [0.4444444444444444, \"#bd3786\"], [0.5555555555555556, \"#d8576b\"], [0.6666666666666666, \"#ed7953\"], [0.7777777777777778, \"#fb9f3a\"], [0.8888888888888888, \"#fdca26\"], [1.0, \"#f0f921\"]], \"type\": \"heatmapgl\"}], \"histogram\": [{\"marker\": {\"colorbar\": {\"outlinewidth\": 0, \"ticks\": \"\"}}, \"type\": \"histogram\"}], \"histogram2d\": [{\"colorbar\": {\"outlinewidth\": 0, \"ticks\": \"\"}, \"colorscale\": [[0.0, \"#0d0887\"], [0.1111111111111111, \"#46039f\"], [0.2222222222222222, \"#7201a8\"], [0.3333333333333333, \"#9c179e\"], [0.4444444444444444, \"#bd3786\"], [0.5555555555555556, \"#d8576b\"], [0.6666666666666666, \"#ed7953\"], [0.7777777777777778, \"#fb9f3a\"], [0.8888888888888888, \"#fdca26\"], [1.0, \"#f0f921\"]], \"type\": \"histogram2d\"}], \"histogram2dcontour\": [{\"colorbar\": {\"outlinewidth\": 0, \"ticks\": \"\"}, \"colorscale\": [[0.0, \"#0d0887\"], [0.1111111111111111, \"#46039f\"], [0.2222222222222222, \"#7201a8\"], [0.3333333333333333, \"#9c179e\"], [0.4444444444444444, \"#bd3786\"], [0.5555555555555556, \"#d8576b\"], [0.6666666666666666, \"#ed7953\"], [0.7777777777777778, \"#fb9f3a\"], [0.8888888888888888, \"#fdca26\"], [1.0, \"#f0f921\"]], \"type\": \"histogram2dcontour\"}], \"mesh3d\": [{\"colorbar\": {\"outlinewidth\": 0, \"ticks\": \"\"}, \"type\": \"mesh3d\"}], \"parcoords\": [{\"line\": {\"colorbar\": {\"outlinewidth\": 0, \"ticks\": \"\"}}, \"type\": \"parcoords\"}], \"pie\": [{\"automargin\": true, \"type\": \"pie\"}], \"scatter\": [{\"marker\": {\"colorbar\": {\"outlinewidth\": 0, \"ticks\": \"\"}}, \"type\": \"scatter\"}], \"scatter3d\": [{\"line\": {\"colorbar\": {\"outlinewidth\": 0, \"ticks\": \"\"}}, \"marker\": {\"colorbar\": {\"outlinewidth\": 0, \"ticks\": \"\"}}, \"type\": \"scatter3d\"}], \"scattercarpet\": [{\"marker\": {\"colorbar\": {\"outlinewidth\": 0, \"ticks\": \"\"}}, \"type\": \"scattercarpet\"}], \"scattergeo\": [{\"marker\": {\"colorbar\": {\"outlinewidth\": 0, \"ticks\": \"\"}}, \"type\": \"scattergeo\"}], \"scattergl\": [{\"marker\": {\"colorbar\": {\"outlinewidth\": 0, \"ticks\": \"\"}}, \"type\": \"scattergl\"}], \"scattermapbox\": [{\"marker\": {\"colorbar\": {\"outlinewidth\": 0, \"ticks\": \"\"}}, \"type\": \"scattermapbox\"}], \"scatterpolar\": [{\"marker\": {\"colorbar\": {\"outlinewidth\": 0, \"ticks\": \"\"}}, \"type\": \"scatterpolar\"}], \"scatterpolargl\": [{\"marker\": {\"colorbar\": {\"outlinewidth\": 0, \"ticks\": \"\"}}, \"type\": \"scatterpolargl\"}], \"scatterternary\": [{\"marker\": {\"colorbar\": {\"outlinewidth\": 0, \"ticks\": \"\"}}, \"type\": \"scatterternary\"}], \"surface\": [{\"colorbar\": {\"outlinewidth\": 0, \"ticks\": \"\"}, \"colorscale\": [[0.0, \"#0d0887\"], [0.1111111111111111, \"#46039f\"], [0.2222222222222222, \"#7201a8\"], [0.3333333333333333, \"#9c179e\"], [0.4444444444444444, \"#bd3786\"], [0.5555555555555556, \"#d8576b\"], [0.6666666666666666, \"#ed7953\"], [0.7777777777777778, \"#fb9f3a\"], [0.8888888888888888, \"#fdca26\"], [1.0, \"#f0f921\"]], \"type\": \"surface\"}], \"table\": [{\"cells\": {\"fill\": {\"color\": \"#EBF0F8\"}, \"line\": {\"color\": \"white\"}}, \"header\": {\"fill\": {\"color\": \"#C8D4E3\"}, \"line\": {\"color\": \"white\"}}, \"type\": \"table\"}]}, \"layout\": {\"annotationdefaults\": {\"arrowcolor\": \"#2a3f5f\", \"arrowhead\": 0, \"arrowwidth\": 1}, \"coloraxis\": {\"colorbar\": {\"outlinewidth\": 0, \"ticks\": \"\"}}, \"colorscale\": {\"diverging\": [[0, \"#8e0152\"], [0.1, \"#c51b7d\"], [0.2, \"#de77ae\"], [0.3, \"#f1b6da\"], [0.4, \"#fde0ef\"], [0.5, \"#f7f7f7\"], [0.6, \"#e6f5d0\"], [0.7, \"#b8e186\"], [0.8, \"#7fbc41\"], [0.9, \"#4d9221\"], [1, \"#276419\"]], \"sequential\": [[0.0, \"#0d0887\"], [0.1111111111111111, \"#46039f\"], [0.2222222222222222, \"#7201a8\"], [0.3333333333333333, \"#9c179e\"], [0.4444444444444444, \"#bd3786\"], [0.5555555555555556, \"#d8576b\"], [0.6666666666666666, \"#ed7953\"], [0.7777777777777778, \"#fb9f3a\"], [0.8888888888888888, \"#fdca26\"], [1.0, \"#f0f921\"]], \"sequentialminus\": [[0.0, \"#0d0887\"], [0.1111111111111111, \"#46039f\"], [0.2222222222222222, \"#7201a8\"], [0.3333333333333333, \"#9c179e\"], [0.4444444444444444, \"#bd3786\"], [0.5555555555555556, \"#d8576b\"], [0.6666666666666666, \"#ed7953\"], [0.7777777777777778, \"#fb9f3a\"], [0.8888888888888888, \"#fdca26\"], [1.0, \"#f0f921\"]]}, \"colorway\": [\"#636efa\", \"#EF553B\", \"#00cc96\", \"#ab63fa\", \"#FFA15A\", \"#19d3f3\", \"#FF6692\", \"#B6E880\", \"#FF97FF\", \"#FECB52\"], \"font\": {\"color\": \"#2a3f5f\"}, \"geo\": {\"bgcolor\": \"white\", \"lakecolor\": \"white\", \"landcolor\": \"#E5ECF6\", \"showlakes\": true, \"showland\": true, \"subunitcolor\": \"white\"}, \"hoverlabel\": {\"align\": \"left\"}, \"hovermode\": \"closest\", \"mapbox\": {\"style\": \"light\"}, \"paper_bgcolor\": \"white\", \"plot_bgcolor\": \"#E5ECF6\", \"polar\": {\"angularaxis\": {\"gridcolor\": \"white\", \"linecolor\": \"white\", \"ticks\": \"\"}, \"bgcolor\": \"#E5ECF6\", \"radialaxis\": {\"gridcolor\": \"white\", \"linecolor\": \"white\", \"ticks\": \"\"}}, \"scene\": {\"xaxis\": {\"backgroundcolor\": \"#E5ECF6\", \"gridcolor\": \"white\", \"gridwidth\": 2, \"linecolor\": \"white\", \"showbackground\": true, \"ticks\": \"\", \"zerolinecolor\": \"white\"}, \"yaxis\": {\"backgroundcolor\": \"#E5ECF6\", \"gridcolor\": \"white\", \"gridwidth\": 2, \"linecolor\": \"white\", \"showbackground\": true, \"ticks\": \"\", \"zerolinecolor\": \"white\"}, \"zaxis\": {\"backgroundcolor\": \"#E5ECF6\", \"gridcolor\": \"white\", \"gridwidth\": 2, \"linecolor\": \"white\", \"showbackground\": true, \"ticks\": \"\", \"zerolinecolor\": \"white\"}}, \"shapedefaults\": {\"line\": {\"color\": \"#2a3f5f\"}}, \"ternary\": {\"aaxis\": {\"gridcolor\": \"white\", \"linecolor\": \"white\", \"ticks\": \"\"}, \"baxis\": {\"gridcolor\": \"white\", \"linecolor\": \"white\", \"ticks\": \"\"}, \"bgcolor\": \"#E5ECF6\", \"caxis\": {\"gridcolor\": \"white\", \"linecolor\": \"white\", \"ticks\": \"\"}}, \"title\": {\"x\": 0.05}, \"xaxis\": {\"automargin\": true, \"gridcolor\": \"white\", \"linecolor\": \"white\", \"ticks\": \"\", \"title\": {\"standoff\": 15}, \"zerolinecolor\": \"white\", \"zerolinewidth\": 2}, \"yaxis\": {\"automargin\": true, \"gridcolor\": \"white\", \"linecolor\": \"white\", \"ticks\": \"\", \"title\": {\"standoff\": 15}, \"zerolinecolor\": \"white\", \"zerolinewidth\": 2}}}, \"title\": {\"text\": \"Product vs ASP\"}},\n",
       "                        {\"responsive\": true}\n",
       "                    ).then(function(){\n",
       "                            \n",
       "var gd = document.getElementById('b4619587-2396-42c9-b45d-791c579d265a');\n",
       "var x = new MutationObserver(function (mutations, observer) {{\n",
       "        var display = window.getComputedStyle(gd).display;\n",
       "        if (!display || display === 'none') {{\n",
       "            console.log([gd, 'removed!']);\n",
       "            Plotly.purge(gd);\n",
       "            observer.disconnect();\n",
       "        }}\n",
       "}});\n",
       "\n",
       "// Listen for the removal of the full notebook cells\n",
       "var notebookContainer = gd.closest('#notebook-container');\n",
       "if (notebookContainer) {{\n",
       "    x.observe(notebookContainer, {childList: true});\n",
       "}}\n",
       "\n",
       "// Listen for the clearing of the current output cell\n",
       "var outputEl = gd.closest('.output');\n",
       "if (outputEl) {{\n",
       "    x.observe(outputEl, {childList: true});\n",
       "}}\n",
       "\n",
       "                        })\n",
       "                };\n",
       "                });\n",
       "            </script>\n",
       "        </div>"
      ]
     },
     "metadata": {},
     "output_type": "display_data"
    }
   ],
   "source": [
    "data_plot = [go.Bar(x=d_rev1.index,\n",
    "                          y=d_rev1.ASP.astype(float),\n",
    "       marker=dict(\n",
    "        color='rgb(100,400,20)',# Lava (#CC0E1D)\n",
    "#         color = 'rgb(200,0,0)'   `\n",
    "    ))]\n",
    "layout = go.Layout(title = \"Product vs ASP\")\n",
    "fig = go.Figure(data= data_plot, layout=layout)\n",
    "iplot(fig)"
   ]
  },
  {
   "cell_type": "markdown",
   "metadata": {},
   "source": [
    "#### therefore PR6640 has the highest Average Selling Price in Complete Dataset."
   ]
  },
  {
   "cell_type": "code",
   "execution_count": 41,
   "metadata": {},
   "outputs": [
    {
     "data": {
      "text/plain": [
       "55.14772787295895"
      ]
     },
     "execution_count": 41,
     "metadata": {},
     "output_type": "execute_result"
    }
   ],
   "source": [
    "d_rev1.ASP.mean() \n",
    "# Also the mean selling price across products is 55 therefore PR6440 of being 80 isnt a huge difference"
   ]
  },
  {
   "cell_type": "code",
   "execution_count": null,
   "metadata": {},
   "outputs": [],
   "source": []
  },
  {
   "cell_type": "code",
   "execution_count": null,
   "metadata": {},
   "outputs": [],
   "source": []
  },
  {
   "cell_type": "markdown",
   "metadata": {},
   "source": [
    "# Data Pre-Processing "
   ]
  },
  {
   "cell_type": "code",
   "execution_count": 42,
   "metadata": {},
   "outputs": [],
   "source": [
    "data2=data.copy() # making a copy of the orginal data for santity purpose "
   ]
  },
  {
   "cell_type": "code",
   "execution_count": 43,
   "metadata": {},
   "outputs": [],
   "source": [
    "# making a new column SellingPrice for each reportID\n",
    "data2['SellingPrice']=data2.TotalSalesValue/data2.Quantity"
   ]
  },
  {
   "cell_type": "code",
   "execution_count": 44,
   "metadata": {},
   "outputs": [
    {
     "data": {
      "text/html": [
       "<div>\n",
       "<style scoped>\n",
       "    .dataframe tbody tr th:only-of-type {\n",
       "        vertical-align: middle;\n",
       "    }\n",
       "\n",
       "    .dataframe tbody tr th {\n",
       "        vertical-align: top;\n",
       "    }\n",
       "\n",
       "    .dataframe thead th {\n",
       "        text-align: right;\n",
       "    }\n",
       "</style>\n",
       "<table border=\"1\" class=\"dataframe\">\n",
       "  <thead>\n",
       "    <tr style=\"text-align: right;\">\n",
       "      <th></th>\n",
       "      <th>ReportID</th>\n",
       "      <th>SalesPersonID</th>\n",
       "      <th>ProductID</th>\n",
       "      <th>Quantity</th>\n",
       "      <th>TotalSalesValue</th>\n",
       "      <th>Suspicious</th>\n",
       "      <th>SellingPrice</th>\n",
       "    </tr>\n",
       "  </thead>\n",
       "  <tbody>\n",
       "    <tr>\n",
       "      <th>0</th>\n",
       "      <td>Rep10101</td>\n",
       "      <td>C21116</td>\n",
       "      <td>PR6112</td>\n",
       "      <td>182</td>\n",
       "      <td>1665</td>\n",
       "      <td>indeterminate</td>\n",
       "      <td>9.148352</td>\n",
       "    </tr>\n",
       "    <tr>\n",
       "      <th>1</th>\n",
       "      <td>Rep10102</td>\n",
       "      <td>C21116</td>\n",
       "      <td>PR6112</td>\n",
       "      <td>182</td>\n",
       "      <td>1740</td>\n",
       "      <td>indeterminate</td>\n",
       "      <td>9.560440</td>\n",
       "    </tr>\n",
       "    <tr>\n",
       "      <th>2</th>\n",
       "      <td>Rep10103</td>\n",
       "      <td>C21116</td>\n",
       "      <td>PR6253</td>\n",
       "      <td>101</td>\n",
       "      <td>1040</td>\n",
       "      <td>indeterminate</td>\n",
       "      <td>10.297030</td>\n",
       "    </tr>\n",
       "    <tr>\n",
       "      <th>3</th>\n",
       "      <td>Rep10104</td>\n",
       "      <td>C21116</td>\n",
       "      <td>PR6253</td>\n",
       "      <td>283</td>\n",
       "      <td>4495</td>\n",
       "      <td>No</td>\n",
       "      <td>15.883392</td>\n",
       "    </tr>\n",
       "    <tr>\n",
       "      <th>4</th>\n",
       "      <td>Rep10105</td>\n",
       "      <td>C21116</td>\n",
       "      <td>PR6294</td>\n",
       "      <td>108</td>\n",
       "      <td>1465</td>\n",
       "      <td>indeterminate</td>\n",
       "      <td>13.564815</td>\n",
       "    </tr>\n",
       "  </tbody>\n",
       "</table>\n",
       "</div>"
      ],
      "text/plain": [
       "   ReportID SalesPersonID ProductID  Quantity  TotalSalesValue     Suspicious  \\\n",
       "0  Rep10101        C21116    PR6112       182             1665  indeterminate   \n",
       "1  Rep10102        C21116    PR6112       182             1740  indeterminate   \n",
       "2  Rep10103        C21116    PR6253       101             1040  indeterminate   \n",
       "3  Rep10104        C21116    PR6253       283             4495             No   \n",
       "4  Rep10105        C21116    PR6294       108             1465  indeterminate   \n",
       "\n",
       "   SellingPrice  \n",
       "0      9.148352  \n",
       "1      9.560440  \n",
       "2     10.297030  \n",
       "3     15.883392  \n",
       "4     13.564815  "
      ]
     },
     "execution_count": 44,
     "metadata": {},
     "output_type": "execute_result"
    }
   ],
   "source": [
    "data2.head()"
   ]
  },
  {
   "cell_type": "code",
   "execution_count": 45,
   "metadata": {},
   "outputs": [],
   "source": [
    "# remvoing the 2 tuples found on exploratory data analysis which is a huge outlier\n",
    "data2=data2[~(data2.ReportID==\"Rep34193\")]\n",
    "data2=data2[~(data2.ReportID==\"Rep38829\")]"
   ]
  },
  {
   "cell_type": "code",
   "execution_count": null,
   "metadata": {},
   "outputs": [],
   "source": []
  },
  {
   "cell_type": "markdown",
   "metadata": {},
   "source": [
    "- On understanding the problem statement each SalesPerson could sell Products at different prices across transcations\n",
    "- My understanding of the problem is that there should be features of a particular product of a particular Sales Person\n",
    "- The differences and ratios on a productID by a particular SalesPerson would create a profile for ProductID and SalesPersonID and helps us judge on how a salesperson sells a particular product."
   ]
  },
  {
   "cell_type": "code",
   "execution_count": 46,
   "metadata": {},
   "outputs": [],
   "source": [
    "# this gives us the Average Selling Price of each product sold by a SalesPerson across all his transcations.\n",
    "\n",
    "d_10=data2.groupby([\"SalesPersonID\",\"ProductID\"]).agg({\"Quantity\":np.sum,\"TotalSalesValue\":np.sum},axis=0)\n",
    "\n",
    "d_10['ASP_CP']=d_10.TotalSalesValue/d_10.Quantity"
   ]
  },
  {
   "cell_type": "code",
   "execution_count": 47,
   "metadata": {},
   "outputs": [
    {
     "data": {
      "text/plain": [
       "(7304, 3)"
      ]
     },
     "execution_count": 47,
     "metadata": {},
     "output_type": "execute_result"
    }
   ],
   "source": [
    "d_10.shape"
   ]
  },
  {
   "cell_type": "code",
   "execution_count": 48,
   "metadata": {},
   "outputs": [
    {
     "data": {
      "text/html": [
       "<div>\n",
       "<style scoped>\n",
       "    .dataframe tbody tr th:only-of-type {\n",
       "        vertical-align: middle;\n",
       "    }\n",
       "\n",
       "    .dataframe tbody tr th {\n",
       "        vertical-align: top;\n",
       "    }\n",
       "\n",
       "    .dataframe thead th {\n",
       "        text-align: right;\n",
       "    }\n",
       "</style>\n",
       "<table border=\"1\" class=\"dataframe\">\n",
       "  <thead>\n",
       "    <tr style=\"text-align: right;\">\n",
       "      <th></th>\n",
       "      <th></th>\n",
       "      <th>Quantity</th>\n",
       "      <th>TotalSalesValue</th>\n",
       "      <th>ASP_CP</th>\n",
       "    </tr>\n",
       "    <tr>\n",
       "      <th>SalesPersonID</th>\n",
       "      <th>ProductID</th>\n",
       "      <th></th>\n",
       "      <th></th>\n",
       "      <th></th>\n",
       "    </tr>\n",
       "  </thead>\n",
       "  <tbody>\n",
       "    <tr>\n",
       "      <th rowspan=\"4\" valign=\"top\">C21116</th>\n",
       "      <th>PR6112</th>\n",
       "      <td>546</td>\n",
       "      <td>5145</td>\n",
       "      <td>9.423077</td>\n",
       "    </tr>\n",
       "    <tr>\n",
       "      <th>PR6253</th>\n",
       "      <td>908</td>\n",
       "      <td>13310</td>\n",
       "      <td>14.658590</td>\n",
       "    </tr>\n",
       "    <tr>\n",
       "      <th>PR6294</th>\n",
       "      <td>225</td>\n",
       "      <td>3325</td>\n",
       "      <td>14.777778</td>\n",
       "    </tr>\n",
       "    <tr>\n",
       "      <th>PR6297</th>\n",
       "      <td>150</td>\n",
       "      <td>2300</td>\n",
       "      <td>15.333333</td>\n",
       "    </tr>\n",
       "    <tr>\n",
       "      <th>C21118</th>\n",
       "      <th>PR6202</th>\n",
       "      <td>966939</td>\n",
       "      <td>1991960</td>\n",
       "      <td>2.060068</td>\n",
       "    </tr>\n",
       "  </tbody>\n",
       "</table>\n",
       "</div>"
      ],
      "text/plain": [
       "                         Quantity  TotalSalesValue     ASP_CP\n",
       "SalesPersonID ProductID                                      \n",
       "C21116        PR6112          546             5145   9.423077\n",
       "              PR6253          908            13310  14.658590\n",
       "              PR6294          225             3325  14.777778\n",
       "              PR6297          150             2300  15.333333\n",
       "C21118        PR6202       966939          1991960   2.060068"
      ]
     },
     "execution_count": 48,
     "metadata": {},
     "output_type": "execute_result"
    }
   ],
   "source": [
    "d_10.head()"
   ]
  },
  {
   "cell_type": "code",
   "execution_count": 49,
   "metadata": {},
   "outputs": [
    {
     "data": {
      "text/html": [
       "<div>\n",
       "<style scoped>\n",
       "    .dataframe tbody tr th:only-of-type {\n",
       "        vertical-align: middle;\n",
       "    }\n",
       "\n",
       "    .dataframe tbody tr th {\n",
       "        vertical-align: top;\n",
       "    }\n",
       "\n",
       "    .dataframe thead th {\n",
       "        text-align: right;\n",
       "    }\n",
       "</style>\n",
       "<table border=\"1\" class=\"dataframe\">\n",
       "  <thead>\n",
       "    <tr style=\"text-align: right;\">\n",
       "      <th></th>\n",
       "      <th>SalesPersonID</th>\n",
       "      <th>ProductID</th>\n",
       "      <th>Quantity</th>\n",
       "      <th>TotalSalesValue</th>\n",
       "      <th>ASP_CP</th>\n",
       "    </tr>\n",
       "  </thead>\n",
       "  <tbody>\n",
       "    <tr>\n",
       "      <th>0</th>\n",
       "      <td>C21116</td>\n",
       "      <td>PR6112</td>\n",
       "      <td>546</td>\n",
       "      <td>5145</td>\n",
       "      <td>9.423077</td>\n",
       "    </tr>\n",
       "    <tr>\n",
       "      <th>1</th>\n",
       "      <td>C21116</td>\n",
       "      <td>PR6253</td>\n",
       "      <td>908</td>\n",
       "      <td>13310</td>\n",
       "      <td>14.658590</td>\n",
       "    </tr>\n",
       "    <tr>\n",
       "      <th>2</th>\n",
       "      <td>C21116</td>\n",
       "      <td>PR6294</td>\n",
       "      <td>225</td>\n",
       "      <td>3325</td>\n",
       "      <td>14.777778</td>\n",
       "    </tr>\n",
       "    <tr>\n",
       "      <th>3</th>\n",
       "      <td>C21116</td>\n",
       "      <td>PR6297</td>\n",
       "      <td>150</td>\n",
       "      <td>2300</td>\n",
       "      <td>15.333333</td>\n",
       "    </tr>\n",
       "    <tr>\n",
       "      <th>4</th>\n",
       "      <td>C21118</td>\n",
       "      <td>PR6202</td>\n",
       "      <td>966939</td>\n",
       "      <td>1991960</td>\n",
       "      <td>2.060068</td>\n",
       "    </tr>\n",
       "  </tbody>\n",
       "</table>\n",
       "</div>"
      ],
      "text/plain": [
       "  SalesPersonID ProductID  Quantity  TotalSalesValue     ASP_CP\n",
       "0        C21116    PR6112       546             5145   9.423077\n",
       "1        C21116    PR6253       908            13310  14.658590\n",
       "2        C21116    PR6294       225             3325  14.777778\n",
       "3        C21116    PR6297       150             2300  15.333333\n",
       "4        C21118    PR6202    966939          1991960   2.060068"
      ]
     },
     "execution_count": 49,
     "metadata": {},
     "output_type": "execute_result"
    }
   ],
   "source": [
    "dcheck=d_10.reset_index()\n",
    "dcheck.head()"
   ]
  },
  {
   "cell_type": "markdown",
   "metadata": {},
   "source": [
    "- Performing a inner JOIN operation on dataset so that each transcation gets its Average Selling price of that product sold by that respective SalesPerson"
   ]
  },
  {
   "cell_type": "code",
   "execution_count": 50,
   "metadata": {},
   "outputs": [],
   "source": [
    "data3=pd.merge(data2,dcheck[['SalesPersonID','ProductID','ASP_CP']],\n",
    "              left_on=['SalesPersonID','ProductID'],\n",
    "              right_on=['SalesPersonID','ProductID'],how='inner')"
   ]
  },
  {
   "cell_type": "code",
   "execution_count": 51,
   "metadata": {},
   "outputs": [
    {
     "name": "stdout",
     "output_type": "stream",
     "text": [
      "(42580, 8)\n"
     ]
    },
    {
     "data": {
      "text/html": [
       "<div>\n",
       "<style scoped>\n",
       "    .dataframe tbody tr th:only-of-type {\n",
       "        vertical-align: middle;\n",
       "    }\n",
       "\n",
       "    .dataframe tbody tr th {\n",
       "        vertical-align: top;\n",
       "    }\n",
       "\n",
       "    .dataframe thead th {\n",
       "        text-align: right;\n",
       "    }\n",
       "</style>\n",
       "<table border=\"1\" class=\"dataframe\">\n",
       "  <thead>\n",
       "    <tr style=\"text-align: right;\">\n",
       "      <th></th>\n",
       "      <th>ReportID</th>\n",
       "      <th>SalesPersonID</th>\n",
       "      <th>ProductID</th>\n",
       "      <th>Quantity</th>\n",
       "      <th>TotalSalesValue</th>\n",
       "      <th>Suspicious</th>\n",
       "      <th>SellingPrice</th>\n",
       "      <th>ASP_CP</th>\n",
       "    </tr>\n",
       "  </thead>\n",
       "  <tbody>\n",
       "    <tr>\n",
       "      <th>0</th>\n",
       "      <td>Rep10101</td>\n",
       "      <td>C21116</td>\n",
       "      <td>PR6112</td>\n",
       "      <td>182</td>\n",
       "      <td>1665</td>\n",
       "      <td>indeterminate</td>\n",
       "      <td>9.148352</td>\n",
       "      <td>9.423077</td>\n",
       "    </tr>\n",
       "    <tr>\n",
       "      <th>1</th>\n",
       "      <td>Rep10102</td>\n",
       "      <td>C21116</td>\n",
       "      <td>PR6112</td>\n",
       "      <td>182</td>\n",
       "      <td>1740</td>\n",
       "      <td>indeterminate</td>\n",
       "      <td>9.560440</td>\n",
       "      <td>9.423077</td>\n",
       "    </tr>\n",
       "    <tr>\n",
       "      <th>2</th>\n",
       "      <td>Rep10109</td>\n",
       "      <td>C21116</td>\n",
       "      <td>PR6112</td>\n",
       "      <td>182</td>\n",
       "      <td>1740</td>\n",
       "      <td>indeterminate</td>\n",
       "      <td>9.560440</td>\n",
       "      <td>9.423077</td>\n",
       "    </tr>\n",
       "    <tr>\n",
       "      <th>3</th>\n",
       "      <td>Rep10103</td>\n",
       "      <td>C21116</td>\n",
       "      <td>PR6253</td>\n",
       "      <td>101</td>\n",
       "      <td>1040</td>\n",
       "      <td>indeterminate</td>\n",
       "      <td>10.297030</td>\n",
       "      <td>14.658590</td>\n",
       "    </tr>\n",
       "    <tr>\n",
       "      <th>4</th>\n",
       "      <td>Rep10104</td>\n",
       "      <td>C21116</td>\n",
       "      <td>PR6253</td>\n",
       "      <td>283</td>\n",
       "      <td>4495</td>\n",
       "      <td>No</td>\n",
       "      <td>15.883392</td>\n",
       "      <td>14.658590</td>\n",
       "    </tr>\n",
       "  </tbody>\n",
       "</table>\n",
       "</div>"
      ],
      "text/plain": [
       "   ReportID SalesPersonID ProductID  Quantity  TotalSalesValue     Suspicious  \\\n",
       "0  Rep10101        C21116    PR6112       182             1665  indeterminate   \n",
       "1  Rep10102        C21116    PR6112       182             1740  indeterminate   \n",
       "2  Rep10109        C21116    PR6112       182             1740  indeterminate   \n",
       "3  Rep10103        C21116    PR6253       101             1040  indeterminate   \n",
       "4  Rep10104        C21116    PR6253       283             4495             No   \n",
       "\n",
       "   SellingPrice     ASP_CP  \n",
       "0      9.148352   9.423077  \n",
       "1      9.560440   9.423077  \n",
       "2      9.560440   9.423077  \n",
       "3     10.297030  14.658590  \n",
       "4     15.883392  14.658590  "
      ]
     },
     "execution_count": 51,
     "metadata": {},
     "output_type": "execute_result"
    }
   ],
   "source": [
    "print(data3.shape) # to show the number of rows have not increased\n",
    "\n",
    "data3.head(5)"
   ]
  },
  {
   "cell_type": "code",
   "execution_count": null,
   "metadata": {},
   "outputs": [],
   "source": []
  },
  {
   "cell_type": "code",
   "execution_count": null,
   "metadata": {},
   "outputs": [],
   "source": []
  },
  {
   "cell_type": "markdown",
   "metadata": {},
   "source": [
    "###### Various attributes were made but a few which are commented here did not contribute but only resulted in more noise"
   ]
  },
  {
   "cell_type": "markdown",
   "metadata": {},
   "source": [
    "d_12=data2.groupby(\"SalesPersonID\").agg({\"Quantity\":np.sum,\"TotalSalesValue\":np.sum},axis=0)"
   ]
  },
  {
   "cell_type": "markdown",
   "metadata": {},
   "source": [
    "d_12['ASP_C']=d_12.TotalSalesValue/d_12.Quantity"
   ]
  },
  {
   "cell_type": "markdown",
   "metadata": {},
   "source": [
    "dcheck=d_12.reset_index()"
   ]
  },
  {
   "cell_type": "markdown",
   "metadata": {},
   "source": [
    "dcheck.head()"
   ]
  },
  {
   "cell_type": "markdown",
   "metadata": {},
   "source": [
    "data3=pd.merge(data3,dcheck[['SalesPersonID','ASP_C']],\n",
    "              left_on='SalesPersonID',\n",
    "              right_on='SalesPersonID',how='inner')"
   ]
  },
  {
   "cell_type": "code",
   "execution_count": null,
   "metadata": {},
   "outputs": [],
   "source": []
  },
  {
   "cell_type": "markdown",
   "metadata": {},
   "source": [
    "d_13=data2.groupby(\"ProductID\").agg({\"Quantity\":np.sum,\"TotalSalesValue\":np.sum},axis=0)\n",
    "\n",
    "d_13['ASP_P']=d_13.TotalSalesValue/d_13.Quantity"
   ]
  },
  {
   "cell_type": "markdown",
   "metadata": {},
   "source": [
    "dcheck=d_13.reset_index()\n",
    "\n",
    "dcheck.head()"
   ]
  },
  {
   "cell_type": "markdown",
   "metadata": {},
   "source": [
    "data3=pd.merge(data3,dcheck[['ProductID','ASP_P']],\n",
    "              left_on='ProductID',\n",
    "              right_on='ProductID',how='inner')"
   ]
  },
  {
   "cell_type": "code",
   "execution_count": null,
   "metadata": {},
   "outputs": [],
   "source": []
  },
  {
   "cell_type": "markdown",
   "metadata": {},
   "source": [
    "### Adding 2 new columns MedianQuantity and MedianTotalSalesValue of each product sold by a particular SalesPerson across all his transcations"
   ]
  },
  {
   "cell_type": "code",
   "execution_count": 52,
   "metadata": {},
   "outputs": [
    {
     "data": {
      "text/html": [
       "<div>\n",
       "<style scoped>\n",
       "    .dataframe tbody tr th:only-of-type {\n",
       "        vertical-align: middle;\n",
       "    }\n",
       "\n",
       "    .dataframe tbody tr th {\n",
       "        vertical-align: top;\n",
       "    }\n",
       "\n",
       "    .dataframe thead th {\n",
       "        text-align: right;\n",
       "    }\n",
       "</style>\n",
       "<table border=\"1\" class=\"dataframe\">\n",
       "  <thead>\n",
       "    <tr style=\"text-align: right;\">\n",
       "      <th></th>\n",
       "      <th></th>\n",
       "      <th>Quantity</th>\n",
       "      <th>TotalSalesValue</th>\n",
       "    </tr>\n",
       "    <tr>\n",
       "      <th>SalesPersonID</th>\n",
       "      <th>ProductID</th>\n",
       "      <th></th>\n",
       "      <th></th>\n",
       "    </tr>\n",
       "  </thead>\n",
       "  <tbody>\n",
       "    <tr>\n",
       "      <th rowspan=\"4\" valign=\"top\">C21116</th>\n",
       "      <th>PR6112</th>\n",
       "      <td>182.0</td>\n",
       "      <td>1740.0</td>\n",
       "    </tr>\n",
       "    <tr>\n",
       "      <th>PR6253</th>\n",
       "      <td>193.0</td>\n",
       "      <td>2807.5</td>\n",
       "    </tr>\n",
       "    <tr>\n",
       "      <th>PR6294</th>\n",
       "      <td>112.5</td>\n",
       "      <td>1662.5</td>\n",
       "    </tr>\n",
       "    <tr>\n",
       "      <th>PR6297</th>\n",
       "      <td>150.0</td>\n",
       "      <td>2300.0</td>\n",
       "    </tr>\n",
       "    <tr>\n",
       "      <th>C21118</th>\n",
       "      <th>PR6202</th>\n",
       "      <td>70950.0</td>\n",
       "      <td>136240.0</td>\n",
       "    </tr>\n",
       "  </tbody>\n",
       "</table>\n",
       "</div>"
      ],
      "text/plain": [
       "                         Quantity  TotalSalesValue\n",
       "SalesPersonID ProductID                           \n",
       "C21116        PR6112        182.0           1740.0\n",
       "              PR6253        193.0           2807.5\n",
       "              PR6294        112.5           1662.5\n",
       "              PR6297        150.0           2300.0\n",
       "C21118        PR6202      70950.0         136240.0"
      ]
     },
     "execution_count": 52,
     "metadata": {},
     "output_type": "execute_result"
    }
   ],
   "source": [
    "d_11=data2.groupby([\"SalesPersonID\",\"ProductID\"]).agg({\"Quantity\":np.median,\"TotalSalesValue\":np.median},axis=0)\n",
    "d_11.head()"
   ]
  },
  {
   "cell_type": "code",
   "execution_count": null,
   "metadata": {},
   "outputs": [],
   "source": []
  },
  {
   "cell_type": "code",
   "execution_count": 53,
   "metadata": {},
   "outputs": [],
   "source": [
    "d_11=d_11.reset_index()\n",
    "d_11=d_11.rename(index=str,columns={\"Quantity\":\"MedianQuantity\",'TotalSalesValue':\"MedianTotalSales\"})\n",
    "\n",
    "# join operation performed on main data\n",
    "data4=pd.merge(data3,d_11[['SalesPersonID','ProductID','MedianQuantity','MedianTotalSales']],\n",
    "              left_on=['SalesPersonID','ProductID'],\n",
    "              right_on=['SalesPersonID','ProductID'],how='inner')"
   ]
  },
  {
   "cell_type": "code",
   "execution_count": 54,
   "metadata": {},
   "outputs": [
    {
     "data": {
      "text/html": [
       "<div>\n",
       "<style scoped>\n",
       "    .dataframe tbody tr th:only-of-type {\n",
       "        vertical-align: middle;\n",
       "    }\n",
       "\n",
       "    .dataframe tbody tr th {\n",
       "        vertical-align: top;\n",
       "    }\n",
       "\n",
       "    .dataframe thead th {\n",
       "        text-align: right;\n",
       "    }\n",
       "</style>\n",
       "<table border=\"1\" class=\"dataframe\">\n",
       "  <thead>\n",
       "    <tr style=\"text-align: right;\">\n",
       "      <th></th>\n",
       "      <th>ReportID</th>\n",
       "      <th>SalesPersonID</th>\n",
       "      <th>ProductID</th>\n",
       "      <th>Quantity</th>\n",
       "      <th>TotalSalesValue</th>\n",
       "      <th>Suspicious</th>\n",
       "      <th>SellingPrice</th>\n",
       "      <th>ASP_CP</th>\n",
       "      <th>MedianQuantity</th>\n",
       "      <th>MedianTotalSales</th>\n",
       "    </tr>\n",
       "  </thead>\n",
       "  <tbody>\n",
       "    <tr>\n",
       "      <th>0</th>\n",
       "      <td>Rep10101</td>\n",
       "      <td>C21116</td>\n",
       "      <td>PR6112</td>\n",
       "      <td>182</td>\n",
       "      <td>1665</td>\n",
       "      <td>indeterminate</td>\n",
       "      <td>9.148352</td>\n",
       "      <td>9.423077</td>\n",
       "      <td>182.0</td>\n",
       "      <td>1740.0</td>\n",
       "    </tr>\n",
       "    <tr>\n",
       "      <th>1</th>\n",
       "      <td>Rep10102</td>\n",
       "      <td>C21116</td>\n",
       "      <td>PR6112</td>\n",
       "      <td>182</td>\n",
       "      <td>1740</td>\n",
       "      <td>indeterminate</td>\n",
       "      <td>9.560440</td>\n",
       "      <td>9.423077</td>\n",
       "      <td>182.0</td>\n",
       "      <td>1740.0</td>\n",
       "    </tr>\n",
       "    <tr>\n",
       "      <th>2</th>\n",
       "      <td>Rep10109</td>\n",
       "      <td>C21116</td>\n",
       "      <td>PR6112</td>\n",
       "      <td>182</td>\n",
       "      <td>1740</td>\n",
       "      <td>indeterminate</td>\n",
       "      <td>9.560440</td>\n",
       "      <td>9.423077</td>\n",
       "      <td>182.0</td>\n",
       "      <td>1740.0</td>\n",
       "    </tr>\n",
       "    <tr>\n",
       "      <th>3</th>\n",
       "      <td>Rep10103</td>\n",
       "      <td>C21116</td>\n",
       "      <td>PR6253</td>\n",
       "      <td>101</td>\n",
       "      <td>1040</td>\n",
       "      <td>indeterminate</td>\n",
       "      <td>10.297030</td>\n",
       "      <td>14.658590</td>\n",
       "      <td>193.0</td>\n",
       "      <td>2807.5</td>\n",
       "    </tr>\n",
       "    <tr>\n",
       "      <th>4</th>\n",
       "      <td>Rep10104</td>\n",
       "      <td>C21116</td>\n",
       "      <td>PR6253</td>\n",
       "      <td>283</td>\n",
       "      <td>4495</td>\n",
       "      <td>No</td>\n",
       "      <td>15.883392</td>\n",
       "      <td>14.658590</td>\n",
       "      <td>193.0</td>\n",
       "      <td>2807.5</td>\n",
       "    </tr>\n",
       "  </tbody>\n",
       "</table>\n",
       "</div>"
      ],
      "text/plain": [
       "   ReportID SalesPersonID ProductID  Quantity  TotalSalesValue     Suspicious  \\\n",
       "0  Rep10101        C21116    PR6112       182             1665  indeterminate   \n",
       "1  Rep10102        C21116    PR6112       182             1740  indeterminate   \n",
       "2  Rep10109        C21116    PR6112       182             1740  indeterminate   \n",
       "3  Rep10103        C21116    PR6253       101             1040  indeterminate   \n",
       "4  Rep10104        C21116    PR6253       283             4495             No   \n",
       "\n",
       "   SellingPrice     ASP_CP  MedianQuantity  MedianTotalSales  \n",
       "0      9.148352   9.423077           182.0            1740.0  \n",
       "1      9.560440   9.423077           182.0            1740.0  \n",
       "2      9.560440   9.423077           182.0            1740.0  \n",
       "3     10.297030  14.658590           193.0            2807.5  \n",
       "4     15.883392  14.658590           193.0            2807.5  "
      ]
     },
     "execution_count": 54,
     "metadata": {},
     "output_type": "execute_result"
    }
   ],
   "source": [
    "data4.head()"
   ]
  },
  {
   "cell_type": "code",
   "execution_count": null,
   "metadata": {},
   "outputs": [],
   "source": []
  },
  {
   "cell_type": "markdown",
   "metadata": {},
   "source": [
    "### Obtaining more columns from generated columns "
   ]
  },
  {
   "cell_type": "code",
   "execution_count": 55,
   "metadata": {},
   "outputs": [],
   "source": [
    "data4['QuantityMargin']=data4.Quantity/data4.MedianQuantity"
   ]
  },
  {
   "cell_type": "code",
   "execution_count": 56,
   "metadata": {},
   "outputs": [],
   "source": [
    "data4['TotalSalesMargin']=data4.TotalSalesValue/data4.MedianTotalSales"
   ]
  },
  {
   "cell_type": "code",
   "execution_count": 57,
   "metadata": {},
   "outputs": [],
   "source": [
    "data4['SellingPriceDiff']=data4.ASP_CP-data4.SellingPrice"
   ]
  },
  {
   "cell_type": "code",
   "execution_count": 58,
   "metadata": {},
   "outputs": [],
   "source": [
    "data4['SellingPriceMargin_CP']=data4.SellingPrice/data4.ASP_CP"
   ]
  },
  {
   "cell_type": "code",
   "execution_count": 59,
   "metadata": {},
   "outputs": [],
   "source": [
    "data4['QuantityDiff']=data4.MedianQuantity-data4.Quantity"
   ]
  },
  {
   "cell_type": "markdown",
   "metadata": {},
   "source": [
    "- Note: that the following attributes didnt contribute much so was removed "
   ]
  },
  {
   "cell_type": "code",
   "execution_count": 60,
   "metadata": {},
   "outputs": [],
   "source": [
    "#data4['SellingPriceMargin_P']=data4.SellingPrice/data4.ASP_P\n",
    "\n",
    "#data4['SellingPriceMargin_C']=data4.SellingPrice/data4.ASP_C\n",
    "\n",
    "#data4[\"TotalSalesDiff\"]=data4.MedianTotalSales-data4.TotalSalesValue"
   ]
  },
  {
   "cell_type": "markdown",
   "metadata": {},
   "source": [
    "## The final data after feautre engineering "
   ]
  },
  {
   "cell_type": "code",
   "execution_count": 61,
   "metadata": {},
   "outputs": [
    {
     "data": {
      "text/html": [
       "<div>\n",
       "<style scoped>\n",
       "    .dataframe tbody tr th:only-of-type {\n",
       "        vertical-align: middle;\n",
       "    }\n",
       "\n",
       "    .dataframe tbody tr th {\n",
       "        vertical-align: top;\n",
       "    }\n",
       "\n",
       "    .dataframe thead th {\n",
       "        text-align: right;\n",
       "    }\n",
       "</style>\n",
       "<table border=\"1\" class=\"dataframe\">\n",
       "  <thead>\n",
       "    <tr style=\"text-align: right;\">\n",
       "      <th></th>\n",
       "      <th>ReportID</th>\n",
       "      <th>SalesPersonID</th>\n",
       "      <th>ProductID</th>\n",
       "      <th>Quantity</th>\n",
       "      <th>TotalSalesValue</th>\n",
       "      <th>Suspicious</th>\n",
       "      <th>SellingPrice</th>\n",
       "      <th>ASP_CP</th>\n",
       "      <th>MedianQuantity</th>\n",
       "      <th>MedianTotalSales</th>\n",
       "      <th>QuantityMargin</th>\n",
       "      <th>TotalSalesMargin</th>\n",
       "      <th>SellingPriceDiff</th>\n",
       "      <th>SellingPriceMargin_CP</th>\n",
       "      <th>QuantityDiff</th>\n",
       "    </tr>\n",
       "  </thead>\n",
       "  <tbody>\n",
       "    <tr>\n",
       "      <th>0</th>\n",
       "      <td>Rep10101</td>\n",
       "      <td>C21116</td>\n",
       "      <td>PR6112</td>\n",
       "      <td>182</td>\n",
       "      <td>1665</td>\n",
       "      <td>indeterminate</td>\n",
       "      <td>9.148352</td>\n",
       "      <td>9.423077</td>\n",
       "      <td>182.0</td>\n",
       "      <td>1740.0</td>\n",
       "      <td>1.000000</td>\n",
       "      <td>0.956897</td>\n",
       "      <td>0.274725</td>\n",
       "      <td>0.970845</td>\n",
       "      <td>0.0</td>\n",
       "    </tr>\n",
       "    <tr>\n",
       "      <th>1</th>\n",
       "      <td>Rep10102</td>\n",
       "      <td>C21116</td>\n",
       "      <td>PR6112</td>\n",
       "      <td>182</td>\n",
       "      <td>1740</td>\n",
       "      <td>indeterminate</td>\n",
       "      <td>9.560440</td>\n",
       "      <td>9.423077</td>\n",
       "      <td>182.0</td>\n",
       "      <td>1740.0</td>\n",
       "      <td>1.000000</td>\n",
       "      <td>1.000000</td>\n",
       "      <td>-0.137363</td>\n",
       "      <td>1.014577</td>\n",
       "      <td>0.0</td>\n",
       "    </tr>\n",
       "    <tr>\n",
       "      <th>2</th>\n",
       "      <td>Rep10109</td>\n",
       "      <td>C21116</td>\n",
       "      <td>PR6112</td>\n",
       "      <td>182</td>\n",
       "      <td>1740</td>\n",
       "      <td>indeterminate</td>\n",
       "      <td>9.560440</td>\n",
       "      <td>9.423077</td>\n",
       "      <td>182.0</td>\n",
       "      <td>1740.0</td>\n",
       "      <td>1.000000</td>\n",
       "      <td>1.000000</td>\n",
       "      <td>-0.137363</td>\n",
       "      <td>1.014577</td>\n",
       "      <td>0.0</td>\n",
       "    </tr>\n",
       "    <tr>\n",
       "      <th>3</th>\n",
       "      <td>Rep10103</td>\n",
       "      <td>C21116</td>\n",
       "      <td>PR6253</td>\n",
       "      <td>101</td>\n",
       "      <td>1040</td>\n",
       "      <td>indeterminate</td>\n",
       "      <td>10.297030</td>\n",
       "      <td>14.658590</td>\n",
       "      <td>193.0</td>\n",
       "      <td>2807.5</td>\n",
       "      <td>0.523316</td>\n",
       "      <td>0.370436</td>\n",
       "      <td>4.361561</td>\n",
       "      <td>0.702457</td>\n",
       "      <td>92.0</td>\n",
       "    </tr>\n",
       "    <tr>\n",
       "      <th>4</th>\n",
       "      <td>Rep10104</td>\n",
       "      <td>C21116</td>\n",
       "      <td>PR6253</td>\n",
       "      <td>283</td>\n",
       "      <td>4495</td>\n",
       "      <td>No</td>\n",
       "      <td>15.883392</td>\n",
       "      <td>14.658590</td>\n",
       "      <td>193.0</td>\n",
       "      <td>2807.5</td>\n",
       "      <td>1.466321</td>\n",
       "      <td>1.601069</td>\n",
       "      <td>-1.224802</td>\n",
       "      <td>1.083555</td>\n",
       "      <td>-90.0</td>\n",
       "    </tr>\n",
       "  </tbody>\n",
       "</table>\n",
       "</div>"
      ],
      "text/plain": [
       "   ReportID SalesPersonID ProductID  Quantity  TotalSalesValue     Suspicious  \\\n",
       "0  Rep10101        C21116    PR6112       182             1665  indeterminate   \n",
       "1  Rep10102        C21116    PR6112       182             1740  indeterminate   \n",
       "2  Rep10109        C21116    PR6112       182             1740  indeterminate   \n",
       "3  Rep10103        C21116    PR6253       101             1040  indeterminate   \n",
       "4  Rep10104        C21116    PR6253       283             4495             No   \n",
       "\n",
       "   SellingPrice     ASP_CP  MedianQuantity  MedianTotalSales  QuantityMargin  \\\n",
       "0      9.148352   9.423077           182.0            1740.0        1.000000   \n",
       "1      9.560440   9.423077           182.0            1740.0        1.000000   \n",
       "2      9.560440   9.423077           182.0            1740.0        1.000000   \n",
       "3     10.297030  14.658590           193.0            2807.5        0.523316   \n",
       "4     15.883392  14.658590           193.0            2807.5        1.466321   \n",
       "\n",
       "   TotalSalesMargin  SellingPriceDiff  SellingPriceMargin_CP  QuantityDiff  \n",
       "0          0.956897          0.274725               0.970845           0.0  \n",
       "1          1.000000         -0.137363               1.014577           0.0  \n",
       "2          1.000000         -0.137363               1.014577           0.0  \n",
       "3          0.370436          4.361561               0.702457          92.0  \n",
       "4          1.601069         -1.224802               1.083555         -90.0  "
      ]
     },
     "execution_count": 61,
     "metadata": {},
     "output_type": "execute_result"
    }
   ],
   "source": [
    "data4.head()"
   ]
  },
  {
   "cell_type": "code",
   "execution_count": null,
   "metadata": {},
   "outputs": [],
   "source": []
  },
  {
   "cell_type": "code",
   "execution_count": 62,
   "metadata": {},
   "outputs": [
    {
     "data": {
      "text/html": [
       "<div>\n",
       "<style scoped>\n",
       "    .dataframe tbody tr th:only-of-type {\n",
       "        vertical-align: middle;\n",
       "    }\n",
       "\n",
       "    .dataframe tbody tr th {\n",
       "        vertical-align: top;\n",
       "    }\n",
       "\n",
       "    .dataframe thead th {\n",
       "        text-align: right;\n",
       "    }\n",
       "</style>\n",
       "<table border=\"1\" class=\"dataframe\">\n",
       "  <thead>\n",
       "    <tr style=\"text-align: right;\">\n",
       "      <th></th>\n",
       "      <th>ReportID</th>\n",
       "      <th>SalesPersonID</th>\n",
       "      <th>ProductID</th>\n",
       "      <th>Quantity</th>\n",
       "      <th>TotalSalesValue</th>\n",
       "      <th>Suspicious</th>\n",
       "      <th>SellingPrice</th>\n",
       "      <th>ASP_CP</th>\n",
       "      <th>MedianQuantity</th>\n",
       "      <th>MedianTotalSales</th>\n",
       "      <th>QuantityMargin</th>\n",
       "      <th>TotalSalesMargin</th>\n",
       "      <th>SellingPriceDiff</th>\n",
       "      <th>SellingPriceMargin_CP</th>\n",
       "      <th>QuantityDiff</th>\n",
       "    </tr>\n",
       "  </thead>\n",
       "  <tbody>\n",
       "    <tr>\n",
       "      <th>count</th>\n",
       "      <td>42580</td>\n",
       "      <td>42580</td>\n",
       "      <td>42580</td>\n",
       "      <td>4.258000e+04</td>\n",
       "      <td>4.258000e+04</td>\n",
       "      <td>42580</td>\n",
       "      <td>42580.000000</td>\n",
       "      <td>42580.000000</td>\n",
       "      <td>42580.000000</td>\n",
       "      <td>4.258000e+04</td>\n",
       "      <td>42580.000000</td>\n",
       "      <td>42580.000000</td>\n",
       "      <td>42580.000000</td>\n",
       "      <td>42580.000000</td>\n",
       "      <td>4.258000e+04</td>\n",
       "    </tr>\n",
       "    <tr>\n",
       "      <th>unique</th>\n",
       "      <td>42580</td>\n",
       "      <td>992</td>\n",
       "      <td>593</td>\n",
       "      <td>NaN</td>\n",
       "      <td>NaN</td>\n",
       "      <td>3</td>\n",
       "      <td>NaN</td>\n",
       "      <td>NaN</td>\n",
       "      <td>NaN</td>\n",
       "      <td>NaN</td>\n",
       "      <td>NaN</td>\n",
       "      <td>NaN</td>\n",
       "      <td>NaN</td>\n",
       "      <td>NaN</td>\n",
       "      <td>NaN</td>\n",
       "    </tr>\n",
       "    <tr>\n",
       "      <th>top</th>\n",
       "      <td>Rep18415</td>\n",
       "      <td>C21976</td>\n",
       "      <td>PR6253</td>\n",
       "      <td>NaN</td>\n",
       "      <td>NaN</td>\n",
       "      <td>indeterminate</td>\n",
       "      <td>NaN</td>\n",
       "      <td>NaN</td>\n",
       "      <td>NaN</td>\n",
       "      <td>NaN</td>\n",
       "      <td>NaN</td>\n",
       "      <td>NaN</td>\n",
       "      <td>NaN</td>\n",
       "      <td>NaN</td>\n",
       "      <td>NaN</td>\n",
       "    </tr>\n",
       "    <tr>\n",
       "      <th>freq</th>\n",
       "      <td>1</td>\n",
       "      <td>1359</td>\n",
       "      <td>2590</td>\n",
       "      <td>NaN</td>\n",
       "      <td>NaN</td>\n",
       "      <td>39846</td>\n",
       "      <td>NaN</td>\n",
       "      <td>NaN</td>\n",
       "      <td>NaN</td>\n",
       "      <td>NaN</td>\n",
       "      <td>NaN</td>\n",
       "      <td>NaN</td>\n",
       "      <td>NaN</td>\n",
       "      <td>NaN</td>\n",
       "      <td>NaN</td>\n",
       "    </tr>\n",
       "    <tr>\n",
       "      <th>mean</th>\n",
       "      <td>NaN</td>\n",
       "      <td>NaN</td>\n",
       "      <td>NaN</td>\n",
       "      <td>4.447421e+03</td>\n",
       "      <td>1.611392e+04</td>\n",
       "      <td>NaN</td>\n",
       "      <td>16.108425</td>\n",
       "      <td>15.855494</td>\n",
       "      <td>3357.779779</td>\n",
       "      <td>1.285908e+04</td>\n",
       "      <td>1.508774</td>\n",
       "      <td>1.440910</td>\n",
       "      <td>-0.252931</td>\n",
       "      <td>1.337234</td>\n",
       "      <td>-1.089642e+03</td>\n",
       "    </tr>\n",
       "    <tr>\n",
       "      <th>std</th>\n",
       "      <td>NaN</td>\n",
       "      <td>NaN</td>\n",
       "      <td>NaN</td>\n",
       "      <td>2.350923e+04</td>\n",
       "      <td>5.685315e+04</td>\n",
       "      <td>NaN</td>\n",
       "      <td>57.783137</td>\n",
       "      <td>19.838360</td>\n",
       "      <td>14826.259704</td>\n",
       "      <td>4.023651e+04</td>\n",
       "      <td>8.336727</td>\n",
       "      <td>3.135102</td>\n",
       "      <td>54.729136</td>\n",
       "      <td>8.696028</td>\n",
       "      <td>1.757300e+04</td>\n",
       "    </tr>\n",
       "    <tr>\n",
       "      <th>min</th>\n",
       "      <td>NaN</td>\n",
       "      <td>NaN</td>\n",
       "      <td>NaN</td>\n",
       "      <td>3.300000e+01</td>\n",
       "      <td>5.980000e+02</td>\n",
       "      <td>NaN</td>\n",
       "      <td>0.005320</td>\n",
       "      <td>0.043424</td>\n",
       "      <td>35.000000</td>\n",
       "      <td>5.980000e+02</td>\n",
       "      <td>0.001060</td>\n",
       "      <td>0.003106</td>\n",
       "      <td>-8670.411113</td>\n",
       "      <td>0.003946</td>\n",
       "      <td>-1.300496e+06</td>\n",
       "    </tr>\n",
       "    <tr>\n",
       "      <th>25%</th>\n",
       "      <td>NaN</td>\n",
       "      <td>NaN</td>\n",
       "      <td>NaN</td>\n",
       "      <td>1.110000e+02</td>\n",
       "      <td>1.345000e+03</td>\n",
       "      <td>NaN</td>\n",
       "      <td>6.781874</td>\n",
       "      <td>6.337962</td>\n",
       "      <td>113.000000</td>\n",
       "      <td>1.454375e+03</td>\n",
       "      <td>0.887029</td>\n",
       "      <td>0.835218</td>\n",
       "      <td>-1.040293</td>\n",
       "      <td>0.864631</td>\n",
       "      <td>-4.650000e+01</td>\n",
       "    </tr>\n",
       "    <tr>\n",
       "      <th>50%</th>\n",
       "      <td>NaN</td>\n",
       "      <td>NaN</td>\n",
       "      <td>NaN</td>\n",
       "      <td>2.060000e+02</td>\n",
       "      <td>2.980000e+03</td>\n",
       "      <td>NaN</td>\n",
       "      <td>10.742574</td>\n",
       "      <td>10.999512</td>\n",
       "      <td>213.000000</td>\n",
       "      <td>3.200000e+03</td>\n",
       "      <td>1.000000</td>\n",
       "      <td>1.000000</td>\n",
       "      <td>0.000000</td>\n",
       "      <td>1.000000</td>\n",
       "      <td>0.000000e+00</td>\n",
       "    </tr>\n",
       "    <tr>\n",
       "      <th>75%</th>\n",
       "      <td>NaN</td>\n",
       "      <td>NaN</td>\n",
       "      <td>NaN</td>\n",
       "      <td>1.136000e+03</td>\n",
       "      <td>1.076125e+04</td>\n",
       "      <td>NaN</td>\n",
       "      <td>16.385542</td>\n",
       "      <td>19.005971</td>\n",
       "      <td>1066.000000</td>\n",
       "      <td>9.945000e+03</td>\n",
       "      <td>1.176146</td>\n",
       "      <td>1.259902</td>\n",
       "      <td>1.360031</td>\n",
       "      <td>1.120230</td>\n",
       "      <td>2.400000e+01</td>\n",
       "    </tr>\n",
       "    <tr>\n",
       "      <th>max</th>\n",
       "      <td>NaN</td>\n",
       "      <td>NaN</td>\n",
       "      <td>NaN</td>\n",
       "      <td>1.331792e+06</td>\n",
       "      <td>2.265400e+06</td>\n",
       "      <td>NaN</td>\n",
       "      <td>8755.900901</td>\n",
       "      <td>862.026144</td>\n",
       "      <td>492249.500000</td>\n",
       "      <td>1.165615e+06</td>\n",
       "      <td>1001.504854</td>\n",
       "      <td>341.200658</td>\n",
       "      <td>848.263768</td>\n",
       "      <td>839.862636</td>\n",
       "      <td>4.911245e+05</td>\n",
       "    </tr>\n",
       "  </tbody>\n",
       "</table>\n",
       "</div>"
      ],
      "text/plain": [
       "        ReportID SalesPersonID ProductID      Quantity  TotalSalesValue  \\\n",
       "count      42580         42580     42580  4.258000e+04     4.258000e+04   \n",
       "unique     42580           992       593           NaN              NaN   \n",
       "top     Rep18415        C21976    PR6253           NaN              NaN   \n",
       "freq           1          1359      2590           NaN              NaN   \n",
       "mean         NaN           NaN       NaN  4.447421e+03     1.611392e+04   \n",
       "std          NaN           NaN       NaN  2.350923e+04     5.685315e+04   \n",
       "min          NaN           NaN       NaN  3.300000e+01     5.980000e+02   \n",
       "25%          NaN           NaN       NaN  1.110000e+02     1.345000e+03   \n",
       "50%          NaN           NaN       NaN  2.060000e+02     2.980000e+03   \n",
       "75%          NaN           NaN       NaN  1.136000e+03     1.076125e+04   \n",
       "max          NaN           NaN       NaN  1.331792e+06     2.265400e+06   \n",
       "\n",
       "           Suspicious  SellingPrice        ASP_CP  MedianQuantity  \\\n",
       "count           42580  42580.000000  42580.000000    42580.000000   \n",
       "unique              3           NaN           NaN             NaN   \n",
       "top     indeterminate           NaN           NaN             NaN   \n",
       "freq            39846           NaN           NaN             NaN   \n",
       "mean              NaN     16.108425     15.855494     3357.779779   \n",
       "std               NaN     57.783137     19.838360    14826.259704   \n",
       "min               NaN      0.005320      0.043424       35.000000   \n",
       "25%               NaN      6.781874      6.337962      113.000000   \n",
       "50%               NaN     10.742574     10.999512      213.000000   \n",
       "75%               NaN     16.385542     19.005971     1066.000000   \n",
       "max               NaN   8755.900901    862.026144   492249.500000   \n",
       "\n",
       "        MedianTotalSales  QuantityMargin  TotalSalesMargin  SellingPriceDiff  \\\n",
       "count       4.258000e+04    42580.000000      42580.000000      42580.000000   \n",
       "unique               NaN             NaN               NaN               NaN   \n",
       "top                  NaN             NaN               NaN               NaN   \n",
       "freq                 NaN             NaN               NaN               NaN   \n",
       "mean        1.285908e+04        1.508774          1.440910         -0.252931   \n",
       "std         4.023651e+04        8.336727          3.135102         54.729136   \n",
       "min         5.980000e+02        0.001060          0.003106      -8670.411113   \n",
       "25%         1.454375e+03        0.887029          0.835218         -1.040293   \n",
       "50%         3.200000e+03        1.000000          1.000000          0.000000   \n",
       "75%         9.945000e+03        1.176146          1.259902          1.360031   \n",
       "max         1.165615e+06     1001.504854        341.200658        848.263768   \n",
       "\n",
       "        SellingPriceMargin_CP  QuantityDiff  \n",
       "count            42580.000000  4.258000e+04  \n",
       "unique                    NaN           NaN  \n",
       "top                       NaN           NaN  \n",
       "freq                      NaN           NaN  \n",
       "mean                 1.337234 -1.089642e+03  \n",
       "std                  8.696028  1.757300e+04  \n",
       "min                  0.003946 -1.300496e+06  \n",
       "25%                  0.864631 -4.650000e+01  \n",
       "50%                  1.000000  0.000000e+00  \n",
       "75%                  1.120230  2.400000e+01  \n",
       "max                839.862636  4.911245e+05  "
      ]
     },
     "execution_count": 62,
     "metadata": {},
     "output_type": "execute_result"
    }
   ],
   "source": [
    "data4.describe(include=\"all\")"
   ]
  },
  {
   "cell_type": "markdown",
   "metadata": {},
   "source": [
    "- Converting the target column Suspicious to 1,2,3 from Yes,No,Indeterminate as specified in problem statement"
   ]
  },
  {
   "cell_type": "code",
   "execution_count": 63,
   "metadata": {},
   "outputs": [],
   "source": [
    "data4.Suspicious.replace(['Yes','No','indeterminate'],['1','2','3'],inplace=True)"
   ]
  },
  {
   "cell_type": "markdown",
   "metadata": {},
   "source": [
    "## Removing unnecesary attributes\n",
    "- Dropping the ReportID as it is unique for every row \n",
    "- Dropping SalesPersonID and ProductID as it has more than 900 and 500 levels each "
   ]
  },
  {
   "cell_type": "code",
   "execution_count": 64,
   "metadata": {},
   "outputs": [],
   "source": [
    "dataUnn=data4.copy() # saving it into another variable , which is used later for cluster analysis."
   ]
  },
  {
   "cell_type": "code",
   "execution_count": 65,
   "metadata": {},
   "outputs": [],
   "source": [
    "data4.drop([\"ProductID\",\"SalesPersonID\",\"ReportID\"],axis=1,inplace=True)"
   ]
  },
  {
   "cell_type": "markdown",
   "metadata": {},
   "source": [
    "### Converting to necessary datatypes"
   ]
  },
  {
   "cell_type": "code",
   "execution_count": 66,
   "metadata": {},
   "outputs": [],
   "source": [
    "## since all the other columsn are already in int and float it is not needed to convert\n",
    "data4[\"Suspicious\"] = data4[\"Suspicious\"].astype('category')"
   ]
  },
  {
   "cell_type": "code",
   "execution_count": 67,
   "metadata": {},
   "outputs": [
    {
     "data": {
      "text/plain": [
       "Quantity                    int64\n",
       "TotalSalesValue             int64\n",
       "Suspicious               category\n",
       "SellingPrice              float64\n",
       "ASP_CP                    float64\n",
       "MedianQuantity            float64\n",
       "MedianTotalSales          float64\n",
       "QuantityMargin            float64\n",
       "TotalSalesMargin          float64\n",
       "SellingPriceDiff          float64\n",
       "SellingPriceMargin_CP     float64\n",
       "QuantityDiff              float64\n",
       "dtype: object"
      ]
     },
     "execution_count": 67,
     "metadata": {},
     "output_type": "execute_result"
    }
   ],
   "source": [
    "data4.dtypes"
   ]
  },
  {
   "cell_type": "code",
   "execution_count": null,
   "metadata": {},
   "outputs": [],
   "source": []
  },
  {
   "cell_type": "code",
   "execution_count": 68,
   "metadata": {},
   "outputs": [
    {
     "data": {
      "text/html": [
       "<div>\n",
       "<style scoped>\n",
       "    .dataframe tbody tr th:only-of-type {\n",
       "        vertical-align: middle;\n",
       "    }\n",
       "\n",
       "    .dataframe tbody tr th {\n",
       "        vertical-align: top;\n",
       "    }\n",
       "\n",
       "    .dataframe thead th {\n",
       "        text-align: right;\n",
       "    }\n",
       "</style>\n",
       "<table border=\"1\" class=\"dataframe\">\n",
       "  <thead>\n",
       "    <tr style=\"text-align: right;\">\n",
       "      <th></th>\n",
       "      <th>Quantity</th>\n",
       "      <th>TotalSalesValue</th>\n",
       "      <th>Suspicious</th>\n",
       "      <th>SellingPrice</th>\n",
       "      <th>ASP_CP</th>\n",
       "      <th>MedianQuantity</th>\n",
       "      <th>MedianTotalSales</th>\n",
       "      <th>QuantityMargin</th>\n",
       "      <th>TotalSalesMargin</th>\n",
       "      <th>SellingPriceDiff</th>\n",
       "      <th>SellingPriceMargin_CP</th>\n",
       "      <th>QuantityDiff</th>\n",
       "    </tr>\n",
       "  </thead>\n",
       "  <tbody>\n",
       "    <tr>\n",
       "      <th>0</th>\n",
       "      <td>182</td>\n",
       "      <td>1665</td>\n",
       "      <td>3</td>\n",
       "      <td>9.148352</td>\n",
       "      <td>9.423077</td>\n",
       "      <td>182.0</td>\n",
       "      <td>1740.0</td>\n",
       "      <td>1.000000</td>\n",
       "      <td>0.956897</td>\n",
       "      <td>0.274725</td>\n",
       "      <td>0.970845</td>\n",
       "      <td>0.0</td>\n",
       "    </tr>\n",
       "    <tr>\n",
       "      <th>1</th>\n",
       "      <td>182</td>\n",
       "      <td>1740</td>\n",
       "      <td>3</td>\n",
       "      <td>9.560440</td>\n",
       "      <td>9.423077</td>\n",
       "      <td>182.0</td>\n",
       "      <td>1740.0</td>\n",
       "      <td>1.000000</td>\n",
       "      <td>1.000000</td>\n",
       "      <td>-0.137363</td>\n",
       "      <td>1.014577</td>\n",
       "      <td>0.0</td>\n",
       "    </tr>\n",
       "    <tr>\n",
       "      <th>2</th>\n",
       "      <td>182</td>\n",
       "      <td>1740</td>\n",
       "      <td>3</td>\n",
       "      <td>9.560440</td>\n",
       "      <td>9.423077</td>\n",
       "      <td>182.0</td>\n",
       "      <td>1740.0</td>\n",
       "      <td>1.000000</td>\n",
       "      <td>1.000000</td>\n",
       "      <td>-0.137363</td>\n",
       "      <td>1.014577</td>\n",
       "      <td>0.0</td>\n",
       "    </tr>\n",
       "    <tr>\n",
       "      <th>3</th>\n",
       "      <td>101</td>\n",
       "      <td>1040</td>\n",
       "      <td>3</td>\n",
       "      <td>10.297030</td>\n",
       "      <td>14.658590</td>\n",
       "      <td>193.0</td>\n",
       "      <td>2807.5</td>\n",
       "      <td>0.523316</td>\n",
       "      <td>0.370436</td>\n",
       "      <td>4.361561</td>\n",
       "      <td>0.702457</td>\n",
       "      <td>92.0</td>\n",
       "    </tr>\n",
       "    <tr>\n",
       "      <th>4</th>\n",
       "      <td>283</td>\n",
       "      <td>4495</td>\n",
       "      <td>2</td>\n",
       "      <td>15.883392</td>\n",
       "      <td>14.658590</td>\n",
       "      <td>193.0</td>\n",
       "      <td>2807.5</td>\n",
       "      <td>1.466321</td>\n",
       "      <td>1.601069</td>\n",
       "      <td>-1.224802</td>\n",
       "      <td>1.083555</td>\n",
       "      <td>-90.0</td>\n",
       "    </tr>\n",
       "  </tbody>\n",
       "</table>\n",
       "</div>"
      ],
      "text/plain": [
       "   Quantity  TotalSalesValue Suspicious  SellingPrice     ASP_CP  \\\n",
       "0       182             1665          3      9.148352   9.423077   \n",
       "1       182             1740          3      9.560440   9.423077   \n",
       "2       182             1740          3      9.560440   9.423077   \n",
       "3       101             1040          3     10.297030  14.658590   \n",
       "4       283             4495          2     15.883392  14.658590   \n",
       "\n",
       "   MedianQuantity  MedianTotalSales  QuantityMargin  TotalSalesMargin  \\\n",
       "0           182.0            1740.0        1.000000          0.956897   \n",
       "1           182.0            1740.0        1.000000          1.000000   \n",
       "2           182.0            1740.0        1.000000          1.000000   \n",
       "3           193.0            2807.5        0.523316          0.370436   \n",
       "4           193.0            2807.5        1.466321          1.601069   \n",
       "\n",
       "   SellingPriceDiff  SellingPriceMargin_CP  QuantityDiff  \n",
       "0          0.274725               0.970845           0.0  \n",
       "1         -0.137363               1.014577           0.0  \n",
       "2         -0.137363               1.014577           0.0  \n",
       "3          4.361561               0.702457          92.0  \n",
       "4         -1.224802               1.083555         -90.0  "
      ]
     },
     "execution_count": 68,
     "metadata": {},
     "output_type": "execute_result"
    }
   ],
   "source": [
    "data4.head()"
   ]
  },
  {
   "cell_type": "code",
   "execution_count": null,
   "metadata": {},
   "outputs": [],
   "source": []
  },
  {
   "cell_type": "markdown",
   "metadata": {},
   "source": [
    "## Train/Test Split\n",
    "- 70/30 - Train/Test split\n",
    "- Also mantaining the class imbalance across train/test split"
   ]
  },
  {
   "cell_type": "code",
   "execution_count": 69,
   "metadata": {},
   "outputs": [],
   "source": [
    "#Performing train test split on the data\n",
    "y=data4[\"Suspicious\"]\n",
    "X=data4.drop('Suspicious', axis=1)"
   ]
  },
  {
   "cell_type": "code",
   "execution_count": 70,
   "metadata": {},
   "outputs": [],
   "source": [
    "X_train, X_test, y_train, y_test = train_test_split(X, y, test_size=0.3, random_state=123,stratify=y)"
   ]
  },
  {
   "cell_type": "code",
   "execution_count": 71,
   "metadata": {},
   "outputs": [
    {
     "data": {
      "text/html": [
       "<div>\n",
       "<style scoped>\n",
       "    .dataframe tbody tr th:only-of-type {\n",
       "        vertical-align: middle;\n",
       "    }\n",
       "\n",
       "    .dataframe tbody tr th {\n",
       "        vertical-align: top;\n",
       "    }\n",
       "\n",
       "    .dataframe thead th {\n",
       "        text-align: right;\n",
       "    }\n",
       "</style>\n",
       "<table border=\"1\" class=\"dataframe\">\n",
       "  <thead>\n",
       "    <tr style=\"text-align: right;\">\n",
       "      <th></th>\n",
       "      <th>Quantity</th>\n",
       "      <th>TotalSalesValue</th>\n",
       "      <th>SellingPrice</th>\n",
       "      <th>ASP_CP</th>\n",
       "      <th>MedianQuantity</th>\n",
       "      <th>MedianTotalSales</th>\n",
       "      <th>QuantityMargin</th>\n",
       "      <th>TotalSalesMargin</th>\n",
       "      <th>SellingPriceDiff</th>\n",
       "      <th>SellingPriceMargin_CP</th>\n",
       "      <th>QuantityDiff</th>\n",
       "    </tr>\n",
       "  </thead>\n",
       "  <tbody>\n",
       "    <tr>\n",
       "      <th>40076</th>\n",
       "      <td>184775</td>\n",
       "      <td>128635</td>\n",
       "      <td>0.696171</td>\n",
       "      <td>0.510196</td>\n",
       "      <td>153776.0</td>\n",
       "      <td>76145.0</td>\n",
       "      <td>1.201585</td>\n",
       "      <td>1.689343</td>\n",
       "      <td>-0.185975</td>\n",
       "      <td>1.364517</td>\n",
       "      <td>-30999.0</td>\n",
       "    </tr>\n",
       "    <tr>\n",
       "      <th>4870</th>\n",
       "      <td>106</td>\n",
       "      <td>1515</td>\n",
       "      <td>14.292453</td>\n",
       "      <td>14.073499</td>\n",
       "      <td>106.0</td>\n",
       "      <td>1515.0</td>\n",
       "      <td>1.000000</td>\n",
       "      <td>1.000000</td>\n",
       "      <td>-0.218954</td>\n",
       "      <td>1.015558</td>\n",
       "      <td>0.0</td>\n",
       "    </tr>\n",
       "    <tr>\n",
       "      <th>6695</th>\n",
       "      <td>120</td>\n",
       "      <td>3670</td>\n",
       "      <td>30.583333</td>\n",
       "      <td>39.362851</td>\n",
       "      <td>120.0</td>\n",
       "      <td>3670.0</td>\n",
       "      <td>1.000000</td>\n",
       "      <td>1.000000</td>\n",
       "      <td>8.779518</td>\n",
       "      <td>0.776959</td>\n",
       "      <td>0.0</td>\n",
       "    </tr>\n",
       "    <tr>\n",
       "      <th>31170</th>\n",
       "      <td>279</td>\n",
       "      <td>9060</td>\n",
       "      <td>32.473118</td>\n",
       "      <td>20.294118</td>\n",
       "      <td>164.5</td>\n",
       "      <td>2715.0</td>\n",
       "      <td>1.696049</td>\n",
       "      <td>3.337017</td>\n",
       "      <td>-12.179001</td>\n",
       "      <td>1.600125</td>\n",
       "      <td>-114.5</td>\n",
       "    </tr>\n",
       "    <tr>\n",
       "      <th>12892</th>\n",
       "      <td>41912</td>\n",
       "      <td>117200</td>\n",
       "      <td>2.796335</td>\n",
       "      <td>3.619772</td>\n",
       "      <td>10742.0</td>\n",
       "      <td>45765.0</td>\n",
       "      <td>3.901694</td>\n",
       "      <td>2.560909</td>\n",
       "      <td>0.823437</td>\n",
       "      <td>0.772517</td>\n",
       "      <td>-31170.0</td>\n",
       "    </tr>\n",
       "  </tbody>\n",
       "</table>\n",
       "</div>"
      ],
      "text/plain": [
       "       Quantity  TotalSalesValue  SellingPrice     ASP_CP  MedianQuantity  \\\n",
       "40076    184775           128635      0.696171   0.510196        153776.0   \n",
       "4870        106             1515     14.292453  14.073499           106.0   \n",
       "6695        120             3670     30.583333  39.362851           120.0   \n",
       "31170       279             9060     32.473118  20.294118           164.5   \n",
       "12892     41912           117200      2.796335   3.619772         10742.0   \n",
       "\n",
       "       MedianTotalSales  QuantityMargin  TotalSalesMargin  SellingPriceDiff  \\\n",
       "40076           76145.0        1.201585          1.689343         -0.185975   \n",
       "4870             1515.0        1.000000          1.000000         -0.218954   \n",
       "6695             3670.0        1.000000          1.000000          8.779518   \n",
       "31170            2715.0        1.696049          3.337017        -12.179001   \n",
       "12892           45765.0        3.901694          2.560909          0.823437   \n",
       "\n",
       "       SellingPriceMargin_CP  QuantityDiff  \n",
       "40076               1.364517      -30999.0  \n",
       "4870                1.015558           0.0  \n",
       "6695                0.776959           0.0  \n",
       "31170               1.600125        -114.5  \n",
       "12892               0.772517      -31170.0  "
      ]
     },
     "execution_count": 71,
     "metadata": {},
     "output_type": "execute_result"
    }
   ],
   "source": [
    "X_train.head()"
   ]
  },
  {
   "cell_type": "code",
   "execution_count": 72,
   "metadata": {},
   "outputs": [
    {
     "data": {
      "text/plain": [
       "(29806, 11)"
      ]
     },
     "execution_count": 72,
     "metadata": {},
     "output_type": "execute_result"
    }
   ],
   "source": [
    "X_train.shape"
   ]
  },
  {
   "cell_type": "code",
   "execution_count": 73,
   "metadata": {},
   "outputs": [
    {
     "data": {
      "text/plain": [
       "(12774, 11)"
      ]
     },
     "execution_count": 73,
     "metadata": {},
     "output_type": "execute_result"
    }
   ],
   "source": [
    "X_test.shape"
   ]
  },
  {
   "cell_type": "code",
   "execution_count": 74,
   "metadata": {},
   "outputs": [
    {
     "data": {
      "text/plain": [
       "3    27892\n",
       "2     1789\n",
       "1      125\n",
       "Name: Suspicious, dtype: int64"
      ]
     },
     "execution_count": 74,
     "metadata": {},
     "output_type": "execute_result"
    }
   ],
   "source": [
    "y_train.value_counts()"
   ]
  },
  {
   "cell_type": "code",
   "execution_count": 75,
   "metadata": {},
   "outputs": [
    {
     "data": {
      "text/plain": [
       "3    11954\n",
       "2      766\n",
       "1       54\n",
       "Name: Suspicious, dtype: int64"
      ]
     },
     "execution_count": 75,
     "metadata": {},
     "output_type": "execute_result"
    }
   ],
   "source": [
    "y_test.value_counts()"
   ]
  },
  {
   "cell_type": "markdown",
   "metadata": {},
   "source": [
    "- The ratio of 1 ( yes ) is same across the splits"
   ]
  },
  {
   "cell_type": "markdown",
   "metadata": {},
   "source": [
    "### A basic Decision tree model was built on which the recall for Yes was 75% .\n",
    "#### Shown here is a RandomForest model built on all features to find out important features across multiple Trees"
   ]
  },
  {
   "cell_type": "code",
   "execution_count": 76,
   "metadata": {},
   "outputs": [
    {
     "name": "stdout",
     "output_type": "stream",
     "text": [
      "0.736663758974703\n",
      "              precision    recall  f1-score   support\n",
      "\n",
      "           1     0.2620    0.8720    0.4030       125\n",
      "           2     0.1381    0.6160    0.2256      1789\n",
      "           3     0.9690    0.7438    0.8416     27892\n",
      "\n",
      "    accuracy                         0.7367     29806\n",
      "   macro avg     0.4564    0.7439    0.4901     29806\n",
      "weighted avg     0.9162    0.7367    0.8028     29806\n",
      "\n",
      "\n",
      "\n",
      "0.7343040551119462\n",
      "              precision    recall  f1-score   support\n",
      "\n",
      "           1     0.2299    0.7407    0.3509        54\n",
      "           2     0.1355    0.6057    0.2214       766\n",
      "           3     0.9674    0.7425    0.8402     11954\n",
      "\n",
      "    accuracy                         0.7343     12774\n",
      "   macro avg     0.4443    0.6963    0.4708     12774\n",
      "weighted avg     0.9144    0.7343    0.8010     12774\n",
      "\n"
     ]
    }
   ],
   "source": [
    "clf_check = RandomForestClassifier(n_estimators=500,class_weight=\"balanced\",max_depth=5,\n",
    "                             max_features=4,min_samples_leaf=50,min_samples_split=10)\n",
    "\n",
    "clf_check.fit(X=X_train, y=y_train)\n",
    "y_pred = clf_check.predict(X_test)\n",
    "y1_pred_=clf_check.predict(X_train)\n",
    "\n",
    "print(accuracy_score(y_train,y1_pred_))\n",
    "print(classification_report(y_train,y1_pred_,digits=4))\n",
    "print(\"\\n\")\n",
    "\n",
    "\n",
    "print(accuracy_score(y_test,y_pred))\n",
    "print(classification_report(y_test,y_pred,digits=4))"
   ]
  },
  {
   "cell_type": "code",
   "execution_count": 77,
   "metadata": {},
   "outputs": [
    {
     "data": {
      "text/plain": [
       "<matplotlib.axes._subplots.AxesSubplot at 0x7fd18b19a160>"
      ]
     },
     "execution_count": 77,
     "metadata": {},
     "output_type": "execute_result"
    },
    {
     "data": {
      "image/png": "[encoded data removed]",
      "text/plain": [
       "<Figure size 432x288 with 1 Axes>"
      ]
     },
     "metadata": {
      "needs_background": "light"
     },
     "output_type": "display_data"
    }
   ],
   "source": [
    "feat_importances_rf = pd.Series(clf_check.feature_importances_, index = X_train.columns)\n",
    "feat_importances_ordered = feat_importances_rf.nlargest(n=len(feat_importances_rf))\n",
    "feat_importances_ordered.plot(kind='bar')"
   ]
  },
  {
   "cell_type": "code",
   "execution_count": null,
   "metadata": {},
   "outputs": [],
   "source": []
  },
  {
   "cell_type": "markdown",
   "metadata": {},
   "source": [
    "### Considering only the top 4 features for our futher models"
   ]
  },
  {
   "cell_type": "code",
   "execution_count": 78,
   "metadata": {},
   "outputs": [],
   "source": [
    "X_train1=X_train[[\"SellingPriceMargin_CP\",\"SellingPrice\",\"SellingPriceDiff\",\"TotalSalesValue\"]]\n",
    "X_test1=X_test[[\"SellingPriceMargin_CP\",\"SellingPrice\",\"SellingPriceDiff\",\"TotalSalesValue\"]]"
   ]
  },
  {
   "cell_type": "code",
   "execution_count": 79,
   "metadata": {},
   "outputs": [
    {
     "data": {
      "text/plain": [
       "(29806, 4)"
      ]
     },
     "execution_count": 79,
     "metadata": {},
     "output_type": "execute_result"
    }
   ],
   "source": [
    "X_train1.shape"
   ]
  },
  {
   "cell_type": "code",
   "execution_count": null,
   "metadata": {},
   "outputs": [],
   "source": []
  },
  {
   "cell_type": "code",
   "execution_count": 80,
   "metadata": {},
   "outputs": [
    {
     "data": {
      "text/html": [
       "<div>\n",
       "<style scoped>\n",
       "    .dataframe tbody tr th:only-of-type {\n",
       "        vertical-align: middle;\n",
       "    }\n",
       "\n",
       "    .dataframe tbody tr th {\n",
       "        vertical-align: top;\n",
       "    }\n",
       "\n",
       "    .dataframe thead th {\n",
       "        text-align: right;\n",
       "    }\n",
       "</style>\n",
       "<table border=\"1\" class=\"dataframe\">\n",
       "  <thead>\n",
       "    <tr style=\"text-align: right;\">\n",
       "      <th></th>\n",
       "      <th>SellingPriceMargin_CP</th>\n",
       "      <th>SellingPrice</th>\n",
       "      <th>SellingPriceDiff</th>\n",
       "      <th>TotalSalesValue</th>\n",
       "    </tr>\n",
       "  </thead>\n",
       "  <tbody>\n",
       "    <tr>\n",
       "      <th>count</th>\n",
       "      <td>29806.000000</td>\n",
       "      <td>29806.000000</td>\n",
       "      <td>29806.000000</td>\n",
       "      <td>2.980600e+04</td>\n",
       "    </tr>\n",
       "    <tr>\n",
       "      <th>mean</th>\n",
       "      <td>1.374702</td>\n",
       "      <td>16.353082</td>\n",
       "      <td>-0.410632</td>\n",
       "      <td>1.620022e+04</td>\n",
       "    </tr>\n",
       "    <tr>\n",
       "      <th>std</th>\n",
       "      <td>10.122271</td>\n",
       "      <td>65.868893</td>\n",
       "      <td>62.364994</td>\n",
       "      <td>5.736714e+04</td>\n",
       "    </tr>\n",
       "    <tr>\n",
       "      <th>min</th>\n",
       "      <td>0.003946</td>\n",
       "      <td>0.005320</td>\n",
       "      <td>-8670.411113</td>\n",
       "      <td>5.980000e+02</td>\n",
       "    </tr>\n",
       "    <tr>\n",
       "      <th>25%</th>\n",
       "      <td>0.863539</td>\n",
       "      <td>6.785857</td>\n",
       "      <td>-1.032198</td>\n",
       "      <td>1.340000e+03</td>\n",
       "    </tr>\n",
       "    <tr>\n",
       "      <th>50%</th>\n",
       "      <td>1.000000</td>\n",
       "      <td>10.756390</td>\n",
       "      <td>0.000000</td>\n",
       "      <td>2.975000e+03</td>\n",
       "    </tr>\n",
       "    <tr>\n",
       "      <th>75%</th>\n",
       "      <td>1.119464</td>\n",
       "      <td>16.504854</td>\n",
       "      <td>1.374703</td>\n",
       "      <td>1.066500e+04</td>\n",
       "    </tr>\n",
       "    <tr>\n",
       "      <th>max</th>\n",
       "      <td>839.862636</td>\n",
       "      <td>8755.900901</td>\n",
       "      <td>846.976639</td>\n",
       "      <td>2.170265e+06</td>\n",
       "    </tr>\n",
       "  </tbody>\n",
       "</table>\n",
       "</div>"
      ],
      "text/plain": [
       "       SellingPriceMargin_CP  SellingPrice  SellingPriceDiff  TotalSalesValue\n",
       "count           29806.000000  29806.000000      29806.000000     2.980600e+04\n",
       "mean                1.374702     16.353082         -0.410632     1.620022e+04\n",
       "std                10.122271     65.868893         62.364994     5.736714e+04\n",
       "min                 0.003946      0.005320      -8670.411113     5.980000e+02\n",
       "25%                 0.863539      6.785857         -1.032198     1.340000e+03\n",
       "50%                 1.000000     10.756390          0.000000     2.975000e+03\n",
       "75%                 1.119464     16.504854          1.374703     1.066500e+04\n",
       "max               839.862636   8755.900901        846.976639     2.170265e+06"
      ]
     },
     "execution_count": 80,
     "metadata": {},
     "output_type": "execute_result"
    }
   ],
   "source": [
    "X_train1.describe()"
   ]
  },
  {
   "cell_type": "markdown",
   "metadata": {},
   "source": [
    "#### NOTE : outliers were removed and tried but since the results didnt improve it was added back "
   ]
  },
  {
   "cell_type": "raw",
   "metadata": {},
   "source": [
    "X_train1_D=X_train1[~((X_train1<(-3))|(X_train1>3)).any(axis=1)]\n",
    "\n",
    "rown=X_train1[~((X_train1<(-3))|(X_train1>3)).any(axis=1)].index\n",
    "\n",
    "rown\n",
    "\n",
    "y_train1=y_train[rown]\n",
    "\n",
    "print(y_train1.shape)\n",
    "\n",
    "print(X_train1_D.shape)"
   ]
  },
  {
   "cell_type": "markdown",
   "metadata": {},
   "source": [
    "### Decision Tree and Random Forest with 4 important features"
   ]
  },
  {
   "cell_type": "code",
   "execution_count": 81,
   "metadata": {},
   "outputs": [
    {
     "name": "stdout",
     "output_type": "stream",
     "text": [
      "0.6120244246124942\n",
      "              precision    recall  f1-score   support\n",
      "\n",
      "           1     0.1363    0.9040    0.2369       125\n",
      "           2     0.1124    0.7367    0.1950      1789\n",
      "           3     0.9746    0.6027    0.7448     27892\n",
      "\n",
      "    accuracy                         0.6120     29806\n",
      "   macro avg     0.4078    0.7478    0.3922     29806\n",
      "weighted avg     0.9193    0.6120    0.7097     29806\n",
      "\n",
      "\n",
      "\n",
      "0.6131204008141538\n",
      "              precision    recall  f1-score   support\n",
      "\n",
      "           1     0.1296    0.8519    0.2249        54\n",
      "           2     0.1110    0.7232    0.1925       766\n",
      "           3     0.9734    0.6050    0.7462     11954\n",
      "\n",
      "    accuracy                         0.6131     12774\n",
      "   macro avg     0.4047    0.7267    0.3879     12774\n",
      "weighted avg     0.9181    0.6131    0.7108     12774\n",
      "\n"
     ]
    }
   ],
   "source": [
    "estimator_DT = DecisionTreeClassifier(max_depth=5,class_weight=\"balanced\",random_state=123)\n",
    "estimator_DT.fit(X_train1, y_train)\n",
    "\n",
    "y1_pred_ = estimator_DT.predict(X_train1)\n",
    "y_pred_ = estimator_DT.predict(X_test1)\n",
    "\n",
    "print(accuracy_score(y_train,y1_pred_))\n",
    "print(classification_report(y_train,y1_pred_,digits=4))\n",
    "print(\"\\n\")\n",
    "\n",
    "print(accuracy_score(y_test,y_pred_))\n",
    "print(classification_report(y_test,y_pred_,digits=4))"
   ]
  },
  {
   "cell_type": "markdown",
   "metadata": {},
   "source": [
    "- for explanation of root and leaves in digramatic format"
   ]
  },
  {
   "cell_type": "markdown",
   "metadata": {},
   "source": [
    "a=y_train.value_counts().reset_index()"
   ]
  },
  {
   "cell_type": "markdown",
   "metadata": {},
   "source": [
    "dot_data = tree.export_graphviz(estimator_DT, out_file=None, \n",
    "                                feature_names=X_train1.columns,\n",
    "                                class_names=a[\"index\"], \n",
    "                                filled=True, rounded=True, special_characters=True) \n",
    "graph = graphviz.Source(dot_data) \n",
    "graph"
   ]
  },
  {
   "cell_type": "markdown",
   "metadata": {},
   "source": [
    "#### Random Forest"
   ]
  },
  {
   "cell_type": "code",
   "execution_count": 82,
   "metadata": {},
   "outputs": [
    {
     "name": "stdout",
     "output_type": "stream",
     "text": [
      "0.6735892102261289\n",
      "              precision    recall  f1-score   support\n",
      "\n",
      "           1     0.1836    0.8960    0.3048       125\n",
      "           2     0.1206    0.6646    0.2042      1789\n",
      "           3     0.9710    0.6732    0.7951     27892\n",
      "\n",
      "    accuracy                         0.6736     29806\n",
      "   macro avg     0.4251    0.7446    0.4347     29806\n",
      "weighted avg     0.9166    0.6736    0.7576     29806\n",
      "\n",
      "\n",
      "\n",
      "0.6798966651009863\n",
      "              precision    recall  f1-score   support\n",
      "\n",
      "           1     0.1800    0.8333    0.2961        54\n",
      "           2     0.1250    0.6815    0.2113       766\n",
      "           3     0.9724    0.6791    0.7997     11954\n",
      "\n",
      "    accuracy                         0.6799     12774\n",
      "   macro avg     0.4258    0.7313    0.4357     12774\n",
      "weighted avg     0.9183    0.6799    0.7623     12774\n",
      "\n"
     ]
    }
   ],
   "source": [
    "clf_RF = RandomForestClassifier(n_estimators=500,class_weight=\"balanced\",max_depth=5,random_state=222,max_features=4\n",
    "                             ,min_samples_leaf=50,min_samples_split=10)\n",
    "\n",
    "clf_RF.fit(X=X_train1, y=y_train)\n",
    "y_pred = clf_RF.predict(X_test1)\n",
    "y1_pred_=clf_RF.predict(X_train1)\n",
    "\n",
    "print(accuracy_score(y_train,y1_pred_))\n",
    "print(classification_report(y_train,y1_pred_,digits=4))\n",
    "print(\"\\n\")\n",
    "\n",
    "\n",
    "print(accuracy_score(y_test,y_pred))\n",
    "print(classification_report(y_test,y_pred,digits=4))"
   ]
  },
  {
   "cell_type": "code",
   "execution_count": 83,
   "metadata": {},
   "outputs": [
    {
     "data": {
      "text/plain": [
       "<matplotlib.axes._subplots.AxesSubplot at 0x7fd174ba87b8>"
      ]
     },
     "execution_count": 83,
     "metadata": {},
     "output_type": "execute_result"
    },
    {
     "data": {
      "image/png": "[encoded data removed]",
      "text/plain": [
       "<Figure size 432x288 with 1 Axes>"
      ]
     },
     "metadata": {
      "needs_background": "light"
     },
     "output_type": "display_data"
    }
   ],
   "source": [
    "feat_importances_rf = pd.Series(clf_RF.feature_importances_, index = X_train1.columns)\n",
    "feat_importances_ordered = feat_importances_rf.nlargest(n=len(feat_importances_rf))\n",
    "feat_importances_ordered.plot(kind='bar')"
   ]
  },
  {
   "cell_type": "code",
   "execution_count": null,
   "metadata": {},
   "outputs": [],
   "source": []
  },
  {
   "cell_type": "code",
   "execution_count": null,
   "metadata": {},
   "outputs": [],
   "source": []
  },
  {
   "cell_type": "markdown",
   "metadata": {},
   "source": [
    "### CODE showing on how to save model using pickle"
   ]
  },
  {
   "cell_type": "code",
   "execution_count": 84,
   "metadata": {},
   "outputs": [],
   "source": [
    "from sklearn import model_selection\n",
    "import pickle"
   ]
  },
  {
   "cell_type": "raw",
   "metadata": {},
   "source": [
    "filename=\"RandomForest90.sav\"\n",
    "pickle.dump(clf_RF,open(filename,\"wb\"))"
   ]
  },
  {
   "cell_type": "raw",
   "metadata": {},
   "source": [
    "filename=\"DecisionTree86.sav\"\n",
    "pickle.dump(estimator_DT,open(filename,\"wb\"))"
   ]
  },
  {
   "cell_type": "raw",
   "metadata": {},
   "source": [
    "loaded_model=pickle.load(open(filename,\"rb\"))"
   ]
  },
  {
   "cell_type": "code",
   "execution_count": null,
   "metadata": {},
   "outputs": [],
   "source": []
  },
  {
   "cell_type": "code",
   "execution_count": null,
   "metadata": {},
   "outputs": [],
   "source": []
  },
  {
   "cell_type": "markdown",
   "metadata": {},
   "source": [
    "## Neural NEt and autoencoders"
   ]
  },
  {
   "cell_type": "markdown",
   "metadata": {},
   "source": [
    "- Standarizing data to pass to nerual net"
   ]
  },
  {
   "cell_type": "code",
   "execution_count": 85,
   "metadata": {},
   "outputs": [
    {
     "name": "stdout",
     "output_type": "stream",
     "text": [
      "Index(['SellingPriceMargin_CP', 'SellingPrice', 'SellingPriceDiff',\n",
      "       'TotalSalesValue'],\n",
      "      dtype='object')\n"
     ]
    }
   ],
   "source": [
    "num_atr=X_train1.select_dtypes(['int64','float64']).columns\n",
    "print(num_atr)\n",
    "\n",
    "scaler = StandardScaler() ## object intitation\n",
    "scaler.fit(X_train1[num_atr])\n",
    "\n",
    "X_train1[num_atr]=scaler.transform(X_train1[num_atr])\n",
    "X_test1[num_atr]=scaler.transform(X_test1[num_atr])"
   ]
  },
  {
   "cell_type": "code",
   "execution_count": 86,
   "metadata": {},
   "outputs": [
    {
     "data": {
      "text/html": [
       "<div>\n",
       "<style scoped>\n",
       "    .dataframe tbody tr th:only-of-type {\n",
       "        vertical-align: middle;\n",
       "    }\n",
       "\n",
       "    .dataframe tbody tr th {\n",
       "        vertical-align: top;\n",
       "    }\n",
       "\n",
       "    .dataframe thead th {\n",
       "        text-align: right;\n",
       "    }\n",
       "</style>\n",
       "<table border=\"1\" class=\"dataframe\">\n",
       "  <thead>\n",
       "    <tr style=\"text-align: right;\">\n",
       "      <th></th>\n",
       "      <th>SellingPriceMargin_CP</th>\n",
       "      <th>SellingPrice</th>\n",
       "      <th>SellingPriceDiff</th>\n",
       "      <th>TotalSalesValue</th>\n",
       "    </tr>\n",
       "  </thead>\n",
       "  <tbody>\n",
       "    <tr>\n",
       "      <th>count</th>\n",
       "      <td>2.980600e+04</td>\n",
       "      <td>2.980600e+04</td>\n",
       "      <td>2.980600e+04</td>\n",
       "      <td>2.980600e+04</td>\n",
       "    </tr>\n",
       "    <tr>\n",
       "      <th>mean</th>\n",
       "      <td>-8.377505e-17</td>\n",
       "      <td>2.649006e-17</td>\n",
       "      <td>-2.896824e-17</td>\n",
       "      <td>2.178095e-18</td>\n",
       "    </tr>\n",
       "    <tr>\n",
       "      <th>std</th>\n",
       "      <td>1.000017e+00</td>\n",
       "      <td>1.000017e+00</td>\n",
       "      <td>1.000017e+00</td>\n",
       "      <td>1.000017e+00</td>\n",
       "    </tr>\n",
       "    <tr>\n",
       "      <th>min</th>\n",
       "      <td>-1.354221e-01</td>\n",
       "      <td>-2.481905e-01</td>\n",
       "      <td>-1.390226e+02</td>\n",
       "      <td>-2.719759e-01</td>\n",
       "    </tr>\n",
       "    <tr>\n",
       "      <th>25%</th>\n",
       "      <td>-5.049977e-02</td>\n",
       "      <td>-1.452489e-01</td>\n",
       "      <td>-9.966757e-03</td>\n",
       "      <td>-2.590415e-01</td>\n",
       "    </tr>\n",
       "    <tr>\n",
       "      <th>50%</th>\n",
       "      <td>-3.701825e-02</td>\n",
       "      <td>-8.496857e-02</td>\n",
       "      <td>6.584449e-03</td>\n",
       "      <td>-2.305404e-01</td>\n",
       "    </tr>\n",
       "    <tr>\n",
       "      <th>75%</th>\n",
       "      <td>-2.521593e-02</td>\n",
       "      <td>2.304200e-03</td>\n",
       "      <td>2.862768e-02</td>\n",
       "      <td>-9.648923e-02</td>\n",
       "    </tr>\n",
       "    <tr>\n",
       "      <th>max</th>\n",
       "      <td>8.283734e+01</td>\n",
       "      <td>1.326832e+02</td>\n",
       "      <td>1.358777e+01</td>\n",
       "      <td>3.754939e+01</td>\n",
       "    </tr>\n",
       "  </tbody>\n",
       "</table>\n",
       "</div>"
      ],
      "text/plain": [
       "       SellingPriceMargin_CP  SellingPrice  SellingPriceDiff  TotalSalesValue\n",
       "count           2.980600e+04  2.980600e+04      2.980600e+04     2.980600e+04\n",
       "mean           -8.377505e-17  2.649006e-17     -2.896824e-17     2.178095e-18\n",
       "std             1.000017e+00  1.000017e+00      1.000017e+00     1.000017e+00\n",
       "min            -1.354221e-01 -2.481905e-01     -1.390226e+02    -2.719759e-01\n",
       "25%            -5.049977e-02 -1.452489e-01     -9.966757e-03    -2.590415e-01\n",
       "50%            -3.701825e-02 -8.496857e-02      6.584449e-03    -2.305404e-01\n",
       "75%            -2.521593e-02  2.304200e-03      2.862768e-02    -9.648923e-02\n",
       "max             8.283734e+01  1.326832e+02      1.358777e+01     3.754939e+01"
      ]
     },
     "execution_count": 86,
     "metadata": {},
     "output_type": "execute_result"
    }
   ],
   "source": [
    "X_train1.describe()"
   ]
  },
  {
   "cell_type": "code",
   "execution_count": null,
   "metadata": {},
   "outputs": [],
   "source": []
  },
  {
   "cell_type": "markdown",
   "metadata": {},
   "source": [
    "### loading packages for neural networks from keras"
   ]
  },
  {
   "cell_type": "code",
   "execution_count": 87,
   "metadata": {},
   "outputs": [
    {
     "name": "stderr",
     "output_type": "stream",
     "text": [
      "Using TensorFlow backend.\n"
     ]
    }
   ],
   "source": [
    "from tensorflow.keras.models import Sequential, Model\n",
    "from tensorflow.keras.layers import Dense, Input\n",
    "from keras.layers.normalization import BatchNormalization\n",
    "from tensorflow.keras.utils import to_categorical"
   ]
  },
  {
   "cell_type": "code",
   "execution_count": 88,
   "metadata": {},
   "outputs": [
    {
     "data": {
      "text/plain": [
       "(29806, 4)"
      ]
     },
     "execution_count": 88,
     "metadata": {},
     "output_type": "execute_result"
    }
   ],
   "source": [
    "X_train1.shape"
   ]
  },
  {
   "cell_type": "markdown",
   "metadata": {},
   "source": [
    "## Building an autoencoder to generate new non linear features from existing ones "
   ]
  },
  {
   "cell_type": "code",
   "execution_count": 89,
   "metadata": {},
   "outputs": [],
   "source": [
    "# The size of encoded and actual representations\n",
    "encoding_dim = 1\n",
    "actual_dim = X_train1.shape[1]\n",
    "\n",
    "## MINE\n",
    "# Input placeholder\n",
    "input_img = Input(shape=(actual_dim,))\n",
    "\n",
    "# \"encoded\" is the encoded representation of the input\n",
    "encoded = Dense(encoding_dim, activation='relu')(input_img)\n",
    "\n",
    "# \"decoded\" is the lossy reconstruction of the input\n",
    "decoded = Dense(actual_dim, activation='sigmoid')(encoded)"
   ]
  },
  {
   "cell_type": "code",
   "execution_count": 90,
   "metadata": {
    "scrolled": true
   },
   "outputs": [
    {
     "name": "stdout",
     "output_type": "stream",
     "text": [
      "Model: \"model\"\n",
      "_________________________________________________________________\n",
      "Layer (type)                 Output Shape              Param #   \n",
      "=================================================================\n",
      "input_1 (InputLayer)         [(None, 4)]               0         \n",
      "_________________________________________________________________\n",
      "dense (Dense)                (None, 1)                 5         \n",
      "_________________________________________________________________\n",
      "dense_1 (Dense)              (None, 4)                 8         \n",
      "=================================================================\n",
      "Total params: 13\n",
      "Trainable params: 13\n",
      "Non-trainable params: 0\n",
      "_________________________________________________________________\n",
      "None\n",
      "WARNING:tensorflow:Falling back from v2 loop because of error: Failed to find data adapter that can handle input: <class 'pandas.core.frame.DataFrame'>, <class 'NoneType'>\n",
      "Train on 29806 samples\n",
      "Epoch 1/30\n",
      "29806/29806 [==============================] - 1s 19us/sample - loss: 0.5828\n",
      "Epoch 2/30\n",
      "29806/29806 [==============================] - 1s 18us/sample - loss: 0.5817\n",
      "Epoch 3/30\n",
      "29806/29806 [==============================] - 1s 20us/sample - loss: 0.5806\n",
      "Epoch 4/30\n",
      "29806/29806 [==============================] - 1s 18us/sample - loss: 0.5793\n",
      "Epoch 5/30\n",
      "29806/29806 [==============================] - 1s 17us/sample - loss: 0.5779\n",
      "Epoch 6/30\n",
      "29806/29806 [==============================] - 1s 17us/sample - loss: 0.5765\n",
      "Epoch 7/30\n",
      "29806/29806 [==============================] - 1s 17us/sample - loss: 0.5751\n",
      "Epoch 8/30\n",
      "29806/29806 [==============================] - 1s 17us/sample - loss: 0.5736\n",
      "Epoch 9/30\n",
      "29806/29806 [==============================] - 1s 17us/sample - loss: 0.5720\n",
      "Epoch 10/30\n",
      "29806/29806 [==============================] - 1s 17us/sample - loss: 0.5705\n",
      "Epoch 11/30\n",
      "29806/29806 [==============================] - 1s 17us/sample - loss: 0.5689\n",
      "Epoch 12/30\n",
      "29806/29806 [==============================] - 1s 17us/sample - loss: 0.5674\n",
      "Epoch 13/30\n",
      "29806/29806 [==============================] - 1s 17us/sample - loss: 0.5659\n",
      "Epoch 14/30\n",
      "29806/29806 [==============================] - 1s 20us/sample - loss: 0.5643\n",
      "Epoch 15/30\n",
      "29806/29806 [==============================] - 1s 17us/sample - loss: 0.5627\n",
      "Epoch 16/30\n",
      "29806/29806 [==============================] - 1s 17us/sample - loss: 0.5611\n",
      "Epoch 17/30\n",
      "29806/29806 [==============================] - 1s 17us/sample - loss: 0.5594\n",
      "Epoch 18/30\n",
      "29806/29806 [==============================] - 1s 17us/sample - loss: 0.5579\n",
      "Epoch 19/30\n",
      "29806/29806 [==============================] - 1s 17us/sample - loss: 0.5562\n",
      "Epoch 20/30\n",
      "29806/29806 [==============================] - 1s 17us/sample - loss: 0.5546\n",
      "Epoch 21/30\n",
      "29806/29806 [==============================] - 0s 17us/sample - loss: 0.5530\n",
      "Epoch 22/30\n",
      "29806/29806 [==============================] - 1s 17us/sample - loss: 0.5513\n",
      "Epoch 23/30\n",
      "29806/29806 [==============================] - 1s 19us/sample - loss: 0.5497\n",
      "Epoch 24/30\n",
      "29806/29806 [==============================] - 1s 20us/sample - loss: 0.5480\n",
      "Epoch 25/30\n",
      "29806/29806 [==============================] - 1s 21us/sample - loss: 0.5464\n",
      "Epoch 26/30\n",
      "29806/29806 [==============================] - 1s 18us/sample - loss: 0.5448\n",
      "Epoch 27/30\n",
      "29806/29806 [==============================] - 0s 17us/sample - loss: 0.5431\n",
      "Epoch 28/30\n",
      "29806/29806 [==============================] - 1s 17us/sample - loss: 0.5415\n",
      "Epoch 29/30\n",
      "29806/29806 [==============================] - 1s 17us/sample - loss: 0.5398\n",
      "Epoch 30/30\n",
      "29806/29806 [==============================] - 1s 17us/sample - loss: 0.5381\n"
     ]
    },
    {
     "data": {
      "text/plain": [
       "<tensorflow.python.keras.callbacks.History at 0x7fd179f1e0b8>"
      ]
     },
     "execution_count": 90,
     "metadata": {},
     "output_type": "execute_result"
    }
   ],
   "source": [
    "# this model maps an input to its reconstruction\n",
    "autoencoder = Model(input_img, decoded)\n",
    "\n",
    "print(autoencoder.summary())\n",
    "\n",
    "autoencoder.compile(optimizer='adadelta', loss='binary_crossentropy')\n",
    "\n",
    "autoencoder.fit(X_train1, X_train1, epochs=30, batch_size=32)\n",
    "\n"
   ]
  },
  {
   "cell_type": "code",
   "execution_count": 91,
   "metadata": {},
   "outputs": [],
   "source": [
    "# MIne\n",
    "# this model maps an input to its encoded representation\n",
    "encoder = Model(input_img, encoded)"
   ]
  },
  {
   "cell_type": "code",
   "execution_count": 92,
   "metadata": {},
   "outputs": [
    {
     "name": "stdout",
     "output_type": "stream",
     "text": [
      "Model: \"model_1\"\n",
      "_________________________________________________________________\n",
      "Layer (type)                 Output Shape              Param #   \n",
      "=================================================================\n",
      "input_1 (InputLayer)         [(None, 4)]               0         \n",
      "_________________________________________________________________\n",
      "dense (Dense)                (None, 1)                 5         \n",
      "=================================================================\n",
      "Total params: 5\n",
      "Trainable params: 5\n",
      "Non-trainable params: 0\n",
      "_________________________________________________________________\n",
      "None\n"
     ]
    }
   ],
   "source": [
    "print(encoder.summary())\n",
    "\n",
    "#### derive new non-linear features\n",
    "\n",
    "X_train_nonLinear_features = encoder.predict(X_train1)\n",
    "X_test_nonLinear_features = encoder.predict(X_test1)\n",
    "\n",
    "#### Combining new non-linear features to X_train and X_test respectively\n",
    "\n",
    "X_train1_np=np.concatenate((X_train1, X_train_nonLinear_features), axis=1)\n",
    "X_test1_np=np.concatenate((X_test1, X_test_nonLinear_features), axis=1)"
   ]
  },
  {
   "cell_type": "markdown",
   "metadata": {},
   "source": [
    "### building Decision tree and random Forest on concatenated old and new feature"
   ]
  },
  {
   "cell_type": "code",
   "execution_count": 93,
   "metadata": {},
   "outputs": [
    {
     "name": "stdout",
     "output_type": "stream",
     "text": [
      "0.6125276789908072\n",
      "              precision    recall  f1-score   support\n",
      "\n",
      "           1     0.1388    0.9040    0.2407       125\n",
      "           2     0.1124    0.7367    0.1950      1789\n",
      "           3     0.9746    0.6033    0.7452     27892\n",
      "\n",
      "    accuracy                         0.6125     29806\n",
      "   macro avg     0.4086    0.7480    0.3936     29806\n",
      "weighted avg     0.9194    0.6125    0.7101     29806\n",
      "\n",
      "\n",
      "\n",
      "0.6136683889149835\n",
      "              precision    recall  f1-score   support\n",
      "\n",
      "           1     0.1322    0.8519    0.2289        54\n",
      "           2     0.1110    0.7232    0.1925       766\n",
      "           3     0.9734    0.6056    0.7466     11954\n",
      "\n",
      "    accuracy                         0.6137     12774\n",
      "   macro avg     0.4055    0.7269    0.3893     12774\n",
      "weighted avg     0.9181    0.6137    0.7112     12774\n",
      "\n"
     ]
    }
   ],
   "source": [
    "estimator = DecisionTreeClassifier(max_depth=5,random_state=123,class_weight=\"balanced\")\n",
    "estimator.fit(X_train1_np, y_train)\n",
    "\n",
    "y1_pred_ = estimator.predict(X_train1_np)\n",
    "y_pred_ = estimator.predict(X_test1_np)\n",
    "\n",
    "print(accuracy_score(y_train,y1_pred_))\n",
    "print(classification_report(y_train,y1_pred_,digits=4))\n",
    "print(\"\\n\")\n",
    "\n",
    "print(accuracy_score(y_test,y_pred_))\n",
    "print(classification_report(y_test,y_pred_,digits=4))"
   ]
  },
  {
   "cell_type": "code",
   "execution_count": null,
   "metadata": {},
   "outputs": [],
   "source": []
  },
  {
   "cell_type": "markdown",
   "metadata": {},
   "source": [
    "##### Random Forest"
   ]
  },
  {
   "cell_type": "code",
   "execution_count": 94,
   "metadata": {},
   "outputs": [
    {
     "name": "stdout",
     "output_type": "stream",
     "text": [
      "0.6899953029591357\n",
      "              precision    recall  f1-score   support\n",
      "\n",
      "           1     0.1934    0.8960    0.3182       125\n",
      "           2     0.1266    0.6652    0.2127      1789\n",
      "           3     0.9716    0.6907    0.8074     27892\n",
      "\n",
      "    accuracy                         0.6900     29806\n",
      "   macro avg     0.4305    0.7506    0.4461     29806\n",
      "weighted avg     0.9176    0.6900    0.7696     29806\n",
      "\n",
      "\n",
      "\n",
      "0.6966494441834977\n",
      "              precision    recall  f1-score   support\n",
      "\n",
      "           1     0.1774    0.8148    0.2914        54\n",
      "           2     0.1308    0.6749    0.2192       766\n",
      "           3     0.9725    0.6975    0.8124     11954\n",
      "\n",
      "    accuracy                         0.6966     12774\n",
      "   macro avg     0.4269    0.7291    0.4410     12774\n",
      "weighted avg     0.9186    0.6966    0.7746     12774\n",
      "\n"
     ]
    }
   ],
   "source": [
    "clf = RandomForestClassifier(n_estimators=500,class_weight=\"balanced\",random_state=123,max_depth=6,max_features=4,\n",
    "                             min_samples_leaf=50,min_samples_split=10)\n",
    "\n",
    "clf.fit(X=X_train1_np, y=y_train)\n",
    "y_pred = clf.predict(X_test1_np)\n",
    "y1_pred_=clf.predict(X_train1_np)\n",
    "\n",
    "print(accuracy_score(y_train,y1_pred_))\n",
    "print(classification_report(y_train,y1_pred_,digits=4))\n",
    "print(\"\\n\")\n",
    "\n",
    "\n",
    "print(accuracy_score(y_test,y_pred))\n",
    "print(classification_report(y_test,y_pred,digits=4))"
   ]
  },
  {
   "cell_type": "code",
   "execution_count": 95,
   "metadata": {},
   "outputs": [
    {
     "data": {
      "text/plain": [
       "<matplotlib.axes._subplots.AxesSubplot at 0x7fd176daa780>"
      ]
     },
     "execution_count": 95,
     "metadata": {},
     "output_type": "execute_result"
    },
    {
     "data": {
      "image/png": "[encoded data removed]",
      "text/plain": [
       "<Figure size 432x288 with 1 Axes>"
      ]
     },
     "metadata": {
      "needs_background": "light"
     },
     "output_type": "display_data"
    }
   ],
   "source": [
    "feat_importances_rf = pd.Series(clf.feature_importances_, index = pd.DataFrame(X_train1_np).columns)\n",
    "feat_importances_ordered = feat_importances_rf.nlargest(n=len(feat_importances_rf))\n",
    "feat_importances_ordered.plot(kind='bar')"
   ]
  },
  {
   "cell_type": "markdown",
   "metadata": {},
   "source": [
    "#### From the above feature importance graph we can find that the new non linear feature is not contributing much and could even be adding some noise"
   ]
  },
  {
   "cell_type": "code",
   "execution_count": null,
   "metadata": {},
   "outputs": [],
   "source": []
  },
  {
   "cell_type": "code",
   "execution_count": null,
   "metadata": {},
   "outputs": [],
   "source": []
  },
  {
   "cell_type": "markdown",
   "metadata": {},
   "source": [
    "## Learning curves for various models"
   ]
  },
  {
   "cell_type": "code",
   "execution_count": 96,
   "metadata": {},
   "outputs": [
    {
     "data": {
      "image/png": "[encoded data removed]",
      "text/plain": [
       "<Figure size 432x288 with 1 Axes>"
      ]
     },
     "metadata": {
      "needs_background": "light"
     },
     "output_type": "display_data"
    }
   ],
   "source": [
    "from sklearn.model_selection import learning_curve\n",
    "\n",
    "from sklearn.model_selection import learning_curve\n",
    "train_sizes, train_scores, test_scores = learning_curve(DecisionTreeClassifier(max_depth=5,random_state=123,class_weight=\"balanced\"), \n",
    "                                                        X_train1, \n",
    "                                                        y_train,\n",
    "                                                        # Number of folds in cross-validation\n",
    "                                                        cv=5,\n",
    "                                                        # Use all computer cores\n",
    "                                                        n_jobs=-1, \n",
    "                                                        # 50 different sizes of the training set\n",
    "                                                        train_sizes=np.linspace(0.01, 1.0, 50))\n",
    "\n",
    "# Create means and standard deviations of training set scores\n",
    "train_mean = np.mean(train_scores, axis=1)\n",
    "train_std = np.std(train_scores, axis=1)\n",
    "\n",
    "# Create means and standard deviations of test set scores\n",
    "test_mean = np.mean(test_scores, axis=1)\n",
    "test_std = np.std(test_scores, axis=1)\n",
    "\n",
    "# Draw lines\n",
    "plt.plot(train_sizes, train_mean, '--', color=\"#111111\",  label=\"Training score\")\n",
    "plt.plot(train_sizes, test_mean, color=\"#111111\", label=\"Cross-validation score\")\n",
    "\n",
    "# Draw bands\n",
    "plt.fill_between(train_sizes, train_mean - train_std, train_mean + train_std, color=\"#DDDDDD\")\n",
    "plt.fill_between(train_sizes, test_mean - test_std, test_mean + test_std, color=\"#DDDDDD\")\n",
    "\n",
    "# Create plot\n",
    "plt.title(\"Learning Curve\")\n",
    "plt.xlabel(\"Training Set Size\"), plt.ylabel(\"Accuracy Score\"), plt.legend(loc=\"best\")\n",
    "plt.tight_layout()\n",
    "plt.show()"
   ]
  },
  {
   "cell_type": "markdown",
   "metadata": {},
   "source": [
    "#### this model was not finalized as there is a lot of fluctuations on different cross validation folds and once number of sample size increases the model slowly becomes stable "
   ]
  },
  {
   "cell_type": "code",
   "execution_count": 97,
   "metadata": {},
   "outputs": [],
   "source": [
    "from sklearn.model_selection import learning_curve\n",
    "\n",
    "from sklearn.model_selection import learning_curve\n",
    "train_sizes, train_scores, test_scores = learning_curve(RandomForestClassifier(n_estimators=50,class_weight=\"balanced\",max_depth=5,\n",
    "                             max_features=4,min_samples_leaf=50,min_samples_split=10), \n",
    "                                                        X_train1, \n",
    "                                                        y_train,\n",
    "                                                        # Number of folds in cross-validation\n",
    "                                                        cv=5,\n",
    "                                                        # Use all computer cores\n",
    "                                                        n_jobs=-1, \n",
    "                                                        # 50 different sizes of the training set\n",
    "                                                        train_sizes=np.linspace(.01, 1.0, 20))"
   ]
  },
  {
   "cell_type": "code",
   "execution_count": 98,
   "metadata": {},
   "outputs": [
    {
     "data": {
      "image/png": "[encoded data removed]",
      "text/plain": [
       "<Figure size 432x288 with 1 Axes>"
      ]
     },
     "metadata": {
      "needs_background": "light"
     },
     "output_type": "display_data"
    }
   ],
   "source": [
    "# Create means and standard deviations of training set scores\n",
    "train_mean = np.mean(train_scores, axis=1)\n",
    "train_std = np.std(train_scores, axis=1)\n",
    "\n",
    "# Create means and standard deviations of test set scores\n",
    "test_mean = np.mean(test_scores, axis=1)\n",
    "test_std = np.std(test_scores, axis=1)\n",
    "\n",
    "# Draw lines\n",
    "plt.plot(train_sizes, train_mean, '--', color=\"#111111\",  label=\"Training score\")\n",
    "plt.plot(train_sizes, test_mean, color=\"#111111\", label=\"Cross-validation score\")\n",
    "\n",
    "# Draw bands\n",
    "plt.fill_between(train_sizes, train_mean - train_std, train_mean + train_std, color=\"#DDDDDD\")\n",
    "plt.fill_between(train_sizes, test_mean - test_std, test_mean + test_std, color=\"#DDDDDD\")\n",
    "\n",
    "# Create plot\n",
    "plt.title(\"Learning Curve\")\n",
    "plt.xlabel(\"Training Set Size\"), plt.ylabel(\"Accuracy Score\"), plt.legend(loc=\"best\")\n",
    "plt.tight_layout()\n",
    "plt.show()"
   ]
  },
  {
   "cell_type": "markdown",
   "metadata": {},
   "source": [
    "#### As you can see the training score and cross- validation score are very close to eachother even in small training set and continue to  be close to eachother as sample size increases - Therefore low bias and low variance model"
   ]
  },
  {
   "cell_type": "markdown",
   "metadata": {},
   "source": [
    "#### XGboost not shown above but executed which yielded poor results "
   ]
  },
  {
   "cell_type": "code",
   "execution_count": 99,
   "metadata": {},
   "outputs": [
    {
     "data": {
      "image/png": "[encoded data removed]",
      "text/plain": [
       "<Figure size 432x288 with 1 Axes>"
      ]
     },
     "metadata": {
      "needs_background": "light"
     },
     "output_type": "display_data"
    }
   ],
   "source": [
    "from sklearn.model_selection import learning_curve\n",
    "\n",
    "from sklearn.model_selection import learning_curve\n",
    "train_sizes, train_scores, test_scores = learning_curve(XGBClassifier(n_estimators=30,class_weight=\"balanced\",max_depth=4), \n",
    "                                                        X_train1, \n",
    "                                                        y_train,\n",
    "                                                        cv=5,\n",
    "                                                        # Use all computer cores\n",
    "                                                        n_jobs=-1, \n",
    "                                                        # 50 different sizes of the training set\n",
    "                                                        train_sizes=np.linspace(0.01, 1.0, 50))\n",
    "\n",
    "# Create means and standard deviations of training set scores\n",
    "train_mean = np.mean(train_scores, axis=1)\n",
    "train_std = np.std(train_scores, axis=1)\n",
    "\n",
    "# Create means and standard deviations of test set scores\n",
    "test_mean = np.mean(test_scores, axis=1)\n",
    "test_std = np.std(test_scores, axis=1)\n",
    "\n",
    "# Draw lines\n",
    "plt.plot(train_sizes, train_mean, '--', color=\"#111111\",  label=\"Training score\")\n",
    "plt.plot(train_sizes, test_mean, color=\"#111111\", label=\"Cross-validation score\")\n",
    "\n",
    "# Draw bands\n",
    "plt.fill_between(train_sizes, train_mean - train_std, train_mean + train_std, color=\"#DDDDDD\")\n",
    "plt.fill_between(train_sizes, test_mean - test_std, test_mean + test_std, color=\"#DDDDDD\")\n",
    "\n",
    "# Create plot\n",
    "plt.title(\"Learning Curve\")\n",
    "plt.xlabel(\"Training Set Size\"), plt.ylabel(\"Accuracy Score\"), plt.legend(loc=\"best\")\n",
    "plt.tight_layout()\n",
    "plt.show()"
   ]
  },
  {
   "cell_type": "markdown",
   "metadata": {},
   "source": [
    "#### This model is suffering from a high bias problem "
   ]
  },
  {
   "cell_type": "markdown",
   "metadata": {},
   "source": [
    "#### Random Forest with non linear features"
   ]
  },
  {
   "cell_type": "code",
   "execution_count": 100,
   "metadata": {},
   "outputs": [
    {
     "data": {
      "image/png": "[encoded data removed]",
      "text/plain": [
       "<Figure size 432x288 with 1 Axes>"
      ]
     },
     "metadata": {
      "needs_background": "light"
     },
     "output_type": "display_data"
    }
   ],
   "source": [
    "from sklearn.model_selection import learning_curve\n",
    "\n",
    "from sklearn.model_selection import learning_curve\n",
    "train_sizes, train_scores, test_scores = learning_curve(RandomForestClassifier(n_estimators=50,class_weight=\"balanced\",max_depth=5,\n",
    "                             max_features=4,min_samples_leaf=50,min_samples_split=10), \n",
    "                                                        X_train1_np, \n",
    "                                                        y_train,\n",
    "                                                        # Number of folds in cross-validation\n",
    "                                                        cv=5,\n",
    "                                                        # Use all computer cores\n",
    "                                                        n_jobs=-1, \n",
    "                                                        # 50 different sizes of the training set\n",
    "                                                        train_sizes=np.linspace(0.01, 1.0, 50))\n",
    "\n",
    "# Create means and standard deviations of training set scores\n",
    "train_mean = np.mean(train_scores, axis=1)\n",
    "train_std = np.std(train_scores, axis=1)\n",
    "\n",
    "# Create means and standard deviations of test set scores\n",
    "test_mean = np.mean(test_scores, axis=1)\n",
    "test_std = np.std(test_scores, axis=1)\n",
    "\n",
    "# Draw lines\n",
    "plt.plot(train_sizes, train_mean, '--', color=\"#111111\",  label=\"Training score\")\n",
    "plt.plot(train_sizes, test_mean, color=\"#111111\", label=\"Cross-validation score\")\n",
    "\n",
    "# Draw bands\n",
    "plt.fill_between(train_sizes, train_mean - train_std, train_mean + train_std, color=\"#DDDDDD\")\n",
    "plt.fill_between(train_sizes, test_mean - test_std, test_mean + test_std, color=\"#DDDDDD\")\n",
    "\n",
    "# Create plot\n",
    "plt.title(\"Learning Curve\")\n",
    "plt.xlabel(\"Training Set Size\"), plt.ylabel(\"Accuracy Score\"), plt.legend(loc=\"best\")\n",
    "plt.tight_layout()\n",
    "plt.show()"
   ]
  },
  {
   "cell_type": "code",
   "execution_count": null,
   "metadata": {},
   "outputs": [],
   "source": []
  },
  {
   "cell_type": "code",
   "execution_count": null,
   "metadata": {},
   "outputs": [],
   "source": []
  },
  {
   "cell_type": "markdown",
   "metadata": {},
   "source": [
    "## CLUSTERING "
   ]
  },
  {
   "cell_type": "code",
   "execution_count": 101,
   "metadata": {},
   "outputs": [
    {
     "data": {
      "text/plain": [
       "(42580, 15)"
      ]
     },
     "execution_count": 101,
     "metadata": {},
     "output_type": "execute_result"
    }
   ],
   "source": [
    "# Using the copy of the data which was created after all new features were added \n",
    "dataUnn.shape"
   ]
  },
  {
   "cell_type": "code",
   "execution_count": 102,
   "metadata": {
    "scrolled": true
   },
   "outputs": [
    {
     "data": {
      "text/html": [
       "<div>\n",
       "<style scoped>\n",
       "    .dataframe tbody tr th:only-of-type {\n",
       "        vertical-align: middle;\n",
       "    }\n",
       "\n",
       "    .dataframe tbody tr th {\n",
       "        vertical-align: top;\n",
       "    }\n",
       "\n",
       "    .dataframe thead th {\n",
       "        text-align: right;\n",
       "    }\n",
       "</style>\n",
       "<table border=\"1\" class=\"dataframe\">\n",
       "  <thead>\n",
       "    <tr style=\"text-align: right;\">\n",
       "      <th></th>\n",
       "      <th>ReportID</th>\n",
       "      <th>SalesPersonID</th>\n",
       "      <th>ProductID</th>\n",
       "      <th>Quantity</th>\n",
       "      <th>TotalSalesValue</th>\n",
       "      <th>Suspicious</th>\n",
       "      <th>SellingPrice</th>\n",
       "      <th>ASP_CP</th>\n",
       "      <th>MedianQuantity</th>\n",
       "      <th>MedianTotalSales</th>\n",
       "      <th>QuantityMargin</th>\n",
       "      <th>TotalSalesMargin</th>\n",
       "      <th>SellingPriceDiff</th>\n",
       "      <th>SellingPriceMargin_CP</th>\n",
       "      <th>QuantityDiff</th>\n",
       "    </tr>\n",
       "  </thead>\n",
       "  <tbody>\n",
       "    <tr>\n",
       "      <th>0</th>\n",
       "      <td>Rep10101</td>\n",
       "      <td>C21116</td>\n",
       "      <td>PR6112</td>\n",
       "      <td>182</td>\n",
       "      <td>1665</td>\n",
       "      <td>3</td>\n",
       "      <td>9.148352</td>\n",
       "      <td>9.423077</td>\n",
       "      <td>182.0</td>\n",
       "      <td>1740.0</td>\n",
       "      <td>1.000000</td>\n",
       "      <td>0.956897</td>\n",
       "      <td>0.274725</td>\n",
       "      <td>0.970845</td>\n",
       "      <td>0.0</td>\n",
       "    </tr>\n",
       "    <tr>\n",
       "      <th>1</th>\n",
       "      <td>Rep10102</td>\n",
       "      <td>C21116</td>\n",
       "      <td>PR6112</td>\n",
       "      <td>182</td>\n",
       "      <td>1740</td>\n",
       "      <td>3</td>\n",
       "      <td>9.560440</td>\n",
       "      <td>9.423077</td>\n",
       "      <td>182.0</td>\n",
       "      <td>1740.0</td>\n",
       "      <td>1.000000</td>\n",
       "      <td>1.000000</td>\n",
       "      <td>-0.137363</td>\n",
       "      <td>1.014577</td>\n",
       "      <td>0.0</td>\n",
       "    </tr>\n",
       "    <tr>\n",
       "      <th>2</th>\n",
       "      <td>Rep10109</td>\n",
       "      <td>C21116</td>\n",
       "      <td>PR6112</td>\n",
       "      <td>182</td>\n",
       "      <td>1740</td>\n",
       "      <td>3</td>\n",
       "      <td>9.560440</td>\n",
       "      <td>9.423077</td>\n",
       "      <td>182.0</td>\n",
       "      <td>1740.0</td>\n",
       "      <td>1.000000</td>\n",
       "      <td>1.000000</td>\n",
       "      <td>-0.137363</td>\n",
       "      <td>1.014577</td>\n",
       "      <td>0.0</td>\n",
       "    </tr>\n",
       "    <tr>\n",
       "      <th>3</th>\n",
       "      <td>Rep10103</td>\n",
       "      <td>C21116</td>\n",
       "      <td>PR6253</td>\n",
       "      <td>101</td>\n",
       "      <td>1040</td>\n",
       "      <td>3</td>\n",
       "      <td>10.297030</td>\n",
       "      <td>14.658590</td>\n",
       "      <td>193.0</td>\n",
       "      <td>2807.5</td>\n",
       "      <td>0.523316</td>\n",
       "      <td>0.370436</td>\n",
       "      <td>4.361561</td>\n",
       "      <td>0.702457</td>\n",
       "      <td>92.0</td>\n",
       "    </tr>\n",
       "    <tr>\n",
       "      <th>4</th>\n",
       "      <td>Rep10104</td>\n",
       "      <td>C21116</td>\n",
       "      <td>PR6253</td>\n",
       "      <td>283</td>\n",
       "      <td>4495</td>\n",
       "      <td>2</td>\n",
       "      <td>15.883392</td>\n",
       "      <td>14.658590</td>\n",
       "      <td>193.0</td>\n",
       "      <td>2807.5</td>\n",
       "      <td>1.466321</td>\n",
       "      <td>1.601069</td>\n",
       "      <td>-1.224802</td>\n",
       "      <td>1.083555</td>\n",
       "      <td>-90.0</td>\n",
       "    </tr>\n",
       "  </tbody>\n",
       "</table>\n",
       "</div>"
      ],
      "text/plain": [
       "   ReportID SalesPersonID ProductID  Quantity  TotalSalesValue Suspicious  \\\n",
       "0  Rep10101        C21116    PR6112       182             1665          3   \n",
       "1  Rep10102        C21116    PR6112       182             1740          3   \n",
       "2  Rep10109        C21116    PR6112       182             1740          3   \n",
       "3  Rep10103        C21116    PR6253       101             1040          3   \n",
       "4  Rep10104        C21116    PR6253       283             4495          2   \n",
       "\n",
       "   SellingPrice     ASP_CP  MedianQuantity  MedianTotalSales  QuantityMargin  \\\n",
       "0      9.148352   9.423077           182.0            1740.0        1.000000   \n",
       "1      9.560440   9.423077           182.0            1740.0        1.000000   \n",
       "2      9.560440   9.423077           182.0            1740.0        1.000000   \n",
       "3     10.297030  14.658590           193.0            2807.5        0.523316   \n",
       "4     15.883392  14.658590           193.0            2807.5        1.466321   \n",
       "\n",
       "   TotalSalesMargin  SellingPriceDiff  SellingPriceMargin_CP  QuantityDiff  \n",
       "0          0.956897          0.274725               0.970845           0.0  \n",
       "1          1.000000         -0.137363               1.014577           0.0  \n",
       "2          1.000000         -0.137363               1.014577           0.0  \n",
       "3          0.370436          4.361561               0.702457          92.0  \n",
       "4          1.601069         -1.224802               1.083555         -90.0  "
      ]
     },
     "execution_count": 102,
     "metadata": {},
     "output_type": "execute_result"
    }
   ],
   "source": [
    "dataUnn.head()"
   ]
  },
  {
   "cell_type": "markdown",
   "metadata": {},
   "source": [
    "### Grouping the data SalesPerson wise do to segment SalesPerson "
   ]
  },
  {
   "cell_type": "code",
   "execution_count": 103,
   "metadata": {},
   "outputs": [],
   "source": [
    "d1=dataUnn.groupby(\"SalesPersonID\").agg({\"TotalSalesValue\":np.median,\"Quantity\":np.median,\"SellingPriceMargin_CP\":np.mean,\"ReportID\":np.count_nonzero},axis=0)\n"
   ]
  },
  {
   "cell_type": "code",
   "execution_count": 104,
   "metadata": {},
   "outputs": [
    {
     "data": {
      "text/html": [
       "<div>\n",
       "<style scoped>\n",
       "    .dataframe tbody tr th:only-of-type {\n",
       "        vertical-align: middle;\n",
       "    }\n",
       "\n",
       "    .dataframe tbody tr th {\n",
       "        vertical-align: top;\n",
       "    }\n",
       "\n",
       "    .dataframe thead th {\n",
       "        text-align: right;\n",
       "    }\n",
       "</style>\n",
       "<table border=\"1\" class=\"dataframe\">\n",
       "  <thead>\n",
       "    <tr style=\"text-align: right;\">\n",
       "      <th></th>\n",
       "      <th>TotalSalesValue</th>\n",
       "      <th>Quantity</th>\n",
       "      <th>SellingPriceMargin_CP</th>\n",
       "      <th>ReportID</th>\n",
       "    </tr>\n",
       "    <tr>\n",
       "      <th>SalesPersonID</th>\n",
       "      <th></th>\n",
       "      <th></th>\n",
       "      <th></th>\n",
       "      <th></th>\n",
       "    </tr>\n",
       "  </thead>\n",
       "  <tbody>\n",
       "    <tr>\n",
       "      <th>C21116</th>\n",
       "      <td>1740.0</td>\n",
       "      <td>166.0</td>\n",
       "      <td>0.959989</td>\n",
       "      <td>10</td>\n",
       "    </tr>\n",
       "    <tr>\n",
       "      <th>C21118</th>\n",
       "      <td>136240.0</td>\n",
       "      <td>70950.0</td>\n",
       "      <td>11.405030</td>\n",
       "      <td>10</td>\n",
       "    </tr>\n",
       "    <tr>\n",
       "      <th>C21119</th>\n",
       "      <td>1115.0</td>\n",
       "      <td>102.0</td>\n",
       "      <td>1.000000</td>\n",
       "      <td>4</td>\n",
       "    </tr>\n",
       "    <tr>\n",
       "      <th>C21121</th>\n",
       "      <td>5622.5</td>\n",
       "      <td>312.0</td>\n",
       "      <td>2.370057</td>\n",
       "      <td>32</td>\n",
       "    </tr>\n",
       "    <tr>\n",
       "      <th>C21122</th>\n",
       "      <td>1185.0</td>\n",
       "      <td>103.5</td>\n",
       "      <td>1.047227</td>\n",
       "      <td>28</td>\n",
       "    </tr>\n",
       "  </tbody>\n",
       "</table>\n",
       "</div>"
      ],
      "text/plain": [
       "               TotalSalesValue  Quantity  SellingPriceMargin_CP  ReportID\n",
       "SalesPersonID                                                            \n",
       "C21116                  1740.0     166.0               0.959989        10\n",
       "C21118                136240.0   70950.0              11.405030        10\n",
       "C21119                  1115.0     102.0               1.000000         4\n",
       "C21121                  5622.5     312.0               2.370057        32\n",
       "C21122                  1185.0     103.5               1.047227        28"
      ]
     },
     "execution_count": 104,
     "metadata": {},
     "output_type": "execute_result"
    }
   ],
   "source": [
    "d1.head()"
   ]
  },
  {
   "cell_type": "code",
   "execution_count": 105,
   "metadata": {},
   "outputs": [],
   "source": [
    "d1.reset_index(inplace=True)\n",
    "SalesPersonID=d1.SalesPersonID"
   ]
  },
  {
   "cell_type": "code",
   "execution_count": 106,
   "metadata": {},
   "outputs": [],
   "source": [
    "d1.drop(\"SalesPersonID\",axis=1,inplace=True)"
   ]
  },
  {
   "cell_type": "code",
   "execution_count": 107,
   "metadata": {},
   "outputs": [
    {
     "data": {
      "text/html": [
       "<div>\n",
       "<style scoped>\n",
       "    .dataframe tbody tr th:only-of-type {\n",
       "        vertical-align: middle;\n",
       "    }\n",
       "\n",
       "    .dataframe tbody tr th {\n",
       "        vertical-align: top;\n",
       "    }\n",
       "\n",
       "    .dataframe thead th {\n",
       "        text-align: right;\n",
       "    }\n",
       "</style>\n",
       "<table border=\"1\" class=\"dataframe\">\n",
       "  <thead>\n",
       "    <tr style=\"text-align: right;\">\n",
       "      <th></th>\n",
       "      <th>TotalSalesValue</th>\n",
       "      <th>Quantity</th>\n",
       "      <th>SellingPriceMargin_CP</th>\n",
       "      <th>ReportID</th>\n",
       "    </tr>\n",
       "  </thead>\n",
       "  <tbody>\n",
       "    <tr>\n",
       "      <th>0</th>\n",
       "      <td>1740.0</td>\n",
       "      <td>166.0</td>\n",
       "      <td>0.959989</td>\n",
       "      <td>10</td>\n",
       "    </tr>\n",
       "    <tr>\n",
       "      <th>1</th>\n",
       "      <td>136240.0</td>\n",
       "      <td>70950.0</td>\n",
       "      <td>11.405030</td>\n",
       "      <td>10</td>\n",
       "    </tr>\n",
       "    <tr>\n",
       "      <th>2</th>\n",
       "      <td>1115.0</td>\n",
       "      <td>102.0</td>\n",
       "      <td>1.000000</td>\n",
       "      <td>4</td>\n",
       "    </tr>\n",
       "    <tr>\n",
       "      <th>3</th>\n",
       "      <td>5622.5</td>\n",
       "      <td>312.0</td>\n",
       "      <td>2.370057</td>\n",
       "      <td>32</td>\n",
       "    </tr>\n",
       "    <tr>\n",
       "      <th>4</th>\n",
       "      <td>1185.0</td>\n",
       "      <td>103.5</td>\n",
       "      <td>1.047227</td>\n",
       "      <td>28</td>\n",
       "    </tr>\n",
       "  </tbody>\n",
       "</table>\n",
       "</div>"
      ],
      "text/plain": [
       "   TotalSalesValue  Quantity  SellingPriceMargin_CP  ReportID\n",
       "0           1740.0     166.0               0.959989        10\n",
       "1         136240.0   70950.0              11.405030        10\n",
       "2           1115.0     102.0               1.000000         4\n",
       "3           5622.5     312.0               2.370057        32\n",
       "4           1185.0     103.5               1.047227        28"
      ]
     },
     "execution_count": 107,
     "metadata": {},
     "output_type": "execute_result"
    }
   ],
   "source": [
    "d1.head()"
   ]
  },
  {
   "cell_type": "code",
   "execution_count": 108,
   "metadata": {},
   "outputs": [
    {
     "data": {
      "text/plain": [
       "(992, 4)"
      ]
     },
     "execution_count": 108,
     "metadata": {},
     "output_type": "execute_result"
    }
   ],
   "source": [
    "d1.shape"
   ]
  },
  {
   "cell_type": "code",
   "execution_count": null,
   "metadata": {},
   "outputs": [],
   "source": []
  },
  {
   "cell_type": "code",
   "execution_count": 109,
   "metadata": {},
   "outputs": [],
   "source": [
    "d2=d1.copy() ## creating a copy so that actual values can be used for analyzing after assigning labels "
   ]
  },
  {
   "cell_type": "code",
   "execution_count": 110,
   "metadata": {},
   "outputs": [
    {
     "data": {
      "text/html": [
       "<div>\n",
       "<style scoped>\n",
       "    .dataframe tbody tr th:only-of-type {\n",
       "        vertical-align: middle;\n",
       "    }\n",
       "\n",
       "    .dataframe tbody tr th {\n",
       "        vertical-align: top;\n",
       "    }\n",
       "\n",
       "    .dataframe thead th {\n",
       "        text-align: right;\n",
       "    }\n",
       "</style>\n",
       "<table border=\"1\" class=\"dataframe\">\n",
       "  <thead>\n",
       "    <tr style=\"text-align: right;\">\n",
       "      <th></th>\n",
       "      <th>TotalSalesValue</th>\n",
       "      <th>Quantity</th>\n",
       "      <th>SellingPriceMargin_CP</th>\n",
       "      <th>ReportID</th>\n",
       "    </tr>\n",
       "  </thead>\n",
       "  <tbody>\n",
       "    <tr>\n",
       "      <th>0</th>\n",
       "      <td>1740.0</td>\n",
       "      <td>166.0</td>\n",
       "      <td>0.959989</td>\n",
       "      <td>10</td>\n",
       "    </tr>\n",
       "    <tr>\n",
       "      <th>1</th>\n",
       "      <td>136240.0</td>\n",
       "      <td>70950.0</td>\n",
       "      <td>11.405030</td>\n",
       "      <td>10</td>\n",
       "    </tr>\n",
       "    <tr>\n",
       "      <th>2</th>\n",
       "      <td>1115.0</td>\n",
       "      <td>102.0</td>\n",
       "      <td>1.000000</td>\n",
       "      <td>4</td>\n",
       "    </tr>\n",
       "    <tr>\n",
       "      <th>3</th>\n",
       "      <td>5622.5</td>\n",
       "      <td>312.0</td>\n",
       "      <td>2.370057</td>\n",
       "      <td>32</td>\n",
       "    </tr>\n",
       "    <tr>\n",
       "      <th>4</th>\n",
       "      <td>1185.0</td>\n",
       "      <td>103.5</td>\n",
       "      <td>1.047227</td>\n",
       "      <td>28</td>\n",
       "    </tr>\n",
       "  </tbody>\n",
       "</table>\n",
       "</div>"
      ],
      "text/plain": [
       "   TotalSalesValue  Quantity  SellingPriceMargin_CP  ReportID\n",
       "0           1740.0     166.0               0.959989        10\n",
       "1         136240.0   70950.0              11.405030        10\n",
       "2           1115.0     102.0               1.000000         4\n",
       "3           5622.5     312.0               2.370057        32\n",
       "4           1185.0     103.5               1.047227        28"
      ]
     },
     "execution_count": 110,
     "metadata": {},
     "output_type": "execute_result"
    }
   ],
   "source": [
    "d1.head()"
   ]
  },
  {
   "cell_type": "markdown",
   "metadata": {},
   "source": [
    "##### Standarizing data for clustering "
   ]
  },
  {
   "cell_type": "code",
   "execution_count": 111,
   "metadata": {},
   "outputs": [
    {
     "name": "stdout",
     "output_type": "stream",
     "text": [
      "Index(['TotalSalesValue', 'Quantity', 'SellingPriceMargin_CP', 'ReportID'], dtype='object')\n"
     ]
    }
   ],
   "source": [
    "num_atr=d1.select_dtypes(['int64','float64']).columns\n",
    "print(num_atr)\n",
    "\n",
    "scaler = StandardScaler() ## object intitation\n",
    "scaler.fit(d1[num_atr])\n",
    "\n",
    "d1[num_atr]=scaler.transform(d1[num_atr])\n",
    "d1[num_atr]=scaler.transform(d1[num_atr])"
   ]
  },
  {
   "cell_type": "code",
   "execution_count": null,
   "metadata": {},
   "outputs": [],
   "source": []
  },
  {
   "cell_type": "code",
   "execution_count": null,
   "metadata": {},
   "outputs": [],
   "source": []
  },
  {
   "cell_type": "markdown",
   "metadata": {},
   "source": [
    "### ELBOW curve to find the optimal cluster number which will define the particular dataset "
   ]
  },
  {
   "cell_type": "code",
   "execution_count": 112,
   "metadata": {},
   "outputs": [],
   "source": [
    "from sklearn.cluster import KMeans"
   ]
  },
  {
   "cell_type": "code",
   "execution_count": 113,
   "metadata": {},
   "outputs": [
    {
     "name": "stdout",
     "output_type": "stream",
     "text": [
      "[[-0.35857122 -0.17550655 -0.3961721  -0.56448472]\n",
      " [-0.35850918 -0.17519505  3.03682879 -0.56942075]]\n",
      "[0 0 0 0 0 0 0 0 0 0 0 0 0 0 0 0 0 0 0 0 0 0 0 0 0 0 0 0 0 0 0 0 0 0 0 0 0\n",
      " 0 0 0 0 0 0 0 0 0 0 0 0 0 0 0 0 0 0 0 0 0 0 0 0 0 0 0 0 0 0 0 0 0 0 0 0 0\n",
      " 0 0 0 0 0 0 0 0 0 0 0 0 0 0 0 0 0 0 0 0 0 0 0 0 0 0 0 0 0 0 0 0 0 0 0 0 0\n",
      " 0 0 0 0 0 0 0 0 0 0 0 0 0 0 0 0 0 0 0 0 0 0 0 0 0 0 0 0 0 0 0 0 0 0 0 0 0\n",
      " 0 0 0 0 0 0 0 0 0 0 0 0 0 0 0 0 0 0 0 0 0 0 0 0 0 0 0 0 0 0 0 0 0 0 0 0 0\n",
      " 0 0 0 0 0 0 0 0 0 0 0 0 0 0 0 0 0 0 0 0 0 0 0 0 0 0 0 0 0 0 0 0 0 0 0 0 0\n",
      " 0 0 0 0 0 0 0 0 0 0 0 0 0 0 0 0 0 0 0 0 0 0 0 0 0 0 0 0 0 0 0 0 0 0 0 0 0\n",
      " 0 0 0 0 0 0 0 0 0 0 0 0 0 0 0 0 0 0 0 0 0 0 0 0 0 0 0 0 0 0 0 0 0 0 0 0 0\n",
      " 0 0 0 0 0 0 0 0 0 0 0 0 0 0 0 0 0 0 0 0 0 0 0 0 0 0 0 0 0 0 0 0 0 0 0 0 0\n",
      " 0 0 0 0 0 0 0 0 0 0 0 0 0 0 0 0 1 0 0 0 0 1 0 0 0 0 0 0 0 0 0 0 0 0 0 0 0\n",
      " 0 0 0 0 0 0 0 0 0 0 0 0 0 0 0 0 0 0 0 0 0 0 0 0 0 0 0 0 0 0 0 0 0 0 0 0 0\n",
      " 0 0 0 0 0 0 0 0 0 0 0 0 0 0 0 0 0 0 0 0 0 0 0 0 0 0 0 0 1 0 0 0 0 0 0 0 0\n",
      " 0 0 0 0 0 0 0 0 0 0 0 0 0 0 0 0 0 0 0 0 0 0 0 0 0 0 0 0 0 0 0 0 0 0 0 0 0\n",
      " 0 0 0 0 0 0 0 0 0 0 0 0 0 0 0 0 0 0 0 0 0 0 0 0 0 0 0 0 0 0 0 0 0 0 0 0 0\n",
      " 0 0 0 0 0 0 0 0 0 0 0 0 0 0 0 0 0 0 0 0 0 0 0 0 0 0 0 0 0 0 0 0 0 0 0 0 0\n",
      " 0 0 0 0 0 0 0 0 0 0 0 0 0 0 0 0 0 0 0 0 0 0 0 0 0 0 0 0 0 0 0 0 0 0 0 0 0\n",
      " 0 0 0 0 0 0 0 0 0 0 0 0 0 0 0 0 0 0 0 0 0 0 0 0 0 0 0 0 0 0 0 0 0 0 0 0 0\n",
      " 0 0 0 0 0 0 0 0 0 0 0 0 0 0 0 0 0 0 0 0 0 0 0 0 0 0 0 0 0 0 0 0 0 0 0 0 0\n",
      " 0 0 0 0 0 0 0 0 0 0 0 0 0 0 0 0 0 0 0 0 0 0 0 0 0 0 0 0 0 0 0 0 0 0 0 0 0\n",
      " 0 0 0 0 0 0 0 0 0 0 0 0 0 0 0 0 0 0 0 0 0 0 0 0 0 0 0 0 0 0 0 0 0 0 0 0 0\n",
      " 0 0 0 0 0 0 0 0 0 0 0 0 0 0 0 0 0 0 0 0 0 0 0 0 0 0 0 0 0 0 0 0 0 0 0 0 0\n",
      " 0 0 0 0 0 0 0 0 0 0 0 0 0 0 0 0 0 0 0 0 0 0 0 0 0 0 0 0 0 0 0 0 0 0 0 0 0\n",
      " 0 0 0 0 0 0 0 0 0 0 0 0 0 0 0 0 0 0 0 0 0 0 0 0 0 0 0 0 0 0 0 0 0 0 0 1 0\n",
      " 0 0 0 0 0 0 0 0 0 0 0 0 0 0 0 0 0 0 0 0 0 0 0 0 0 0 0 0 0 0 0 0 0 0 0 0 0\n",
      " 0 0 0 0 0 0 0 0 0 0 0 0 0 0 0 0 0 0 0 0 0 0 0 0 0 0 0 0 0 0 0 0 0 0 0 0 0\n",
      " 0 0 0 0 0 0 0 0 0 0 0 0 0 0 0 0 0 0 0 0 0 0 0 0 0 0 0 0 0 0 0 0 0 0 0 0 0\n",
      " 0 0 0 0 0 0 0 0 0 0 0 0 0 0 0 0 0 0 0 0 0 0 0 0 0 0 0 0 0 0]\n"
     ]
    },
    {
     "data": {
      "text/plain": [
       "Text(0.5, 1.0, 'Elbow for KMeans clustering')"
      ]
     },
     "execution_count": 113,
     "metadata": {},
     "output_type": "execute_result"
    },
    {
     "data": {
      "image/png": "[encoded data removed]",
      "text/plain": [
       "<Figure size 432x288 with 1 Axes>"
      ]
     },
     "metadata": {
      "needs_background": "light"
     },
     "output_type": "display_data"
    }
   ],
   "source": [
    "\n",
    "## Build K Means with the 2 clusters\n",
    "kmeans = KMeans(n_clusters=2).fit(d1)\n",
    "\n",
    "## Derive Centroids\n",
    "centroids = kmeans.cluster_centers_\n",
    "\n",
    "## Derive Labels\n",
    "labels = kmeans.labels_\n",
    "\n",
    "## Print Centroids\n",
    "print(centroids)\n",
    "\n",
    "## Print Labels\n",
    "print(labels)\n",
    "\n",
    "## Experiment/Build K means for different K values, from 1 to 20\n",
    "K = range(1,20)\n",
    "KM = [KMeans(n_clusters=k).fit(d1) for k in K]\n",
    "centroids = [k.cluster_centers_ for k in KM]\n",
    "#labelsk = [kmeans.labels_ for k in KM]\n",
    "\n",
    "## Find with in sum of squared error\n",
    "from scipy.spatial.distance import cdist, pdist\n",
    "\n",
    "D_k = [cdist(d1, cent, 'euclidean') for cent in centroids]\n",
    "cIdx = [np.argmin(D,axis=1) for D in D_k]\n",
    "dist = [np.min(D,axis=1) for D in D_k]\n",
    "sumWithinSS = [sum(d) for d in dist]\n",
    "#silhouetteSS=[silhouette_score(d,labels=labelsk) for d in dist]\n",
    "\n",
    "\n",
    "## Elbow curve\n",
    "#1 \n",
    "# maring k=3\n",
    "kIdx = 2\n",
    "fig = plt.figure()\n",
    "ax = fig.add_subplot(111)\n",
    "ax.plot(K, sumWithinSS, 'b*-')\n",
    "ax.plot(K[kIdx], sumWithinSS[kIdx], marker='o', markersize=12, \n",
    "markeredgewidth=2, markeredgecolor='r', markerfacecolor='None')\n",
    "plt.grid(True)\n",
    "plt.xlabel('Number of clusters')\n",
    "plt.ylabel('within-cluster sum of squares')\n",
    "plt.title('Elbow for KMeans clustering')\n"
   ]
  },
  {
   "cell_type": "code",
   "execution_count": null,
   "metadata": {},
   "outputs": [],
   "source": []
  },
  {
   "cell_type": "code",
   "execution_count": 114,
   "metadata": {},
   "outputs": [],
   "source": [
    "## Build K Means with the 3 clusters\n",
    "kmeans = KMeans(n_clusters=3).fit(d1)"
   ]
  },
  {
   "cell_type": "code",
   "execution_count": 115,
   "metadata": {},
   "outputs": [],
   "source": [
    "## Derive Centroids\n",
    "centroids = kmeans.cluster_centers_"
   ]
  },
  {
   "cell_type": "code",
   "execution_count": 116,
   "metadata": {},
   "outputs": [],
   "source": [
    "labels = kmeans.labels_"
   ]
  },
  {
   "cell_type": "code",
   "execution_count": 117,
   "metadata": {},
   "outputs": [],
   "source": [
    "# adding labels to the actual values \n",
    "d2[\"label\"]=labels"
   ]
  },
  {
   "cell_type": "code",
   "execution_count": 118,
   "metadata": {},
   "outputs": [],
   "source": [
    "d2[\"label\"] = d2[\"label\"].astype('category')"
   ]
  },
  {
   "cell_type": "code",
   "execution_count": null,
   "metadata": {},
   "outputs": [],
   "source": []
  },
  {
   "cell_type": "code",
   "execution_count": 119,
   "metadata": {},
   "outputs": [],
   "source": [
    "# for 4 clusters \n",
    "# 0 - 976\n",
    "# 1 - 12\n",
    "# 3 - 3\n",
    "# 2 - 1"
   ]
  },
  {
   "cell_type": "code",
   "execution_count": 120,
   "metadata": {},
   "outputs": [
    {
     "data": {
      "text/plain": [
       "0    976\n",
       "2     12\n",
       "1      4\n",
       "Name: label, dtype: int64"
      ]
     },
     "execution_count": 120,
     "metadata": {},
     "output_type": "execute_result"
    }
   ],
   "source": [
    "d2.label.value_counts()"
   ]
  },
  {
   "cell_type": "code",
   "execution_count": 121,
   "metadata": {},
   "outputs": [],
   "source": [
    "# for 2 clusters \n",
    "# 0 - 988\n",
    "# 1 - 4"
   ]
  },
  {
   "cell_type": "code",
   "execution_count": 122,
   "metadata": {},
   "outputs": [],
   "source": [
    "d2[\"SalesPersonID\"]=SalesPersonID"
   ]
  },
  {
   "cell_type": "code",
   "execution_count": 123,
   "metadata": {},
   "outputs": [
    {
     "data": {
      "text/html": [
       "<div>\n",
       "<style scoped>\n",
       "    .dataframe tbody tr th:only-of-type {\n",
       "        vertical-align: middle;\n",
       "    }\n",
       "\n",
       "    .dataframe tbody tr th {\n",
       "        vertical-align: top;\n",
       "    }\n",
       "\n",
       "    .dataframe thead th {\n",
       "        text-align: right;\n",
       "    }\n",
       "</style>\n",
       "<table border=\"1\" class=\"dataframe\">\n",
       "  <thead>\n",
       "    <tr style=\"text-align: right;\">\n",
       "      <th></th>\n",
       "      <th>TotalSalesValue</th>\n",
       "      <th>Quantity</th>\n",
       "      <th>SellingPriceMargin_CP</th>\n",
       "      <th>ReportID</th>\n",
       "      <th>label</th>\n",
       "      <th>SalesPersonID</th>\n",
       "    </tr>\n",
       "  </thead>\n",
       "  <tbody>\n",
       "    <tr>\n",
       "      <th>349</th>\n",
       "      <td>4210.0</td>\n",
       "      <td>217.0</td>\n",
       "      <td>44.349369</td>\n",
       "      <td>11</td>\n",
       "      <td>1</td>\n",
       "      <td>C21553</td>\n",
       "    </tr>\n",
       "    <tr>\n",
       "      <th>354</th>\n",
       "      <td>7617.5</td>\n",
       "      <td>286.5</td>\n",
       "      <td>45.083315</td>\n",
       "      <td>18</td>\n",
       "      <td>1</td>\n",
       "      <td>C21558</td>\n",
       "    </tr>\n",
       "    <tr>\n",
       "      <th>435</th>\n",
       "      <td>264400.0</td>\n",
       "      <td>492249.5</td>\n",
       "      <td>87.343926</td>\n",
       "      <td>8</td>\n",
       "      <td>1</td>\n",
       "      <td>C21659</td>\n",
       "    </tr>\n",
       "    <tr>\n",
       "      <th>849</th>\n",
       "      <td>19215.0</td>\n",
       "      <td>26817.0</td>\n",
       "      <td>45.960275</td>\n",
       "      <td>21</td>\n",
       "      <td>1</td>\n",
       "      <td>C22168</td>\n",
       "    </tr>\n",
       "  </tbody>\n",
       "</table>\n",
       "</div>"
      ],
      "text/plain": [
       "     TotalSalesValue  Quantity  SellingPriceMargin_CP  ReportID label  \\\n",
       "349           4210.0     217.0              44.349369        11     1   \n",
       "354           7617.5     286.5              45.083315        18     1   \n",
       "435         264400.0  492249.5              87.343926         8     1   \n",
       "849          19215.0   26817.0              45.960275        21     1   \n",
       "\n",
       "    SalesPersonID  \n",
       "349        C21553  \n",
       "354        C21558  \n",
       "435        C21659  \n",
       "849        C22168  "
      ]
     },
     "execution_count": 123,
     "metadata": {},
     "output_type": "execute_result"
    }
   ],
   "source": [
    "d2[d2.label==1]"
   ]
  },
  {
   "cell_type": "code",
   "execution_count": null,
   "metadata": {},
   "outputs": [],
   "source": []
  },
  {
   "cell_type": "code",
   "execution_count": null,
   "metadata": {},
   "outputs": [],
   "source": []
  },
  {
   "cell_type": "code",
   "execution_count": 124,
   "metadata": {},
   "outputs": [
    {
     "data": {
      "text/html": [
       "<div>\n",
       "<style scoped>\n",
       "    .dataframe tbody tr th:only-of-type {\n",
       "        vertical-align: middle;\n",
       "    }\n",
       "\n",
       "    .dataframe tbody tr th {\n",
       "        vertical-align: top;\n",
       "    }\n",
       "\n",
       "    .dataframe thead th {\n",
       "        text-align: right;\n",
       "    }\n",
       "</style>\n",
       "<table border=\"1\" class=\"dataframe\">\n",
       "  <thead>\n",
       "    <tr style=\"text-align: right;\">\n",
       "      <th></th>\n",
       "      <th>TotalSalesValue</th>\n",
       "      <th>Quantity</th>\n",
       "      <th>SellingPriceMargin_CP</th>\n",
       "      <th>ReportID</th>\n",
       "      <th>label</th>\n",
       "      <th>SalesPersonID</th>\n",
       "    </tr>\n",
       "  </thead>\n",
       "  <tbody>\n",
       "    <tr>\n",
       "      <th>739</th>\n",
       "      <td>10520.0</td>\n",
       "      <td>1773.0</td>\n",
       "      <td>1.088686</td>\n",
       "      <td>525</td>\n",
       "      <td>0</td>\n",
       "      <td>C22030</td>\n",
       "    </tr>\n",
       "  </tbody>\n",
       "</table>\n",
       "</div>"
      ],
      "text/plain": [
       "     TotalSalesValue  Quantity  SellingPriceMargin_CP  ReportID label  \\\n",
       "739          10520.0    1773.0               1.088686       525     0   \n",
       "\n",
       "    SalesPersonID  \n",
       "739        C22030  "
      ]
     },
     "execution_count": 124,
     "metadata": {},
     "output_type": "execute_result"
    }
   ],
   "source": [
    "## to show the SalesPersom with most supicious Yes is not a high risk SalesPerson\n",
    "d2[d2.SalesPersonID==\"C22030\"]"
   ]
  },
  {
   "cell_type": "code",
   "execution_count": 125,
   "metadata": {},
   "outputs": [
    {
     "data": {
      "text/html": [
       "<div>\n",
       "<style scoped>\n",
       "    .dataframe tbody tr th:only-of-type {\n",
       "        vertical-align: middle;\n",
       "    }\n",
       "\n",
       "    .dataframe tbody tr th {\n",
       "        vertical-align: top;\n",
       "    }\n",
       "\n",
       "    .dataframe thead th {\n",
       "        text-align: right;\n",
       "    }\n",
       "</style>\n",
       "<table border=\"1\" class=\"dataframe\">\n",
       "  <thead>\n",
       "    <tr style=\"text-align: right;\">\n",
       "      <th></th>\n",
       "      <th>ReportID</th>\n",
       "      <th>SalesPersonID</th>\n",
       "      <th>ProductID</th>\n",
       "      <th>Quantity</th>\n",
       "      <th>TotalSalesValue</th>\n",
       "      <th>Suspicious</th>\n",
       "      <th>SellingPrice</th>\n",
       "      <th>ASP_CP</th>\n",
       "      <th>MedianQuantity</th>\n",
       "      <th>MedianTotalSales</th>\n",
       "      <th>QuantityMargin</th>\n",
       "      <th>TotalSalesMargin</th>\n",
       "      <th>SellingPriceDiff</th>\n",
       "      <th>SellingPriceMargin_CP</th>\n",
       "      <th>QuantityDiff</th>\n",
       "    </tr>\n",
       "  </thead>\n",
       "  <tbody>\n",
       "    <tr>\n",
       "      <th>40243</th>\n",
       "      <td>Rep50346</td>\n",
       "      <td>C21659</td>\n",
       "      <td>PR6518</td>\n",
       "      <td>1125</td>\n",
       "      <td>539145</td>\n",
       "      <td>1</td>\n",
       "      <td>479.24</td>\n",
       "      <td>0.691168</td>\n",
       "      <td>492249.5</td>\n",
       "      <td>264400.0</td>\n",
       "      <td>0.002285</td>\n",
       "      <td>2.039126</td>\n",
       "      <td>-478.548832</td>\n",
       "      <td>693.377053</td>\n",
       "      <td>491124.5</td>\n",
       "    </tr>\n",
       "  </tbody>\n",
       "</table>\n",
       "</div>"
      ],
      "text/plain": [
       "       ReportID SalesPersonID ProductID  Quantity  TotalSalesValue Suspicious  \\\n",
       "40243  Rep50346        C21659    PR6518      1125           539145          1   \n",
       "\n",
       "       SellingPrice    ASP_CP  MedianQuantity  MedianTotalSales  \\\n",
       "40243        479.24  0.691168        492249.5          264400.0   \n",
       "\n",
       "       QuantityMargin  TotalSalesMargin  SellingPriceDiff  \\\n",
       "40243        0.002285          2.039126       -478.548832   \n",
       "\n",
       "       SellingPriceMargin_CP  QuantityDiff  \n",
       "40243             693.377053      491124.5  "
      ]
     },
     "execution_count": 125,
     "metadata": {},
     "output_type": "execute_result"
    }
   ],
   "source": [
    "dataUnn[(dataUnn.SalesPersonID==\"C21659\")&(dataUnn.Suspicious=='1')]"
   ]
  },
  {
   "cell_type": "code",
   "execution_count": 126,
   "metadata": {},
   "outputs": [],
   "source": [
    "# C22030 - 497NO 19 Indeterminate 9Yes\n",
    "# C21659 - 6 NO 1 Int 1 Yes"
   ]
  },
  {
   "cell_type": "code",
   "execution_count": 127,
   "metadata": {},
   "outputs": [
    {
     "data": {
      "text/html": [
       "<div>\n",
       "<style scoped>\n",
       "    .dataframe tbody tr th:only-of-type {\n",
       "        vertical-align: middle;\n",
       "    }\n",
       "\n",
       "    .dataframe tbody tr th {\n",
       "        vertical-align: top;\n",
       "    }\n",
       "\n",
       "    .dataframe thead th {\n",
       "        text-align: right;\n",
       "    }\n",
       "</style>\n",
       "<table border=\"1\" class=\"dataframe\">\n",
       "  <thead>\n",
       "    <tr style=\"text-align: right;\">\n",
       "      <th></th>\n",
       "      <th>TotalSalesValue</th>\n",
       "      <th>Quantity</th>\n",
       "      <th>SellingPriceMargin_CP</th>\n",
       "      <th>ReportID</th>\n",
       "      <th>label</th>\n",
       "      <th>SalesPersonID</th>\n",
       "    </tr>\n",
       "  </thead>\n",
       "  <tbody>\n",
       "    <tr>\n",
       "      <th>count</th>\n",
       "      <td>976.000000</td>\n",
       "      <td>976.000000</td>\n",
       "      <td>976.000000</td>\n",
       "      <td>976.000000</td>\n",
       "      <td>976.0</td>\n",
       "      <td>976</td>\n",
       "    </tr>\n",
       "    <tr>\n",
       "      <th>unique</th>\n",
       "      <td>NaN</td>\n",
       "      <td>NaN</td>\n",
       "      <td>NaN</td>\n",
       "      <td>NaN</td>\n",
       "      <td>1.0</td>\n",
       "      <td>976</td>\n",
       "    </tr>\n",
       "    <tr>\n",
       "      <th>top</th>\n",
       "      <td>NaN</td>\n",
       "      <td>NaN</td>\n",
       "      <td>NaN</td>\n",
       "      <td>NaN</td>\n",
       "      <td>0.0</td>\n",
       "      <td>C22192</td>\n",
       "    </tr>\n",
       "    <tr>\n",
       "      <th>freq</th>\n",
       "      <td>NaN</td>\n",
       "      <td>NaN</td>\n",
       "      <td>NaN</td>\n",
       "      <td>NaN</td>\n",
       "      <td>976.0</td>\n",
       "      <td>1</td>\n",
       "    </tr>\n",
       "    <tr>\n",
       "      <th>mean</th>\n",
       "      <td>10864.276127</td>\n",
       "      <td>2914.058914</td>\n",
       "      <td>1.143966</td>\n",
       "      <td>43.319672</td>\n",
       "      <td>NaN</td>\n",
       "      <td>NaN</td>\n",
       "    </tr>\n",
       "    <tr>\n",
       "      <th>std</th>\n",
       "      <td>30561.452720</td>\n",
       "      <td>12760.344991</td>\n",
       "      <td>0.557911</td>\n",
       "      <td>76.612661</td>\n",
       "      <td>NaN</td>\n",
       "      <td>NaN</td>\n",
       "    </tr>\n",
       "    <tr>\n",
       "      <th>min</th>\n",
       "      <td>1005.000000</td>\n",
       "      <td>85.000000</td>\n",
       "      <td>0.690233</td>\n",
       "      <td>1.000000</td>\n",
       "      <td>NaN</td>\n",
       "      <td>NaN</td>\n",
       "    </tr>\n",
       "    <tr>\n",
       "      <th>25%</th>\n",
       "      <td>1607.500000</td>\n",
       "      <td>118.500000</td>\n",
       "      <td>0.984118</td>\n",
       "      <td>10.000000</td>\n",
       "      <td>NaN</td>\n",
       "      <td>NaN</td>\n",
       "    </tr>\n",
       "    <tr>\n",
       "      <th>50%</th>\n",
       "      <td>3435.000000</td>\n",
       "      <td>228.500000</td>\n",
       "      <td>1.004324</td>\n",
       "      <td>22.000000</td>\n",
       "      <td>NaN</td>\n",
       "      <td>NaN</td>\n",
       "    </tr>\n",
       "    <tr>\n",
       "      <th>75%</th>\n",
       "      <td>8613.750000</td>\n",
       "      <td>1035.750000</td>\n",
       "      <td>1.090198</td>\n",
       "      <td>45.000000</td>\n",
       "      <td>NaN</td>\n",
       "      <td>NaN</td>\n",
       "    </tr>\n",
       "    <tr>\n",
       "      <th>max</th>\n",
       "      <td>566000.000000</td>\n",
       "      <td>232820.000000</td>\n",
       "      <td>7.396199</td>\n",
       "      <td>1359.000000</td>\n",
       "      <td>NaN</td>\n",
       "      <td>NaN</td>\n",
       "    </tr>\n",
       "  </tbody>\n",
       "</table>\n",
       "</div>"
      ],
      "text/plain": [
       "        TotalSalesValue       Quantity  SellingPriceMargin_CP     ReportID  \\\n",
       "count        976.000000     976.000000             976.000000   976.000000   \n",
       "unique              NaN            NaN                    NaN          NaN   \n",
       "top                 NaN            NaN                    NaN          NaN   \n",
       "freq                NaN            NaN                    NaN          NaN   \n",
       "mean       10864.276127    2914.058914               1.143966    43.319672   \n",
       "std        30561.452720   12760.344991               0.557911    76.612661   \n",
       "min         1005.000000      85.000000               0.690233     1.000000   \n",
       "25%         1607.500000     118.500000               0.984118    10.000000   \n",
       "50%         3435.000000     228.500000               1.004324    22.000000   \n",
       "75%         8613.750000    1035.750000               1.090198    45.000000   \n",
       "max       566000.000000  232820.000000               7.396199  1359.000000   \n",
       "\n",
       "        label SalesPersonID  \n",
       "count   976.0           976  \n",
       "unique    1.0           976  \n",
       "top       0.0        C22192  \n",
       "freq    976.0             1  \n",
       "mean      NaN           NaN  \n",
       "std       NaN           NaN  \n",
       "min       NaN           NaN  \n",
       "25%       NaN           NaN  \n",
       "50%       NaN           NaN  \n",
       "75%       NaN           NaN  \n",
       "max       NaN           NaN  "
      ]
     },
     "execution_count": 127,
     "metadata": {},
     "output_type": "execute_result"
    }
   ],
   "source": [
    "d2[d2.label==0].describe(include=\"all\")"
   ]
  },
  {
   "cell_type": "code",
   "execution_count": 128,
   "metadata": {},
   "outputs": [
    {
     "data": {
      "text/html": [
       "<div>\n",
       "<style scoped>\n",
       "    .dataframe tbody tr th:only-of-type {\n",
       "        vertical-align: middle;\n",
       "    }\n",
       "\n",
       "    .dataframe tbody tr th {\n",
       "        vertical-align: top;\n",
       "    }\n",
       "\n",
       "    .dataframe thead th {\n",
       "        text-align: right;\n",
       "    }\n",
       "</style>\n",
       "<table border=\"1\" class=\"dataframe\">\n",
       "  <thead>\n",
       "    <tr style=\"text-align: right;\">\n",
       "      <th></th>\n",
       "      <th>TotalSalesValue</th>\n",
       "      <th>Quantity</th>\n",
       "      <th>SellingPriceMargin_CP</th>\n",
       "      <th>ReportID</th>\n",
       "      <th>label</th>\n",
       "      <th>SalesPersonID</th>\n",
       "    </tr>\n",
       "  </thead>\n",
       "  <tbody>\n",
       "    <tr>\n",
       "      <th>count</th>\n",
       "      <td>4.000000</td>\n",
       "      <td>4.000000</td>\n",
       "      <td>4.000000</td>\n",
       "      <td>4.000000</td>\n",
       "      <td>4.0</td>\n",
       "      <td>4</td>\n",
       "    </tr>\n",
       "    <tr>\n",
       "      <th>unique</th>\n",
       "      <td>NaN</td>\n",
       "      <td>NaN</td>\n",
       "      <td>NaN</td>\n",
       "      <td>NaN</td>\n",
       "      <td>1.0</td>\n",
       "      <td>4</td>\n",
       "    </tr>\n",
       "    <tr>\n",
       "      <th>top</th>\n",
       "      <td>NaN</td>\n",
       "      <td>NaN</td>\n",
       "      <td>NaN</td>\n",
       "      <td>NaN</td>\n",
       "      <td>1.0</td>\n",
       "      <td>C21659</td>\n",
       "    </tr>\n",
       "    <tr>\n",
       "      <th>freq</th>\n",
       "      <td>NaN</td>\n",
       "      <td>NaN</td>\n",
       "      <td>NaN</td>\n",
       "      <td>NaN</td>\n",
       "      <td>4.0</td>\n",
       "      <td>1</td>\n",
       "    </tr>\n",
       "    <tr>\n",
       "      <th>mean</th>\n",
       "      <td>73860.625000</td>\n",
       "      <td>129892.500000</td>\n",
       "      <td>55.684221</td>\n",
       "      <td>14.500000</td>\n",
       "      <td>NaN</td>\n",
       "      <td>NaN</td>\n",
       "    </tr>\n",
       "    <tr>\n",
       "      <th>std</th>\n",
       "      <td>127188.520092</td>\n",
       "      <td>241895.710783</td>\n",
       "      <td>21.116740</td>\n",
       "      <td>6.027714</td>\n",
       "      <td>NaN</td>\n",
       "      <td>NaN</td>\n",
       "    </tr>\n",
       "    <tr>\n",
       "      <th>min</th>\n",
       "      <td>4210.000000</td>\n",
       "      <td>217.000000</td>\n",
       "      <td>44.349369</td>\n",
       "      <td>8.000000</td>\n",
       "      <td>NaN</td>\n",
       "      <td>NaN</td>\n",
       "    </tr>\n",
       "    <tr>\n",
       "      <th>25%</th>\n",
       "      <td>6765.625000</td>\n",
       "      <td>269.125000</td>\n",
       "      <td>44.899829</td>\n",
       "      <td>10.250000</td>\n",
       "      <td>NaN</td>\n",
       "      <td>NaN</td>\n",
       "    </tr>\n",
       "    <tr>\n",
       "      <th>50%</th>\n",
       "      <td>13416.250000</td>\n",
       "      <td>13551.750000</td>\n",
       "      <td>45.521795</td>\n",
       "      <td>14.500000</td>\n",
       "      <td>NaN</td>\n",
       "      <td>NaN</td>\n",
       "    </tr>\n",
       "    <tr>\n",
       "      <th>75%</th>\n",
       "      <td>80511.250000</td>\n",
       "      <td>143175.125000</td>\n",
       "      <td>56.306188</td>\n",
       "      <td>18.750000</td>\n",
       "      <td>NaN</td>\n",
       "      <td>NaN</td>\n",
       "    </tr>\n",
       "    <tr>\n",
       "      <th>max</th>\n",
       "      <td>264400.000000</td>\n",
       "      <td>492249.500000</td>\n",
       "      <td>87.343926</td>\n",
       "      <td>21.000000</td>\n",
       "      <td>NaN</td>\n",
       "      <td>NaN</td>\n",
       "    </tr>\n",
       "  </tbody>\n",
       "</table>\n",
       "</div>"
      ],
      "text/plain": [
       "        TotalSalesValue       Quantity  SellingPriceMargin_CP   ReportID  \\\n",
       "count          4.000000       4.000000               4.000000   4.000000   \n",
       "unique              NaN            NaN                    NaN        NaN   \n",
       "top                 NaN            NaN                    NaN        NaN   \n",
       "freq                NaN            NaN                    NaN        NaN   \n",
       "mean       73860.625000  129892.500000              55.684221  14.500000   \n",
       "std       127188.520092  241895.710783              21.116740   6.027714   \n",
       "min         4210.000000     217.000000              44.349369   8.000000   \n",
       "25%         6765.625000     269.125000              44.899829  10.250000   \n",
       "50%        13416.250000   13551.750000              45.521795  14.500000   \n",
       "75%        80511.250000  143175.125000              56.306188  18.750000   \n",
       "max       264400.000000  492249.500000              87.343926  21.000000   \n",
       "\n",
       "        label SalesPersonID  \n",
       "count     4.0             4  \n",
       "unique    1.0             4  \n",
       "top       1.0        C21659  \n",
       "freq      4.0             1  \n",
       "mean      NaN           NaN  \n",
       "std       NaN           NaN  \n",
       "min       NaN           NaN  \n",
       "25%       NaN           NaN  \n",
       "50%       NaN           NaN  \n",
       "75%       NaN           NaN  \n",
       "max       NaN           NaN  "
      ]
     },
     "execution_count": 128,
     "metadata": {},
     "output_type": "execute_result"
    }
   ],
   "source": [
    "d2[d2.label==1].describe(include=\"all\")"
   ]
  },
  {
   "cell_type": "code",
   "execution_count": null,
   "metadata": {},
   "outputs": [],
   "source": []
  },
  {
   "cell_type": "code",
   "execution_count": 129,
   "metadata": {},
   "outputs": [
    {
     "data": {
      "text/html": [
       "<div>\n",
       "<style scoped>\n",
       "    .dataframe tbody tr th:only-of-type {\n",
       "        vertical-align: middle;\n",
       "    }\n",
       "\n",
       "    .dataframe tbody tr th {\n",
       "        vertical-align: top;\n",
       "    }\n",
       "\n",
       "    .dataframe thead th {\n",
       "        text-align: right;\n",
       "    }\n",
       "</style>\n",
       "<table border=\"1\" class=\"dataframe\">\n",
       "  <thead>\n",
       "    <tr style=\"text-align: right;\">\n",
       "      <th></th>\n",
       "      <th>TotalSalesValue</th>\n",
       "      <th>Quantity</th>\n",
       "      <th>SellingPriceMargin_CP</th>\n",
       "      <th>ReportID</th>\n",
       "      <th>label</th>\n",
       "      <th>SalesPersonID</th>\n",
       "    </tr>\n",
       "  </thead>\n",
       "  <tbody>\n",
       "    <tr>\n",
       "      <th>count</th>\n",
       "      <td>12.000000</td>\n",
       "      <td>12.000000</td>\n",
       "      <td>12.000000</td>\n",
       "      <td>12.000000</td>\n",
       "      <td>12.0</td>\n",
       "      <td>12</td>\n",
       "    </tr>\n",
       "    <tr>\n",
       "      <th>unique</th>\n",
       "      <td>NaN</td>\n",
       "      <td>NaN</td>\n",
       "      <td>NaN</td>\n",
       "      <td>NaN</td>\n",
       "      <td>1.0</td>\n",
       "      <td>12</td>\n",
       "    </tr>\n",
       "    <tr>\n",
       "      <th>top</th>\n",
       "      <td>NaN</td>\n",
       "      <td>NaN</td>\n",
       "      <td>NaN</td>\n",
       "      <td>NaN</td>\n",
       "      <td>2.0</td>\n",
       "      <td>C22178</td>\n",
       "    </tr>\n",
       "    <tr>\n",
       "      <th>freq</th>\n",
       "      <td>NaN</td>\n",
       "      <td>NaN</td>\n",
       "      <td>NaN</td>\n",
       "      <td>NaN</td>\n",
       "      <td>12.0</td>\n",
       "      <td>1</td>\n",
       "    </tr>\n",
       "    <tr>\n",
       "      <th>mean</th>\n",
       "      <td>34140.416667</td>\n",
       "      <td>12480.625000</td>\n",
       "      <td>14.189453</td>\n",
       "      <td>20.166667</td>\n",
       "      <td>NaN</td>\n",
       "      <td>NaN</td>\n",
       "    </tr>\n",
       "    <tr>\n",
       "      <th>std</th>\n",
       "      <td>44108.901504</td>\n",
       "      <td>20223.205256</td>\n",
       "      <td>4.988150</td>\n",
       "      <td>16.353111</td>\n",
       "      <td>NaN</td>\n",
       "      <td>NaN</td>\n",
       "    </tr>\n",
       "    <tr>\n",
       "      <th>min</th>\n",
       "      <td>1675.000000</td>\n",
       "      <td>148.000000</td>\n",
       "      <td>8.329741</td>\n",
       "      <td>5.000000</td>\n",
       "      <td>NaN</td>\n",
       "      <td>NaN</td>\n",
       "    </tr>\n",
       "    <tr>\n",
       "      <th>25%</th>\n",
       "      <td>3533.750000</td>\n",
       "      <td>490.375000</td>\n",
       "      <td>11.140478</td>\n",
       "      <td>8.500000</td>\n",
       "      <td>NaN</td>\n",
       "      <td>NaN</td>\n",
       "    </tr>\n",
       "    <tr>\n",
       "      <th>50%</th>\n",
       "      <td>12666.250000</td>\n",
       "      <td>5850.750000</td>\n",
       "      <td>12.329318</td>\n",
       "      <td>15.000000</td>\n",
       "      <td>NaN</td>\n",
       "      <td>NaN</td>\n",
       "    </tr>\n",
       "    <tr>\n",
       "      <th>75%</th>\n",
       "      <td>43638.125000</td>\n",
       "      <td>12703.500000</td>\n",
       "      <td>16.295548</td>\n",
       "      <td>23.500000</td>\n",
       "      <td>NaN</td>\n",
       "      <td>NaN</td>\n",
       "    </tr>\n",
       "    <tr>\n",
       "      <th>max</th>\n",
       "      <td>136240.000000</td>\n",
       "      <td>70950.000000</td>\n",
       "      <td>23.400621</td>\n",
       "      <td>53.000000</td>\n",
       "      <td>NaN</td>\n",
       "      <td>NaN</td>\n",
       "    </tr>\n",
       "  </tbody>\n",
       "</table>\n",
       "</div>"
      ],
      "text/plain": [
       "        TotalSalesValue      Quantity  SellingPriceMargin_CP   ReportID  \\\n",
       "count         12.000000     12.000000              12.000000  12.000000   \n",
       "unique              NaN           NaN                    NaN        NaN   \n",
       "top                 NaN           NaN                    NaN        NaN   \n",
       "freq                NaN           NaN                    NaN        NaN   \n",
       "mean       34140.416667  12480.625000              14.189453  20.166667   \n",
       "std        44108.901504  20223.205256               4.988150  16.353111   \n",
       "min         1675.000000    148.000000               8.329741   5.000000   \n",
       "25%         3533.750000    490.375000              11.140478   8.500000   \n",
       "50%        12666.250000   5850.750000              12.329318  15.000000   \n",
       "75%        43638.125000  12703.500000              16.295548  23.500000   \n",
       "max       136240.000000  70950.000000              23.400621  53.000000   \n",
       "\n",
       "        label SalesPersonID  \n",
       "count    12.0            12  \n",
       "unique    1.0            12  \n",
       "top       2.0        C22178  \n",
       "freq     12.0             1  \n",
       "mean      NaN           NaN  \n",
       "std       NaN           NaN  \n",
       "min       NaN           NaN  \n",
       "25%       NaN           NaN  \n",
       "50%       NaN           NaN  \n",
       "75%       NaN           NaN  \n",
       "max       NaN           NaN  "
      ]
     },
     "execution_count": 129,
     "metadata": {},
     "output_type": "execute_result"
    }
   ],
   "source": [
    "d2[d2.label==2].describe(include=\"all\")"
   ]
  },
  {
   "cell_type": "markdown",
   "metadata": {},
   "source": [
    "#### if we observe here the difference in clusters are their SellingPriceMargin will he is low , medium and very high respectively \n",
    "- We could conclude that the ones with High SellingPriceMargin to be High Risk Salesperson "
   ]
  },
  {
   "cell_type": "code",
   "execution_count": null,
   "metadata": {},
   "outputs": [],
   "source": []
  },
  {
   "cell_type": "code",
   "execution_count": null,
   "metadata": {},
   "outputs": [],
   "source": []
  },
  {
   "cell_type": "markdown",
   "metadata": {},
   "source": [
    "## Functions to use pipeline in Pandas"
   ]
  },
  {
   "cell_type": "code",
   "execution_count": 130,
   "metadata": {},
   "outputs": [],
   "source": [
    "def feature_eng(dataframe):\n",
    "    dataframe['SellingPrice']=dataframe.TotalSalesValue/dataframe.Quantity\n",
    "    d_10=dataframe.groupby([\"SalesPersonID\",\"ProductID\"]).agg({\"Quantity\":np.sum,\"TotalSalesValue\":np.sum},axis=0)\n",
    "    d_10['ASP_CP']=d_10.TotalSalesValue/d_10.Quantity\n",
    "    dcheck=d_10.reset_index()\n",
    "    dataframe=pd.merge(dataframe,dcheck[['SalesPersonID','ProductID','ASP_CP']],\n",
    "              left_on=['SalesPersonID','ProductID'],\n",
    "              right_on=['SalesPersonID','ProductID'],how='inner')\n",
    "    d_11=dataframe.groupby([\"SalesPersonID\",\"ProductID\"]).agg({\"Quantity\":np.median,\"TotalSalesValue\":np.median},axis=0)\n",
    "    d_11=d_11.reset_index()\n",
    "    d_11=d_11.rename(index=str,columns={\"Quantity\":\"MedianQuantity\",'TotalSalesValue':\"MedianTotalSales\"})\n",
    "    # join operation performed on main data\n",
    "    dataframe=pd.merge(dataframe,d_11[['SalesPersonID','ProductID','MedianQuantity','MedianTotalSales']],\n",
    "              left_on=['SalesPersonID','ProductID'],\n",
    "              right_on=['SalesPersonID','ProductID'],how='inner')\n",
    "    return dataframe"
   ]
  },
  {
   "cell_type": "code",
   "execution_count": 131,
   "metadata": {},
   "outputs": [],
   "source": [
    "def Ratios(data4):\n",
    "    data4['QuantityMargin']=data4.Quantity/data4.MedianQuantity\n",
    "    data4['TotalSalesMargin']=data4.TotalSalesValue/data4.MedianTotalSales\n",
    "    data4['SellingPriceDiff']=data4.ASP_CP-data4.SellingPrice\n",
    "    data4['SellingPriceMargin_CP']=data4.SellingPrice/data4.ASP_CP\n",
    "    data4['QuantityDiff']=data4.MedianQuantity-data4.Quantity\n",
    "    return data4"
   ]
  },
  {
   "cell_type": "code",
   "execution_count": 132,
   "metadata": {},
   "outputs": [],
   "source": [
    "def selection(dataset):\n",
    "    ReportID=dataset.ReportID\n",
    "    dataset.drop([\"ProductID\",\"SalesPersonID\",\"ReportID\"],axis=1,inplace=True)\n",
    "    dataset1=dataset[[\"SellingPriceMargin_CP\",\"SellingPrice\",\"SellingPriceDiff\",\"TotalSalesValue\"]]\n",
    "    return dataset1,ReportID"
   ]
  },
  {
   "cell_type": "code",
   "execution_count": null,
   "metadata": {},
   "outputs": [],
   "source": []
  },
  {
   "cell_type": "code",
   "execution_count": null,
   "metadata": {},
   "outputs": [],
   "source": []
  },
  {
   "cell_type": "markdown",
   "metadata": {},
   "source": [
    "## Prediction for test Data SCT "
   ]
  },
  {
   "cell_type": "code",
   "execution_count": 133,
   "metadata": {},
   "outputs": [],
   "source": [
    "tdata=pd.read_excel(\"../data/Test.xlsx\")"
   ]
  },
  {
   "cell_type": "code",
   "execution_count": 134,
   "metadata": {},
   "outputs": [
    {
     "data": {
      "text/html": [
       "<div>\n",
       "<style scoped>\n",
       "    .dataframe tbody tr th:only-of-type {\n",
       "        vertical-align: middle;\n",
       "    }\n",
       "\n",
       "    .dataframe tbody tr th {\n",
       "        vertical-align: top;\n",
       "    }\n",
       "\n",
       "    .dataframe thead th {\n",
       "        text-align: right;\n",
       "    }\n",
       "</style>\n",
       "<table border=\"1\" class=\"dataframe\">\n",
       "  <thead>\n",
       "    <tr style=\"text-align: right;\">\n",
       "      <th></th>\n",
       "      <th>ReportID</th>\n",
       "      <th>SalesPersonID</th>\n",
       "      <th>ProductID</th>\n",
       "      <th>Quantity</th>\n",
       "      <th>TotalSalesValue</th>\n",
       "    </tr>\n",
       "  </thead>\n",
       "  <tbody>\n",
       "    <tr>\n",
       "      <th>0</th>\n",
       "      <td>Rep70101</td>\n",
       "      <td>C21844</td>\n",
       "      <td>PR6483</td>\n",
       "      <td>102</td>\n",
       "      <td>1115</td>\n",
       "    </tr>\n",
       "    <tr>\n",
       "      <th>1</th>\n",
       "      <td>Rep70102</td>\n",
       "      <td>C21844</td>\n",
       "      <td>PR6251</td>\n",
       "      <td>102</td>\n",
       "      <td>1050</td>\n",
       "    </tr>\n",
       "    <tr>\n",
       "      <th>2</th>\n",
       "      <td>Rep70103</td>\n",
       "      <td>C21844</td>\n",
       "      <td>PR6253</td>\n",
       "      <td>344</td>\n",
       "      <td>3490</td>\n",
       "    </tr>\n",
       "    <tr>\n",
       "      <th>3</th>\n",
       "      <td>Rep70104</td>\n",
       "      <td>C21844</td>\n",
       "      <td>PR6378</td>\n",
       "      <td>108</td>\n",
       "      <td>1095</td>\n",
       "    </tr>\n",
       "    <tr>\n",
       "      <th>4</th>\n",
       "      <td>Rep70105</td>\n",
       "      <td>C21844</td>\n",
       "      <td>PR6463</td>\n",
       "      <td>146</td>\n",
       "      <td>1055</td>\n",
       "    </tr>\n",
       "  </tbody>\n",
       "</table>\n",
       "</div>"
      ],
      "text/plain": [
       "   ReportID SalesPersonID ProductID  Quantity  TotalSalesValue\n",
       "0  Rep70101        C21844    PR6483       102             1115\n",
       "1  Rep70102        C21844    PR6251       102             1050\n",
       "2  Rep70103        C21844    PR6253       344             3490\n",
       "3  Rep70104        C21844    PR6378       108             1095\n",
       "4  Rep70105        C21844    PR6463       146             1055"
      ]
     },
     "execution_count": 134,
     "metadata": {},
     "output_type": "execute_result"
    }
   ],
   "source": [
    "tdata.head()"
   ]
  },
  {
   "cell_type": "code",
   "execution_count": 135,
   "metadata": {},
   "outputs": [
    {
     "data": {
      "text/plain": [
       "(9135, 5)"
      ]
     },
     "execution_count": 135,
     "metadata": {},
     "output_type": "execute_result"
    }
   ],
   "source": [
    "tdata.shape"
   ]
  },
  {
   "cell_type": "code",
   "execution_count": 136,
   "metadata": {},
   "outputs": [],
   "source": [
    "# defining a pipeline of functions \n",
    "tfinal,ReportID=(tdata.pipe(func=feature_eng).pipe(func=Ratios).pipe(func=selection))"
   ]
  },
  {
   "cell_type": "code",
   "execution_count": 137,
   "metadata": {},
   "outputs": [
    {
     "data": {
      "text/html": [
       "<div>\n",
       "<style scoped>\n",
       "    .dataframe tbody tr th:only-of-type {\n",
       "        vertical-align: middle;\n",
       "    }\n",
       "\n",
       "    .dataframe tbody tr th {\n",
       "        vertical-align: top;\n",
       "    }\n",
       "\n",
       "    .dataframe thead th {\n",
       "        text-align: right;\n",
       "    }\n",
       "</style>\n",
       "<table border=\"1\" class=\"dataframe\">\n",
       "  <thead>\n",
       "    <tr style=\"text-align: right;\">\n",
       "      <th></th>\n",
       "      <th>SellingPriceMargin_CP</th>\n",
       "      <th>SellingPrice</th>\n",
       "      <th>SellingPriceDiff</th>\n",
       "      <th>TotalSalesValue</th>\n",
       "    </tr>\n",
       "  </thead>\n",
       "  <tbody>\n",
       "    <tr>\n",
       "      <th>0</th>\n",
       "      <td>1.0</td>\n",
       "      <td>10.931373</td>\n",
       "      <td>0.0</td>\n",
       "      <td>1115</td>\n",
       "    </tr>\n",
       "    <tr>\n",
       "      <th>1</th>\n",
       "      <td>1.0</td>\n",
       "      <td>10.931373</td>\n",
       "      <td>0.0</td>\n",
       "      <td>1115</td>\n",
       "    </tr>\n",
       "    <tr>\n",
       "      <th>2</th>\n",
       "      <td>1.0</td>\n",
       "      <td>10.931373</td>\n",
       "      <td>0.0</td>\n",
       "      <td>1115</td>\n",
       "    </tr>\n",
       "    <tr>\n",
       "      <th>3</th>\n",
       "      <td>1.0</td>\n",
       "      <td>10.931373</td>\n",
       "      <td>0.0</td>\n",
       "      <td>1115</td>\n",
       "    </tr>\n",
       "    <tr>\n",
       "      <th>4</th>\n",
       "      <td>1.0</td>\n",
       "      <td>10.294118</td>\n",
       "      <td>0.0</td>\n",
       "      <td>1050</td>\n",
       "    </tr>\n",
       "  </tbody>\n",
       "</table>\n",
       "</div>"
      ],
      "text/plain": [
       "   SellingPriceMargin_CP  SellingPrice  SellingPriceDiff  TotalSalesValue\n",
       "0                    1.0     10.931373               0.0             1115\n",
       "1                    1.0     10.931373               0.0             1115\n",
       "2                    1.0     10.931373               0.0             1115\n",
       "3                    1.0     10.931373               0.0             1115\n",
       "4                    1.0     10.294118               0.0             1050"
      ]
     },
     "execution_count": 137,
     "metadata": {},
     "output_type": "execute_result"
    }
   ],
   "source": [
    "tfinal.head()"
   ]
  },
  {
   "cell_type": "markdown",
   "metadata": {},
   "source": [
    "- Predicting from best model on the test data"
   ]
  },
  {
   "cell_type": "code",
   "execution_count": 138,
   "metadata": {},
   "outputs": [],
   "source": [
    "test_pred = clf_RF.predict(tfinal)"
   ]
  },
  {
   "cell_type": "code",
   "execution_count": 139,
   "metadata": {},
   "outputs": [],
   "source": [
    "dataT1={'ReportID':ReportID,'Suspicious':test_pred}\n",
    "d1f=pd.DataFrame(dataT1)"
   ]
  },
  {
   "cell_type": "code",
   "execution_count": 140,
   "metadata": {},
   "outputs": [
    {
     "data": {
      "text/plain": [
       "3    5529\n",
       "2    3486\n",
       "1     120\n",
       "Name: Suspicious, dtype: int64"
      ]
     },
     "execution_count": 140,
     "metadata": {},
     "output_type": "execute_result"
    }
   ],
   "source": [
    "d1f.Suspicious.value_counts()"
   ]
  },
  {
   "cell_type": "code",
   "execution_count": 141,
   "metadata": {},
   "outputs": [],
   "source": [
    "#d1f.to_csv(\"Submission_RF_NN_1Auto.csv\",index=False)"
   ]
  },
  {
   "cell_type": "markdown",
   "metadata": {},
   "source": [
    "## loading model using pickle and predicting "
   ]
  },
  {
   "cell_type": "raw",
   "metadata": {},
   "source": [
    "from sklearn import model_selection\n",
    "import pickle"
   ]
  },
  {
   "cell_type": "raw",
   "metadata": {},
   "source": [
    "loaded_model=pickle.load(open(\"RandomForest90.sav\",\"rb\"))"
   ]
  },
  {
   "cell_type": "raw",
   "metadata": {},
   "source": [
    "test_pred1 = loaded_model.predict(tfinal)\n",
    "dataT1={'ReportID':tdata3['ReportID'],'Suspicious':test_pred1}\n",
    "d1f=pd.DataFrame(dataT1)"
   ]
  },
  {
   "cell_type": "code",
   "execution_count": null,
   "metadata": {},
   "outputs": [],
   "source": []
  },
  {
   "cell_type": "markdown",
   "metadata": {},
   "source": [
    "## Adding non Linear features for test Data"
   ]
  },
  {
   "cell_type": "code",
   "execution_count": 142,
   "metadata": {},
   "outputs": [
    {
     "data": {
      "text/html": [
       "<div>\n",
       "<style scoped>\n",
       "    .dataframe tbody tr th:only-of-type {\n",
       "        vertical-align: middle;\n",
       "    }\n",
       "\n",
       "    .dataframe tbody tr th {\n",
       "        vertical-align: top;\n",
       "    }\n",
       "\n",
       "    .dataframe thead th {\n",
       "        text-align: right;\n",
       "    }\n",
       "</style>\n",
       "<table border=\"1\" class=\"dataframe\">\n",
       "  <thead>\n",
       "    <tr style=\"text-align: right;\">\n",
       "      <th></th>\n",
       "      <th>SellingPriceMargin_CP</th>\n",
       "      <th>SellingPrice</th>\n",
       "      <th>SellingPriceDiff</th>\n",
       "      <th>TotalSalesValue</th>\n",
       "    </tr>\n",
       "  </thead>\n",
       "  <tbody>\n",
       "    <tr>\n",
       "      <th>count</th>\n",
       "      <td>9135.000000</td>\n",
       "      <td>9135.000000</td>\n",
       "      <td>9135.000000</td>\n",
       "      <td>9.135000e+03</td>\n",
       "    </tr>\n",
       "    <tr>\n",
       "      <th>mean</th>\n",
       "      <td>1.610482</td>\n",
       "      <td>14.322076</td>\n",
       "      <td>-0.162717</td>\n",
       "      <td>1.154211e+04</td>\n",
       "    </tr>\n",
       "    <tr>\n",
       "      <th>std</th>\n",
       "      <td>8.919273</td>\n",
       "      <td>23.025443</td>\n",
       "      <td>20.268518</td>\n",
       "      <td>3.671294e+04</td>\n",
       "    </tr>\n",
       "    <tr>\n",
       "      <th>min</th>\n",
       "      <td>0.060848</td>\n",
       "      <td>0.006659</td>\n",
       "      <td>-1035.817189</td>\n",
       "      <td>9.350000e+02</td>\n",
       "    </tr>\n",
       "    <tr>\n",
       "      <th>25%</th>\n",
       "      <td>0.900752</td>\n",
       "      <td>7.903282</td>\n",
       "      <td>-0.968012</td>\n",
       "      <td>1.205000e+03</td>\n",
       "    </tr>\n",
       "    <tr>\n",
       "      <th>50%</th>\n",
       "      <td>1.000000</td>\n",
       "      <td>10.643087</td>\n",
       "      <td>0.000000</td>\n",
       "      <td>2.235000e+03</td>\n",
       "    </tr>\n",
       "    <tr>\n",
       "      <th>75%</th>\n",
       "      <td>1.102152</td>\n",
       "      <td>14.750187</td>\n",
       "      <td>0.943065</td>\n",
       "      <td>7.817500e+03</td>\n",
       "    </tr>\n",
       "    <tr>\n",
       "      <th>max</th>\n",
       "      <td>231.406671</td>\n",
       "      <td>1190.875706</td>\n",
       "      <td>145.623489</td>\n",
       "      <td>1.298690e+06</td>\n",
       "    </tr>\n",
       "  </tbody>\n",
       "</table>\n",
       "</div>"
      ],
      "text/plain": [
       "       SellingPriceMargin_CP  SellingPrice  SellingPriceDiff  TotalSalesValue\n",
       "count            9135.000000   9135.000000       9135.000000     9.135000e+03\n",
       "mean                1.610482     14.322076         -0.162717     1.154211e+04\n",
       "std                 8.919273     23.025443         20.268518     3.671294e+04\n",
       "min                 0.060848      0.006659      -1035.817189     9.350000e+02\n",
       "25%                 0.900752      7.903282         -0.968012     1.205000e+03\n",
       "50%                 1.000000     10.643087          0.000000     2.235000e+03\n",
       "75%                 1.102152     14.750187          0.943065     7.817500e+03\n",
       "max               231.406671   1190.875706        145.623489     1.298690e+06"
      ]
     },
     "execution_count": 142,
     "metadata": {},
     "output_type": "execute_result"
    }
   ],
   "source": [
    "tfinal.describe()"
   ]
  },
  {
   "cell_type": "code",
   "execution_count": 143,
   "metadata": {},
   "outputs": [],
   "source": [
    "t_final=tfinal.copy()"
   ]
  },
  {
   "cell_type": "code",
   "execution_count": 144,
   "metadata": {},
   "outputs": [
    {
     "name": "stdout",
     "output_type": "stream",
     "text": [
      "Index(['SellingPriceMargin_CP', 'SellingPrice', 'SellingPriceDiff',\n",
      "       'TotalSalesValue'],\n",
      "      dtype='object')\n"
     ]
    }
   ],
   "source": [
    "num_atr=t_final.select_dtypes(['int64','float64']).columns\n",
    "print(num_atr)\n",
    "\n",
    "#scaler = StandardScaler() ## object intitation\n",
    "#scaler.fit(t_final[num_atr])\n",
    "\n",
    "t_final[num_atr]=scaler.transform(t_final[num_atr])"
   ]
  },
  {
   "cell_type": "code",
   "execution_count": 145,
   "metadata": {},
   "outputs": [
    {
     "name": "stdout",
     "output_type": "stream",
     "text": [
      "Model: \"model_1\"\n",
      "_________________________________________________________________\n",
      "Layer (type)                 Output Shape              Param #   \n",
      "=================================================================\n",
      "input_1 (InputLayer)         [(None, 4)]               0         \n",
      "_________________________________________________________________\n",
      "dense (Dense)                (None, 1)                 5         \n",
      "=================================================================\n",
      "Total params: 5\n",
      "Trainable params: 5\n",
      "Non-trainable params: 0\n",
      "_________________________________________________________________\n",
      "None\n"
     ]
    }
   ],
   "source": [
    "print(encoder.summary())\n",
    "\n",
    "#### derive new non-linear features\n",
    "\n",
    "t_final_nonLinear_features = encoder.predict(t_final)\n",
    "\n",
    "#### Combining new non-linear features to Test\n",
    "\n",
    "t_final_np=np.concatenate((t_final, t_final_nonLinear_features), axis=1)"
   ]
  },
  {
   "cell_type": "code",
   "execution_count": null,
   "metadata": {},
   "outputs": [],
   "source": []
  },
  {
   "cell_type": "code",
   "execution_count": null,
   "metadata": {},
   "outputs": [],
   "source": []
  },
  {
   "cell_type": "markdown",
   "metadata": {},
   "source": [
    "## FINAL MODEL\n",
    "#### The model using non linear features yielded same 90% in SCT and therefore OCCAM razor , a simpler model is chosen as no improvement in results \n",
    "### RandomForest without non linear features"
   ]
  },
  {
   "cell_type": "markdown",
   "metadata": {},
   "source": [
    "# Conclusion \n",
    "- Succesfully built a ML model to predict Supicious Reports with a recall of 83% on Yes and an accuracy of 70% on all classes\n",
    "- The model achieved a recall of 90% in SCT for unseen data\n",
    "- Segemented salesperson into 3 clusters using k means clustering algorithm \n",
    "- The business could collect more attributes to improve the performance of the model \n",
    "- The business could impose a maximum Quantity and minimum price at which to be sold for a product , a bare minimum would atleast throw out highly faults reports \n"
   ]
  },
  {
   "cell_type": "code",
   "execution_count": null,
   "metadata": {},
   "outputs": [],
   "source": []
  },
  {
   "cell_type": "code",
   "execution_count": null,
   "metadata": {},
   "outputs": [],
   "source": []
  }
 ],
 "metadata": {
  "kernelspec": {
   "display_name": "Python 3",
   "language": "python",
   "name": "python3"
  },
  "language_info": {
   "codemirror_mode": {
    "name": "ipython",
    "version": 3
   },
   "file_extension": ".py",
   "mimetype": "text/x-python",
   "name": "python",
   "nbconvert_exporter": "python",
   "pygments_lexer": "ipython3",
   "version": "3.6.10"
  }
 },
 "nbformat": 4,
 "nbformat_minor": 1
}
