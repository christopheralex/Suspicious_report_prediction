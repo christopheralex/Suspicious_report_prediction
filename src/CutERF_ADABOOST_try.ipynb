{
 "cells": [
  {
   "cell_type": "code",
   "execution_count": 2,
   "metadata": {},
   "outputs": [],
   "source": [
    "import os\n",
    "import pandas as pd\n",
    "from xgboost import XGBClassifier\n",
    "from sklearn.ensemble import GradientBoostingClassifier\n",
    "from sklearn.ensemble import AdaBoostClassifier\n",
    "from sklearn.tree import DecisionTreeClassifier, export_graphviz,DecisionTreeRegressor\n",
    "from imblearn.over_sampling import SMOTE\n",
    "from sklearn.metrics import accuracy_score\n",
    "from sklearn.metrics import recall_score\n",
    "from sklearn.metrics import precision_score\n",
    "from sklearn.metrics import f1_score\n",
    "\n",
    "path = os.getcwd()\n",
    "os.chdir(path)"
   ]
  },
  {
   "cell_type": "code",
   "execution_count": 3,
   "metadata": {},
   "outputs": [],
   "source": [
    "import warnings\n",
    "warnings.filterwarnings('ignore')"
   ]
  },
  {
   "cell_type": "code",
   "execution_count": 4,
   "metadata": {},
   "outputs": [],
   "source": [
    "rdata=pd.read_csv(\"train.csv\")"
   ]
  },
  {
   "cell_type": "code",
   "execution_count": 5,
   "metadata": {},
   "outputs": [
    {
     "data": {
      "text/plain": [
       "(31283, 66)"
      ]
     },
     "execution_count": 5,
     "metadata": {},
     "output_type": "execute_result"
    }
   ],
   "source": [
    "rdata.shape"
   ]
  },
  {
   "cell_type": "code",
   "execution_count": 6,
   "metadata": {},
   "outputs": [
    {
     "name": "stdout",
     "output_type": "stream",
     "text": [
      "The columns in the data set are : \n",
      " ['ID', 'Attr1', 'Attr2', 'Attr3', 'Attr4', 'Attr5', 'Attr6', 'Attr7', 'Attr8', 'Attr9', 'Attr10', 'Attr11', 'Attr12', 'Attr13', 'Attr14', 'Attr15', 'Attr16', 'Attr17', 'Attr18', 'Attr19', 'Attr20', 'Attr21', 'Attr22', 'Attr23', 'Attr24', 'Attr25', 'Attr26', 'Attr27', 'Attr28', 'Attr29', 'Attr30', 'Attr31', 'Attr32', 'Attr33', 'Attr34', 'Attr35', 'Attr36', 'Attr37', 'Attr38', 'Attr39', 'Attr40', 'Attr41', 'Attr42', 'Attr43', 'Attr44', 'Attr45', 'Attr46', 'Attr47', 'Attr48', 'Attr49', 'Attr50', 'Attr51', 'Attr52', 'Attr53', 'Attr54', 'Attr55', 'Attr56', 'Attr57', 'Attr58', 'Attr59', 'Attr60', 'Attr61', 'Attr62', 'Attr63', 'Attr64', 'target']\n"
     ]
    }
   ],
   "source": [
    "print(\"The columns in the data set are : \\n\",list(rdata.columns))"
   ]
  },
  {
   "cell_type": "code",
   "execution_count": 7,
   "metadata": {},
   "outputs": [
    {
     "name": "stdout",
     "output_type": "stream",
     "text": [
      "The data types of the columns are :\n",
      "  ID          int64\n",
      "Attr1     float64\n",
      "Attr2     float64\n",
      "Attr3     float64\n",
      "Attr4     float64\n",
      "Attr5     float64\n",
      "Attr6     float64\n",
      "Attr7     float64\n",
      "Attr8     float64\n",
      "Attr9     float64\n",
      "Attr10    float64\n",
      "Attr11    float64\n",
      "Attr12    float64\n",
      "Attr13    float64\n",
      "Attr14    float64\n",
      "Attr15    float64\n",
      "Attr16    float64\n",
      "Attr17    float64\n",
      "Attr18    float64\n",
      "Attr19    float64\n",
      "Attr20    float64\n",
      "Attr21    float64\n",
      "Attr22    float64\n",
      "Attr23    float64\n",
      "Attr24    float64\n",
      "Attr25    float64\n",
      "Attr26    float64\n",
      "Attr27    float64\n",
      "Attr28    float64\n",
      "Attr29    float64\n",
      "           ...   \n",
      "Attr36    float64\n",
      "Attr37    float64\n",
      "Attr38    float64\n",
      "Attr39    float64\n",
      "Attr40    float64\n",
      "Attr41    float64\n",
      "Attr42    float64\n",
      "Attr43    float64\n",
      "Attr44    float64\n",
      "Attr45    float64\n",
      "Attr46    float64\n",
      "Attr47    float64\n",
      "Attr48    float64\n",
      "Attr49    float64\n",
      "Attr50    float64\n",
      "Attr51    float64\n",
      "Attr52    float64\n",
      "Attr53    float64\n",
      "Attr54    float64\n",
      "Attr55    float64\n",
      "Attr56    float64\n",
      "Attr57    float64\n",
      "Attr58    float64\n",
      "Attr59    float64\n",
      "Attr60    float64\n",
      "Attr61    float64\n",
      "Attr62    float64\n",
      "Attr63    float64\n",
      "Attr64    float64\n",
      "target      int64\n",
      "Length: 66, dtype: object\n"
     ]
    }
   ],
   "source": [
    "print(\"The data types of the columns are :\\n \",rdata.dtypes)"
   ]
  },
  {
   "cell_type": "code",
   "execution_count": 8,
   "metadata": {},
   "outputs": [
    {
     "data": {
      "text/html": [
       "<div>\n",
       "<style scoped>\n",
       "    .dataframe tbody tr th:only-of-type {\n",
       "        vertical-align: middle;\n",
       "    }\n",
       "\n",
       "    .dataframe tbody tr th {\n",
       "        vertical-align: top;\n",
       "    }\n",
       "\n",
       "    .dataframe thead th {\n",
       "        text-align: right;\n",
       "    }\n",
       "</style>\n",
       "<table border=\"1\" class=\"dataframe\">\n",
       "  <thead>\n",
       "    <tr style=\"text-align: right;\">\n",
       "      <th></th>\n",
       "      <th>ID</th>\n",
       "      <th>Attr1</th>\n",
       "      <th>Attr2</th>\n",
       "      <th>Attr3</th>\n",
       "      <th>Attr4</th>\n",
       "      <th>Attr5</th>\n",
       "      <th>Attr6</th>\n",
       "      <th>Attr7</th>\n",
       "      <th>Attr8</th>\n",
       "      <th>Attr9</th>\n",
       "      <th>...</th>\n",
       "      <th>Attr56</th>\n",
       "      <th>Attr57</th>\n",
       "      <th>Attr58</th>\n",
       "      <th>Attr59</th>\n",
       "      <th>Attr60</th>\n",
       "      <th>Attr61</th>\n",
       "      <th>Attr62</th>\n",
       "      <th>Attr63</th>\n",
       "      <th>Attr64</th>\n",
       "      <th>target</th>\n",
       "    </tr>\n",
       "  </thead>\n",
       "  <tbody>\n",
       "    <tr>\n",
       "      <th>0</th>\n",
       "      <td>1</td>\n",
       "      <td>0.135370</td>\n",
       "      <td>0.451850</td>\n",
       "      <td>0.311620</td>\n",
       "      <td>2.0469</td>\n",
       "      <td>10.23400</td>\n",
       "      <td>0.167680</td>\n",
       "      <td>0.167630</td>\n",
       "      <td>1.21310</td>\n",
       "      <td>2.25540</td>\n",
       "      <td>...</td>\n",
       "      <td>0.078728</td>\n",
       "      <td>0.246950</td>\n",
       "      <td>0.92586</td>\n",
       "      <td>0.18362</td>\n",
       "      <td>9.0895</td>\n",
       "      <td>8.8342</td>\n",
       "      <td>48.1720</td>\n",
       "      <td>7.5770</td>\n",
       "      <td>5.7725</td>\n",
       "      <td>0</td>\n",
       "    </tr>\n",
       "    <tr>\n",
       "      <th>1</th>\n",
       "      <td>2</td>\n",
       "      <td>0.005861</td>\n",
       "      <td>0.398580</td>\n",
       "      <td>0.197680</td>\n",
       "      <td>1.9390</td>\n",
       "      <td>9.57710</td>\n",
       "      <td>0.000000</td>\n",
       "      <td>0.007237</td>\n",
       "      <td>1.50890</td>\n",
       "      <td>0.97880</td>\n",
       "      <td>...</td>\n",
       "      <td>0.269720</td>\n",
       "      <td>0.000000</td>\n",
       "      <td>0.79303</td>\n",
       "      <td>0.31271</td>\n",
       "      <td>6.2213</td>\n",
       "      <td>4.2785</td>\n",
       "      <td>78.4990</td>\n",
       "      <td>4.6497</td>\n",
       "      <td>1.6539</td>\n",
       "      <td>0</td>\n",
       "    </tr>\n",
       "    <tr>\n",
       "      <th>2</th>\n",
       "      <td>3</td>\n",
       "      <td>0.110600</td>\n",
       "      <td>0.161170</td>\n",
       "      <td>0.478940</td>\n",
       "      <td>7.5711</td>\n",
       "      <td>263.90000</td>\n",
       "      <td>0.000000</td>\n",
       "      <td>0.138360</td>\n",
       "      <td>5.20450</td>\n",
       "      <td>0.68447</td>\n",
       "      <td>...</td>\n",
       "      <td>0.159870</td>\n",
       "      <td>0.131850</td>\n",
       "      <td>0.80748</td>\n",
       "      <td>0.10234</td>\n",
       "      <td>9.4499</td>\n",
       "      <td>3.3443</td>\n",
       "      <td>38.8670</td>\n",
       "      <td>9.3910</td>\n",
       "      <td>1.5272</td>\n",
       "      <td>0</td>\n",
       "    </tr>\n",
       "    <tr>\n",
       "      <th>3</th>\n",
       "      <td>4</td>\n",
       "      <td>0.063911</td>\n",
       "      <td>1.407300</td>\n",
       "      <td>-0.295950</td>\n",
       "      <td>0.5291</td>\n",
       "      <td>-46.28700</td>\n",
       "      <td>-0.714200</td>\n",
       "      <td>0.079071</td>\n",
       "      <td>-0.33076</td>\n",
       "      <td>0.98490</td>\n",
       "      <td>...</td>\n",
       "      <td>-0.015327</td>\n",
       "      <td>-0.137300</td>\n",
       "      <td>1.01530</td>\n",
       "      <td>-1.67320</td>\n",
       "      <td>29.2710</td>\n",
       "      <td>14.1410</td>\n",
       "      <td>73.4580</td>\n",
       "      <td>4.9688</td>\n",
       "      <td>4.6785</td>\n",
       "      <td>0</td>\n",
       "    </tr>\n",
       "    <tr>\n",
       "      <th>4</th>\n",
       "      <td>5</td>\n",
       "      <td>0.131680</td>\n",
       "      <td>0.660310</td>\n",
       "      <td>0.441210</td>\n",
       "      <td>2.7098</td>\n",
       "      <td>-23.59600</td>\n",
       "      <td>-0.200070</td>\n",
       "      <td>0.131910</td>\n",
       "      <td>0.51445</td>\n",
       "      <td>2.13570</td>\n",
       "      <td>...</td>\n",
       "      <td>0.110170</td>\n",
       "      <td>0.387640</td>\n",
       "      <td>0.93881</td>\n",
       "      <td>1.18420</td>\n",
       "      <td>4.5462</td>\n",
       "      <td>15.1400</td>\n",
       "      <td>44.1010</td>\n",
       "      <td>8.2764</td>\n",
       "      <td>7.1014</td>\n",
       "      <td>0</td>\n",
       "    </tr>\n",
       "    <tr>\n",
       "      <th>5</th>\n",
       "      <td>6</td>\n",
       "      <td>0.254110</td>\n",
       "      <td>0.022149</td>\n",
       "      <td>0.696940</td>\n",
       "      <td>33.2270</td>\n",
       "      <td>86.64000</td>\n",
       "      <td>0.000000</td>\n",
       "      <td>0.254110</td>\n",
       "      <td>44.14900</td>\n",
       "      <td>1.97160</td>\n",
       "      <td>...</td>\n",
       "      <td>0.122750</td>\n",
       "      <td>0.259860</td>\n",
       "      <td>0.87268</td>\n",
       "      <td>0.00000</td>\n",
       "      <td>6.8375</td>\n",
       "      <td>5.3717</td>\n",
       "      <td>4.0034</td>\n",
       "      <td>91.1710</td>\n",
       "      <td>7.0057</td>\n",
       "      <td>0</td>\n",
       "    </tr>\n",
       "    <tr>\n",
       "      <th>6</th>\n",
       "      <td>7</td>\n",
       "      <td>0.325890</td>\n",
       "      <td>0.072556</td>\n",
       "      <td>0.577620</td>\n",
       "      <td>9.0403</td>\n",
       "      <td>96.82400</td>\n",
       "      <td>0.000000</td>\n",
       "      <td>0.403660</td>\n",
       "      <td>12.78300</td>\n",
       "      <td>1.49160</td>\n",
       "      <td>...</td>\n",
       "      <td>0.264550</td>\n",
       "      <td>0.351380</td>\n",
       "      <td>0.73129</td>\n",
       "      <td>0.00000</td>\n",
       "      <td>45.3300</td>\n",
       "      <td>9.6805</td>\n",
       "      <td>17.5800</td>\n",
       "      <td>20.7620</td>\n",
       "      <td>4.2551</td>\n",
       "      <td>0</td>\n",
       "    </tr>\n",
       "    <tr>\n",
       "      <th>7</th>\n",
       "      <td>8</td>\n",
       "      <td>0.001252</td>\n",
       "      <td>0.587030</td>\n",
       "      <td>-0.047195</td>\n",
       "      <td>0.9196</td>\n",
       "      <td>-124.00000</td>\n",
       "      <td>-0.068816</td>\n",
       "      <td>0.001252</td>\n",
       "      <td>0.70348</td>\n",
       "      <td>2.04740</td>\n",
       "      <td>...</td>\n",
       "      <td>0.551420</td>\n",
       "      <td>0.003031</td>\n",
       "      <td>0.46775</td>\n",
       "      <td>0.00000</td>\n",
       "      <td>7.9752</td>\n",
       "      <td>7.3650</td>\n",
       "      <td>104.6500</td>\n",
       "      <td>3.4877</td>\n",
       "      <td>4.4493</td>\n",
       "      <td>0</td>\n",
       "    </tr>\n",
       "    <tr>\n",
       "      <th>8</th>\n",
       "      <td>9</td>\n",
       "      <td>-0.015104</td>\n",
       "      <td>0.236210</td>\n",
       "      <td>0.593250</td>\n",
       "      <td>3.9253</td>\n",
       "      <td>37.80600</td>\n",
       "      <td>0.000000</td>\n",
       "      <td>-0.015104</td>\n",
       "      <td>3.23360</td>\n",
       "      <td>1.21440</td>\n",
       "      <td>...</td>\n",
       "      <td>-0.098839</td>\n",
       "      <td>-0.019775</td>\n",
       "      <td>1.01130</td>\n",
       "      <td>0.00000</td>\n",
       "      <td>2.6705</td>\n",
       "      <td>13.2400</td>\n",
       "      <td>60.9530</td>\n",
       "      <td>5.9883</td>\n",
       "      <td>5.9544</td>\n",
       "      <td>0</td>\n",
       "    </tr>\n",
       "    <tr>\n",
       "      <th>9</th>\n",
       "      <td>10</td>\n",
       "      <td>0.147420</td>\n",
       "      <td>0.367020</td>\n",
       "      <td>0.286830</td>\n",
       "      <td>2.3412</td>\n",
       "      <td>-0.80799</td>\n",
       "      <td>0.147420</td>\n",
       "      <td>0.182010</td>\n",
       "      <td>1.72460</td>\n",
       "      <td>1.10830</td>\n",
       "      <td>...</td>\n",
       "      <td>0.097722</td>\n",
       "      <td>0.232900</td>\n",
       "      <td>0.90228</td>\n",
       "      <td>0.24198</td>\n",
       "      <td>7.1806</td>\n",
       "      <td>10.5760</td>\n",
       "      <td>37.3550</td>\n",
       "      <td>9.7712</td>\n",
       "      <td>4.1849</td>\n",
       "      <td>0</td>\n",
       "    </tr>\n",
       "  </tbody>\n",
       "</table>\n",
       "<p>10 rows × 66 columns</p>\n",
       "</div>"
      ],
      "text/plain": [
       "   ID     Attr1     Attr2     Attr3    Attr4      Attr5     Attr6     Attr7  \\\n",
       "0   1  0.135370  0.451850  0.311620   2.0469   10.23400  0.167680  0.167630   \n",
       "1   2  0.005861  0.398580  0.197680   1.9390    9.57710  0.000000  0.007237   \n",
       "2   3  0.110600  0.161170  0.478940   7.5711  263.90000  0.000000  0.138360   \n",
       "3   4  0.063911  1.407300 -0.295950   0.5291  -46.28700 -0.714200  0.079071   \n",
       "4   5  0.131680  0.660310  0.441210   2.7098  -23.59600 -0.200070  0.131910   \n",
       "5   6  0.254110  0.022149  0.696940  33.2270   86.64000  0.000000  0.254110   \n",
       "6   7  0.325890  0.072556  0.577620   9.0403   96.82400  0.000000  0.403660   \n",
       "7   8  0.001252  0.587030 -0.047195   0.9196 -124.00000 -0.068816  0.001252   \n",
       "8   9 -0.015104  0.236210  0.593250   3.9253   37.80600  0.000000 -0.015104   \n",
       "9  10  0.147420  0.367020  0.286830   2.3412   -0.80799  0.147420  0.182010   \n",
       "\n",
       "      Attr8    Attr9   ...      Attr56    Attr57   Attr58   Attr59   Attr60  \\\n",
       "0   1.21310  2.25540   ...    0.078728  0.246950  0.92586  0.18362   9.0895   \n",
       "1   1.50890  0.97880   ...    0.269720  0.000000  0.79303  0.31271   6.2213   \n",
       "2   5.20450  0.68447   ...    0.159870  0.131850  0.80748  0.10234   9.4499   \n",
       "3  -0.33076  0.98490   ...   -0.015327 -0.137300  1.01530 -1.67320  29.2710   \n",
       "4   0.51445  2.13570   ...    0.110170  0.387640  0.93881  1.18420   4.5462   \n",
       "5  44.14900  1.97160   ...    0.122750  0.259860  0.87268  0.00000   6.8375   \n",
       "6  12.78300  1.49160   ...    0.264550  0.351380  0.73129  0.00000  45.3300   \n",
       "7   0.70348  2.04740   ...    0.551420  0.003031  0.46775  0.00000   7.9752   \n",
       "8   3.23360  1.21440   ...   -0.098839 -0.019775  1.01130  0.00000   2.6705   \n",
       "9   1.72460  1.10830   ...    0.097722  0.232900  0.90228  0.24198   7.1806   \n",
       "\n",
       "    Attr61    Attr62   Attr63  Attr64  target  \n",
       "0   8.8342   48.1720   7.5770  5.7725       0  \n",
       "1   4.2785   78.4990   4.6497  1.6539       0  \n",
       "2   3.3443   38.8670   9.3910  1.5272       0  \n",
       "3  14.1410   73.4580   4.9688  4.6785       0  \n",
       "4  15.1400   44.1010   8.2764  7.1014       0  \n",
       "5   5.3717    4.0034  91.1710  7.0057       0  \n",
       "6   9.6805   17.5800  20.7620  4.2551       0  \n",
       "7   7.3650  104.6500   3.4877  4.4493       0  \n",
       "8  13.2400   60.9530   5.9883  5.9544       0  \n",
       "9  10.5760   37.3550   9.7712  4.1849       0  \n",
       "\n",
       "[10 rows x 66 columns]"
      ]
     },
     "execution_count": 8,
     "metadata": {},
     "output_type": "execute_result"
    }
   ],
   "source": [
    "rdata.head(10)"
   ]
  },
  {
   "cell_type": "code",
   "execution_count": 9,
   "metadata": {},
   "outputs": [
    {
     "data": {
      "text/html": [
       "<div>\n",
       "<style scoped>\n",
       "    .dataframe tbody tr th:only-of-type {\n",
       "        vertical-align: middle;\n",
       "    }\n",
       "\n",
       "    .dataframe tbody tr th {\n",
       "        vertical-align: top;\n",
       "    }\n",
       "\n",
       "    .dataframe thead th {\n",
       "        text-align: right;\n",
       "    }\n",
       "</style>\n",
       "<table border=\"1\" class=\"dataframe\">\n",
       "  <thead>\n",
       "    <tr style=\"text-align: right;\">\n",
       "      <th></th>\n",
       "      <th>ID</th>\n",
       "      <th>Attr1</th>\n",
       "      <th>Attr2</th>\n",
       "      <th>Attr3</th>\n",
       "      <th>Attr4</th>\n",
       "      <th>Attr5</th>\n",
       "      <th>Attr6</th>\n",
       "      <th>Attr7</th>\n",
       "      <th>Attr8</th>\n",
       "      <th>Attr9</th>\n",
       "      <th>...</th>\n",
       "      <th>Attr56</th>\n",
       "      <th>Attr57</th>\n",
       "      <th>Attr58</th>\n",
       "      <th>Attr59</th>\n",
       "      <th>Attr60</th>\n",
       "      <th>Attr61</th>\n",
       "      <th>Attr62</th>\n",
       "      <th>Attr63</th>\n",
       "      <th>Attr64</th>\n",
       "      <th>target</th>\n",
       "    </tr>\n",
       "  </thead>\n",
       "  <tbody>\n",
       "    <tr>\n",
       "      <th>count</th>\n",
       "      <td>31283.000000</td>\n",
       "      <td>31276.000000</td>\n",
       "      <td>31276.000000</td>\n",
       "      <td>31276.000000</td>\n",
       "      <td>31181.000000</td>\n",
       "      <td>3.122000e+04</td>\n",
       "      <td>31276.000000</td>\n",
       "      <td>31276.000000</td>\n",
       "      <td>31210.000000</td>\n",
       "      <td>31279.000000</td>\n",
       "      <td>...</td>\n",
       "      <td>3.118200e+04</td>\n",
       "      <td>31277.000000</td>\n",
       "      <td>3.121500e+04</td>\n",
       "      <td>31277.000000</td>\n",
       "      <td>2.971300e+04</td>\n",
       "      <td>31210.000000</td>\n",
       "      <td>3.118200e+04</td>\n",
       "      <td>31181.000000</td>\n",
       "      <td>30682.000000</td>\n",
       "      <td>31283.000000</td>\n",
       "    </tr>\n",
       "    <tr>\n",
       "      <th>mean</th>\n",
       "      <td>15642.000000</td>\n",
       "      <td>0.051612</td>\n",
       "      <td>0.551159</td>\n",
       "      <td>0.151249</td>\n",
       "      <td>7.321993</td>\n",
       "      <td>-1.706215e+02</td>\n",
       "      <td>-0.011735</td>\n",
       "      <td>0.120577</td>\n",
       "      <td>14.379693</td>\n",
       "      <td>2.783840</td>\n",
       "      <td>...</td>\n",
       "      <td>-3.637422e+01</td>\n",
       "      <td>-0.007774</td>\n",
       "      <td>4.067219e+01</td>\n",
       "      <td>1.677983</td>\n",
       "      <td>5.462892e+02</td>\n",
       "      <td>15.227988</td>\n",
       "      <td>1.640595e+03</td>\n",
       "      <td>9.656775</td>\n",
       "      <td>81.529420</td>\n",
       "      <td>0.048301</td>\n",
       "    </tr>\n",
       "    <tr>\n",
       "      <th>std</th>\n",
       "      <td>9030.768572</td>\n",
       "      <td>1.748230</td>\n",
       "      <td>4.510523</td>\n",
       "      <td>3.754494</td>\n",
       "      <td>347.736044</td>\n",
       "      <td>2.392279e+04</td>\n",
       "      <td>5.489446</td>\n",
       "      <td>6.045041</td>\n",
       "      <td>562.011982</td>\n",
       "      <td>69.973455</td>\n",
       "      <td>...</td>\n",
       "      <td>6.276744e+03</td>\n",
       "      <td>13.989982</td>\n",
       "      <td>6.283661e+03</td>\n",
       "      <td>143.470467</td>\n",
       "      <td>3.792399e+04</td>\n",
       "      <td>219.335078</td>\n",
       "      <td>1.515043e+05</td>\n",
       "      <td>142.374215</td>\n",
       "      <td>2726.762529</td>\n",
       "      <td>0.214405</td>\n",
       "    </tr>\n",
       "    <tr>\n",
       "      <th>min</th>\n",
       "      <td>1.000000</td>\n",
       "      <td>-256.890000</td>\n",
       "      <td>-430.870000</td>\n",
       "      <td>-479.730000</td>\n",
       "      <td>-0.045319</td>\n",
       "      <td>-2.722100e+06</td>\n",
       "      <td>-508.120000</td>\n",
       "      <td>-517.480000</td>\n",
       "      <td>-15.236000</td>\n",
       "      <td>-3.496000</td>\n",
       "      <td>...</td>\n",
       "      <td>-1.108300e+06</td>\n",
       "      <td>-1667.300000</td>\n",
       "      <td>-1.986900e+02</td>\n",
       "      <td>-327.970000</td>\n",
       "      <td>-1.244000e+01</td>\n",
       "      <td>-6.590300</td>\n",
       "      <td>-1.496500e+04</td>\n",
       "      <td>-0.367890</td>\n",
       "      <td>-3.726500</td>\n",
       "      <td>0.000000</td>\n",
       "    </tr>\n",
       "    <tr>\n",
       "      <th>25%</th>\n",
       "      <td>7821.500000</td>\n",
       "      <td>0.003360</td>\n",
       "      <td>0.269397</td>\n",
       "      <td>0.022146</td>\n",
       "      <td>1.051000</td>\n",
       "      <td>-4.845300e+01</td>\n",
       "      <td>0.000000</td>\n",
       "      <td>0.005758</td>\n",
       "      <td>0.428970</td>\n",
       "      <td>1.018100</td>\n",
       "      <td>...</td>\n",
       "      <td>8.919150e-03</td>\n",
       "      <td>0.014690</td>\n",
       "      <td>8.751350e-01</td>\n",
       "      <td>0.000000</td>\n",
       "      <td>5.533000e+00</td>\n",
       "      <td>4.523400</td>\n",
       "      <td>4.205425e+01</td>\n",
       "      <td>3.099200</td>\n",
       "      <td>2.180375</td>\n",
       "      <td>0.000000</td>\n",
       "    </tr>\n",
       "    <tr>\n",
       "      <th>50%</th>\n",
       "      <td>15642.000000</td>\n",
       "      <td>0.049686</td>\n",
       "      <td>0.472685</td>\n",
       "      <td>0.196770</td>\n",
       "      <td>1.571000</td>\n",
       "      <td>-7.813950e-01</td>\n",
       "      <td>0.000000</td>\n",
       "      <td>0.059707</td>\n",
       "      <td>1.068650</td>\n",
       "      <td>1.196700</td>\n",
       "      <td>...</td>\n",
       "      <td>5.306150e-02</td>\n",
       "      <td>0.120460</td>\n",
       "      <td>9.507600e-01</td>\n",
       "      <td>0.005453</td>\n",
       "      <td>9.763000e+00</td>\n",
       "      <td>6.652750</td>\n",
       "      <td>7.120750e+01</td>\n",
       "      <td>5.090700</td>\n",
       "      <td>4.289950</td>\n",
       "      <td>0.000000</td>\n",
       "    </tr>\n",
       "    <tr>\n",
       "      <th>75%</th>\n",
       "      <td>23462.500000</td>\n",
       "      <td>0.130523</td>\n",
       "      <td>0.689240</td>\n",
       "      <td>0.403983</td>\n",
       "      <td>2.797800</td>\n",
       "      <td>5.076850e+01</td>\n",
       "      <td>0.087633</td>\n",
       "      <td>0.151895</td>\n",
       "      <td>2.606850</td>\n",
       "      <td>2.060550</td>\n",
       "      <td>...</td>\n",
       "      <td>1.294750e-01</td>\n",
       "      <td>0.286740</td>\n",
       "      <td>9.927900e-01</td>\n",
       "      <td>0.234840</td>\n",
       "      <td>2.014500e+01</td>\n",
       "      <td>10.417750</td>\n",
       "      <td>1.170400e+02</td>\n",
       "      <td>8.618600</td>\n",
       "      <td>9.788950</td>\n",
       "      <td>0.000000</td>\n",
       "    </tr>\n",
       "    <tr>\n",
       "      <th>max</th>\n",
       "      <td>31283.000000</td>\n",
       "      <td>94.280000</td>\n",
       "      <td>480.730000</td>\n",
       "      <td>28.336000</td>\n",
       "      <td>53433.000000</td>\n",
       "      <td>1.034100e+06</td>\n",
       "      <td>543.250000</td>\n",
       "      <td>649.230000</td>\n",
       "      <td>53432.000000</td>\n",
       "      <td>9742.300000</td>\n",
       "      <td>...</td>\n",
       "      <td>1.120200e+02</td>\n",
       "      <td>552.640000</td>\n",
       "      <td>1.108300e+06</td>\n",
       "      <td>23853.000000</td>\n",
       "      <td>4.818700e+06</td>\n",
       "      <td>26862.000000</td>\n",
       "      <td>2.501600e+07</td>\n",
       "      <td>23454.000000</td>\n",
       "      <td>294770.000000</td>\n",
       "      <td>1.000000</td>\n",
       "    </tr>\n",
       "  </tbody>\n",
       "</table>\n",
       "<p>8 rows × 66 columns</p>\n",
       "</div>"
      ],
      "text/plain": [
       "                 ID         Attr1         Attr2         Attr3         Attr4  \\\n",
       "count  31283.000000  31276.000000  31276.000000  31276.000000  31181.000000   \n",
       "mean   15642.000000      0.051612      0.551159      0.151249      7.321993   \n",
       "std     9030.768572      1.748230      4.510523      3.754494    347.736044   \n",
       "min        1.000000   -256.890000   -430.870000   -479.730000     -0.045319   \n",
       "25%     7821.500000      0.003360      0.269397      0.022146      1.051000   \n",
       "50%    15642.000000      0.049686      0.472685      0.196770      1.571000   \n",
       "75%    23462.500000      0.130523      0.689240      0.403983      2.797800   \n",
       "max    31283.000000     94.280000    480.730000     28.336000  53433.000000   \n",
       "\n",
       "              Attr5         Attr6         Attr7         Attr8         Attr9  \\\n",
       "count  3.122000e+04  31276.000000  31276.000000  31210.000000  31279.000000   \n",
       "mean  -1.706215e+02     -0.011735      0.120577     14.379693      2.783840   \n",
       "std    2.392279e+04      5.489446      6.045041    562.011982     69.973455   \n",
       "min   -2.722100e+06   -508.120000   -517.480000    -15.236000     -3.496000   \n",
       "25%   -4.845300e+01      0.000000      0.005758      0.428970      1.018100   \n",
       "50%   -7.813950e-01      0.000000      0.059707      1.068650      1.196700   \n",
       "75%    5.076850e+01      0.087633      0.151895      2.606850      2.060550   \n",
       "max    1.034100e+06    543.250000    649.230000  53432.000000   9742.300000   \n",
       "\n",
       "           ...             Attr56        Attr57        Attr58        Attr59  \\\n",
       "count      ...       3.118200e+04  31277.000000  3.121500e+04  31277.000000   \n",
       "mean       ...      -3.637422e+01     -0.007774  4.067219e+01      1.677983   \n",
       "std        ...       6.276744e+03     13.989982  6.283661e+03    143.470467   \n",
       "min        ...      -1.108300e+06  -1667.300000 -1.986900e+02   -327.970000   \n",
       "25%        ...       8.919150e-03      0.014690  8.751350e-01      0.000000   \n",
       "50%        ...       5.306150e-02      0.120460  9.507600e-01      0.005453   \n",
       "75%        ...       1.294750e-01      0.286740  9.927900e-01      0.234840   \n",
       "max        ...       1.120200e+02    552.640000  1.108300e+06  23853.000000   \n",
       "\n",
       "             Attr60        Attr61        Attr62        Attr63         Attr64  \\\n",
       "count  2.971300e+04  31210.000000  3.118200e+04  31181.000000   30682.000000   \n",
       "mean   5.462892e+02     15.227988  1.640595e+03      9.656775      81.529420   \n",
       "std    3.792399e+04    219.335078  1.515043e+05    142.374215    2726.762529   \n",
       "min   -1.244000e+01     -6.590300 -1.496500e+04     -0.367890      -3.726500   \n",
       "25%    5.533000e+00      4.523400  4.205425e+01      3.099200       2.180375   \n",
       "50%    9.763000e+00      6.652750  7.120750e+01      5.090700       4.289950   \n",
       "75%    2.014500e+01     10.417750  1.170400e+02      8.618600       9.788950   \n",
       "max    4.818700e+06  26862.000000  2.501600e+07  23454.000000  294770.000000   \n",
       "\n",
       "             target  \n",
       "count  31283.000000  \n",
       "mean       0.048301  \n",
       "std        0.214405  \n",
       "min        0.000000  \n",
       "25%        0.000000  \n",
       "50%        0.000000  \n",
       "75%        0.000000  \n",
       "max        1.000000  \n",
       "\n",
       "[8 rows x 66 columns]"
      ]
     },
     "execution_count": 9,
     "metadata": {},
     "output_type": "execute_result"
    }
   ],
   "source": [
    "rdata.describe(include='all')"
   ]
  },
  {
   "cell_type": "code",
   "execution_count": 10,
   "metadata": {},
   "outputs": [],
   "source": [
    "rdata['target']=rdata['target'].astype('category')"
   ]
  },
  {
   "cell_type": "code",
   "execution_count": 11,
   "metadata": {},
   "outputs": [
    {
     "data": {
      "text/plain": [
       "0    0.951699\n",
       "1    0.048301\n",
       "Name: target, dtype: float64"
      ]
     },
     "execution_count": 11,
     "metadata": {},
     "output_type": "execute_result"
    }
   ],
   "source": [
    "rdata[\"target\"].value_counts()/rdata.shape[0] ## proportion of target "
   ]
  },
  {
   "cell_type": "code",
   "execution_count": 12,
   "metadata": {},
   "outputs": [],
   "source": [
    "rdata=rdata.drop([\"ID\"],axis=1)"
   ]
  },
  {
   "cell_type": "code",
   "execution_count": 13,
   "metadata": {},
   "outputs": [],
   "source": [
    "#rdata=rdata.drop([\"Attr37\"],axis=1)"
   ]
  },
  {
   "cell_type": "code",
   "execution_count": 14,
   "metadata": {},
   "outputs": [
    {
     "data": {
      "text/html": [
       "<div>\n",
       "<style scoped>\n",
       "    .dataframe tbody tr th:only-of-type {\n",
       "        vertical-align: middle;\n",
       "    }\n",
       "\n",
       "    .dataframe tbody tr th {\n",
       "        vertical-align: top;\n",
       "    }\n",
       "\n",
       "    .dataframe thead th {\n",
       "        text-align: right;\n",
       "    }\n",
       "</style>\n",
       "<table border=\"1\" class=\"dataframe\">\n",
       "  <thead>\n",
       "    <tr style=\"text-align: right;\">\n",
       "      <th></th>\n",
       "      <th>Attr1</th>\n",
       "      <th>Attr2</th>\n",
       "      <th>Attr3</th>\n",
       "      <th>Attr4</th>\n",
       "      <th>Attr5</th>\n",
       "      <th>Attr6</th>\n",
       "      <th>Attr7</th>\n",
       "      <th>Attr8</th>\n",
       "      <th>Attr9</th>\n",
       "      <th>Attr10</th>\n",
       "      <th>...</th>\n",
       "      <th>Attr56</th>\n",
       "      <th>Attr57</th>\n",
       "      <th>Attr58</th>\n",
       "      <th>Attr59</th>\n",
       "      <th>Attr60</th>\n",
       "      <th>Attr61</th>\n",
       "      <th>Attr62</th>\n",
       "      <th>Attr63</th>\n",
       "      <th>Attr64</th>\n",
       "      <th>target</th>\n",
       "    </tr>\n",
       "  </thead>\n",
       "  <tbody>\n",
       "    <tr>\n",
       "      <th>0</th>\n",
       "      <td>0.135370</td>\n",
       "      <td>0.45185</td>\n",
       "      <td>0.31162</td>\n",
       "      <td>2.0469</td>\n",
       "      <td>10.2340</td>\n",
       "      <td>0.16768</td>\n",
       "      <td>0.167630</td>\n",
       "      <td>1.2131</td>\n",
       "      <td>2.25540</td>\n",
       "      <td>0.54815</td>\n",
       "      <td>...</td>\n",
       "      <td>0.078728</td>\n",
       "      <td>0.24695</td>\n",
       "      <td>0.92586</td>\n",
       "      <td>0.18362</td>\n",
       "      <td>9.0895</td>\n",
       "      <td>8.8342</td>\n",
       "      <td>48.172</td>\n",
       "      <td>7.5770</td>\n",
       "      <td>5.7725</td>\n",
       "      <td>0</td>\n",
       "    </tr>\n",
       "    <tr>\n",
       "      <th>1</th>\n",
       "      <td>0.005861</td>\n",
       "      <td>0.39858</td>\n",
       "      <td>0.19768</td>\n",
       "      <td>1.9390</td>\n",
       "      <td>9.5771</td>\n",
       "      <td>0.00000</td>\n",
       "      <td>0.007237</td>\n",
       "      <td>1.5089</td>\n",
       "      <td>0.97880</td>\n",
       "      <td>0.60142</td>\n",
       "      <td>...</td>\n",
       "      <td>0.269720</td>\n",
       "      <td>0.00000</td>\n",
       "      <td>0.79303</td>\n",
       "      <td>0.31271</td>\n",
       "      <td>6.2213</td>\n",
       "      <td>4.2785</td>\n",
       "      <td>78.499</td>\n",
       "      <td>4.6497</td>\n",
       "      <td>1.6539</td>\n",
       "      <td>0</td>\n",
       "    </tr>\n",
       "    <tr>\n",
       "      <th>2</th>\n",
       "      <td>0.110600</td>\n",
       "      <td>0.16117</td>\n",
       "      <td>0.47894</td>\n",
       "      <td>7.5711</td>\n",
       "      <td>263.9000</td>\n",
       "      <td>0.00000</td>\n",
       "      <td>0.138360</td>\n",
       "      <td>5.2045</td>\n",
       "      <td>0.68447</td>\n",
       "      <td>0.83883</td>\n",
       "      <td>...</td>\n",
       "      <td>0.159870</td>\n",
       "      <td>0.13185</td>\n",
       "      <td>0.80748</td>\n",
       "      <td>0.10234</td>\n",
       "      <td>9.4499</td>\n",
       "      <td>3.3443</td>\n",
       "      <td>38.867</td>\n",
       "      <td>9.3910</td>\n",
       "      <td>1.5272</td>\n",
       "      <td>0</td>\n",
       "    </tr>\n",
       "  </tbody>\n",
       "</table>\n",
       "<p>3 rows × 65 columns</p>\n",
       "</div>"
      ],
      "text/plain": [
       "      Attr1    Attr2    Attr3   Attr4     Attr5    Attr6     Attr7   Attr8  \\\n",
       "0  0.135370  0.45185  0.31162  2.0469   10.2340  0.16768  0.167630  1.2131   \n",
       "1  0.005861  0.39858  0.19768  1.9390    9.5771  0.00000  0.007237  1.5089   \n",
       "2  0.110600  0.16117  0.47894  7.5711  263.9000  0.00000  0.138360  5.2045   \n",
       "\n",
       "     Attr9   Attr10   ...      Attr56   Attr57   Attr58   Attr59  Attr60  \\\n",
       "0  2.25540  0.54815   ...    0.078728  0.24695  0.92586  0.18362  9.0895   \n",
       "1  0.97880  0.60142   ...    0.269720  0.00000  0.79303  0.31271  6.2213   \n",
       "2  0.68447  0.83883   ...    0.159870  0.13185  0.80748  0.10234  9.4499   \n",
       "\n",
       "   Attr61  Attr62  Attr63  Attr64  target  \n",
       "0  8.8342  48.172  7.5770  5.7725       0  \n",
       "1  4.2785  78.499  4.6497  1.6539       0  \n",
       "2  3.3443  38.867  9.3910  1.5272       0  \n",
       "\n",
       "[3 rows x 65 columns]"
      ]
     },
     "execution_count": 14,
     "metadata": {},
     "output_type": "execute_result"
    }
   ],
   "source": [
    "rdata.head(3)"
   ]
  },
  {
   "cell_type": "code",
   "execution_count": 15,
   "metadata": {},
   "outputs": [
    {
     "data": {
      "text/plain": [
       "Attr1         7\n",
       "Attr2         7\n",
       "Attr3         7\n",
       "Attr4       102\n",
       "Attr5        63\n",
       "Attr6         7\n",
       "Attr7         7\n",
       "Attr8        73\n",
       "Attr9         4\n",
       "Attr10        7\n",
       "Attr11       32\n",
       "Attr12      102\n",
       "Attr13      101\n",
       "Attr14        7\n",
       "Attr15       25\n",
       "Attr16       74\n",
       "Attr17       73\n",
       "Attr18        7\n",
       "Attr19      102\n",
       "Attr20      101\n",
       "Attr21     4251\n",
       "Attr22        7\n",
       "Attr23      101\n",
       "Attr24      680\n",
       "Attr25        7\n",
       "Attr26       74\n",
       "Attr27     2004\n",
       "Attr28      601\n",
       "Attr29        7\n",
       "Attr30      101\n",
       "          ...  \n",
       "Attr36        7\n",
       "Attr37    13768\n",
       "Attr38        7\n",
       "Attr39      101\n",
       "Attr40      102\n",
       "Attr41      539\n",
       "Attr42      101\n",
       "Attr43      101\n",
       "Attr44      101\n",
       "Attr45     1566\n",
       "Attr46      102\n",
       "Attr47      207\n",
       "Attr48        8\n",
       "Attr49      101\n",
       "Attr50       73\n",
       "Attr51        7\n",
       "Attr52      212\n",
       "Attr53      601\n",
       "Attr54      601\n",
       "Attr55        0\n",
       "Attr56      101\n",
       "Attr57        6\n",
       "Attr58       68\n",
       "Attr59        6\n",
       "Attr60     1570\n",
       "Attr61       73\n",
       "Attr62      101\n",
       "Attr63      102\n",
       "Attr64      601\n",
       "target        0\n",
       "Length: 65, dtype: int64"
      ]
     },
     "execution_count": 15,
     "metadata": {},
     "output_type": "execute_result"
    }
   ],
   "source": [
    "rdata.isnull().sum()"
   ]
  },
  {
   "cell_type": "markdown",
   "metadata": {},
   "source": [
    "### Imputing missing values"
   ]
  },
  {
   "cell_type": "code",
   "execution_count": 16,
   "metadata": {},
   "outputs": [],
   "source": [
    "colnames=rdata.columns[rdata.isnull().sum()>0]"
   ]
  },
  {
   "cell_type": "code",
   "execution_count": 17,
   "metadata": {},
   "outputs": [
    {
     "data": {
      "text/plain": [
       "Index(['Attr1', 'Attr2', 'Attr3', 'Attr4', 'Attr5', 'Attr6', 'Attr7', 'Attr8',\n",
       "       'Attr9', 'Attr10', 'Attr11', 'Attr12', 'Attr13', 'Attr14', 'Attr15',\n",
       "       'Attr16', 'Attr17', 'Attr18', 'Attr19', 'Attr20', 'Attr21', 'Attr22',\n",
       "       'Attr23', 'Attr24', 'Attr25', 'Attr26', 'Attr27', 'Attr28', 'Attr29',\n",
       "       'Attr30', 'Attr31', 'Attr32', 'Attr33', 'Attr34', 'Attr35', 'Attr36',\n",
       "       'Attr37', 'Attr38', 'Attr39', 'Attr40', 'Attr41', 'Attr42', 'Attr43',\n",
       "       'Attr44', 'Attr45', 'Attr46', 'Attr47', 'Attr48', 'Attr49', 'Attr50',\n",
       "       'Attr51', 'Attr52', 'Attr53', 'Attr54', 'Attr56', 'Attr57', 'Attr58',\n",
       "       'Attr59', 'Attr60', 'Attr61', 'Attr62', 'Attr63', 'Attr64'],\n",
       "      dtype='object')"
      ]
     },
     "execution_count": 17,
     "metadata": {},
     "output_type": "execute_result"
    }
   ],
   "source": [
    "colnames"
   ]
  },
  {
   "cell_type": "code",
   "execution_count": 18,
   "metadata": {},
   "outputs": [],
   "source": [
    "for column in colnames:\n",
    "    rdata[column].fillna(rdata[column].median(), inplace=True)"
   ]
  },
  {
   "cell_type": "code",
   "execution_count": 19,
   "metadata": {},
   "outputs": [
    {
     "data": {
      "text/plain": [
       "0"
      ]
     },
     "execution_count": 19,
     "metadata": {},
     "output_type": "execute_result"
    }
   ],
   "source": [
    "sum(rdata.isnull().sum())"
   ]
  },
  {
   "cell_type": "code",
   "execution_count": 20,
   "metadata": {},
   "outputs": [
    {
     "data": {
      "text/plain": [
       "(31283, 65)"
      ]
     },
     "execution_count": 20,
     "metadata": {},
     "output_type": "execute_result"
    }
   ],
   "source": [
    "rdata.shape"
   ]
  },
  {
   "cell_type": "code",
   "execution_count": null,
   "metadata": {},
   "outputs": [],
   "source": []
  },
  {
   "cell_type": "code",
   "execution_count": 21,
   "metadata": {},
   "outputs": [],
   "source": [
    "from sklearn.model_selection import train_test_split"
   ]
  },
  {
   "cell_type": "code",
   "execution_count": 22,
   "metadata": {},
   "outputs": [],
   "source": [
    "y=rdata[\"target\"]\n",
    "X=rdata.drop('target', axis=1)\n",
    "X_train, X_test, y_train, y_test = train_test_split(X, y, test_size=0.20)  "
   ]
  },
  {
   "cell_type": "code",
   "execution_count": 23,
   "metadata": {},
   "outputs": [
    {
     "name": "stdout",
     "output_type": "stream",
     "text": [
      "(25026, 64)\n",
      "(6257, 64)\n",
      "(25026,)\n",
      "(6257,)\n"
     ]
    }
   ],
   "source": [
    "print(X_train.shape)\n",
    "print(X_test.shape)\n",
    "print(y_train.shape)\n",
    "print(y_test.shape)"
   ]
  },
  {
   "cell_type": "code",
   "execution_count": 24,
   "metadata": {},
   "outputs": [
    {
     "data": {
      "text/plain": [
       "0    23784\n",
       "1     1242\n",
       "Name: target, dtype: int64"
      ]
     },
     "execution_count": 24,
     "metadata": {},
     "output_type": "execute_result"
    }
   ],
   "source": [
    "y_train.value_counts()"
   ]
  },
  {
   "cell_type": "code",
   "execution_count": 25,
   "metadata": {},
   "outputs": [
    {
     "data": {
      "text/plain": [
       "0    5988\n",
       "1     269\n",
       "Name: target, dtype: int64"
      ]
     },
     "execution_count": 25,
     "metadata": {},
     "output_type": "execute_result"
    }
   ],
   "source": [
    "y_test.value_counts()"
   ]
  },
  {
   "cell_type": "code",
   "execution_count": 26,
   "metadata": {},
   "outputs": [
    {
     "data": {
      "text/html": [
       "<div>\n",
       "<style scoped>\n",
       "    .dataframe tbody tr th:only-of-type {\n",
       "        vertical-align: middle;\n",
       "    }\n",
       "\n",
       "    .dataframe tbody tr th {\n",
       "        vertical-align: top;\n",
       "    }\n",
       "\n",
       "    .dataframe thead th {\n",
       "        text-align: right;\n",
       "    }\n",
       "</style>\n",
       "<table border=\"1\" class=\"dataframe\">\n",
       "  <thead>\n",
       "    <tr style=\"text-align: right;\">\n",
       "      <th></th>\n",
       "      <th>Attr1</th>\n",
       "      <th>Attr2</th>\n",
       "      <th>Attr3</th>\n",
       "      <th>Attr4</th>\n",
       "      <th>Attr5</th>\n",
       "      <th>Attr6</th>\n",
       "      <th>Attr7</th>\n",
       "      <th>Attr8</th>\n",
       "      <th>Attr9</th>\n",
       "      <th>Attr10</th>\n",
       "      <th>...</th>\n",
       "      <th>Attr55</th>\n",
       "      <th>Attr56</th>\n",
       "      <th>Attr57</th>\n",
       "      <th>Attr58</th>\n",
       "      <th>Attr59</th>\n",
       "      <th>Attr60</th>\n",
       "      <th>Attr61</th>\n",
       "      <th>Attr62</th>\n",
       "      <th>Attr63</th>\n",
       "      <th>Attr64</th>\n",
       "    </tr>\n",
       "  </thead>\n",
       "  <tbody>\n",
       "    <tr>\n",
       "      <th>22571</th>\n",
       "      <td>-0.582230</td>\n",
       "      <td>1.981100</td>\n",
       "      <td>-1.24010</td>\n",
       "      <td>0.2807</td>\n",
       "      <td>-160.6800</td>\n",
       "      <td>-0.5104</td>\n",
       "      <td>-0.646500</td>\n",
       "      <td>-0.49523</td>\n",
       "      <td>1.76940</td>\n",
       "      <td>-0.98110</td>\n",
       "      <td>...</td>\n",
       "      <td>-656.00</td>\n",
       "      <td>-0.702990</td>\n",
       "      <td>0.593450</td>\n",
       "      <td>1.20330</td>\n",
       "      <td>0.00000</td>\n",
       "      <td>17.0180</td>\n",
       "      <td>4.68000</td>\n",
       "      <td>355.6400</td>\n",
       "      <td>1.0263</td>\n",
       "      <td>3.42860</td>\n",
       "    </tr>\n",
       "    <tr>\n",
       "      <th>22019</th>\n",
       "      <td>0.115550</td>\n",
       "      <td>0.590660</td>\n",
       "      <td>0.15446</td>\n",
       "      <td>1.4428</td>\n",
       "      <td>-21.1410</td>\n",
       "      <td>0.0000</td>\n",
       "      <td>0.115550</td>\n",
       "      <td>0.69302</td>\n",
       "      <td>1.91180</td>\n",
       "      <td>0.40934</td>\n",
       "      <td>...</td>\n",
       "      <td>838.84</td>\n",
       "      <td>0.225110</td>\n",
       "      <td>0.282290</td>\n",
       "      <td>0.92361</td>\n",
       "      <td>0.59081</td>\n",
       "      <td>7.7681</td>\n",
       "      <td>8.24750</td>\n",
       "      <td>66.5980</td>\n",
       "      <td>5.4807</td>\n",
       "      <td>3.84870</td>\n",
       "    </tr>\n",
       "    <tr>\n",
       "      <th>29223</th>\n",
       "      <td>0.070963</td>\n",
       "      <td>0.636830</td>\n",
       "      <td>0.34470</td>\n",
       "      <td>1.5413</td>\n",
       "      <td>-6.4779</td>\n",
       "      <td>0.0000</td>\n",
       "      <td>0.089320</td>\n",
       "      <td>0.57029</td>\n",
       "      <td>3.84890</td>\n",
       "      <td>0.36317</td>\n",
       "      <td>...</td>\n",
       "      <td>417.17</td>\n",
       "      <td>0.025420</td>\n",
       "      <td>0.195400</td>\n",
       "      <td>0.97689</td>\n",
       "      <td>0.00000</td>\n",
       "      <td>9.4882</td>\n",
       "      <td>7.77140</td>\n",
       "      <td>60.3910</td>\n",
       "      <td>6.0439</td>\n",
       "      <td>208.29000</td>\n",
       "    </tr>\n",
       "    <tr>\n",
       "      <th>15391</th>\n",
       "      <td>0.126200</td>\n",
       "      <td>0.109310</td>\n",
       "      <td>0.85953</td>\n",
       "      <td>24.8840</td>\n",
       "      <td>818.9200</td>\n",
       "      <td>0.0000</td>\n",
       "      <td>0.126200</td>\n",
       "      <td>8.14830</td>\n",
       "      <td>0.51703</td>\n",
       "      <td>0.89069</td>\n",
       "      <td>...</td>\n",
       "      <td>4760.30</td>\n",
       "      <td>0.269610</td>\n",
       "      <td>0.141690</td>\n",
       "      <td>0.73223</td>\n",
       "      <td>0.00000</td>\n",
       "      <td>9.7630</td>\n",
       "      <td>0.64346</td>\n",
       "      <td>25.4060</td>\n",
       "      <td>14.3670</td>\n",
       "      <td>4.94850</td>\n",
       "    </tr>\n",
       "    <tr>\n",
       "      <th>20013</th>\n",
       "      <td>0.019027</td>\n",
       "      <td>0.013474</td>\n",
       "      <td>0.31119</td>\n",
       "      <td>24.0950</td>\n",
       "      <td>334.2800</td>\n",
       "      <td>0.0000</td>\n",
       "      <td>0.019027</td>\n",
       "      <td>73.21700</td>\n",
       "      <td>0.56414</td>\n",
       "      <td>0.98653</td>\n",
       "      <td>...</td>\n",
       "      <td>606.55</td>\n",
       "      <td>0.035111</td>\n",
       "      <td>0.019287</td>\n",
       "      <td>0.96666</td>\n",
       "      <td>0.00000</td>\n",
       "      <td>18.5170</td>\n",
       "      <td>10.27200</td>\n",
       "      <td>8.7177</td>\n",
       "      <td>41.8690</td>\n",
       "      <td>0.83535</td>\n",
       "    </tr>\n",
       "  </tbody>\n",
       "</table>\n",
       "<p>5 rows × 64 columns</p>\n",
       "</div>"
      ],
      "text/plain": [
       "          Attr1     Attr2    Attr3    Attr4     Attr5   Attr6     Attr7  \\\n",
       "22571 -0.582230  1.981100 -1.24010   0.2807 -160.6800 -0.5104 -0.646500   \n",
       "22019  0.115550  0.590660  0.15446   1.4428  -21.1410  0.0000  0.115550   \n",
       "29223  0.070963  0.636830  0.34470   1.5413   -6.4779  0.0000  0.089320   \n",
       "15391  0.126200  0.109310  0.85953  24.8840  818.9200  0.0000  0.126200   \n",
       "20013  0.019027  0.013474  0.31119  24.0950  334.2800  0.0000  0.019027   \n",
       "\n",
       "          Attr8    Attr9   Attr10    ...       Attr55    Attr56    Attr57  \\\n",
       "22571  -0.49523  1.76940 -0.98110    ...      -656.00 -0.702990  0.593450   \n",
       "22019   0.69302  1.91180  0.40934    ...       838.84  0.225110  0.282290   \n",
       "29223   0.57029  3.84890  0.36317    ...       417.17  0.025420  0.195400   \n",
       "15391   8.14830  0.51703  0.89069    ...      4760.30  0.269610  0.141690   \n",
       "20013  73.21700  0.56414  0.98653    ...       606.55  0.035111  0.019287   \n",
       "\n",
       "        Attr58   Attr59   Attr60    Attr61    Attr62   Attr63     Attr64  \n",
       "22571  1.20330  0.00000  17.0180   4.68000  355.6400   1.0263    3.42860  \n",
       "22019  0.92361  0.59081   7.7681   8.24750   66.5980   5.4807    3.84870  \n",
       "29223  0.97689  0.00000   9.4882   7.77140   60.3910   6.0439  208.29000  \n",
       "15391  0.73223  0.00000   9.7630   0.64346   25.4060  14.3670    4.94850  \n",
       "20013  0.96666  0.00000  18.5170  10.27200    8.7177  41.8690    0.83535  \n",
       "\n",
       "[5 rows x 64 columns]"
      ]
     },
     "execution_count": 26,
     "metadata": {},
     "output_type": "execute_result"
    }
   ],
   "source": [
    "X_train.head()"
   ]
  },
  {
   "cell_type": "code",
   "execution_count": null,
   "metadata": {},
   "outputs": [],
   "source": []
  },
  {
   "cell_type": "code",
   "execution_count": 26,
   "metadata": {},
   "outputs": [],
   "source": [
    "from sklearn.preprocessing import StandardScaler"
   ]
  },
  {
   "cell_type": "code",
   "execution_count": 27,
   "metadata": {},
   "outputs": [
    {
     "data": {
      "text/plain": [
       "Index(['Attr1', 'Attr2', 'Attr3', 'Attr4', 'Attr5', 'Attr6', 'Attr7', 'Attr8',\n",
       "       'Attr9', 'Attr10', 'Attr11', 'Attr12', 'Attr13', 'Attr14', 'Attr15',\n",
       "       'Attr16', 'Attr17', 'Attr18', 'Attr19', 'Attr20', 'Attr21', 'Attr22',\n",
       "       'Attr23', 'Attr24', 'Attr25', 'Attr26', 'Attr27', 'Attr28', 'Attr29',\n",
       "       'Attr30', 'Attr31', 'Attr32', 'Attr33', 'Attr34', 'Attr35', 'Attr36',\n",
       "       'Attr37', 'Attr38', 'Attr39', 'Attr40', 'Attr41', 'Attr42', 'Attr43',\n",
       "       'Attr44', 'Attr45', 'Attr46', 'Attr47', 'Attr48', 'Attr49', 'Attr50',\n",
       "       'Attr51', 'Attr52', 'Attr53', 'Attr54', 'Attr55', 'Attr56', 'Attr57',\n",
       "       'Attr58', 'Attr59', 'Attr60', 'Attr61', 'Attr62', 'Attr63', 'Attr64'],\n",
       "      dtype='object')"
      ]
     },
     "execution_count": 27,
     "metadata": {},
     "output_type": "execute_result"
    }
   ],
   "source": [
    "num_atr=X_train.select_dtypes(['int64','float64']).columns\n",
    "num_atr"
   ]
  },
  {
   "cell_type": "code",
   "execution_count": 28,
   "metadata": {},
   "outputs": [
    {
     "data": {
      "text/plain": [
       "StandardScaler(copy=True, with_mean=True, with_std=True)"
      ]
     },
     "execution_count": 28,
     "metadata": {},
     "output_type": "execute_result"
    }
   ],
   "source": [
    "scaler = StandardScaler() ## object intitation\n",
    "scaler.fit(X_train[num_atr])"
   ]
  },
  {
   "cell_type": "code",
   "execution_count": 29,
   "metadata": {},
   "outputs": [
    {
     "data": {
      "text/plain": [
       "array([ 4.76618733e-02,  5.56321194e-01,  1.45490996e-01,  4.86769886e+00,\n",
       "       -2.39483697e+02, -1.81006235e-02,  7.26728393e-02,  8.83020462e+00,\n",
       "        2.22233446e+00,  6.01433840e-01,  1.19126766e-01,  1.03570182e+00,\n",
       "        1.19577489e+00,  7.26815337e-02,  2.63317595e+03,  1.39319801e+00,\n",
       "        1.00405895e+01,  7.71452773e-02,  3.98681645e-01,  3.77756109e+02,\n",
       "        4.59765771e+00,  1.04732811e-01,  3.81456482e-01,  2.36625652e-01,\n",
       "        3.89445678e-01,  1.28632488e+00,  1.11618895e+03,  5.46940370e+00,\n",
       "        3.99438256e+00,  8.58092515e+00,  4.21780458e-01,  1.20765417e+03,\n",
       "        8.14287716e+00,  5.04142411e+00,  1.10536184e-01,  2.46209664e+00,\n",
       "        6.15688548e+01,  7.01559761e-01, -3.84744168e-01,  2.36211091e+00,\n",
       "        1.24591097e+01, -9.37841756e-02,  1.51611974e+03,  1.13834365e+03,\n",
       "        1.53798593e+01,  3.99425428e+00,  3.59186801e+02,  2.03465298e-02,\n",
       "       -6.37983681e-01,  4.62434791e+00,  4.54748321e-01,  6.39170397e+00,\n",
       "        2.93236936e+01,  2.99179267e+01,  8.11769974e+03, -4.52770478e+01,\n",
       "        5.80975128e-02,  4.77192331e+01,  1.58441662e+00,  5.57652083e+02,\n",
       "        1.53758299e+01,  1.83911755e+03,  8.87040679e+00,  8.18684133e+01])"
      ]
     },
     "execution_count": 29,
     "metadata": {},
     "output_type": "execute_result"
    }
   ],
   "source": [
    "scaler.mean_"
   ]
  },
  {
   "cell_type": "code",
   "execution_count": 30,
   "metadata": {},
   "outputs": [],
   "source": [
    "X_train[num_atr]=scaler.transform(X_train[num_atr])\n",
    "X_test[num_atr]=scaler.transform(X_test[num_atr])"
   ]
  },
  {
   "cell_type": "code",
   "execution_count": 31,
   "metadata": {},
   "outputs": [
    {
     "name": "stdout",
     "output_type": "stream",
     "text": [
      "(25026, 64)\n",
      "(6257, 64)\n"
     ]
    }
   ],
   "source": [
    "print(X_train.shape)\n",
    "print(X_test.shape)"
   ]
  },
  {
   "cell_type": "code",
   "execution_count": 32,
   "metadata": {},
   "outputs": [
    {
     "data": {
      "text/html": [
       "<div>\n",
       "<style scoped>\n",
       "    .dataframe tbody tr th:only-of-type {\n",
       "        vertical-align: middle;\n",
       "    }\n",
       "\n",
       "    .dataframe tbody tr th {\n",
       "        vertical-align: top;\n",
       "    }\n",
       "\n",
       "    .dataframe thead th {\n",
       "        text-align: right;\n",
       "    }\n",
       "</style>\n",
       "<table border=\"1\" class=\"dataframe\">\n",
       "  <thead>\n",
       "    <tr style=\"text-align: right;\">\n",
       "      <th></th>\n",
       "      <th>Attr1</th>\n",
       "      <th>Attr2</th>\n",
       "      <th>Attr3</th>\n",
       "      <th>Attr4</th>\n",
       "      <th>Attr5</th>\n",
       "      <th>Attr6</th>\n",
       "      <th>Attr7</th>\n",
       "      <th>Attr8</th>\n",
       "      <th>Attr9</th>\n",
       "      <th>Attr10</th>\n",
       "      <th>...</th>\n",
       "      <th>Attr55</th>\n",
       "      <th>Attr56</th>\n",
       "      <th>Attr57</th>\n",
       "      <th>Attr58</th>\n",
       "      <th>Attr59</th>\n",
       "      <th>Attr60</th>\n",
       "      <th>Attr61</th>\n",
       "      <th>Attr62</th>\n",
       "      <th>Attr63</th>\n",
       "      <th>Attr64</th>\n",
       "    </tr>\n",
       "  </thead>\n",
       "  <tbody>\n",
       "    <tr>\n",
       "      <th>count</th>\n",
       "      <td>2.502600e+04</td>\n",
       "      <td>2.502600e+04</td>\n",
       "      <td>2.502600e+04</td>\n",
       "      <td>2.502600e+04</td>\n",
       "      <td>2.502600e+04</td>\n",
       "      <td>2.502600e+04</td>\n",
       "      <td>2.502600e+04</td>\n",
       "      <td>2.502600e+04</td>\n",
       "      <td>2.502600e+04</td>\n",
       "      <td>2.502600e+04</td>\n",
       "      <td>...</td>\n",
       "      <td>2.502600e+04</td>\n",
       "      <td>2.502600e+04</td>\n",
       "      <td>2.502600e+04</td>\n",
       "      <td>2.502600e+04</td>\n",
       "      <td>2.502600e+04</td>\n",
       "      <td>2.502600e+04</td>\n",
       "      <td>2.502600e+04</td>\n",
       "      <td>2.502600e+04</td>\n",
       "      <td>2.502600e+04</td>\n",
       "      <td>2.502600e+04</td>\n",
       "    </tr>\n",
       "    <tr>\n",
       "      <th>mean</th>\n",
       "      <td>-1.004041e-17</td>\n",
       "      <td>7.803968e-18</td>\n",
       "      <td>-1.604713e-17</td>\n",
       "      <td>-2.131308e-17</td>\n",
       "      <td>6.239307e-17</td>\n",
       "      <td>-3.416999e-16</td>\n",
       "      <td>8.621075e-18</td>\n",
       "      <td>3.508126e-18</td>\n",
       "      <td>5.219912e-17</td>\n",
       "      <td>9.309807e-18</td>\n",
       "      <td>...</td>\n",
       "      <td>-1.622125e-17</td>\n",
       "      <td>-8.703528e-18</td>\n",
       "      <td>1.641298e-17</td>\n",
       "      <td>-3.465877e-17</td>\n",
       "      <td>1.004066e-15</td>\n",
       "      <td>-5.419372e-17</td>\n",
       "      <td>3.446711e-18</td>\n",
       "      <td>1.560184e-18</td>\n",
       "      <td>3.967142e-18</td>\n",
       "      <td>-3.238150e-17</td>\n",
       "    </tr>\n",
       "    <tr>\n",
       "      <th>std</th>\n",
       "      <td>1.000020e+00</td>\n",
       "      <td>1.000020e+00</td>\n",
       "      <td>1.000020e+00</td>\n",
       "      <td>1.000020e+00</td>\n",
       "      <td>1.000020e+00</td>\n",
       "      <td>1.000020e+00</td>\n",
       "      <td>1.000020e+00</td>\n",
       "      <td>1.000020e+00</td>\n",
       "      <td>1.000020e+00</td>\n",
       "      <td>1.000020e+00</td>\n",
       "      <td>...</td>\n",
       "      <td>1.000020e+00</td>\n",
       "      <td>1.000020e+00</td>\n",
       "      <td>1.000020e+00</td>\n",
       "      <td>1.000020e+00</td>\n",
       "      <td>1.000020e+00</td>\n",
       "      <td>1.000020e+00</td>\n",
       "      <td>1.000020e+00</td>\n",
       "      <td>1.000020e+00</td>\n",
       "      <td>1.000020e+00</td>\n",
       "      <td>1.000020e+00</td>\n",
       "    </tr>\n",
       "    <tr>\n",
       "      <th>min</th>\n",
       "      <td>-1.387500e+02</td>\n",
       "      <td>-8.636714e+01</td>\n",
       "      <td>-1.149379e+02</td>\n",
       "      <td>-5.914134e-02</td>\n",
       "      <td>-1.088417e+02</td>\n",
       "      <td>-8.806321e+01</td>\n",
       "      <td>-1.219944e+02</td>\n",
       "      <td>-3.828476e-02</td>\n",
       "      <td>-1.767082e-01</td>\n",
       "      <td>-4.179472e+01</td>\n",
       "      <td>...</td>\n",
       "      <td>-2.313503e+01</td>\n",
       "      <td>-1.581824e+02</td>\n",
       "      <td>-9.477859e+01</td>\n",
       "      <td>-3.516409e-02</td>\n",
       "      <td>-2.160261e+00</td>\n",
       "      <td>-1.394228e-02</td>\n",
       "      <td>-9.509583e-02</td>\n",
       "      <td>-1.005826e-01</td>\n",
       "      <td>-1.637468e-01</td>\n",
       "      <td>-2.911629e-02</td>\n",
       "    </tr>\n",
       "    <tr>\n",
       "      <th>25%</th>\n",
       "      <td>-2.384031e-02</td>\n",
       "      <td>-5.722849e-02</td>\n",
       "      <td>-2.948311e-02</td>\n",
       "      <td>-4.593938e-02</td>\n",
       "      <td>7.680696e-03</td>\n",
       "      <td>3.137164e-03</td>\n",
       "      <td>-1.573718e-02</td>\n",
       "      <td>-2.947339e-02</td>\n",
       "      <td>-3.721022e-02</td>\n",
       "      <td>-2.672659e-02</td>\n",
       "      <td>...</td>\n",
       "      <td>-1.031767e-01</td>\n",
       "      <td>6.463745e-03</td>\n",
       "      <td>-4.123726e-03</td>\n",
       "      <td>-6.684958e-03</td>\n",
       "      <td>-1.038601e-02</td>\n",
       "      <td>-1.349748e-02</td>\n",
       "      <td>-4.697198e-02</td>\n",
       "      <td>-1.075708e-02</td>\n",
       "      <td>-1.061527e-01</td>\n",
       "      <td>-2.709345e-02</td>\n",
       "    </tr>\n",
       "    <tr>\n",
       "      <th>50%</th>\n",
       "      <td>1.206460e-03</td>\n",
       "      <td>-1.665803e-02</td>\n",
       "      <td>1.228215e-02</td>\n",
       "      <td>-3.968461e-02</td>\n",
       "      <td>9.553387e-03</td>\n",
       "      <td>3.137164e-03</td>\n",
       "      <td>-3.039140e-03</td>\n",
       "      <td>-2.723141e-02</td>\n",
       "      <td>-3.163549e-02</td>\n",
       "      <td>-8.381355e-03</td>\n",
       "      <td>...</td>\n",
       "      <td>-9.004560e-02</td>\n",
       "      <td>6.470014e-03</td>\n",
       "      <td>6.060678e-03</td>\n",
       "      <td>-6.674169e-03</td>\n",
       "      <td>-1.035111e-02</td>\n",
       "      <td>-1.339928e-02</td>\n",
       "      <td>-3.774753e-02</td>\n",
       "      <td>-1.058199e-02</td>\n",
       "      <td>-6.958170e-02</td>\n",
       "      <td>-2.638939e-02</td>\n",
       "    </tr>\n",
       "    <tr>\n",
       "      <th>75%</th>\n",
       "      <td>4.489983e-02</td>\n",
       "      <td>2.657896e-02</td>\n",
       "      <td>6.180629e-02</td>\n",
       "      <td>-2.501067e-02</td>\n",
       "      <td>1.159772e-02</td>\n",
       "      <td>1.805668e-02</td>\n",
       "      <td>1.874331e-02</td>\n",
       "      <td>-2.189735e-02</td>\n",
       "      <td>-4.686588e-03</td>\n",
       "      <td>9.257771e-03</td>\n",
       "      <td>...</td>\n",
       "      <td>-4.114967e-02</td>\n",
       "      <td>6.480935e-03</td>\n",
       "      <td>2.233008e-02</td>\n",
       "      <td>-6.668153e-03</td>\n",
       "      <td>-8.851064e-03</td>\n",
       "      <td>-1.316833e-02</td>\n",
       "      <td>-2.164311e-02</td>\n",
       "      <td>-1.030946e-02</td>\n",
       "      <td>-4.384296e-03</td>\n",
       "      <td>-2.456993e-02</td>\n",
       "    </tr>\n",
       "    <tr>\n",
       "      <th>max</th>\n",
       "      <td>4.720338e+01</td>\n",
       "      <td>9.612587e+01</td>\n",
       "      <td>6.752081e+00</td>\n",
       "      <td>9.863954e+01</td>\n",
       "      <td>3.963365e+01</td>\n",
       "      <td>9.415815e+01</td>\n",
       "      <td>5.808165e+01</td>\n",
       "      <td>9.250920e+01</td>\n",
       "      <td>1.197107e+02</td>\n",
       "      <td>8.465846e+01</td>\n",
       "      <td>...</td>\n",
       "      <td>7.802505e+01</td>\n",
       "      <td>2.245117e-02</td>\n",
       "      <td>5.347953e+01</td>\n",
       "      <td>1.581543e+02</td>\n",
       "      <td>1.563484e+02</td>\n",
       "      <td>1.178334e+02</td>\n",
       "      <td>1.162245e+02</td>\n",
       "      <td>1.497246e+02</td>\n",
       "      <td>1.405076e+02</td>\n",
       "      <td>1.002422e+02</td>\n",
       "    </tr>\n",
       "  </tbody>\n",
       "</table>\n",
       "<p>8 rows × 64 columns</p>\n",
       "</div>"
      ],
      "text/plain": [
       "              Attr1         Attr2         Attr3         Attr4         Attr5  \\\n",
       "count  2.502600e+04  2.502600e+04  2.502600e+04  2.502600e+04  2.502600e+04   \n",
       "mean  -1.004041e-17  7.803968e-18 -1.604713e-17 -2.131308e-17  6.239307e-17   \n",
       "std    1.000020e+00  1.000020e+00  1.000020e+00  1.000020e+00  1.000020e+00   \n",
       "min   -1.387500e+02 -8.636714e+01 -1.149379e+02 -5.914134e-02 -1.088417e+02   \n",
       "25%   -2.384031e-02 -5.722849e-02 -2.948311e-02 -4.593938e-02  7.680696e-03   \n",
       "50%    1.206460e-03 -1.665803e-02  1.228215e-02 -3.968461e-02  9.553387e-03   \n",
       "75%    4.489983e-02  2.657896e-02  6.180629e-02 -2.501067e-02  1.159772e-02   \n",
       "max    4.720338e+01  9.612587e+01  6.752081e+00  9.863954e+01  3.963365e+01   \n",
       "\n",
       "              Attr6         Attr7         Attr8         Attr9        Attr10  \\\n",
       "count  2.502600e+04  2.502600e+04  2.502600e+04  2.502600e+04  2.502600e+04   \n",
       "mean  -3.416999e-16  8.621075e-18  3.508126e-18  5.219912e-17  9.309807e-18   \n",
       "std    1.000020e+00  1.000020e+00  1.000020e+00  1.000020e+00  1.000020e+00   \n",
       "min   -8.806321e+01 -1.219944e+02 -3.828476e-02 -1.767082e-01 -4.179472e+01   \n",
       "25%    3.137164e-03 -1.573718e-02 -2.947339e-02 -3.721022e-02 -2.672659e-02   \n",
       "50%    3.137164e-03 -3.039140e-03 -2.723141e-02 -3.163549e-02 -8.381355e-03   \n",
       "75%    1.805668e-02  1.874331e-02 -2.189735e-02 -4.686588e-03  9.257771e-03   \n",
       "max    9.415815e+01  5.808165e+01  9.250920e+01  1.197107e+02  8.465846e+01   \n",
       "\n",
       "           ...             Attr55        Attr56        Attr57        Attr58  \\\n",
       "count      ...       2.502600e+04  2.502600e+04  2.502600e+04  2.502600e+04   \n",
       "mean       ...      -1.622125e-17 -8.703528e-18  1.641298e-17 -3.465877e-17   \n",
       "std        ...       1.000020e+00  1.000020e+00  1.000020e+00  1.000020e+00   \n",
       "min        ...      -2.313503e+01 -1.581824e+02 -9.477859e+01 -3.516409e-02   \n",
       "25%        ...      -1.031767e-01  6.463745e-03 -4.123726e-03 -6.684958e-03   \n",
       "50%        ...      -9.004560e-02  6.470014e-03  6.060678e-03 -6.674169e-03   \n",
       "75%        ...      -4.114967e-02  6.480935e-03  2.233008e-02 -6.668153e-03   \n",
       "max        ...       7.802505e+01  2.245117e-02  5.347953e+01  1.581543e+02   \n",
       "\n",
       "             Attr59        Attr60        Attr61        Attr62        Attr63  \\\n",
       "count  2.502600e+04  2.502600e+04  2.502600e+04  2.502600e+04  2.502600e+04   \n",
       "mean   1.004066e-15 -5.419372e-17  3.446711e-18  1.560184e-18  3.967142e-18   \n",
       "std    1.000020e+00  1.000020e+00  1.000020e+00  1.000020e+00  1.000020e+00   \n",
       "min   -2.160261e+00 -1.394228e-02 -9.509583e-02 -1.005826e-01 -1.637468e-01   \n",
       "25%   -1.038601e-02 -1.349748e-02 -4.697198e-02 -1.075708e-02 -1.061527e-01   \n",
       "50%   -1.035111e-02 -1.339928e-02 -3.774753e-02 -1.058199e-02 -6.958170e-02   \n",
       "75%   -8.851064e-03 -1.316833e-02 -2.164311e-02 -1.030946e-02 -4.384296e-03   \n",
       "max    1.563484e+02  1.178334e+02  1.162245e+02  1.497246e+02  1.405076e+02   \n",
       "\n",
       "             Attr64  \n",
       "count  2.502600e+04  \n",
       "mean  -3.238150e-17  \n",
       "std    1.000020e+00  \n",
       "min   -2.911629e-02  \n",
       "25%   -2.709345e-02  \n",
       "50%   -2.638939e-02  \n",
       "75%   -2.456993e-02  \n",
       "max    1.002422e+02  \n",
       "\n",
       "[8 rows x 64 columns]"
      ]
     },
     "execution_count": 32,
     "metadata": {},
     "output_type": "execute_result"
    }
   ],
   "source": [
    "X_train.describe(include='all')"
   ]
  },
  {
   "cell_type": "code",
   "execution_count": null,
   "metadata": {},
   "outputs": [],
   "source": []
  },
  {
   "cell_type": "code",
   "execution_count": 33,
   "metadata": {},
   "outputs": [],
   "source": [
    "X_train1=X_train[~((X_train<(-3))|(X_train>3)).any(axis=1)]"
   ]
  },
  {
   "cell_type": "code",
   "execution_count": 34,
   "metadata": {},
   "outputs": [],
   "source": [
    "rown=X_train[~((X_train<(-3))|(X_train>3)).any(axis=1)].index"
   ]
  },
  {
   "cell_type": "code",
   "execution_count": 35,
   "metadata": {},
   "outputs": [
    {
     "data": {
      "text/plain": [
       "Int64Index([12312,  4605, 12555, 28742,  9602, 16266, 24651,  9615, 11690,\n",
       "            18522,\n",
       "            ...\n",
       "            17360, 10537,  9924,  2451, 15511, 15501, 18822, 21152,  6490,\n",
       "            27279],\n",
       "           dtype='int64', length=24321)"
      ]
     },
     "execution_count": 35,
     "metadata": {},
     "output_type": "execute_result"
    }
   ],
   "source": [
    "rown"
   ]
  },
  {
   "cell_type": "code",
   "execution_count": 36,
   "metadata": {},
   "outputs": [],
   "source": [
    "y_train1=y_train[rown]"
   ]
  },
  {
   "cell_type": "code",
   "execution_count": 37,
   "metadata": {},
   "outputs": [
    {
     "data": {
      "text/plain": [
       "(24321,)"
      ]
     },
     "execution_count": 37,
     "metadata": {},
     "output_type": "execute_result"
    }
   ],
   "source": [
    "y_train1.shape"
   ]
  },
  {
   "cell_type": "code",
   "execution_count": 38,
   "metadata": {},
   "outputs": [
    {
     "data": {
      "text/plain": [
       "(24321, 64)"
      ]
     },
     "execution_count": 38,
     "metadata": {},
     "output_type": "execute_result"
    }
   ],
   "source": [
    "X_train1.shape"
   ]
  },
  {
   "cell_type": "code",
   "execution_count": 39,
   "metadata": {},
   "outputs": [
    {
     "data": {
      "text/html": [
       "<div>\n",
       "<style scoped>\n",
       "    .dataframe tbody tr th:only-of-type {\n",
       "        vertical-align: middle;\n",
       "    }\n",
       "\n",
       "    .dataframe tbody tr th {\n",
       "        vertical-align: top;\n",
       "    }\n",
       "\n",
       "    .dataframe thead th {\n",
       "        text-align: right;\n",
       "    }\n",
       "</style>\n",
       "<table border=\"1\" class=\"dataframe\">\n",
       "  <thead>\n",
       "    <tr style=\"text-align: right;\">\n",
       "      <th></th>\n",
       "      <th>Attr1</th>\n",
       "      <th>Attr2</th>\n",
       "      <th>Attr3</th>\n",
       "      <th>Attr4</th>\n",
       "      <th>Attr5</th>\n",
       "      <th>Attr6</th>\n",
       "      <th>Attr7</th>\n",
       "      <th>Attr8</th>\n",
       "      <th>Attr9</th>\n",
       "      <th>Attr10</th>\n",
       "      <th>...</th>\n",
       "      <th>Attr55</th>\n",
       "      <th>Attr56</th>\n",
       "      <th>Attr57</th>\n",
       "      <th>Attr58</th>\n",
       "      <th>Attr59</th>\n",
       "      <th>Attr60</th>\n",
       "      <th>Attr61</th>\n",
       "      <th>Attr62</th>\n",
       "      <th>Attr63</th>\n",
       "      <th>Attr64</th>\n",
       "    </tr>\n",
       "  </thead>\n",
       "  <tbody>\n",
       "    <tr>\n",
       "      <th>count</th>\n",
       "      <td>24321.000000</td>\n",
       "      <td>24321.000000</td>\n",
       "      <td>24321.000000</td>\n",
       "      <td>24321.000000</td>\n",
       "      <td>24321.000000</td>\n",
       "      <td>24321.000000</td>\n",
       "      <td>24321.000000</td>\n",
       "      <td>24321.000000</td>\n",
       "      <td>24321.000000</td>\n",
       "      <td>24321.000000</td>\n",
       "      <td>...</td>\n",
       "      <td>24321.000000</td>\n",
       "      <td>24321.000000</td>\n",
       "      <td>24321.000000</td>\n",
       "      <td>24321.000000</td>\n",
       "      <td>24321.000000</td>\n",
       "      <td>24321.000000</td>\n",
       "      <td>24321.000000</td>\n",
       "      <td>24321.000000</td>\n",
       "      <td>24321.000000</td>\n",
       "      <td>24321.000000</td>\n",
       "    </tr>\n",
       "    <tr>\n",
       "      <th>mean</th>\n",
       "      <td>0.007713</td>\n",
       "      <td>-0.006672</td>\n",
       "      <td>0.010596</td>\n",
       "      <td>-0.023101</td>\n",
       "      <td>0.009183</td>\n",
       "      <td>0.004098</td>\n",
       "      <td>0.000837</td>\n",
       "      <td>-0.020542</td>\n",
       "      <td>-0.015396</td>\n",
       "      <td>-0.012306</td>\n",
       "      <td>...</td>\n",
       "      <td>-0.035554</td>\n",
       "      <td>0.006387</td>\n",
       "      <td>0.008714</td>\n",
       "      <td>-0.006345</td>\n",
       "      <td>-0.008284</td>\n",
       "      <td>-0.012045</td>\n",
       "      <td>-0.018163</td>\n",
       "      <td>-0.010046</td>\n",
       "      <td>-0.022114</td>\n",
       "      <td>-0.020595</td>\n",
       "    </tr>\n",
       "    <tr>\n",
       "      <th>std</th>\n",
       "      <td>0.108040</td>\n",
       "      <td>0.089076</td>\n",
       "      <td>0.098965</td>\n",
       "      <td>0.079403</td>\n",
       "      <td>0.091756</td>\n",
       "      <td>0.083991</td>\n",
       "      <td>0.050073</td>\n",
       "      <td>0.036186</td>\n",
       "      <td>0.044452</td>\n",
       "      <td>0.039621</td>\n",
       "      <td>...</td>\n",
       "      <td>0.279866</td>\n",
       "      <td>0.009389</td>\n",
       "      <td>0.127056</td>\n",
       "      <td>0.022329</td>\n",
       "      <td>0.036824</td>\n",
       "      <td>0.019340</td>\n",
       "      <td>0.103943</td>\n",
       "      <td>0.013156</td>\n",
       "      <td>0.184303</td>\n",
       "      <td>0.044858</td>\n",
       "    </tr>\n",
       "    <tr>\n",
       "      <th>min</th>\n",
       "      <td>-2.124342</td>\n",
       "      <td>-0.111370</td>\n",
       "      <td>-2.568688</td>\n",
       "      <td>-0.059141</td>\n",
       "      <td>-2.768507</td>\n",
       "      <td>-2.532332</td>\n",
       "      <td>-0.941365</td>\n",
       "      <td>-0.034578</td>\n",
       "      <td>-0.106242</td>\n",
       "      <td>-1.281380</td>\n",
       "      <td>...</td>\n",
       "      <td>-2.968085</td>\n",
       "      <td>-1.211690</td>\n",
       "      <td>-2.869571</td>\n",
       "      <td>-0.011218</td>\n",
       "      <td>-1.694981</td>\n",
       "      <td>-0.013942</td>\n",
       "      <td>-0.066966</td>\n",
       "      <td>-0.011008</td>\n",
       "      <td>-0.163298</td>\n",
       "      <td>-0.029116</td>\n",
       "    </tr>\n",
       "    <tr>\n",
       "      <th>25%</th>\n",
       "      <td>-0.023540</td>\n",
       "      <td>-0.056512</td>\n",
       "      <td>-0.029133</td>\n",
       "      <td>-0.045908</td>\n",
       "      <td>0.007689</td>\n",
       "      <td>0.003137</td>\n",
       "      <td>-0.015576</td>\n",
       "      <td>-0.029462</td>\n",
       "      <td>-0.037173</td>\n",
       "      <td>-0.026553</td>\n",
       "      <td>...</td>\n",
       "      <td>-0.103068</td>\n",
       "      <td>0.006464</td>\n",
       "      <td>-0.004015</td>\n",
       "      <td>-0.006685</td>\n",
       "      <td>-0.010386</td>\n",
       "      <td>-0.013498</td>\n",
       "      <td>-0.046899</td>\n",
       "      <td>-0.010755</td>\n",
       "      <td>-0.105690</td>\n",
       "      <td>-0.027089</td>\n",
       "    </tr>\n",
       "    <tr>\n",
       "      <th>50%</th>\n",
       "      <td>0.001475</td>\n",
       "      <td>-0.016376</td>\n",
       "      <td>0.012148</td>\n",
       "      <td>-0.039707</td>\n",
       "      <td>0.009545</td>\n",
       "      <td>0.003137</td>\n",
       "      <td>-0.002878</td>\n",
       "      <td>-0.027236</td>\n",
       "      <td>-0.031506</td>\n",
       "      <td>-0.008469</td>\n",
       "      <td>...</td>\n",
       "      <td>-0.089644</td>\n",
       "      <td>0.006470</td>\n",
       "      <td>0.006132</td>\n",
       "      <td>-0.006674</td>\n",
       "      <td>-0.010338</td>\n",
       "      <td>-0.013399</td>\n",
       "      <td>-0.037719</td>\n",
       "      <td>-0.010582</td>\n",
       "      <td>-0.069582</td>\n",
       "      <td>-0.026389</td>\n",
       "    </tr>\n",
       "    <tr>\n",
       "      <th>75%</th>\n",
       "      <td>0.045015</td>\n",
       "      <td>0.026217</td>\n",
       "      <td>0.061079</td>\n",
       "      <td>-0.025312</td>\n",
       "      <td>0.011558</td>\n",
       "      <td>0.018226</td>\n",
       "      <td>0.018743</td>\n",
       "      <td>-0.022018</td>\n",
       "      <td>-0.004834</td>\n",
       "      <td>0.008925</td>\n",
       "      <td>...</td>\n",
       "      <td>-0.041388</td>\n",
       "      <td>0.006481</td>\n",
       "      <td>0.022336</td>\n",
       "      <td>-0.006668</td>\n",
       "      <td>-0.008825</td>\n",
       "      <td>-0.013169</td>\n",
       "      <td>-0.021749</td>\n",
       "      <td>-0.010312</td>\n",
       "      <td>-0.005261</td>\n",
       "      <td>-0.024573</td>\n",
       "    </tr>\n",
       "    <tr>\n",
       "      <th>max</th>\n",
       "      <td>1.653166</td>\n",
       "      <td>2.916501</td>\n",
       "      <td>2.821861</td>\n",
       "      <td>2.584638</td>\n",
       "      <td>2.836166</td>\n",
       "      <td>2.969128</td>\n",
       "      <td>0.844735</td>\n",
       "      <td>2.625199</td>\n",
       "      <td>1.448369</td>\n",
       "      <td>1.044196</td>\n",
       "      <td>...</td>\n",
       "      <td>2.962785</td>\n",
       "      <td>0.011014</td>\n",
       "      <td>2.856874</td>\n",
       "      <td>2.578738</td>\n",
       "      <td>2.009567</td>\n",
       "      <td>1.094790</td>\n",
       "      <td>2.947382</td>\n",
       "      <td>1.216038</td>\n",
       "      <td>2.899087</td>\n",
       "      <td>2.770543</td>\n",
       "    </tr>\n",
       "  </tbody>\n",
       "</table>\n",
       "<p>8 rows × 64 columns</p>\n",
       "</div>"
      ],
      "text/plain": [
       "              Attr1         Attr2         Attr3         Attr4         Attr5  \\\n",
       "count  24321.000000  24321.000000  24321.000000  24321.000000  24321.000000   \n",
       "mean       0.007713     -0.006672      0.010596     -0.023101      0.009183   \n",
       "std        0.108040      0.089076      0.098965      0.079403      0.091756   \n",
       "min       -2.124342     -0.111370     -2.568688     -0.059141     -2.768507   \n",
       "25%       -0.023540     -0.056512     -0.029133     -0.045908      0.007689   \n",
       "50%        0.001475     -0.016376      0.012148     -0.039707      0.009545   \n",
       "75%        0.045015      0.026217      0.061079     -0.025312      0.011558   \n",
       "max        1.653166      2.916501      2.821861      2.584638      2.836166   \n",
       "\n",
       "              Attr6         Attr7         Attr8         Attr9        Attr10  \\\n",
       "count  24321.000000  24321.000000  24321.000000  24321.000000  24321.000000   \n",
       "mean       0.004098      0.000837     -0.020542     -0.015396     -0.012306   \n",
       "std        0.083991      0.050073      0.036186      0.044452      0.039621   \n",
       "min       -2.532332     -0.941365     -0.034578     -0.106242     -1.281380   \n",
       "25%        0.003137     -0.015576     -0.029462     -0.037173     -0.026553   \n",
       "50%        0.003137     -0.002878     -0.027236     -0.031506     -0.008469   \n",
       "75%        0.018226      0.018743     -0.022018     -0.004834      0.008925   \n",
       "max        2.969128      0.844735      2.625199      1.448369      1.044196   \n",
       "\n",
       "           ...             Attr55        Attr56        Attr57        Attr58  \\\n",
       "count      ...       24321.000000  24321.000000  24321.000000  24321.000000   \n",
       "mean       ...          -0.035554      0.006387      0.008714     -0.006345   \n",
       "std        ...           0.279866      0.009389      0.127056      0.022329   \n",
       "min        ...          -2.968085     -1.211690     -2.869571     -0.011218   \n",
       "25%        ...          -0.103068      0.006464     -0.004015     -0.006685   \n",
       "50%        ...          -0.089644      0.006470      0.006132     -0.006674   \n",
       "75%        ...          -0.041388      0.006481      0.022336     -0.006668   \n",
       "max        ...           2.962785      0.011014      2.856874      2.578738   \n",
       "\n",
       "             Attr59        Attr60        Attr61        Attr62        Attr63  \\\n",
       "count  24321.000000  24321.000000  24321.000000  24321.000000  24321.000000   \n",
       "mean      -0.008284     -0.012045     -0.018163     -0.010046     -0.022114   \n",
       "std        0.036824      0.019340      0.103943      0.013156      0.184303   \n",
       "min       -1.694981     -0.013942     -0.066966     -0.011008     -0.163298   \n",
       "25%       -0.010386     -0.013498     -0.046899     -0.010755     -0.105690   \n",
       "50%       -0.010338     -0.013399     -0.037719     -0.010582     -0.069582   \n",
       "75%       -0.008825     -0.013169     -0.021749     -0.010312     -0.005261   \n",
       "max        2.009567      1.094790      2.947382      1.216038      2.899087   \n",
       "\n",
       "             Attr64  \n",
       "count  24321.000000  \n",
       "mean      -0.020595  \n",
       "std        0.044858  \n",
       "min       -0.029116  \n",
       "25%       -0.027089  \n",
       "50%       -0.026389  \n",
       "75%       -0.024573  \n",
       "max        2.770543  \n",
       "\n",
       "[8 rows x 64 columns]"
      ]
     },
     "execution_count": 39,
     "metadata": {},
     "output_type": "execute_result"
    }
   ],
   "source": [
    "X_train1.describe(include='all')"
   ]
  },
  {
   "cell_type": "code",
   "execution_count": null,
   "metadata": {},
   "outputs": [],
   "source": []
  },
  {
   "cell_type": "code",
   "execution_count": 40,
   "metadata": {},
   "outputs": [
    {
     "name": "stdout",
     "output_type": "stream",
     "text": [
      "(24321, 64)\n",
      "(6257, 64)\n"
     ]
    }
   ],
   "source": [
    "print(X_train1.shape)\n",
    "print(X_test.shape)"
   ]
  },
  {
   "cell_type": "code",
   "execution_count": 41,
   "metadata": {},
   "outputs": [
    {
     "data": {
      "text/plain": [
       "Index(['Attr1', 'Attr2', 'Attr3', 'Attr4', 'Attr5', 'Attr6', 'Attr7', 'Attr8',\n",
       "       'Attr9', 'Attr10', 'Attr11', 'Attr12', 'Attr13', 'Attr14', 'Attr15',\n",
       "       'Attr16', 'Attr17', 'Attr18', 'Attr19', 'Attr20', 'Attr21', 'Attr22',\n",
       "       'Attr23', 'Attr24', 'Attr25', 'Attr26', 'Attr27', 'Attr28', 'Attr29',\n",
       "       'Attr30', 'Attr31', 'Attr32', 'Attr33', 'Attr34', 'Attr35', 'Attr36',\n",
       "       'Attr37', 'Attr38', 'Attr39', 'Attr40', 'Attr41', 'Attr42', 'Attr43',\n",
       "       'Attr44', 'Attr45', 'Attr46', 'Attr47', 'Attr48', 'Attr49', 'Attr50',\n",
       "       'Attr51', 'Attr52', 'Attr53', 'Attr54', 'Attr55', 'Attr56', 'Attr57',\n",
       "       'Attr58', 'Attr59', 'Attr60', 'Attr61', 'Attr62', 'Attr63', 'Attr64'],\n",
       "      dtype='object')"
      ]
     },
     "execution_count": 41,
     "metadata": {},
     "output_type": "execute_result"
    }
   ],
   "source": [
    "from imblearn.over_sampling import SMOTE\n",
    "columns=X_train.columns\n",
    "columns"
   ]
  },
  {
   "cell_type": "code",
   "execution_count": 42,
   "metadata": {},
   "outputs": [],
   "source": [
    "from imblearn.over_sampling import SMOTE\n",
    "columns=X_train.columns\n",
    "\n",
    "sm=SMOTE(random_state=123,sampling_strategy='minority')\n",
    "\n",
    "X_train_res, y_train_res = sm.fit_sample(X_train1, y_train1.ravel())\n",
    "X_train_res=pd.DataFrame(X_train_res,columns=columns)\n",
    "y_train_res=pd.DataFrame(y_train_res,columns=['target'])\n"
   ]
  },
  {
   "cell_type": "code",
   "execution_count": null,
   "metadata": {},
   "outputs": [],
   "source": []
  },
  {
   "cell_type": "code",
   "execution_count": null,
   "metadata": {},
   "outputs": [],
   "source": []
  },
  {
   "cell_type": "code",
   "execution_count": null,
   "metadata": {},
   "outputs": [],
   "source": []
  },
  {
   "cell_type": "markdown",
   "metadata": {},
   "source": [
    "## Build model"
   ]
  },
  {
   "cell_type": "code",
   "execution_count": 27,
   "metadata": {},
   "outputs": [],
   "source": [
    "from sklearn.ensemble import RandomForestClassifier"
   ]
  },
  {
   "cell_type": "code",
   "execution_count": 28,
   "metadata": {},
   "outputs": [
    {
     "data": {
      "text/plain": [
       "RandomForestClassifier(bootstrap=True, class_weight='balanced',\n",
       "            criterion='gini', max_depth=20, max_features='auto',\n",
       "            max_leaf_nodes=None, min_impurity_decrease=0.0,\n",
       "            min_impurity_split=None, min_samples_leaf=1,\n",
       "            min_samples_split=2, min_weight_fraction_leaf=0.0,\n",
       "            n_estimators=30, n_jobs=None, oob_score=False,\n",
       "            random_state=None, verbose=0, warm_start=False)"
      ]
     },
     "execution_count": 28,
     "metadata": {},
     "output_type": "execute_result"
    }
   ],
   "source": [
    "#clf = RandomForestClassifier(n_estimators=50,max_depth=20)\n",
    "clf = RandomForestClassifier(n_estimators=30,max_depth=20,class_weight='balanced')\n",
    "#max_depth': 28, 'min_samples_leaf': 20, 'n_estimators': 50}\n",
    "clf.fit(X=X_train, y=y_train)"
   ]
  },
  {
   "cell_type": "code",
   "execution_count": 29,
   "metadata": {},
   "outputs": [
    {
     "name": "stdout",
     "output_type": "stream",
     "text": [
      "0.9643599168930798\n",
      "0.25650557620817843\n",
      "0.75\n",
      "0.3822714681440443\n",
      "\n",
      "0.9979221609526093\n",
      "0.9838969404186796\n"
     ]
    }
   ],
   "source": [
    "from sklearn.metrics import accuracy_score\n",
    "from sklearn.metrics import recall_score\n",
    "from sklearn.metrics import precision_score\n",
    "from sklearn.metrics import f1_score\n",
    "\n",
    "y_pred = clf.predict(X_test)\n",
    "print(accuracy_score(y_test,y_pred))\n",
    "print(recall_score(y_test,y_pred,pos_label=1))\n",
    "print(precision_score(y_test,y_pred,pos_label=1))\n",
    "print(f1_score(y_test,y_pred,pos_label=1))\n",
    "print()\n",
    "y_pred1 = clf.predict(X_train)\n",
    "print(accuracy_score(y_train,y_pred1))\n",
    "print(recall_score(y_train,y_pred1,pos_label=1))\n"
   ]
  },
  {
   "cell_type": "code",
   "execution_count": 40,
   "metadata": {},
   "outputs": [],
   "source": [
    "from sklearn.metrics import accuracy_score\n",
    "from sklearn.metrics import recall_score\n",
    "\n",
    "y_pred = clf.predict(X_test)\n",
    "print(accuracy_score(y_test,y_pred))\n",
    "y_pred1 = clf.predict(X_train1)\n",
    "print(accuracy_score(y_train1,y_pred1))\n",
    "print(recall_score(y_train1,y_pred1,pos_label=1))\n",
    "print(recall_score(y_test,y_pred,pos_label=1)) ## 100 ,20 "
   ]
  },
  {
   "cell_type": "code",
   "execution_count": 43,
   "metadata": {},
   "outputs": [],
   "source": [
    "from sklearn.metrics import accuracy_score\n",
    "from sklearn.metrics import recall_score\n",
    "\n",
    "y_pred = clf.predict(X_test)\n",
    "print(accuracy_score(y_test,y_pred))\n",
    "y_pred1 = clf.predict(X_train1)\n",
    "print(accuracy_score(y_train1,y_pred1))\n",
    "print(recall_score(y_train1,y_pred1,pos_label=1))\n",
    "print(recall_score(y_test,y_pred,pos_label=1)) ## 50,30"
   ]
  },
  {
   "cell_type": "code",
   "execution_count": null,
   "metadata": {},
   "outputs": [],
   "source": []
  },
  {
   "cell_type": "markdown",
   "metadata": {},
   "source": [
    "### GRID SEARCH CV"
   ]
  },
  {
   "cell_type": "code",
   "execution_count": 68,
   "metadata": {},
   "outputs": [],
   "source": [
    "from sklearn.model_selection import GridSearchCV\n",
    "from sklearn.metrics import classification_report\n",
    "rfc = RandomForestClassifier(n_jobs=-1, max_features='sqrt',class_weight='balanced')\n",
    "\n",
    "param_grid = { \n",
    "           \"n_estimators\" : [9, 18, 27, 36, 45, 54, 63],\n",
    "           \"max_depth\" : [2,3,5,7],\n",
    "           \"min_samples_leaf\" : [2, 4]}"
   ]
  },
  {
   "cell_type": "code",
   "execution_count": 70,
   "metadata": {},
   "outputs": [
    {
     "name": "stdout",
     "output_type": "stream",
     "text": [
      "Fitting 5 folds for each of 56 candidates, totalling 280 fits\n"
     ]
    },
    {
     "name": "stderr",
     "output_type": "stream",
     "text": [
      "[Parallel(n_jobs=1)]: Using backend SequentialBackend with 1 concurrent workers.\n",
      "[Parallel(n_jobs=1)]: Done 280 out of 280 | elapsed: 16.6min finished\n"
     ]
    },
    {
     "name": "stdout",
     "output_type": "stream",
     "text": [
      "0.8553179754206341 {'max_depth': 7, 'min_samples_leaf': 2, 'n_estimators': 63}\n"
     ]
    }
   ],
   "source": [
    "CV_rfc = GridSearchCV(estimator=rfc, param_grid=param_grid,cv=5,verbose=1,scoring='f1')\n",
    "CV_rfc.fit(X=X_train_res, y=y_train_res)\n",
    "print (CV_rfc.best_score_, CV_rfc.best_params_)"
   ]
  },
  {
   "cell_type": "code",
   "execution_count": 71,
   "metadata": {},
   "outputs": [
    {
     "name": "stdout",
     "output_type": "stream",
     "text": [
      "0.813968355441905\n"
     ]
    }
   ],
   "source": [
    "y_pred_test=CV_rfc.predict(X_test)\n",
    "print(accuracy_score(y_test,y_pred_test))"
   ]
  },
  {
   "cell_type": "code",
   "execution_count": 73,
   "metadata": {},
   "outputs": [
    {
     "name": "stdout",
     "output_type": "stream",
     "text": [
      "0.6962025316455697\n",
      "0.17080745341614906\n"
     ]
    }
   ],
   "source": [
    "from sklearn.metrics import recall_score\n",
    "print(recall_score(y_test,y_pred_test, pos_label=1, average='binary'))"
   ]
  },
  {
   "cell_type": "code",
   "execution_count": null,
   "metadata": {},
   "outputs": [],
   "source": []
  },
  {
   "cell_type": "code",
   "execution_count": 46,
   "metadata": {},
   "outputs": [],
   "source": [
    "from sklearn.model_selection import GridSearchCV\n",
    "from sklearn.metrics import classification_report\n",
    "rfc = RandomForestClassifier(n_jobs=-1, max_features='sqrt',class_weight='balanced')\n",
    "\n",
    "param_grid1 = { \n",
    "           \"n_estimators\" : [2,5,10,12,15],\n",
    "           \"max_depth\" : [20,25,30,35],\n",
    "           \"min_samples_leaf\" : [2,5]}"
   ]
  },
  {
   "cell_type": "code",
   "execution_count": 47,
   "metadata": {},
   "outputs": [
    {
     "name": "stdout",
     "output_type": "stream",
     "text": [
      "Fitting 5 folds for each of 40 candidates, totalling 200 fits\n"
     ]
    },
    {
     "name": "stderr",
     "output_type": "stream",
     "text": [
      "[Parallel(n_jobs=1)]: Using backend SequentialBackend with 1 concurrent workers.\n",
      "[Parallel(n_jobs=1)]: Done 200 out of 200 | elapsed:  4.1min finished\n"
     ]
    },
    {
     "name": "stdout",
     "output_type": "stream",
     "text": [
      "0.4182131017890542 {'max_depth': 30, 'min_samples_leaf': 5, 'n_estimators': 15}\n"
     ]
    }
   ],
   "source": [
    "CV_rfc1 = GridSearchCV(estimator=rfc, param_grid=param_grid1,cv=5,verbose=1,scoring='f1')\n",
    "CV_rfc1.fit(X=X_train1, y=y_train1)\n",
    "print (CV_rfc1.best_score_, CV_rfc1.best_params_)"
   ]
  },
  {
   "cell_type": "code",
   "execution_count": 48,
   "metadata": {},
   "outputs": [
    {
     "name": "stdout",
     "output_type": "stream",
     "text": [
      "0.9582867188748602\n"
     ]
    }
   ],
   "source": [
    "y_pred_test1=CV_rfc1.predict(X_test)\n",
    "print(accuracy_score(y_test,y_pred_test1)) # 96 "
   ]
  },
  {
   "cell_type": "code",
   "execution_count": 55,
   "metadata": {},
   "outputs": [
    {
     "name": "stdout",
     "output_type": "stream",
     "text": [
      "0.26384364820846906\n",
      "0.6982758620689655\n"
     ]
    }
   ],
   "source": [
    "from sklearn.metrics import recall_score\n",
    "print(recall_score(y_test,y_pred_test1, pos_label=1, average='binary')) #20d,2l,15n\n",
    "print(precision_score(y_test,y_pred_test1,pos_label=1))"
   ]
  },
  {
   "cell_type": "markdown",
   "metadata": {},
   "source": [
    "* observing 30,5,15 as a better hyperparameter "
   ]
  },
  {
   "cell_type": "code",
   "execution_count": 51,
   "metadata": {},
   "outputs": [],
   "source": [
    "from sklearn.model_selection import GridSearchCV\n",
    "from sklearn.metrics import classification_report\n",
    "rfc = RandomForestClassifier(n_jobs=-1, max_features='sqrt',class_weight='balanced')\n",
    "\n",
    "param_grid2 = { \n",
    "           \"n_estimators\" : [10,15,20,25],\n",
    "           \"max_depth\" : [25,30,35,40],\n",
    "           \"min_samples_leaf\" : [2,5]}"
   ]
  },
  {
   "cell_type": "code",
   "execution_count": 52,
   "metadata": {},
   "outputs": [
    {
     "name": "stdout",
     "output_type": "stream",
     "text": [
      "Fitting 5 folds for each of 32 candidates, totalling 160 fits\n"
     ]
    },
    {
     "name": "stderr",
     "output_type": "stream",
     "text": [
      "[Parallel(n_jobs=1)]: Using backend SequentialBackend with 1 concurrent workers.\n",
      "[Parallel(n_jobs=1)]: Done 160 out of 160 | elapsed:  4.5min finished\n"
     ]
    },
    {
     "name": "stdout",
     "output_type": "stream",
     "text": [
      "0.4341981462239283 {'max_depth': 25, 'min_samples_leaf': 5, 'n_estimators': 20}\n"
     ]
    }
   ],
   "source": [
    "CV_rfc2 = GridSearchCV(estimator=rfc, param_grid=param_grid2,cv=5,verbose=1,scoring='f1')\n",
    "CV_rfc2.fit(X=X_train1, y=y_train1)\n",
    "print (CV_rfc2.best_score_, CV_rfc2.best_params_)"
   ]
  },
  {
   "cell_type": "code",
   "execution_count": 53,
   "metadata": {},
   "outputs": [
    {
     "name": "stdout",
     "output_type": "stream",
     "text": [
      "0.9592456448777369\n"
     ]
    }
   ],
   "source": [
    "y_pred_test2=CV_rfc2.predict(X_test)\n",
    "print(accuracy_score(y_test,y_pred_test2))"
   ]
  },
  {
   "cell_type": "code",
   "execution_count": 56,
   "metadata": {},
   "outputs": [
    {
     "name": "stdout",
     "output_type": "stream",
     "text": [
      "0.2736156351791531\n",
      "0.7241379310344828\n"
     ]
    }
   ],
   "source": [
    "from sklearn.metrics import recall_score\n",
    "print(recall_score(y_test,y_pred_test2, pos_label=1, average='binary'))\n",
    "print(precision_score(y_test,y_pred_test2,pos_label=1))"
   ]
  },
  {
   "cell_type": "markdown",
   "metadata": {},
   "source": [
    "* 25,5,20 is a better hyperparamater"
   ]
  },
  {
   "cell_type": "code",
   "execution_count": 57,
   "metadata": {},
   "outputs": [],
   "source": [
    "from sklearn.model_selection import GridSearchCV\n",
    "from sklearn.metrics import classification_report\n",
    "rfc = RandomForestClassifier(n_jobs=-1, max_features='sqrt',class_weight='balanced')\n",
    "\n",
    "param_grid3 = { \n",
    "           \"n_estimators\" : [15,17,20,25,40,50],\n",
    "           \"max_depth\" : [25,26,27,28,30,35,40],\n",
    "           \"min_samples_leaf\" : [2,5,10,20]}"
   ]
  },
  {
   "cell_type": "code",
   "execution_count": 58,
   "metadata": {},
   "outputs": [
    {
     "name": "stdout",
     "output_type": "stream",
     "text": [
      "Fitting 5 folds for each of 168 candidates, totalling 840 fits\n"
     ]
    },
    {
     "name": "stderr",
     "output_type": "stream",
     "text": [
      "[Parallel(n_jobs=1)]: Using backend SequentialBackend with 1 concurrent workers.\n",
      "[Parallel(n_jobs=1)]: Done 840 out of 840 | elapsed: 36.3min finished\n"
     ]
    },
    {
     "name": "stdout",
     "output_type": "stream",
     "text": [
      "0.47943520336537293 {'max_depth': 28, 'min_samples_leaf': 20, 'n_estimators': 50}\n"
     ]
    }
   ],
   "source": [
    "CV_rfc3 = GridSearchCV(estimator=rfc, param_grid=param_grid3,cv=5,verbose=1,scoring='f1')\n",
    "CV_rfc3.fit(X=X_train1, y=y_train1)\n",
    "print (CV_rfc3.best_score_, CV_rfc3.best_params_)"
   ]
  },
  {
   "cell_type": "code",
   "execution_count": 59,
   "metadata": {},
   "outputs": [
    {
     "name": "stdout",
     "output_type": "stream",
     "text": [
      "0.9429439028288317\n"
     ]
    }
   ],
   "source": [
    "y_pred_test3=CV_rfc3.predict(X_test)\n",
    "print(accuracy_score(y_test,y_pred_test3))"
   ]
  },
  {
   "cell_type": "code",
   "execution_count": 60,
   "metadata": {},
   "outputs": [
    {
     "name": "stdout",
     "output_type": "stream",
     "text": [
      "0.5179153094462541\n",
      "0.4320652173913043\n"
     ]
    }
   ],
   "source": [
    "from sklearn.metrics import recall_score\n",
    "print(recall_score(y_test,y_pred_test3, pos_label=1, average='binary'))\n",
    "print(precision_score(y_test,y_pred_test3,pos_label=1))"
   ]
  },
  {
   "cell_type": "code",
   "execution_count": null,
   "metadata": {},
   "outputs": [],
   "source": []
  },
  {
   "cell_type": "code",
   "execution_count": 61,
   "metadata": {},
   "outputs": [],
   "source": [
    "from sklearn.model_selection import GridSearchCV\n",
    "from sklearn.metrics import classification_report\n",
    "rfc = RandomForestClassifier(n_jobs=-1, max_features='sqrt',class_weight='balanced')\n",
    "\n",
    "param_grid4 = { \n",
    "           \"n_estimators\" : [15,25,50,70],\n",
    "           \"max_depth\" : [28,35,50],\n",
    "           \"min_samples_leaf\" : [10,20,30,50]}"
   ]
  },
  {
   "cell_type": "code",
   "execution_count": 62,
   "metadata": {},
   "outputs": [
    {
     "name": "stdout",
     "output_type": "stream",
     "text": [
      "Fitting 5 folds for each of 48 candidates, totalling 240 fits\n"
     ]
    },
    {
     "name": "stderr",
     "output_type": "stream",
     "text": [
      "[Parallel(n_jobs=1)]: Using backend SequentialBackend with 1 concurrent workers.\n",
      "[Parallel(n_jobs=1)]: Done 240 out of 240 | elapsed: 29.8min finished\n"
     ]
    },
    {
     "name": "stdout",
     "output_type": "stream",
     "text": [
      "0.4807449136196628 {'max_depth': 35, 'min_samples_leaf': 20, 'n_estimators': 70}\n"
     ]
    }
   ],
   "source": [
    "CV_rfc4 = GridSearchCV(estimator=rfc, param_grid=param_grid4,cv=5,verbose=1,scoring='f1')\n",
    "CV_rfc4.fit(X=X_train1, y=y_train1)\n",
    "print (CV_rfc4.best_score_, CV_rfc4.best_params_)"
   ]
  },
  {
   "cell_type": "code",
   "execution_count": 63,
   "metadata": {},
   "outputs": [
    {
     "name": "stdout",
     "output_type": "stream",
     "text": [
      "0.9434233658302701\n"
     ]
    }
   ],
   "source": [
    "y_pred_test4=CV_rfc4.predict(X_test)\n",
    "print(accuracy_score(y_test,y_pred_test4))"
   ]
  },
  {
   "cell_type": "code",
   "execution_count": 64,
   "metadata": {},
   "outputs": [
    {
     "name": "stdout",
     "output_type": "stream",
     "text": [
      "0.4820846905537459\n",
      "0.4314868804664723\n"
     ]
    }
   ],
   "source": [
    "from sklearn.metrics import recall_score\n",
    "print(recall_score(y_test,y_pred_test4, pos_label=1, average='binary'))\n",
    "print(precision_score(y_test,y_pred_test4,pos_label=1))"
   ]
  },
  {
   "cell_type": "code",
   "execution_count": null,
   "metadata": {},
   "outputs": [],
   "source": []
  },
  {
   "cell_type": "code",
   "execution_count": 46,
   "metadata": {},
   "outputs": [],
   "source": [
    "tdata=pd.read_csv(\"test.csv\")"
   ]
  },
  {
   "cell_type": "code",
   "execution_count": 47,
   "metadata": {},
   "outputs": [],
   "source": [
    "ID=tdata[\"ID\"]"
   ]
  },
  {
   "cell_type": "code",
   "execution_count": 48,
   "metadata": {},
   "outputs": [],
   "source": [
    "tdata=tdata.drop([\"ID\"],axis=1)"
   ]
  },
  {
   "cell_type": "code",
   "execution_count": 49,
   "metadata": {},
   "outputs": [],
   "source": [
    "colnamest=tdata.columns[tdata.isnull().sum()>0]"
   ]
  },
  {
   "cell_type": "code",
   "execution_count": 50,
   "metadata": {},
   "outputs": [],
   "source": [
    "for column in colnamest:\n",
    "    tdata[column].fillna(tdata[column].median(), inplace=True)"
   ]
  },
  {
   "cell_type": "code",
   "execution_count": 51,
   "metadata": {},
   "outputs": [
    {
     "data": {
      "text/plain": [
       "Attr1     0\n",
       "Attr2     0\n",
       "Attr3     0\n",
       "Attr4     0\n",
       "Attr5     0\n",
       "Attr6     0\n",
       "Attr7     0\n",
       "Attr8     0\n",
       "Attr9     0\n",
       "Attr10    0\n",
       "Attr11    0\n",
       "Attr12    0\n",
       "Attr13    0\n",
       "Attr14    0\n",
       "Attr15    0\n",
       "Attr16    0\n",
       "Attr17    0\n",
       "Attr18    0\n",
       "Attr19    0\n",
       "Attr20    0\n",
       "Attr21    0\n",
       "Attr22    0\n",
       "Attr23    0\n",
       "Attr24    0\n",
       "Attr25    0\n",
       "Attr26    0\n",
       "Attr27    0\n",
       "Attr28    0\n",
       "Attr29    0\n",
       "Attr30    0\n",
       "         ..\n",
       "Attr35    0\n",
       "Attr36    0\n",
       "Attr37    0\n",
       "Attr38    0\n",
       "Attr39    0\n",
       "Attr40    0\n",
       "Attr41    0\n",
       "Attr42    0\n",
       "Attr43    0\n",
       "Attr44    0\n",
       "Attr45    0\n",
       "Attr46    0\n",
       "Attr47    0\n",
       "Attr48    0\n",
       "Attr49    0\n",
       "Attr50    0\n",
       "Attr51    0\n",
       "Attr52    0\n",
       "Attr53    0\n",
       "Attr54    0\n",
       "Attr55    0\n",
       "Attr56    0\n",
       "Attr57    0\n",
       "Attr58    0\n",
       "Attr59    0\n",
       "Attr60    0\n",
       "Attr61    0\n",
       "Attr62    0\n",
       "Attr63    0\n",
       "Attr64    0\n",
       "Length: 64, dtype: int64"
      ]
     },
     "execution_count": 51,
     "metadata": {},
     "output_type": "execute_result"
    }
   ],
   "source": [
    "tdata.isnull().sum()"
   ]
  },
  {
   "cell_type": "code",
   "execution_count": 52,
   "metadata": {},
   "outputs": [
    {
     "data": {
      "text/plain": [
       "Index(['Attr1', 'Attr2', 'Attr3', 'Attr4', 'Attr5', 'Attr6', 'Attr7', 'Attr8',\n",
       "       'Attr9', 'Attr10', 'Attr11', 'Attr12', 'Attr13', 'Attr14', 'Attr15',\n",
       "       'Attr16', 'Attr17', 'Attr18', 'Attr19', 'Attr20', 'Attr21', 'Attr22',\n",
       "       'Attr23', 'Attr24', 'Attr25', 'Attr26', 'Attr27', 'Attr28', 'Attr29',\n",
       "       'Attr30', 'Attr31', 'Attr32', 'Attr33', 'Attr34', 'Attr35', 'Attr36',\n",
       "       'Attr37', 'Attr38', 'Attr39', 'Attr40', 'Attr41', 'Attr42', 'Attr43',\n",
       "       'Attr44', 'Attr45', 'Attr46', 'Attr47', 'Attr48', 'Attr49', 'Attr50',\n",
       "       'Attr51', 'Attr52', 'Attr53', 'Attr54', 'Attr55', 'Attr56', 'Attr57',\n",
       "       'Attr58', 'Attr59', 'Attr60', 'Attr61', 'Attr62', 'Attr63', 'Attr64'],\n",
       "      dtype='object')"
      ]
     },
     "execution_count": 52,
     "metadata": {},
     "output_type": "execute_result"
    }
   ],
   "source": [
    "num_atrt=tdata.select_dtypes(['int64','float64']).columns\n",
    "num_atr"
   ]
  },
  {
   "cell_type": "code",
   "execution_count": 53,
   "metadata": {},
   "outputs": [
    {
     "data": {
      "text/plain": [
       "StandardScaler(copy=True, with_mean=True, with_std=True)"
      ]
     },
     "execution_count": 53,
     "metadata": {},
     "output_type": "execute_result"
    }
   ],
   "source": [
    "scaler = StandardScaler() ## object intitation\n",
    "scaler.fit(tdata[num_atr])"
   ]
  },
  {
   "cell_type": "code",
   "execution_count": 54,
   "metadata": {},
   "outputs": [],
   "source": [
    "tdata[num_atr]=scaler.transform(tdata[num_atr])"
   ]
  },
  {
   "cell_type": "code",
   "execution_count": 55,
   "metadata": {},
   "outputs": [],
   "source": [
    "prediction=.predict(tdata)"
   ]
  },
  {
   "cell_type": "code",
   "execution_count": 56,
   "metadata": {},
   "outputs": [],
   "source": [
    "data={'ID':ID,'prediction':prediction}"
   ]
  },
  {
   "cell_type": "code",
   "execution_count": 57,
   "metadata": {},
   "outputs": [],
   "source": [
    "df=pd.DataFrame(data)"
   ]
  },
  {
   "cell_type": "code",
   "execution_count": 58,
   "metadata": {},
   "outputs": [
    {
     "data": {
      "text/html": [
       "<div>\n",
       "<style scoped>\n",
       "    .dataframe tbody tr th:only-of-type {\n",
       "        vertical-align: middle;\n",
       "    }\n",
       "\n",
       "    .dataframe tbody tr th {\n",
       "        vertical-align: top;\n",
       "    }\n",
       "\n",
       "    .dataframe thead th {\n",
       "        text-align: right;\n",
       "    }\n",
       "</style>\n",
       "<table border=\"1\" class=\"dataframe\">\n",
       "  <thead>\n",
       "    <tr style=\"text-align: right;\">\n",
       "      <th></th>\n",
       "      <th>ID</th>\n",
       "      <th>prediction</th>\n",
       "    </tr>\n",
       "  </thead>\n",
       "  <tbody>\n",
       "    <tr>\n",
       "      <th>0</th>\n",
       "      <td>36554</td>\n",
       "      <td>0</td>\n",
       "    </tr>\n",
       "    <tr>\n",
       "      <th>1</th>\n",
       "      <td>36555</td>\n",
       "      <td>0</td>\n",
       "    </tr>\n",
       "    <tr>\n",
       "      <th>2</th>\n",
       "      <td>36556</td>\n",
       "      <td>0</td>\n",
       "    </tr>\n",
       "    <tr>\n",
       "      <th>3</th>\n",
       "      <td>36557</td>\n",
       "      <td>0</td>\n",
       "    </tr>\n",
       "    <tr>\n",
       "      <th>4</th>\n",
       "      <td>36558</td>\n",
       "      <td>0</td>\n",
       "    </tr>\n",
       "  </tbody>\n",
       "</table>\n",
       "</div>"
      ],
      "text/plain": [
       "      ID  prediction\n",
       "0  36554           0\n",
       "1  36555           0\n",
       "2  36556           0\n",
       "3  36557           0\n",
       "4  36558           0"
      ]
     },
     "execution_count": 58,
     "metadata": {},
     "output_type": "execute_result"
    }
   ],
   "source": [
    "df.head()"
   ]
  },
  {
   "cell_type": "code",
   "execution_count": 81,
   "metadata": {},
   "outputs": [],
   "source": [
    "writer=pd.ExcelWriter('Submission_rfc3.xlsx',engine='xlsxwriter')\n",
    "df.to_excel(writer,sheet_name='Sheet1')\n",
    "writer.save()"
   ]
  },
  {
   "cell_type": "code",
   "execution_count": 60,
   "metadata": {},
   "outputs": [],
   "source": [
    "df.to_csv(\"Submission_ADABOOST.csv\",index=False)"
   ]
  },
  {
   "cell_type": "code",
   "execution_count": null,
   "metadata": {},
   "outputs": [],
   "source": []
  },
  {
   "cell_type": "code",
   "execution_count": null,
   "metadata": {},
   "outputs": [],
   "source": []
  },
  {
   "cell_type": "code",
   "execution_count": null,
   "metadata": {},
   "outputs": [],
   "source": []
  },
  {
   "cell_type": "code",
   "execution_count": 42,
   "metadata": {},
   "outputs": [],
   "source": [
    "XGB_model = XGBClassifier(n_estimators=50, gamma=0.5,learning_rate=0.1)"
   ]
  },
  {
   "cell_type": "code",
   "execution_count": null,
   "metadata": {},
   "outputs": [],
   "source": [
    "XGB_model.fit(X_train_res, y_train_res)"
   ]
  },
  {
   "cell_type": "code",
   "execution_count": null,
   "metadata": {},
   "outputs": [],
   "source": [
    "y_pred = XGB_model.predict(X_test)\n",
    "print(accuracy_score(y_test,y_pred))\n",
    "print(recall_score(y_test,y_pred,pos_label=1))\n",
    "print(precision_score(y_test,y_pred,pos_label=1))\n",
    "print(f1_score(y_test,y_pred,pos_label=1))\n",
    "print()\n",
    "y_pred1 = XGB_model.predict(X_train1)\n",
    "print(accuracy_score(y_train1,y_pred1))\n",
    "print(recall_score(y_train1,y_pred1,pos_label=1))\n"
   ]
  },
  {
   "cell_type": "code",
   "execution_count": null,
   "metadata": {},
   "outputs": [],
   "source": []
  },
  {
   "cell_type": "code",
   "execution_count": null,
   "metadata": {},
   "outputs": [],
   "source": []
  },
  {
   "cell_type": "code",
   "execution_count": null,
   "metadata": {},
   "outputs": [],
   "source": []
  },
  {
   "cell_type": "code",
   "execution_count": null,
   "metadata": {},
   "outputs": [],
   "source": []
  },
  {
   "cell_type": "code",
   "execution_count": 43,
   "metadata": {},
   "outputs": [],
   "source": [
    "from sklearn.model_selection import GridSearchCV\n",
    "from sklearn.metrics import classification_report\n",
    "param_grid = {'n_estimators' : [100, 150, 200],\n",
    "              'learning_rate' : [0.1, 0.5, 0.9]}\n",
    "\n",
    "Adaboost_model_clf = GridSearchCV(AdaBoostClassifier(\n",
    "            DecisionTreeClassifier(max_depth=2)), param_grid, n_jobs=-1)"
   ]
  },
  {
   "cell_type": "code",
   "execution_count": 44,
   "metadata": {},
   "outputs": [
    {
     "data": {
      "text/plain": [
       "GridSearchCV(cv='warn', error_score='raise-deprecating',\n",
       "       estimator=AdaBoostClassifier(algorithm='SAMME.R',\n",
       "          base_estimator=DecisionTreeClassifier(class_weight=None, criterion='gini', max_depth=2,\n",
       "            max_features=None, max_leaf_nodes=None,\n",
       "            min_impurity_decrease=0.0, min_impurity_split=None,\n",
       "            min_samples_leaf=1, min_samples_split=2,\n",
       "            min_weight_fraction_leaf=0.0, presort=False, random_state=None,\n",
       "            splitter='best'),\n",
       "          learning_rate=1.0, n_estimators=50, random_state=None),\n",
       "       fit_params=None, iid='warn', n_jobs=-1,\n",
       "       param_grid={'n_estimators': [100, 150, 200], 'learning_rate': [0.1, 0.5, 0.9]},\n",
       "       pre_dispatch='2*n_jobs', refit=True, return_train_score='warn',\n",
       "       scoring=None, verbose=0)"
      ]
     },
     "execution_count": 44,
     "metadata": {},
     "output_type": "execute_result"
    }
   ],
   "source": [
    "Adaboost_model_clf.fit(X_train, y_train)"
   ]
  },
  {
   "cell_type": "code",
   "execution_count": null,
   "metadata": {},
   "outputs": [],
   "source": []
  },
  {
   "cell_type": "code",
   "execution_count": 45,
   "metadata": {},
   "outputs": [
    {
     "name": "stdout",
     "output_type": "stream",
     "text": [
      "0.9614831388844494\n",
      "0.321656050955414\n",
      "0.7829457364341085\n",
      "0.4559819413092551\n",
      "\n",
      "0.9747543275358743\n",
      "0.49696969696969695\n"
     ]
    }
   ],
   "source": [
    "# for X_train not scaled\n",
    "from sklearn.metrics import accuracy_score\n",
    "from sklearn.metrics import recall_score\n",
    "from sklearn.metrics import precision_score\n",
    "from sklearn.metrics import f1_score\n",
    "\n",
    "y_pred =Adaboost_model_clf.predict(X_test)\n",
    "print(accuracy_score(y_test,y_pred))\n",
    "print(recall_score(y_test,y_pred,pos_label=1))\n",
    "print(precision_score(y_test,y_pred,pos_label=1))\n",
    "print(f1_score(y_test,y_pred,pos_label=1))\n",
    "print()\n",
    "y_pred1 = Adaboost_model_clf.predict(X_train1)\n",
    "print(accuracy_score(y_train1,y_pred1))\n",
    "print(recall_score(y_train1,y_pred1,pos_label=1))"
   ]
  },
  {
   "cell_type": "code",
   "execution_count": null,
   "metadata": {},
   "outputs": [],
   "source": []
  },
  {
   "cell_type": "code",
   "execution_count": null,
   "metadata": {},
   "outputs": [],
   "source": []
  },
  {
   "cell_type": "code",
   "execution_count": null,
   "metadata": {},
   "outputs": [],
   "source": []
  },
  {
   "cell_type": "code",
   "execution_count": null,
   "metadata": {},
   "outputs": [],
   "source": []
  },
  {
   "cell_type": "code",
   "execution_count": 46,
   "metadata": {},
   "outputs": [
    {
     "name": "stdout",
     "output_type": "stream",
     "text": [
      "0.9346332108038996\n",
      "0.6643356643356644\n",
      "0.37773359840954274\n",
      "0.48162230671736384\n",
      "\n",
      "0.9589176296418144\n",
      "0.8182586644125106\n"
     ]
    }
   ],
   "source": [
    "# for res\n",
    "from sklearn.metrics import accuracy_score\n",
    "from sklearn.metrics import recall_score\n",
    "from sklearn.metrics import precision_score\n",
    "from sklearn.metrics import f1_score\n",
    "\n",
    "y_pred =Adaboost_model_clf.predict(X_test)\n",
    "print(accuracy_score(y_test,y_pred))\n",
    "print(recall_score(y_test,y_pred,pos_label=1))\n",
    "print(precision_score(y_test,y_pred,pos_label=1))\n",
    "print(f1_score(y_test,y_pred,pos_label=1))\n",
    "print()\n",
    "y_pred1 = Adaboost_model_clf.predict(X_train1)\n",
    "print(accuracy_score(y_train1,y_pred1))\n",
    "print(recall_score(y_train1,y_pred1,pos_label=1))"
   ]
  },
  {
   "cell_type": "code",
   "execution_count": null,
   "metadata": {},
   "outputs": [],
   "source": []
  },
  {
   "cell_type": "code",
   "execution_count": null,
   "metadata": {},
   "outputs": [],
   "source": []
  },
  {
   "cell_type": "code",
   "execution_count": null,
   "metadata": {},
   "outputs": [],
   "source": []
  },
  {
   "cell_type": "code",
   "execution_count": 26,
   "metadata": {},
   "outputs": [],
   "source": [
    "#from xgboost import XGBClassifier"
   ]
  },
  {
   "cell_type": "code",
   "execution_count": 27,
   "metadata": {},
   "outputs": [],
   "source": [
    "#XGB_model = XGBClassifier(n_estimators=450, gamma=0.3,learning_rate=0.4)"
   ]
  },
  {
   "cell_type": "code",
   "execution_count": null,
   "metadata": {},
   "outputs": [],
   "source": [
    "#XGB_model.fit(X_train, y_train)"
   ]
  },
  {
   "cell_type": "code",
   "execution_count": null,
   "metadata": {},
   "outputs": [],
   "source": []
  }
 ],
 "metadata": {
  "kernelspec": {
   "display_name": "Python 3",
   "language": "python",
   "name": "python3"
  },
  "language_info": {
   "codemirror_mode": {
    "name": "ipython",
    "version": 3
   },
   "file_extension": ".py",
   "mimetype": "text/x-python",
   "name": "python",
   "nbconvert_exporter": "python",
   "pygments_lexer": "ipython3",
   "version": "3.7.2"
  }
 },
 "nbformat": 4,
 "nbformat_minor": 2
}
